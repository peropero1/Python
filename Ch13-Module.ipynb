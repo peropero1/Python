{
 "cells": [
  {
   "cell_type": "code",
   "execution_count": 2,
   "metadata": {},
   "outputs": [],
   "source": [
    "# 建立makefood.py放在同目錄下\n",
    "def make_icecream(*toppings):\n",
    "    #列出配方\n",
    "    print(\"Formula of this Icecream: \")\n",
    "    for element in toppings:\n",
    "        print('---',element)\n",
    "def make_drink(size,drink):\n",
    "    print(\"所點飲料如下： \")\n",
    "    print('---',size.title())\n",
    "    print('---',drink.title())"
   ]
  },
  {
   "cell_type": "markdown",
   "metadata": {},
   "source": [
    "# 使用自行建立module：\n",
    "## 1. import <font color=\"blue\">*module_name*</font>\n",
    "## 2. from <font color=\"blue\">*module_name*</font> import <font color=\"blue\">*function_name*</font>\n",
    "## 3. from <font color=\"blue\">*module_name*</font> import <font color=\"blue\">*function_1, function_2,....function_n*</font>\n",
    "## 4. from <font color=\"blue\">*module_name*</font> import <font color=\"blue\">*</font>\n",
    "## 5. from <font color=\"blue\">*module_name*</font> import <font color=\"blue\">*function_name*</font> as <font color=\"blue\">*short_name*</font>\n",
    "## 6. import <font color=\"blue\">*module_name*</font> as <font color=\"blue\">*short_name*</font>"
   ]
  },
  {
   "cell_type": "code",
   "execution_count": 6,
   "metadata": {},
   "outputs": [
    {
     "name": "stdout",
     "output_type": "stream",
     "text": [
      "['__builtins__', '__cached__', '__doc__', '__file__', '__loader__', '__name__', '__package__', '__spec__', 'make_drink', 'make_icecream']\n",
      "所點飲料如下： \n",
      "--- Small\n",
      "--- Fonda\n"
     ]
    }
   ],
   "source": [
    "# 1.  import module_name\n",
    "# 引用module內函數的語法： module.function\n",
    "import makefood\n",
    "print(dir(makefood))\n",
    "    # for a module object: the module's attributes.\n",
    "makefood.make_drink('small','Fonda')\n"
   ]
  },
  {
   "cell_type": "code",
   "execution_count": 9,
   "metadata": {},
   "outputs": [
    {
     "name": "stdout",
     "output_type": "stream",
     "text": [
      "Formula of this Icecream: \n",
      "--- 草莓醬\n",
      "--- 巧克力\n"
     ]
    }
   ],
   "source": [
    "# 2. from module_name import function_name\n",
    "# 使用函數時可省略module_name\n",
    "\n",
    "from makefood import make_icecream\n",
    "make_icecream('草莓醬','巧克力')\n",
    "    # 可省略module_name\n",
    "\n",
    "# makefood.make_drink('small','Fonda')\n",
    "    # 沒有引用makefood, 執行會發生錯誤"
   ]
  },
  {
   "cell_type": "code",
   "execution_count": 8,
   "metadata": {},
   "outputs": [
    {
     "name": "stdout",
     "output_type": "stream",
     "text": [
      "Formula of this Icecream: \n",
      "--- vanila\n",
      "--- choco\n",
      "--- strawberry\n",
      "所點飲料如下： \n",
      "--- Medium\n",
      "--- Sprite\n"
     ]
    }
   ],
   "source": [
    "# 3. from module_name import function_1, function_2,....function_n\n",
    "from makefood import make_icecream\n",
    "from makefood import make_drink\n",
    "\n",
    "make_icecream('vanila','choco','strawberry')\n",
    "make_drink('medium','Sprite')"
   ]
  },
  {
   "cell_type": "code",
   "execution_count": 11,
   "metadata": {},
   "outputs": [
    {
     "name": "stdout",
     "output_type": "stream",
     "text": [
      "['__builtins__', '__cached__', '__doc__', '__file__', '__loader__', '__name__', '__package__', '__spec__', 'make_drink', 'make_icecream']\n",
      "Formula of this Icecream: \n",
      "--- vanila\n",
      "--- choco\n",
      "--- strawberry\n",
      "所點飲料如下： \n",
      "--- Medium\n",
      "--- Sprite\n"
     ]
    }
   ],
   "source": [
    "# 4. from module_name import *\n",
    "# 可省略module_name\n",
    "from makefood import *\n",
    "\n",
    "print(dir(makefood))\n",
    "\n",
    "make_icecream('vanila','choco','strawberry')\n",
    "make_drink('medium','Sprite')"
   ]
  },
  {
   "cell_type": "code",
   "execution_count": 12,
   "metadata": {},
   "outputs": [
    {
     "name": "stdout",
     "output_type": "stream",
     "text": [
      "Formula of this Icecream: \n",
      "--- strawberry\n",
      "--- choco\n",
      "--- vanila\n"
     ]
    }
   ],
   "source": [
    "# 5. from module_name import function_name as short_name\n",
    "from makefood import make_icecream as ice\n",
    "\n",
    "ice('strawberry','choco','vanila')\n"
   ]
  },
  {
   "cell_type": "code",
   "execution_count": 15,
   "metadata": {},
   "outputs": [
    {
     "name": "stdout",
     "output_type": "stream",
     "text": [
      "所點飲料如下： \n",
      "--- Large\n",
      "--- Coke\n",
      "Formula of this Icecream: \n",
      "--- strawberry\n",
      "--- choco\n",
      "--- vanila\n"
     ]
    }
   ],
   "source": [
    "# 6. import module_name as short_name\n",
    "import makefood as food\n",
    "dir(food)\n",
    "food.make_drink('large','coke')\n",
    "food.make_icecream('strawberry','choco','vanila')"
   ]
  },
  {
   "cell_type": "markdown",
   "metadata": {},
   "source": [
    "# 把自建的class存在module內"
   ]
  },
  {
   "cell_type": "code",
   "execution_count": 1,
   "metadata": {},
   "outputs": [],
   "source": [
    "# 把下列class存在module (banks.py)裡\n",
    "class Banks():\n",
    "    def __init__(self,uname):\n",
    "        self.__name=uname\n",
    "        self.__balance=0\n",
    "        self.__title=\"Taipei Bank\"\n",
    "    def save_money(self,money):\n",
    "        self.__balance+=money\n",
    "        print(\"存款\",money,\"完成\")\n",
    "    def withdraw_money(self,money):\n",
    "        self.__balance-=money\n",
    "        print(\"提款\",money,\"完成\")\n",
    "    def get_balance(self):\n",
    "        print(self.__name.title(),\"目前餘額: \", self.__balance)\n",
    "    def bank_title(self):\n",
    "        return self.__title\n",
    "\n",
    "class Shilin_Banks(Banks):\n",
    "    def __init__(self,uname):\n",
    "        self.__title=\"Taipei Bank-Shilin Branch\"\n",
    "    def bank_title(self):\n",
    "        return self.__title"
   ]
  },
  {
   "cell_type": "markdown",
   "metadata": {},
   "source": [
    "# 使用自定義的class module"
   ]
  },
  {
   "cell_type": "markdown",
   "metadata": {},
   "source": [
    "## import module 中的其中一個class"
   ]
  },
  {
   "cell_type": "code",
   "execution_count": 6,
   "metadata": {},
   "outputs": [
    {
     "name": "stdout",
     "output_type": "stream",
     "text": [
      "James banks=  Taipei Bank\n",
      "存款 500 完成\n",
      "James 目前餘額:  500\n"
     ]
    }
   ],
   "source": [
    "# 語法：from module_name import class_name\n",
    "\n",
    "from banks import Banks\n",
    "jamesbank=Banks('james')\n",
    "print(\"James banks= \", jamesbank.bank_title())\n",
    "jamesbank.save_money(500)\n",
    "jamesbank.get_balance()"
   ]
  },
  {
   "cell_type": "markdown",
   "metadata": {},
   "source": [
    "## import module 中的多個class"
   ]
  },
  {
   "cell_type": "code",
   "execution_count": 9,
   "metadata": {},
   "outputs": [
    {
     "name": "stdout",
     "output_type": "stream",
     "text": [
      "James banks=  Taipei Bank\n",
      "存款 500 完成\n",
      "James 目前餘額:  500\n",
      "\n",
      "Pero banks=  Taipei Bank-Shilin Branch\n"
     ]
    }
   ],
   "source": [
    "# 語法：from module_name import class1, class2,...classn\n",
    "from banks import Banks,Shilin_Banks\n",
    "\n",
    "jamesbank=Banks('james')\n",
    "print(\"James banks= \", jamesbank.bank_title())\n",
    "jamesbank.save_money(500)\n",
    "jamesbank.get_balance()\n",
    "\n",
    "print('')\n",
    "\n",
    "perobank=Shilin_Banks('pero')\n",
    "print(\"Pero banks= \", perobank.bank_title())\n"
   ]
  },
  {
   "cell_type": "markdown",
   "metadata": {},
   "source": [
    "## import module 中的所有class"
   ]
  },
  {
   "cell_type": "code",
   "execution_count": 10,
   "metadata": {},
   "outputs": [
    {
     "name": "stdout",
     "output_type": "stream",
     "text": [
      "James banks=  Taipei Bank\n",
      "存款 500 完成\n",
      "James 目前餘額:  500\n",
      "\n",
      "Pero banks=  Taipei Bank-Shilin Branch\n"
     ]
    }
   ],
   "source": [
    "# 語法：from banks import *\n",
    "from banks import *\n",
    "\n",
    "jamesbank=Banks('james')\n",
    "print(\"James banks= \", jamesbank.bank_title())\n",
    "jamesbank.save_money(500)\n",
    "jamesbank.get_balance()\n",
    "\n",
    "print('')\n",
    "\n",
    "perobank=Shilin_Banks('pero')\n",
    "print(\"Pero banks= \", perobank.bank_title())"
   ]
  },
  {
   "cell_type": "markdown",
   "metadata": {},
   "source": [
    "##  import module"
   ]
  },
  {
   "cell_type": "code",
   "execution_count": 12,
   "metadata": {},
   "outputs": [
    {
     "name": "stdout",
     "output_type": "stream",
     "text": [
      "James banks=  Taipei Bank\n",
      "存款 500 完成\n",
      "James 目前餘額:  500\n",
      "\n",
      "Pero banks=  Taipei Bank-Shilin Branch\n"
     ]
    }
   ],
   "source": [
    "# 語法：import module_name\n",
    "# 引用語法：module_name.class_name \n",
    "import banks\n",
    "\n",
    "jamesbank=banks.Banks('james')\n",
    "    #注意這邊\n",
    "print(\"James banks= \", jamesbank.bank_title())\n",
    "jamesbank.save_money(500)\n",
    "jamesbank.get_balance()\n",
    "\n",
    "print('')\n",
    "\n",
    "perobank=banks.Shilin_Banks('pero')\n",
    "    #還有這邊\n",
    "print(\"Pero banks= \", perobank.bank_title())"
   ]
  },
  {
   "cell_type": "markdown",
   "metadata": {},
   "source": [
    "# module 中import 另一個module的class"
   ]
  },
  {
   "cell_type": "code",
   "execution_count": 15,
   "metadata": {},
   "outputs": [
    {
     "name": "stdout",
     "output_type": "stream",
     "text": [
      "James banks=  Taipei Bank\n",
      "存款 500 完成\n",
      "James 目前餘額:  500\n",
      "\n",
      "Pero banks=  Taipei Bank-Shilin Branch\n"
     ]
    }
   ],
   "source": [
    "# 2個 module: banks1.py & shilin_banks.py在同目錄下\n",
    "# 語法如下：\n",
    "from banks1 import Banks\n",
    "from shilin_banks import Shilin_Banks\n",
    "    # 設定上Shilin_Banks 繼承Banks, 所以在shilin_banks.py中也要from banks1 import Banks\n",
    "\n",
    "jamesbank=Banks('james')\n",
    "print(\"James banks= \", jamesbank.bank_title())\n",
    "jamesbank.save_money(500)\n",
    "jamesbank.get_balance()\n",
    "\n",
    "print('')\n",
    "\n",
    "perobank=Shilin_Banks('pero')\n",
    "print(\"Pero banks= \", perobank.bank_title())"
   ]
  },
  {
   "cell_type": "markdown",
   "metadata": {},
   "source": [
    "# random module\n",
    "## 。random.randint()\n",
    "## 。random.choice()\n",
    "## 。random.shuffle()"
   ]
  },
  {
   "cell_type": "code",
   "execution_count": 16,
   "metadata": {},
   "outputs": [
    {
     "name": "stdout",
     "output_type": "stream",
     "text": [
      "1~100    : 45\n",
      "1~100    : 44\n",
      "1~100    : 84\n"
     ]
    }
   ],
   "source": [
    "# randint(min, max)：產生[min,max]間的int\n",
    "\n",
    "import random\n",
    "n=3\n",
    "for i in range(n):\n",
    "    print(\"1~100    :\", random.randint(1,100))"
   ]
  },
  {
   "cell_type": "code",
   "execution_count": 22,
   "metadata": {},
   "outputs": [
    {
     "name": "stdout",
     "output_type": "stream",
     "text": [
      "Enter an int in 1~10: 3\n",
      "enter Bigger one!\n",
      "Enter an int in 1~10: 5\n",
      "Anser=5,Congratuation!!!\n"
     ]
    }
   ],
   "source": [
    "# 猜數字, 1~10\n",
    "import random\n",
    "min,max=1,10\n",
    "ans=random.randint(min,max)\n",
    "while True:\n",
    "    yourNum=int(input(\"Enter an int in 1~10: \"))\n",
    "    if yourNum==ans:\n",
    "        print(\"Answer={answer}, Congratuation!!!\".format(answer=ans))\n",
    "        break\n",
    "    elif yourNum<ans:\n",
    "        print(\"enter Bigger one!\")\n",
    "    else:\n",
    "        print(\"enter Smaller!!\")"
   ]
  },
  {
   "cell_type": "code",
   "execution_count": 27,
   "metadata": {},
   "outputs": [
    {
     "name": "stdout",
     "output_type": "stream",
     "text": [
      "banana\n",
      "elder berry\n",
      "dragon fruit\n"
     ]
    }
   ],
   "source": [
    "# choice(seq): Choose a random element from a non-empty sequence.\n",
    "import random\n",
    "\n",
    "fruits=['apple','banana','cherry','dragon fruit','elder berry']  #藍果/接骨木果\n",
    "for i in range(3):\n",
    "    print(random.choice(fruits))\n"
   ]
  },
  {
   "cell_type": "code",
   "execution_count": 29,
   "metadata": {},
   "outputs": [
    {
     "name": "stdout",
     "output_type": "stream",
     "text": [
      "Before shuffle: ['1', '2', '3', '4', '5', '6', '7', '8', '9', '10', 'J', 'Q', 'K']\n",
      "After shuffle: ['Q', '9', '6', 'K', '7', '2', '10', '5', 'J', '3', '8', '1', '4']\n"
     ]
    }
   ],
   "source": [
    "# shuffle(x, random=None): Shuffle list x in place, and return None.\n",
    "import random\n",
    "\n",
    "poker=['1','2','3','4','5','6','7','8','9','10','J','Q','K']\n",
    "print(\"Before shuffle:\",poker)\n",
    "random.shuffle(poker)\n",
    "    # inplace shuffle\n",
    "print(\"After shuffle:\",poker)\n"
   ]
  },
  {
   "cell_type": "markdown",
   "metadata": {},
   "source": [
    "# time module"
   ]
  },
  {
   "cell_type": "code",
   "execution_count": 64,
   "metadata": {},
   "outputs": [
    {
     "name": "stdout",
     "output_type": "stream",
     "text": [
      "Enter an int in [1,10]: 1\n",
      "Guess bigger.\n",
      "Enter an int in [1,10]: 5\n",
      "Guess bigger.\n",
      "Enter an int in [1,10]: 6\n",
      "Guess bigger.\n",
      "Enter an int in [1,10]: 8\n",
      "You got it!!\n",
      "You take 4 seconds to guess the number.\n"
     ]
    }
   ],
   "source": [
    "# time.time(): 回傳自1970.01.01 00:00:00至今的秒數，可用來計算工作所花的秒數\n",
    "import random\n",
    "import time\n",
    "\n",
    "min, max=1,10\n",
    "ans=random.randint(min,max)\n",
    "yourNum=int(input(\"Enter an int in [1,10]: \"))\n",
    "starttime=int(time.time())\n",
    "    # 起始秒數\n",
    "while True:\n",
    "    if yourNum==ans:\n",
    "        print(\"You got it!!\")\n",
    "        endtime=int(time.time())\n",
    "        print(\"You take %d seconds to guess the number.\"% (endtime-starttime))\n",
    "        break\n",
    "    elif yourNum <ans:\n",
    "        print(\"Guess bigger.\")\n",
    "    else:\n",
    "        print(\"Guess smaller.\")\n",
    "    yourNum=int(input(\"Enter an int in [1,10]: \"))"
   ]
  },
  {
   "cell_type": "code",
   "execution_count": 65,
   "metadata": {},
   "outputs": [
    {
     "name": "stdout",
     "output_type": "stream",
     "text": [
      "apple\n",
      "banana\n",
      "cherry\n",
      "dragon fruit\n",
      "elder berry\n"
     ]
    }
   ],
   "source": [
    "# sleep():讓task暫停，單位是秒\n",
    "import time\n",
    "\n",
    "fruits=['apple','banana','cherry','dragon fruit','elder berry'] \n",
    "for item in fruits:\n",
    "    print(item)\n",
    "    time.sleep(1)\n",
    "        # 每隔一秒才輸出item"
   ]
  },
  {
   "cell_type": "code",
   "execution_count": 68,
   "metadata": {},
   "outputs": [
    {
     "data": {
      "text/plain": [
       "'Sat Mar  7 21:19:22 2020'"
      ]
     },
     "execution_count": 68,
     "metadata": {},
     "output_type": "execute_result"
    }
   ],
   "source": [
    "# asctime(): 列出目前系統時間\n",
    "import time\n",
    "time.asctime()"
   ]
  },
  {
   "cell_type": "code",
   "execution_count": 74,
   "metadata": {},
   "outputs": [
    {
     "name": "stdout",
     "output_type": "stream",
     "text": [
      "time.struct_time(tm_year=2020, tm_mon=3, tm_mday=7, tm_hour=21, tm_min=22, tm_sec=34, tm_wday=5, tm_yday=67, tm_isdst=0)\n",
      "2020\n",
      "3\n",
      "7\n",
      "21\n",
      "22\n",
      "34\n",
      "5\n",
      "67\n",
      "0\n"
     ]
    }
   ],
   "source": [
    "# localtime(): return 目前時間的結構資料，可用index來取用elements\n",
    "import time\n",
    "\n",
    "xtime=time.localtime()\n",
    "print(xtime)\n",
    "    # 年，月，日，時，分，秒，星期，第幾天，夏令時間:0表示不是，1為是。\n",
    "for item in xtime:\n",
    "    print(item)"
   ]
  },
  {
   "cell_type": "markdown",
   "metadata": {},
   "source": [
    "# sys module\n",
    "## 用來控制python shell 視窗訊息\n",
    "## 。sys.version: sys的屬性，為目前使用的python版本。\n",
    "## 。sys.stdin物件\n",
    "## 。sys.stdout物件"
   ]
  },
  {
   "cell_type": "code",
   "execution_count": 75,
   "metadata": {},
   "outputs": [
    {
     "name": "stdout",
     "output_type": "stream",
     "text": [
      "3.6.5 |Anaconda, Inc.| (default, Mar 29 2018, 13:32:41) [MSC v.1900 64 bit (AMD64)]\n"
     ]
    }
   ],
   "source": [
    "# sys.version\n",
    "import sys\n",
    "print(sys.version)"
   ]
  },
  {
   "cell_type": "code",
   "execution_count": 79,
   "metadata": {},
   "outputs": [
    {
     "name": "stdout",
     "output_type": "stream",
     "text": [
      "Enter a string with 'enter' for termination.\n",
      "\n"
     ]
    }
   ],
   "source": [
    "# sys.stdin: standard input，即螢幕輸入\n",
    "import sys\n",
    "\n",
    "print(\"Enter a string with \\'enter\\' for termination.\")\n",
    "msg=sys.stdin.readline()\n",
    "print(msg)\n",
    "    #用python shell執行"
   ]
  },
  {
   "cell_type": "code",
   "execution_count": 80,
   "metadata": {},
   "outputs": [
    {
     "name": "stdout",
     "output_type": "stream",
     "text": [
      "Python Hello world"
     ]
    }
   ],
   "source": [
    "# sys.stdout: 從螢幕輸出資料\n",
    "import sys\n",
    "\n",
    "sys.stdout.write(\"Python Hello world\")"
   ]
  },
  {
   "cell_type": "markdown",
   "metadata": {},
   "source": [
    "# keyword module\n",
    "## 關於python keyword 的功能\n",
    "## 。kwlist: key word list\n",
    "## 。iskeyword()"
   ]
  },
  {
   "cell_type": "code",
   "execution_count": 82,
   "metadata": {},
   "outputs": [
    {
     "name": "stdout",
     "output_type": "stream",
     "text": [
      "['False', 'None', 'True', 'and', 'as', 'assert', 'break', 'class', 'continue', 'def', 'del', 'elif', 'else', 'except', 'finally', 'for', 'from', 'global', 'if', 'import', 'in', 'is', 'lambda', 'nonlocal', 'not', 'or', 'pass', 'raise', 'return', 'try', 'while', 'with', 'yield']\n"
     ]
    }
   ],
   "source": [
    "# keyword.kwlist\n",
    "import keyword\n",
    "\n",
    "print(keyword.kwlist)\n"
   ]
  },
  {
   "cell_type": "code",
   "execution_count": 90,
   "metadata": {},
   "outputs": [
    {
     "name": "stdout",
     "output_type": "stream",
     "text": [
      " 'is' a keyword of python ? True\n",
      " 'hi' a keyword of python ? False\n"
     ]
    }
   ],
   "source": [
    "# keyword.iskeyword()\n",
    "\n",
    "import keyword\n",
    "\n",
    "print(\" \\'is\\' a keyword of python ?\", keyword.iskeyword(\"is\"))\n",
    "print(\" \\'hi\\' a keyword of python ?\", keyword.iskeyword(\"hi\"))"
   ]
  },
  {
   "cell_type": "markdown",
   "metadata": {},
   "source": [
    "# Practice"
   ]
  },
  {
   "cell_type": "code",
   "execution_count": 30,
   "metadata": {},
   "outputs": [],
   "source": [
    "# 1"
   ]
  },
  {
   "cell_type": "code",
   "execution_count": 31,
   "metadata": {},
   "outputs": [],
   "source": [
    "# 2"
   ]
  },
  {
   "cell_type": "code",
   "execution_count": 60,
   "metadata": {},
   "outputs": [
    {
     "name": "stdout",
     "output_type": "stream",
     "text": [
      "fig\n",
      "elder berry\n",
      "dragon fruit\n",
      "cherry\n",
      "banana\n",
      "apple\n",
      "\n",
      "apple\n",
      "banana\n",
      "cherry\n",
      "dragon fruit\n",
      "elder berry\n",
      "fig\n"
     ]
    }
   ],
   "source": [
    "# 6\n",
    "import random\n",
    "\n",
    "fruits=['apple','banana','cherry','dragon fruit','elder berry','fig']\n",
    "fruits2=['apple','banana','cherry','dragon fruit','elder berry','fig']\n",
    "for item in fruits[:]:\n",
    "    print(fruits.pop())\n",
    "        # default是從尾開始pop\n",
    "print(\"\")\n",
    "for i in range(len(fruits2)):\n",
    "    print(fruits2.pop(0))\n",
    "        #注意這邊，永遠pop fruits[0]\n",
    "        # 從頭到尾"
   ]
  },
  {
   "cell_type": "code",
   "execution_count": null,
   "metadata": {},
   "outputs": [],
   "source": []
  }
 ],
 "metadata": {
  "kernelspec": {
   "display_name": "Python 3",
   "language": "python",
   "name": "python3"
  },
  "language_info": {
   "codemirror_mode": {
    "name": "ipython",
    "version": 3
   },
   "file_extension": ".py",
   "mimetype": "text/x-python",
   "name": "python",
   "nbconvert_exporter": "python",
   "pygments_lexer": "ipython3",
   "version": "3.6.5"
  }
 },
 "nbformat": 4,
 "nbformat_minor": 2
}
