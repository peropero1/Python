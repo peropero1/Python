{
 "cells": [
  {
   "cell_type": "code",
   "execution_count": 1,
   "metadata": {},
   "outputs": [
    {
     "data": {
      "text/plain": [
       "'J'"
      ]
     },
     "execution_count": 1,
     "metadata": {},
     "output_type": "execute_result"
    }
   ],
   "source": [
    "# 隨機產生字母\n",
    "import random\n",
    "import string\n",
    "random.choice(string.ascii_letters)"
   ]
  },
  {
   "cell_type": "markdown",
   "metadata": {},
   "source": [
    "### 當list/dict元素為key-value時的排序方式\n",
    "https://docs.python.org/3/howto/sorting.html\n",
    "- **key=lambda function**\n",
    "    - Non-inplace sort: sorted(student_tuples, key=lambda student: student\\[2\\])\n",
    "    - Inplace sort: studen.sort(key=lambda student: student\\[2\\])\n",
    "- **operator(較快且可用於 class instace)**\n",
    "    - sorted(student_objects, key=attrgetter('age'))"
   ]
  },
  {
   "cell_type": "code",
   "execution_count": 14,
   "metadata": {},
   "outputs": [
    {
     "name": "stdout",
     "output_type": "stream",
     "text": [
      "non-inplace sort: [('dave', 'B', 10), ('jane', 'B', 12), ('john', 'A', 15)]\n",
      "original list: [('john', 'A', 15), ('jane', 'B', 12), ('dave', 'B', 10)]\n",
      "inplace sort: [('dave', 'B', 10), ('jane', 'B', 12), ('john', 'A', 15)]\n"
     ]
    }
   ],
   "source": [
    "# 依key-value的value來排序list\n",
    "\n",
    "student_tuples = [\n",
    "    ('john', 'A', 15),\n",
    "    ('jane', 'B', 12),\n",
    "    ('dave', 'B', 10)]\n",
    "\n",
    "lib=sorted(student_tuples, key=lambda student: student[2])\n",
    "    # non-inplace sort\n",
    "\n",
    "print('non-inplace sort: {}'.format(lib))\n",
    "print('original list: {}'.format(student_tuples))\n",
    "student_tuples.sort(key=lambda student: student[2])\n",
    "    # inplace sort\n",
    "print('inplace sort: {}'.format(student_tuples))\n",
    "\n"
   ]
  },
  {
   "cell_type": "code",
   "execution_count": null,
   "metadata": {},
   "outputs": [],
   "source": [
    "# 依Class instance/ attribute 來排序，Sort a list of Class Instances\n",
    "'''\n",
    "import operator\n",
    "li2 = sorted(Top, key=operator.attrgetter('count'))\n",
    "    # non-inplace sort\n",
    "li.sort(key=operator.attrgetter('count'),reverse=True)\n",
    "    # inplace sort\n",
    "'''\n",
    "\n",
    "\n",
    "import operator\n",
    "import random\n",
    "import string\n",
    "\n",
    "class Node():\n",
    "    def __init__(self,count=0):\n",
    "        self.count=count\n",
    "    def __str__(self):\n",
    "        return 'count: {}'.format(self.count)\n",
    "    def __repr__(self):\n",
    "        return ''\n",
    "\n",
    "class Tail(Node):\n",
    "    def __init__(self,ID,count=0):\n",
    "        self.ID = ID\n",
    "        super().__init__(count)\n",
    "    def __str__(self):\n",
    "        return 'ID: {}, count: {}'.format(self.ID,self.count)\n",
    "    def __repr__(self):\n",
    "        return \"'{}', count: {}\".format(self.ID,self.count)\n",
    "\n",
    "\n",
    "li=[]\n",
    "for i in range(20):\n",
    "    e=random.choice(string.ascii_letters)\n",
    "        # 隨機產生字母\n",
    "    li.append(Tail(e,1))\n",
    "li2 = sorted(li, key=operator.attrgetter('count'))\n",
    "    # non-inplace sort\n",
    "li.sort(key=operator.attrgetter('count'),reverse=True)\n",
    "    # inplace sort\n",
    "\n",
    "print('li:{}, id of li: {}'.format(li,id(li)))\n",
    "print('li2: {}, id of li2: {}'.format(li2,id(li2)))"
   ]
  },
  {
   "cell_type": "markdown",
   "metadata": {},
   "source": [
    "### 依特定機率產生亂數：numpy.random.choice(a, size=None, replace=True, p=None)\n",
    "https://numpy.org/doc/stable/reference/random/generated/numpy.random.choice.html\n",
    "- **a**: 1-D array-like or int, 隨機變數所有可能的取值\n",
    "- **size**: int or tuple of ints, optional, 產生的陣列大小\n",
    "- **p**: 1-D array-like, optional, 與a同等大小，指定每種數據發生的機率\n"
   ]
  },
  {
   "cell_type": "code",
   "execution_count": 17,
   "metadata": {
    "collapsed": true
   },
   "outputs": [
    {
     "name": "stdout",
     "output_type": "stream",
     "text": [
      "\n",
      "valueCount/10000: 1    1.0\n",
      "dtype: float64\n",
      "valueCount/10000: 1    0.89947\n",
      "0    0.10053\n",
      "dtype: float64\n",
      "valueCount/10000: 1    0.79901\n",
      "0    0.20099\n",
      "dtype: float64\n",
      "valueCount/10000: 1    0.69683\n",
      "0    0.30317\n",
      "dtype: float64\n",
      "valueCount/10000: 1    0.59787\n",
      "0    0.40213\n",
      "dtype: float64\n",
      "valueCount/10000: 1    0.50062\n",
      "0    0.49938\n",
      "dtype: float64\n",
      "valueCount/10000: 0    0.59947\n",
      "1    0.40053\n",
      "dtype: float64\n",
      "valueCount/10000: 0    0.69878\n",
      "1    0.30122\n",
      "dtype: float64\n",
      "valueCount/10000: 0    0.80193\n",
      "1    0.19807\n",
      "dtype: float64\n",
      "valueCount/10000: 0    0.89899\n",
      "1    0.10101\n",
      "dtype: float64\n"
     ]
    }
   ],
   "source": [
    "# 當 r減少時，依特定機率(1-r/w)產生 1\n",
    "from numpy import random\n",
    "import pandas as pd\n",
    "\n",
    "w=10\n",
    "print()\n",
    "for r in range(w):\n",
    "    li=random.choice([0,1],size=100000,p=[r/w,1-r/w])\n",
    "        # 產生100000次 with prob. p=[r/w,1-r/w]\n",
    "        #print(li)\n",
    "    valueCount = pd.Series(li).value_counts()\n",
    "        # 計算0和1分別產生的次數\n",
    "    print('valueCount/10000:', valueCount/100000)\n",
    "        # 求證是否符合p"
   ]
  },
  {
   "cell_type": "code",
   "execution_count": null,
   "metadata": {},
   "outputs": [],
   "source": [
    "# 解決 Python 中 UnicodeDecodeError: 'cp950' codec can't decode\n",
    "#  Python 腳本的預設編碼為cp950, 所以只要告訴 Python 我們要讀取的檔案是以 UTF-8 編碼即可解決。\n",
    "\n",
    "f = open(\"data1109.txt\",\"r\",encoding=\"utf-8\")  #注意此行"
   ]
  },
  {
   "cell_type": "code",
   "execution_count": 1,
   "metadata": {},
   "outputs": [
    {
     "name": "stderr",
     "output_type": "stream",
     "text": [
      "100%|██████████████████████████████████████████| 4/4 [00:00<00:00, 4014.65it/s]"
     ]
    },
    {
     "name": "stdout",
     "output_type": "stream",
     "text": [
      "abcd\n"
     ]
    },
    {
     "name": "stderr",
     "output_type": "stream",
     "text": [
      "\n"
     ]
    }
   ],
   "source": [
    "# 進度條\n",
    "from tqdm import tqdm\n",
    "\n",
    "text = \"\"\n",
    "for char in tqdm([\"a\", \"b\", \"c\", \"d\"]):\n",
    "    text = text + char\n",
    "print(text)"
   ]
  },
  {
   "cell_type": "code",
   "execution_count": 4,
   "metadata": {},
   "outputs": [
    {
     "name": "stderr",
     "output_type": "stream",
     "text": [
      "100%|██████████████████████████████| 606770/606770 [00:00<00:00, 671497.22it/s]\n"
     ]
    }
   ],
   "source": [
    "from tqdm import tqdm\n",
    "import os\n",
    "\n",
    "filename='kosarak.dat'\n",
    "filepath=\"..\\\\dataset\\\\\"\n",
    "src_data=os.path.join(filepath,filename)\n",
    "item_count=606770\n",
    "with open(src_data,'r') as file:\n",
    "    for i in tqdm(range(606770)):\n",
    "        element=file.readline().strip('\\n')\n",
    "        if not element:\n",
    "            break\n",
    "        else:\n",
    "            pass"
   ]
  },
  {
   "cell_type": "code",
   "execution_count": null,
   "metadata": {},
   "outputs": [],
   "source": []
  }
 ],
 "metadata": {
  "kernelspec": {
   "display_name": "Python 3",
   "language": "python",
   "name": "python3"
  },
  "language_info": {
   "codemirror_mode": {
    "name": "ipython",
    "version": 3
   },
   "file_extension": ".py",
   "mimetype": "text/x-python",
   "name": "python",
   "nbconvert_exporter": "python",
   "pygments_lexer": "ipython3",
   "version": "3.6.5"
  }
 },
 "nbformat": 4,
 "nbformat_minor": 4
}
