{
 "cells": [
  {
   "cell_type": "code",
   "execution_count": 1,
   "metadata": {},
   "outputs": [
    {
     "name": "stdout",
     "output_type": "stream",
     "text": [
      "EOF\n",
      "Execution time:  16.981 seconds.\n",
      "0.12890625\n",
      "heavy_are:   0.000,heavy_aae:   0.000\n",
      "all_are:  11.617,all_aae:  12.086\n",
      "(0.0, 0, 11.617267104410507, 12.085539153374517)\n",
      "Estimate time:   6.173 seconds.\n"
     ]
    }
   ],
   "source": [
    "# kosarak\n",
    "\n",
    "import Config\n",
    "import Func\n",
    "import HG\n",
    "import os\n",
    "import time\n",
    "\n",
    "# dataset\n",
    "filename='kosarak.dat'\n",
    "filepath=r\"..\\dataset\\kosarak\"\n",
    "gr_file_name='kosarak_ground_truth.csv'\n",
    "src_data=os.path.join(filepath,filename)\n",
    "    # dataset file\n",
    "gr_path=os.path.join(filepath,gr_file_name)\n",
    "    # ground truth file\n",
    "\n",
    "# set default value\n",
    "heavy_size=4\n",
    "light_size=256\n",
    "size=256\n",
    "b=1.08\n",
    "Config.Set_default(heavy_size,light_size,size,b)\n",
    "\n",
    "# Generate a hash table\n",
    "HG_list=[HG.HeavyGuardian() for _ in range(Config.size)]\n",
    "\n",
    "hg_start=time.time()\n",
    "\n",
    "# read dataset\n",
    "with open(src_data,'r') as file:\n",
    "    while True:\n",
    "        e=file.readline().strip('\\n')\n",
    "        if not e:\n",
    "            print('EOF')\n",
    "            break\n",
    "        else:\n",
    "            # Heavy part insert\n",
    "            #item_count-=1\n",
    "            item=HG.Node(str(e),1)\n",
    "            HG_list=Func.InsertHG(item,HG_list)\n",
    "hg_end=time.time()\n",
    "HG_dict=dict()\n",
    "for i in range(len(HG_list)):\n",
    "    for j in range(len(HG_list[i].heavy_part)):\n",
    "        HG_dict[HG_list[i].heavy_part[j].ID]=HG_list[i].heavy_part[j].count\n",
    "HG_dict=dict(sorted(HG_dict.items(), key=lambda item: item[1],reverse=True))\n",
    "    # sort by count\n",
    "\n",
    "print(\"Execution time:{:8.3f} seconds.\".format(hg_end-hg_start))\n",
    "\n",
    "# Precision/ARE/AAE\n",
    "print(Func.Topk_Precision(gr_path,HG_dict))\n",
    "startx=time.time()\n",
    "print(Func.Count_ARE_AAE(gr_path,HG_list,HG_dict))\n",
    "endx=time.time()\n",
    "print(\"Estimate time:{:8.3f} seconds.\".format(endx-startx))"
   ]
  },
  {
   "cell_type": "code",
   "execution_count": 2,
   "metadata": {},
   "outputs": [
    {
     "ename": "OverflowError",
     "evalue": "(34, 'Result too large')",
     "output_type": "error",
     "traceback": [
      "\u001b[1;31m---------------------------------------------------------------------------\u001b[0m",
      "\u001b[1;31mOverflowError\u001b[0m                             Traceback (most recent call last)",
      "\u001b[1;32m<ipython-input-2-9c597ff7b586>\u001b[0m in \u001b[0;36m<module>\u001b[1;34m\u001b[0m\n\u001b[0;32m     45\u001b[0m             \u001b[1;31m#item_count-=1\u001b[0m\u001b[1;33m\u001b[0m\u001b[1;33m\u001b[0m\u001b[0m\n\u001b[0;32m     46\u001b[0m                 \u001b[0mitem\u001b[0m\u001b[1;33m=\u001b[0m\u001b[0mHG\u001b[0m\u001b[1;33m.\u001b[0m\u001b[0mNode\u001b[0m\u001b[1;33m(\u001b[0m\u001b[0mstr\u001b[0m\u001b[1;33m(\u001b[0m\u001b[0me\u001b[0m\u001b[1;33m)\u001b[0m\u001b[1;33m,\u001b[0m\u001b[1;36m1\u001b[0m\u001b[1;33m)\u001b[0m\u001b[1;33m\u001b[0m\u001b[0m\n\u001b[1;32m---> 47\u001b[1;33m                 \u001b[0mHG_list\u001b[0m\u001b[1;33m=\u001b[0m\u001b[0mFunc\u001b[0m\u001b[1;33m.\u001b[0m\u001b[0mInsertHG\u001b[0m\u001b[1;33m(\u001b[0m\u001b[0mitem\u001b[0m\u001b[1;33m,\u001b[0m\u001b[0mHG_list\u001b[0m\u001b[1;33m)\u001b[0m\u001b[1;33m\u001b[0m\u001b[0m\n\u001b[0m\u001b[0;32m     48\u001b[0m \u001b[0mhg_end\u001b[0m\u001b[1;33m=\u001b[0m\u001b[0mtime\u001b[0m\u001b[1;33m.\u001b[0m\u001b[0mtime\u001b[0m\u001b[1;33m(\u001b[0m\u001b[1;33m)\u001b[0m\u001b[1;33m\u001b[0m\u001b[0m\n\u001b[0;32m     49\u001b[0m \u001b[0mHG_dict\u001b[0m\u001b[1;33m=\u001b[0m\u001b[0mdict\u001b[0m\u001b[1;33m(\u001b[0m\u001b[1;33m)\u001b[0m\u001b[1;33m\u001b[0m\u001b[0m\n",
      "\u001b[1;32m~\\Python\\Proposal\\hg\\Func.py\u001b[0m in \u001b[0;36mInsertHG\u001b[1;34m(e, HG_table)\u001b[0m\n\u001b[0;32m     43\u001b[0m         \u001b[1;32melse\u001b[0m\u001b[1;33m:\u001b[0m\u001b[1;33m\u001b[0m\u001b[0m\n\u001b[0;32m     44\u001b[0m             \u001b[1;31m#exponential decay\u001b[0m\u001b[1;33m\u001b[0m\u001b[1;33m\u001b[0m\u001b[0m\n\u001b[1;32m---> 45\u001b[1;33m             \u001b[1;32mif\u001b[0m \u001b[0mHG_table\u001b[0m\u001b[1;33m[\u001b[0m\u001b[0mb_index\u001b[0m\u001b[1;33m]\u001b[0m\u001b[1;33m.\u001b[0m\u001b[0mheavy_part\u001b[0m\u001b[1;33m[\u001b[0m\u001b[1;33m-\u001b[0m\u001b[1;36m1\u001b[0m\u001b[1;33m]\u001b[0m\u001b[1;33m.\u001b[0m\u001b[0mcount\u001b[0m\u001b[1;33m-\u001b[0m\u001b[0mDecay\u001b[0m\u001b[1;33m(\u001b[0m\u001b[0mHG_table\u001b[0m\u001b[1;33m[\u001b[0m\u001b[0mb_index\u001b[0m\u001b[1;33m]\u001b[0m\u001b[1;33m.\u001b[0m\u001b[0mheavy_part\u001b[0m\u001b[1;33m[\u001b[0m\u001b[1;33m-\u001b[0m\u001b[1;36m1\u001b[0m\u001b[1;33m]\u001b[0m\u001b[1;33m)\u001b[0m\u001b[1;33m==\u001b[0m\u001b[1;36m0\u001b[0m\u001b[1;33m:\u001b[0m\u001b[1;33m\u001b[0m\u001b[0m\n\u001b[0m\u001b[0;32m     46\u001b[0m                 \u001b[0mHG_table\u001b[0m\u001b[1;33m[\u001b[0m\u001b[0mb_index\u001b[0m\u001b[1;33m]\u001b[0m\u001b[1;33m.\u001b[0m\u001b[0mheavy_part\u001b[0m\u001b[1;33m[\u001b[0m\u001b[1;33m-\u001b[0m\u001b[1;36m1\u001b[0m\u001b[1;33m]\u001b[0m\u001b[1;33m.\u001b[0m\u001b[0mID\u001b[0m\u001b[1;33m=\u001b[0m\u001b[0me\u001b[0m\u001b[1;33m.\u001b[0m\u001b[0mID\u001b[0m\u001b[1;33m\u001b[0m\u001b[0m\n\u001b[0;32m     47\u001b[0m                 \u001b[0mHG_table\u001b[0m\u001b[1;33m[\u001b[0m\u001b[0mb_index\u001b[0m\u001b[1;33m]\u001b[0m\u001b[1;33m.\u001b[0m\u001b[0mheavy_part\u001b[0m\u001b[1;33m[\u001b[0m\u001b[1;33m-\u001b[0m\u001b[1;36m1\u001b[0m\u001b[1;33m]\u001b[0m\u001b[1;33m.\u001b[0m\u001b[0mcount\u001b[0m\u001b[1;33m=\u001b[0m\u001b[1;36m1\u001b[0m\u001b[1;33m\u001b[0m\u001b[0m\n",
      "\u001b[1;32m~\\Python\\Proposal\\hg\\Func.py\u001b[0m in \u001b[0;36mDecay\u001b[1;34m(element)\u001b[0m\n\u001b[0;32m     27\u001b[0m \u001b[1;32mdef\u001b[0m \u001b[0mDecay\u001b[0m\u001b[1;33m(\u001b[0m\u001b[0melement\u001b[0m\u001b[1;33m)\u001b[0m\u001b[1;33m:\u001b[0m\u001b[1;33m\u001b[0m\u001b[0m\n\u001b[0;32m     28\u001b[0m     \u001b[0mrandom\u001b[0m\u001b[1;33m.\u001b[0m\u001b[0mseed\u001b[0m\u001b[1;33m(\u001b[0m\u001b[1;33m)\u001b[0m\u001b[1;33m\u001b[0m\u001b[0m\n\u001b[1;32m---> 29\u001b[1;33m     \u001b[1;32mreturn\u001b[0m \u001b[0mint\u001b[0m\u001b[1;33m(\u001b[0m\u001b[0mrandom\u001b[0m\u001b[1;33m.\u001b[0m\u001b[0mrandint\u001b[0m\u001b[1;33m(\u001b[0m\u001b[1;36m0\u001b[0m\u001b[1;33m,\u001b[0m\u001b[1;36m1\u001b[0m\u001b[1;33m)\u001b[0m\u001b[1;33m%\u001b[0m \u001b[0mint\u001b[0m\u001b[1;33m(\u001b[0m\u001b[0mpow\u001b[0m\u001b[1;33m(\u001b[0m\u001b[0mConfig\u001b[0m\u001b[1;33m.\u001b[0m\u001b[0mexponential_decay\u001b[0m\u001b[1;33m,\u001b[0m\u001b[0melement\u001b[0m\u001b[1;33m.\u001b[0m\u001b[0mcount\u001b[0m\u001b[1;33m)\u001b[0m\u001b[1;33m)\u001b[0m\u001b[1;33m)\u001b[0m\u001b[1;33m\u001b[0m\u001b[0m\n\u001b[0m\u001b[0;32m     30\u001b[0m \u001b[1;33m\u001b[0m\u001b[0m\n\u001b[0;32m     31\u001b[0m \u001b[1;32mdef\u001b[0m \u001b[0mInsertHG\u001b[0m\u001b[1;33m(\u001b[0m\u001b[0me\u001b[0m\u001b[1;33m,\u001b[0m\u001b[0mHG_table\u001b[0m\u001b[1;33m)\u001b[0m\u001b[1;33m:\u001b[0m\u001b[1;33m\u001b[0m\u001b[0m\n",
      "\u001b[1;31mOverflowError\u001b[0m: (34, 'Result too large')"
     ]
    }
   ],
   "source": [
    "# webdocs\n",
    "\n",
    "import Config\n",
    "import Func\n",
    "import HG\n",
    "import os\n",
    "import time\n",
    "\n",
    "import re\n",
    "\n",
    "\n",
    "# set dataset and ground truth file path\n",
    "filepath='..\\dataset\\webdocs'\n",
    "pattern='out_.*'\n",
    "r=re.compile(pattern)\n",
    "filelist=list(filter(r.match,os.listdir(filepath)))    \n",
    "    # dataset file list\n",
    "\n",
    "gr_file_name='webdocs_00_ground_truth.csv'        \n",
    "gr_path=os.path.join(filepath,gr_file_name)\n",
    "    # ground truth path\n",
    "\n",
    "# set default value\n",
    "heavy_size=4\n",
    "light_size=256\n",
    "size=256\n",
    "b=1.08\n",
    "Config.Set_default(heavy_size,light_size,size,b)\n",
    "\n",
    "# Generate a hash table\n",
    "HG_list=[HG.HeavyGuardian() for _ in range(Config.size)]\n",
    "\n",
    "# read dataset\n",
    "hg_start=time.time()\n",
    "for datafile in filelist[:1]:\n",
    "    src_data=os.path.join(filepath,datafile)\n",
    "    with open(src_data,'r') as file:\n",
    "        while True:\n",
    "            e=file.readline().strip('\\n')\n",
    "            if not e:\n",
    "                print(\"EOF\")\n",
    "                break\n",
    "            else:\n",
    "            # Heavy part insert\n",
    "            #item_count-=1\n",
    "                item=HG.Node(str(e),1)\n",
    "                HG_list=Func.InsertHG(item,HG_list)\n",
    "hg_end=time.time()\n",
    "HG_dict=dict()\n",
    "for i in range(len(HG_list)):\n",
    "    for j in range(len(HG_list[i].heavy_part)):\n",
    "        HG_dict[HG_list[i].heavy_part[j].ID]=HG_list[i].heavy_part[j].count\n",
    "HG_dict=dict(sorted(HG_dict.items(), key=lambda item: item[1],reverse=True))\n",
    "    # sort by count\n",
    "\n",
    "print(\"Execution time:{:8.3f} seconds.\".format(hg_end-hg_start))\n",
    "\n",
    "# Precision/ARE/AAE\n",
    "print(Func.Topk_Precision(gr_path,HG_dict))\n",
    "\n",
    "startx=time.time()\n",
    "print(Func.Count_ARE_AAE(gr_path,HG_list,HG_dict))\n",
    "endx=time.time()\n",
    "print(\"Estimate time:{:8.3f} seconds.\".format(endx-startx))\n"
   ]
  },
  {
   "cell_type": "code",
   "execution_count": 2,
   "metadata": {},
   "outputs": [
    {
     "name": "stdout",
     "output_type": "stream",
     "text": [
      "heavy_are:   0.000,heavy_aae:   0.000\n",
      "all_are:  74.932,all_aae: 107.317\n",
      "(0.0, 0, 74.93182311473903, 107.31738424184392)\n",
      "Estimate time:  45.971 seconds.\n"
     ]
    }
   ],
   "source": [
    "gr_file_name='webdocs_ground_truth.csv'        \n",
    "gr_path=os.path.join(filepath,gr_file_name)\n",
    "\n",
    "startx=time.time()\n",
    "print(Func.Count_ARE_AAE(gr_path,HG_list,HG_dict))\n",
    "endx=time.time()\n",
    "print(\"Estimate time:{:8.3f} seconds.\".format(endx-startx))"
   ]
  },
  {
   "cell_type": "code",
   "execution_count": null,
   "metadata": {},
   "outputs": [],
   "source": []
  }
 ],
 "metadata": {
  "kernelspec": {
   "display_name": "Python 3",
   "language": "python",
   "name": "python3"
  },
  "language_info": {
   "codemirror_mode": {
    "name": "ipython",
    "version": 3
   },
   "file_extension": ".py",
   "mimetype": "text/x-python",
   "name": "python",
   "nbconvert_exporter": "python",
   "pygments_lexer": "ipython3",
   "version": "3.6.5"
  }
 },
 "nbformat": 4,
 "nbformat_minor": 4
}
