{
 "cells": [
  {
   "cell_type": "code",
   "execution_count": 1,
   "metadata": {},
   "outputs": [
    {
     "name": "stdout",
     "output_type": "stream",
     "text": [
      "Execution time:3.634803533554077 seconds.\n",
      "612804\n",
      "72\n",
      "Execution time:7.70251727104187 seconds.\n",
      "607788\n",
      "72\n",
      "Execution time:7.348682880401611 seconds.\n",
      "521895\n",
      "72\n"
     ]
    }
   ],
   "source": [
    "# test for kosarak\n",
    "import time\n",
    "import hyperloglog\n",
    "import os\n",
    "import sys\n",
    "error_rate=[0.01,0.1,0.2]\n",
    "\n",
    "filename='kosarak.dat'\n",
    "filepath=\"..\\\\dataset\\\\\"\n",
    "src_data=os.path.join(filepath,filename)\n",
    "\n",
    "for i in error_rate:\n",
    "    start=time.time()\n",
    "    hll = hyperloglog.HyperLogLog(i)\n",
    "    with open(src_data,'r') as file:\n",
    "        while True:\n",
    "            element=file.readline().strip('\\n')\n",
    "            if not element:\n",
    "                break\n",
    "            else:\n",
    "                hll.add(element)\n",
    "    end=time.time()\n",
    "    print(\"Execution time:{} seconds.\".format(str(end-start)))\n",
    "    print(len(hll))\n",
    "    print(sys.getsizeof(hll))"
   ]
  },
  {
   "cell_type": "code",
   "execution_count": 13,
   "metadata": {},
   "outputs": [
    {
     "name": "stdout",
     "output_type": "stream",
     "text": [
      "Execution time:15.538446187973022 seconds.\n",
      "1\n",
      "72\n",
      "Execution time:17.737098693847656 seconds.\n",
      "1\n",
      "72\n",
      "Execution time:26.324815034866333 seconds.\n",
      "1\n",
      "72\n"
     ]
    }
   ],
   "source": [
    "# test for caida_0\n",
    "import time\n",
    "import hyperloglog\n",
    "import os\n",
    "import sys\n",
    "error_rate=[0.01,0.1,0.2]\n",
    "\n",
    "filename='caida_0.dat'\n",
    "filepath=\"..\\\\dataset\\\\\"\n",
    "src_data=os.path.join(filepath,filename)\n",
    "\n",
    "for i in error_rate:\n",
    "    start=time.time()\n",
    "    hll = hyperloglog.HyperLogLog(i)\n",
    "    with open(src_data, 'rb') as file:\n",
    "        while True:\n",
    "            line=str(file.read(13))\n",
    "            if len(line)<13:\n",
    "                break\n",
    "            else:\n",
    "                hll.add(element)\n",
    "    end=time.time()\n",
    "    print(\"Execution time:{} seconds.\".format(str(end-start)))\n",
    "    print(len(hll))\n",
    "    print(sys.getsizeof(hll))"
   ]
  },
  {
   "cell_type": "code",
   "execution_count": null,
   "metadata": {},
   "outputs": [],
   "source": []
  }
 ],
 "metadata": {
  "kernelspec": {
   "display_name": "Python 3",
   "language": "python",
   "name": "python3"
  },
  "language_info": {
   "codemirror_mode": {
    "name": "ipython",
    "version": 3
   },
   "file_extension": ".py",
   "mimetype": "text/x-python",
   "name": "python",
   "nbconvert_exporter": "python",
   "pygments_lexer": "ipython3",
   "version": "3.6.5"
  }
 },
 "nbformat": 4,
 "nbformat_minor": 2
}
