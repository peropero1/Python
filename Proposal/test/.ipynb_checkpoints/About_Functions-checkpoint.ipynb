{
 "cells": [
  {
   "cell_type": "code",
   "execution_count": null,
   "metadata": {},
   "outputs": [],
   "source": [
    "# 函式(Function) *args、**kwargs運算子\n",
    "# (keyword) Variable Arguments\n",
    "'''\n",
    "當我們要傳入大量的參數時，在函式上定義過多的參數名稱會讓程式碼的可讀性降低，\n",
    "這時候就可以使用 * 符號來將傳入參數進行打包，如下範例：\n",
    "\n",
    "'''\n",
    "# Python會將參數資料打包成元組(Tuple)資料型態\n",
    "def test_tuple(*info):\n",
    "    print(info)\n",
    "    \n",
    "    \n",
    "#打包成字典(Dictionary)資料型態，則可以使用 ** 符號\n",
    "def test_dict(**kwargs):\n",
    "    print(kwargs)\n",
    "\n",
    "\n",
    "test_tuple(\"a\",'b','c')\n",
    "test_dict(name='Pero',date='20210511',salary=100)"
   ]
  },
  {
   "cell_type": "code",
   "execution_count": null,
   "metadata": {},
   "outputs": [],
   "source": [
    "def main():\n",
    "    d=input(\"Input number of hash functions:\")\n",
    "    items = ['a','b','c','d']\n",
    "\n",
    "    for item in items:\n",
    "        generate_function_with(item)\n",
    "        globals()[item]()\n",
    "\n",
    "def generate_function_with(func_name):\n",
    "    '''generate functions that prints its function name'''\n",
    "    print('Creating {func_name}'.format(func_name=func_name))\n",
    "    def func_body():\n",
    "        print(func_name)\n",
    "    globals()[func_name] = func_body\n",
    "    func_body.__name__ = func_name\n",
    "\n",
    "if __name__ == \"__main__\":\n",
    "    main()\n"
   ]
  },
  {
   "cell_type": "code",
   "execution_count": null,
   "metadata": {},
   "outputs": [],
   "source": [
    "from Crypto.Util import number\n",
    "while True:\n",
    "    d=input(\"Input number of hash functions:\")\n",
    "    try:\n",
    "        d=int(d)\n",
    "        seed=[]\n",
    "        for i in range(d):\n",
    "            seed.append(number.getPrime(32))\n",
    "        break\n",
    "    except:\n",
    "        print(\"input int.\")\n",
    "print(seed)"
   ]
  },
  {
   "cell_type": "code",
   "execution_count": null,
   "metadata": {},
   "outputs": [],
   "source": [
    "# 產生質數\n",
    "from Crypto.Util import number\n",
    "number.getPrime(32)"
   ]
  },
  {
   "cell_type": "code",
   "execution_count": null,
   "metadata": {},
   "outputs": [],
   "source": [
    "import mmh3\n",
    "from Crypto.Util import number\n",
    "\n",
    "def generate_function_with(func_name,seedx):\n",
    "    '''generate functions that prints its function name'''\n",
    "    print('Creating {func_name}'.format(func_name=func_name))\n",
    "    def func_body(seedx):\n",
    "        mmh3.hash(key,seed=seedx)\n",
    "    globals()[func_name] = func_body\n",
    "    func_body.__name__ = func_name\n",
    "\n",
    "def main():\n",
    "    while True:\n",
    "        d=input(\"Input number of hash functions:\")\n",
    "        try:\n",
    "            d=int(d)\n",
    "            name=['hash'+str(i) for i in range(d)]\n",
    "            seed = [number.getPrime(32) for i in range(d)]\n",
    "            for x,y in zip(name,seed):\n",
    "                # zip對2個list打包配對同時迭代\n",
    "                generate_function_with(x,y)\n",
    "                globals()[name]()\n",
    "            break\n",
    "        except:\n",
    "            print(d,type(d))\n",
    "        \n",
    "if __name__ == \"__main__\":\n",
    "    main()"
   ]
  },
  {
   "cell_type": "code",
   "execution_count": null,
   "metadata": {},
   "outputs": [],
   "source": [
    "name=['hash'+str(i) for i in range(d)]\n",
    "seed = [number.getPrime(32) for i in range(d)]\n",
    "for x,y in zip(name,seed):\n",
    "    print(x,y)"
   ]
  },
  {
   "cell_type": "code",
   "execution_count": 4,
   "metadata": {},
   "outputs": [
    {
     "name": "stdout",
     "output_type": "stream",
     "text": [
      "1551469731\n",
      "1358269107\n",
      "424848535\n"
     ]
    }
   ],
   "source": [
    "import mmh3\n",
    "from Crypto.Util import number\n",
    "\n",
    "inputs=['a','c','d']\n",
    "seed = [number.getPrime(32) for i in range(len(inputs))]\n",
    "for x,y in zip(inputs,seed):\n",
    "    print(mmh3.hash(x,y,signed=False))\n"
   ]
  }
 ],
 "metadata": {
  "kernelspec": {
   "display_name": "Python 3",
   "language": "python",
   "name": "python3"
  },
  "language_info": {
   "codemirror_mode": {
    "name": "ipython",
    "version": 3
   },
   "file_extension": ".py",
   "mimetype": "text/x-python",
   "name": "python",
   "nbconvert_exporter": "python",
   "pygments_lexer": "ipython3",
   "version": "3.6.5"
  }
 },
 "nbformat": 4,
 "nbformat_minor": 4
}
