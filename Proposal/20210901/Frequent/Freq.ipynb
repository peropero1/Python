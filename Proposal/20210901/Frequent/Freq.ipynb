{
 "cells": [
  {
   "cell_type": "markdown",
   "metadata": {},
   "source": [
    "## Kosarak\n",
    "### 990002 arrival\n",
    "### 606771 distinct\n"
   ]
  },
  {
   "cell_type": "code",
   "execution_count": 32,
   "metadata": {
    "scrolled": true
   },
   "outputs": [
    {
     "name": "stdout",
     "output_type": "stream",
     "text": [
      "EOF\n",
      "Execution time:   2.377 seconds.\n",
      "25\n",
      "{'3': 26871, '6': 20964, '6 3': 11877, '11 6': 3507, '1': 504, '11 6 3': 58, '1 3': 3, '11': 1, '218': 1, '1490 1': 1, '11 6 3 7 3352 402 897': 1, '849 3219': 1, '3317 4561': 1, '72 138 4500 540 2872 825 2135 46 3802 2060 453 470 3615 1011': 1, '490 6 2 3': 1, '3 3612 1507': 1, '11 6 2 4183 3': 1, '6 21 1681 1536 763 256 363 3516 873 839': 1, '218 11577 15325': 1, '6 55 3 3916': 1, '4662': 1, '6 152 19703 21519 498': 1, '27 28 7 2226 32': 1, '11 6 361': 1, '1056': 1}\n"
     ]
    },
    {
     "data": {
      "text/plain": [
       "'\\n# display memory usage\\nTF.display_top(snapshot)\\n'"
      ]
     },
     "execution_count": 32,
     "metadata": {},
     "output_type": "execute_result"
    }
   ],
   "source": [
    "import sys\n",
    "sys.path.append(\"..\")\n",
    "\n",
    "import Tools.Config as TC\n",
    "import Tools.Func as TF\n",
    "import Node.DS as DS\n",
    "\n",
    "import time\n",
    "import os\n",
    "\n",
    "'''\n",
    "TF.tracemalloc.start()\n",
    "    # start track memory usage===========================================================\n",
    "'''\n",
    "    \n",
    "\n",
    "filename='kosarak.dat'\n",
    "filepath=r\"..\\..\\dataset\\kosarak\"\n",
    "gr_file_name='kosarak_ground_truth.csv'\n",
    "src_data=os.path.join(filepath,filename)\n",
    "    # dataset\n",
    "gr_path=os.path.join(filepath,gr_file_name)\n",
    "    # ground truth\n",
    "    \n",
    "size=100\n",
    "    # N=990002, m=1024, which recoreds element with count >967\n",
    "    #990002/100=9900\n",
    "\n",
    "topk=1024\n",
    "    # number of top-k\n",
    "w=0\n",
    "d=0\n",
    "TC.Set_default(w,d,size,topk)\n",
    "Top_dict=dict()\n",
    "\n",
    "#item_count=10000\n",
    "start=time.time()\n",
    "with open(src_data,'r') as file:\n",
    "    while True:\n",
    "        e=file.readline().strip('\\n')\n",
    "        #item_count-=1\n",
    "        if not e:\n",
    "            print('EOF')\n",
    "            break\n",
    "        else:\n",
    "            item=DS.Tail(e,1)\n",
    "            #item_count-=1\n",
    "            # print(\"read {}th element: {}\".format(item_count,element))\n",
    "            if Top_dict.get(item.ID):\n",
    "                # e in Top\n",
    "                Top_dict[item.ID]+=1\n",
    "            else:\n",
    "                if len(Top_dict)<TC.size-1:\n",
    "                    Top_dict[item.ID]=1\n",
    "                else:\n",
    "                    # Top_dict is full, remove all zero count element\n",
    "                    temp_dict=dict()\n",
    "                    #print(\"Length of Top_dict: {}\".format(len(Top_dict)))\n",
    "                    '''\n",
    "                    element_ID=list(Top_dict.keys())\n",
    "                    for i in element_ID:\n",
    "                        Top_dict[i]-=1\n",
    "                        if Top_dict[i]==0:\n",
    "                            Top_dict.pop(i)                    \n",
    "                    '''\n",
    "                    for element in Top_dict:\n",
    "                        Top_dict[element]-=1\n",
    "                        if Top_dict[element]>0:\n",
    "                            temp_dict[element]=Top_dict[element]\n",
    "                    Top_dict=temp_dict\n",
    "\n",
    "end=time.time()\n",
    "\n",
    "'''\n",
    "snapshot = TF.tracemalloc.take_snapshot()\n",
    "top_stats = snapshot.statistics('lineno')\n",
    "    # stop track memory usage===========================================================\n",
    "'''\n",
    "\n",
    "Top_dict=dict(sorted(Top_dict.items(), key=lambda item: item[1],reverse=True))\n",
    "print(\"Execution time:{:8.3f} seconds.\".format(end-start))\n",
    "print(len(Top_dict))\n",
    "print(Top_dict)\n",
    "\n",
    "\n",
    "'''\n",
    "# Element-Precision\n",
    "tp_set,precision=TF.Get_precision(gr_path,Top_dict,TC.topk)\n",
    "print(\"Top-{} in SS[{}]\".format(TC.topk,TC.size))\n",
    "print(\"Precision: {:6.3f}\".format(precision))\n",
    "\n",
    "# memory usage\n",
    "print(\"Total memory usage {0} bytes\".format(sys.getsizeof(Top_dict)))\n",
    "\n",
    "# Count ARE/AAE\n",
    "startx=time.time()\n",
    "top_are,top_aae=TF.Get_ARE_AAE(gr_path,Top_dict,tp_set)\n",
    "print(\"Find:{}\".format(len(tp_set)))\n",
    "#print(\"{} item found in SS[{}] compare with true Top-{}\".format(len(tp_set),Config.size,topk))\n",
    "endx=time.time()\n",
    "\n",
    "print(\"Top_ARE: {:6.4f}\".format(top_are))\n",
    "print(\"Top_AAE: {:6.4f}\".format(top_aae))\n",
    "print(\"Estimate time:{:7.3f} seconds.\".format(endx-startx)) \n",
    "\n",
    "TF.Plot_topk_compare(gr_path,Top_dict,'Space Saving')\n",
    "'''\n",
    "\n",
    "\n",
    "\n",
    "'''\n",
    "# display memory usage\n",
    "TF.display_top(snapshot)\n",
    "'''"
   ]
  },
  {
   "cell_type": "code",
   "execution_count": null,
   "metadata": {},
   "outputs": [],
   "source": []
  }
 ],
 "metadata": {
  "kernelspec": {
   "display_name": "Python 3",
   "language": "python",
   "name": "python3"
  },
  "language_info": {
   "codemirror_mode": {
    "name": "ipython",
    "version": 3
   },
   "file_extension": ".py",
   "mimetype": "text/x-python",
   "name": "python",
   "nbconvert_exporter": "python",
   "pygments_lexer": "ipython3",
   "version": "3.6.5"
  }
 },
 "nbformat": 4,
 "nbformat_minor": 4
}
