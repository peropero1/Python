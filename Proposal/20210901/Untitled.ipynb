{
 "cells": [
  {
   "cell_type": "markdown",
   "metadata": {},
   "source": [
    "# Boyer–Moore majority vote algorithm"
   ]
  },
  {
   "cell_type": "code",
   "execution_count": 2,
   "metadata": {},
   "outputs": [
    {
     "name": "stdout",
     "output_type": "stream",
     "text": [
      "[8, 2, 7, 2, 9, 2, 8, 9, 8, 8]\n",
      "The majority element is 8\n"
     ]
    }
   ],
   "source": [
    "# https://www.techiedelight.com/find-majority-element-in-an-array-boyer-moore-majority-vote-algorithm/\n",
    "\n",
    "# Function to find the majority element present in a given list\n",
    "\n",
    "# find mjrt element whose frequency is larger than 1/2*N\n",
    "def findMajorityElement(A):\n",
    " \n",
    "    # `m` stores the majority element (if present)\n",
    "    m = -1\n",
    " \n",
    "    # initialize counter `i` with 0\n",
    "    i = 0\n",
    " \n",
    "    # do for each element `A[j]` in the list\n",
    "    for j in range(len(A)):\n",
    "\n",
    "        # if counter `i` becomes 0\n",
    "        if i == 0: \n",
    "            # set the current candidate to `A[j]`\n",
    "            m = A[j]\n",
    " \n",
    "            # reset the counter to 1\n",
    "            i = 1\n",
    "        \n",
    "        # otherwise, increment the counter if `A[j]` is a current candidate\n",
    "        elif m == A[j]:\n",
    "            i = i + 1\n",
    " \n",
    "        # otherwise, decrement the counter if `A[j]` is a current candidate\n",
    "        else:\n",
    "            i = i - 1\n",
    " \n",
    "    return m\n",
    " \n",
    "import random as rand\n",
    "\n",
    "if __name__ == '__main__':\n",
    " \n",
    "    # assumption: valid input (majority element is present)\n",
    "    A = [rand.randint(0,9) for i in range(10)]\n",
    "    print(A)\n",
    "    print(\"The majority element is\", findMajorityElement(A))\n",
    " "
   ]
  },
  {
   "cell_type": "markdown",
   "metadata": {},
   "source": [
    "# h(x)=x -> {-1,1}"
   ]
  },
  {
   "cell_type": "code",
   "execution_count": 66,
   "metadata": {},
   "outputs": [
    {
     "name": "stdout",
     "output_type": "stream",
     "text": [
      "[5578, 44388, -16506, -27494, 5560, -336, 16382, 16674, -5106, 16510, -16832, 22330, 5422, 27326, 33058, -11488, -11112, 11012, -420, 5400, 6104, 5756, 33922, 16556, 5356, 22268, -28236, -416, 252, -11474, -27640, 16826]\n"
     ]
    }
   ],
   "source": [
    "import string\n",
    "import random\n",
    "import mmh3\n",
    "from Crypto.Util import number\n",
    "\n",
    "def id_generator(size, chars=string.ascii_uppercase + string.digits):\n",
    "    return ''.join(random.choice(chars) for _ in range(size))\n",
    "\n",
    "def hash1(x,seed):\n",
    "    hash_value=mmh3.hash(item,seed)\n",
    "    if hash_value>=0:\n",
    "        hash_value=1\n",
    "    else:\n",
    "        hash_value=-1\n",
    "    return hash_value\n",
    "\n",
    "num_of_hash=32\n",
    "seed=[number.getPrime(32) for i in range(num_of_hash)]\n",
    "x=list(id_generator(100000).strip(\" \"))\n",
    "#print(x,end='')\n",
    "counter=[0 for _ in range(num_of_hash) ]\n",
    "for item in x:\n",
    "    for i in range(num_of_hash):\n",
    "        r=hash1(x,seed[i])\n",
    "        counter[i]+=r\n",
    "\n",
    "print(counter)\n"
   ]
  },
  {
   "cell_type": "code",
   "execution_count": 67,
   "metadata": {},
   "outputs": [
    {
     "name": "stdout",
     "output_type": "stream",
     "text": [
      "5027\n",
      "5491.0\n",
      "2810\n"
     ]
    }
   ],
   "source": [
    "import statistics\n",
    "\n",
    "c=[0 for _ in range(num_of_hash) ]\n",
    "for i in range(num_of_hash):\n",
    "    r=hash1('Y',seed[i])\n",
    "    c[i]=counter[i]*r\n",
    "print(int(sum(c)/num_of_hash))\n",
    "print(statistics.median(counter))\n",
    "t=0\n",
    "for item in x:\n",
    "    if item=='Y':\n",
    "        t+=1\n",
    "print(t)"
   ]
  },
  {
   "cell_type": "code",
   "execution_count": null,
   "metadata": {},
   "outputs": [],
   "source": []
  }
 ],
 "metadata": {
  "kernelspec": {
   "display_name": "Python 3",
   "language": "python",
   "name": "python3"
  },
  "language_info": {
   "codemirror_mode": {
    "name": "ipython",
    "version": 3
   },
   "file_extension": ".py",
   "mimetype": "text/x-python",
   "name": "python",
   "nbconvert_exporter": "python",
   "pygments_lexer": "ipython3",
   "version": "3.6.5"
  }
 },
 "nbformat": 4,
 "nbformat_minor": 4
}
