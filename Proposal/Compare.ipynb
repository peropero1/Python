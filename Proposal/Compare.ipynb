{
 "cells": [
  {
   "cell_type": "code",
   "execution_count": 15,
   "metadata": {},
   "outputs": [
    {
     "name": "stdout",
     "output_type": "stream",
     "text": [
      "number of hot item:10\n",
      "range of hash table100\n",
      "0.004678840160444397\n"
     ]
    }
   ],
   "source": [
    "# pr(hot item collision in one bucket)\n",
    "import math\n",
    "h=float(input(\"number of hot item:\"))\n",
    "w=float(input(\"range of hash table\"))\n",
    "print(1-((h/w+1)*math.pow(math.e,-h/w)))"
   ]
  },
  {
   "cell_type": "code",
   "execution_count": null,
   "metadata": {},
   "outputs": [],
   "source": []
  }
 ],
 "metadata": {
  "kernelspec": {
   "display_name": "Python 3",
   "language": "python",
   "name": "python3"
  },
  "language_info": {
   "codemirror_mode": {
    "name": "ipython",
    "version": 3
   },
   "file_extension": ".py",
   "mimetype": "text/x-python",
   "name": "python",
   "nbconvert_exporter": "python",
   "pygments_lexer": "ipython3",
   "version": "3.6.5"
  }
 },
 "nbformat": 4,
 "nbformat_minor": 4
}
