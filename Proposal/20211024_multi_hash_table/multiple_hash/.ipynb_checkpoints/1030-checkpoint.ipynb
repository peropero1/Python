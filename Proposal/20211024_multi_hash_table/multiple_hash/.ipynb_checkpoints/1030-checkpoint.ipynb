{
 "cells": [
  {
   "cell_type": "code",
   "execution_count": 4,
   "metadata": {
    "scrolled": false
   },
   "outputs": [
    {
     "name": "stdout",
     "output_type": "stream",
     "text": [
      "EOF\n",
      "Execution time: 390.620 seconds.\n"
     ]
    }
   ],
   "source": [
    "import sys\n",
    "sys.path.append(\"..\")\n",
    "\n",
    "import Tools.Config as TC\n",
    "import Tools.Func as TF\n",
    "import Node.DS as DS\n",
    "import numpy as np\n",
    "\n",
    "import time\n",
    "import os\n",
    "import random\n",
    "import string\n",
    "from cms.CountMinSketch import CountMinSketch\n",
    "\n",
    "\n",
    "def Update_SS(Sk_head,element):\n",
    "    if Sk_head.get(element.ID):\n",
    "        Sk_head[element.ID]+=element.count\n",
    "    else:\n",
    "        if len(Sk_head)<TC.width:\n",
    "            Sk_head[element.ID]=element.count\n",
    "        else:\n",
    "            # Sk_head is full, replace min\n",
    "            min_ID = min(Sk_head, key=Sk_head.get)\n",
    "            Sk_head[element.ID]=Sk_head[min_ID]+element.count\n",
    "            Sk_head.pop(min_ID)\n",
    "\n",
    "\n",
    "filename='kosarak.dat'\n",
    "filepath=r\"..\\..\\dataset\\kosarak\"\n",
    "gr_file_name='kosarak_ground_truth.csv'\n",
    "src_data=os.path.join(filepath,filename)\n",
    "    # dataset\n",
    "gr_path=os.path.join(filepath,gr_file_name)\n",
    "    # ground truth            \n",
    "                        \n",
    "w=2688\n",
    "d=8\n",
    "size=1024\n",
    "topk=1024\n",
    "TC.Set_default(w,d,size,topk)\n",
    "    # set width, depth, size of T, random seed of hash\n",
    "    # Config.width, Config.depth\n",
    "\n",
    "cms=CountMinSketch(TC.width,TC.depth)\n",
    "Sk_head=dict()\n",
    "Sketch=np.zeros((TC.depth,TC.width),dtype='int32')\n",
    "Top_dict=dict()\n",
    "e_min=DS.Tail(\"\",1)\n",
    "\n",
    "#stream_size=50\n",
    "#input_stream=[random.choice(string.ascii_lowercase) for _ in range(stream_size)]\n",
    "\n",
    "#ground_truth=dict()\n",
    "#item_count=0\n",
    "\n",
    "start=time.time()\n",
    "with open(src_data,'r') as file:\n",
    "    while True:\n",
    "        #item_count+=1\n",
    "        #print(\"\\n{}-th, {} arrives:\".format(item_count,e))\n",
    "        e=file.readline().strip('\\n')\n",
    "        if not e:\n",
    "            print('EOF')\n",
    "            break\n",
    "        else:\n",
    "            '''\n",
    "            # update ground truth        \n",
    "            if ground_truth.get(item.ID):\n",
    "                ground_truth[item.ID]+=1\n",
    "            else:\n",
    "                ground_truth[item.ID]=1        \n",
    "            '''\n",
    "            item=DS.Tail(e,1)\n",
    "            # Stream processing\n",
    "            if Top_dict.get(item.ID):\n",
    "                # e in Top\n",
    "                #print(\"{} hits in Top:\".format(e))\n",
    "                Top_dict[item.ID]+=1\n",
    "            else:\n",
    "                # e is not in Top\n",
    "                if len(Top_dict)<TC.size:\n",
    "                    #print(\"Top is not full\")\n",
    "                    Top_dict[item.ID]=1\n",
    "                else:\n",
    "                    #print(\"Top is full and not hit\")\n",
    "                    Update_SS(Sk_head,item)\n",
    "                    cms.Add_CMS(item)\n",
    "                    if Sk_head[item.ID]>TC.e_max.count:\n",
    "                        TC.e_max.ID=item.ID\n",
    "                        TC.e_max.count=Sk_head[item.ID]\n",
    "                    if TC.e_max.count>e_min.count:\n",
    "                        min_ID = min(Top_dict, key=Top_dict.get)\n",
    "                        e_min=DS.Tail(min_ID,Top_dict[min_ID])\n",
    "                        #print(\"count of {} > {}\".format(item.ID,e_min.ID))\n",
    "                        e_est=min(cms.Estimate_CMS(item),TC.e_max.count)\n",
    "                        # estmiated freq of e_max in Sketch\n",
    "\n",
    "                        #print(\"{}_CMS_estimate = {}\".format(item.ID,cms.Estimate_CMS(item)))\n",
    "                        #print(\"{}_SS_estimate = {}\".format(item.ID,Sk_head[item.ID]))\n",
    "                        if e_est>e_min.count:\n",
    "                            #print(\"Bring back\")\n",
    "                            e_pop=DS.Tail(TC.e_max.ID,-e_est)\n",
    "\n",
    "                            # Bring e_max to Top and pop e_min\n",
    "                            Top_dict[TC.e_max.ID]=e_est\n",
    "                            Top_dict.pop(min_ID)\n",
    "\n",
    "                            # add e_min to Sketch and reduce e_max \n",
    "                            cms.Add_CMS(e_min)\n",
    "                            cms.Add_CMS(e_pop)\n",
    "                            Sk_head.pop(e_pop.ID)\n",
    "                            TC.e_max.ID=\"\"\n",
    "                            TC.e_max.count=0\n",
    "                            Update_SS(Sk_head,e_min)                \n",
    "            #print(\"Ground_truth: {}\".format(ground_truth))\n",
    "            #print(\"Top: {}\".format(Top_dict))\n",
    "            #print(\"Sk_head:{}\".format(Sk_head))\n",
    "            #print(\"CMS:\\n{}\".format(cms.sketch))\n",
    "end=time.time()\n",
    "print(\"Execution time:{:8.3f} seconds.\".format(end-start))"
   ]
  },
  {
   "cell_type": "code",
   "execution_count": 5,
   "metadata": {},
   "outputs": [
    {
     "name": "stdout",
     "output_type": "stream",
     "text": [
      "Precision:  0.321\n"
     ]
    }
   ],
   "source": [
    "Top_dict=dict(sorted(Top_dict.items(), key=lambda item: item[1],reverse=True))\n",
    "tp_set,precision=TF.Get_precision(gr_path,Top_dict,TC.topk)\n",
    "    # send default top k\n",
    "print(\"Precision: {:6.3f}\".format(precision))"
   ]
  },
  {
   "cell_type": "code",
   "execution_count": null,
   "metadata": {},
   "outputs": [],
   "source": [
    "Top_dict"
   ]
  },
  {
   "cell_type": "code",
   "execution_count": null,
   "metadata": {},
   "outputs": [],
   "source": []
  }
 ],
 "metadata": {
  "kernelspec": {
   "display_name": "Python 3",
   "language": "python",
   "name": "python3"
  },
  "language_info": {
   "codemirror_mode": {
    "name": "ipython",
    "version": 3
   },
   "file_extension": ".py",
   "mimetype": "text/x-python",
   "name": "python",
   "nbconvert_exporter": "python",
   "pygments_lexer": "ipython3",
   "version": "3.6.5"
  }
 },
 "nbformat": 4,
 "nbformat_minor": 4
}
