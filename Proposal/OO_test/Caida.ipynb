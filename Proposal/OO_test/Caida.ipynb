{
 "cells": [
  {
   "cell_type": "code",
   "execution_count": 22,
   "metadata": {},
   "outputs": [
    {
     "name": "stdout",
     "output_type": "stream",
     "text": [
      "EOF\n",
      "Top-1024,Sketch:128*256\n",
      "Execution time: 366.108 seconds.\n",
      "Total memory 147264 bytes=Top:9024 bytes, Sketch:131072 bytes, Sketch_head:7168 bytes.\n",
      "My_OO_caida_Top_1024_128_256.csv\n",
      "Precision:   0.8906\n"
     ]
    },
    {
     "data": {
      "text/html": [
       "<div>\n",
       "<style scoped>\n",
       "    .dataframe tbody tr th:only-of-type {\n",
       "        vertical-align: middle;\n",
       "    }\n",
       "\n",
       "    .dataframe tbody tr th {\n",
       "        vertical-align: top;\n",
       "    }\n",
       "\n",
       "    .dataframe thead th {\n",
       "        text-align: right;\n",
       "    }\n",
       "</style>\n",
       "<table border=\"1\" class=\"dataframe\">\n",
       "  <thead>\n",
       "    <tr style=\"text-align: right;\">\n",
       "      <th></th>\n",
       "      <th>Top-k</th>\n",
       "      <th>Sketch</th>\n",
       "      <th>Total memory</th>\n",
       "      <th>Exe_time</th>\n",
       "      <th>Find</th>\n",
       "      <th>Precision</th>\n",
       "      <th>ARE-Top</th>\n",
       "      <th>AAE-Top</th>\n",
       "      <th>ARE-all</th>\n",
       "      <th>AAE-all</th>\n",
       "    </tr>\n",
       "  </thead>\n",
       "  <tbody>\n",
       "    <tr>\n",
       "      <th>0</th>\n",
       "      <td>1024</td>\n",
       "      <td>128*256</td>\n",
       "      <td>147264 bytes =Top:9024+ Sketch:131072+ Sk_head...</td>\n",
       "      <td>6.82</td>\n",
       "      <td>Find:912, TP:206, FP:50</td>\n",
       "      <td>0.8906</td>\n",
       "      <td>0.06073</td>\n",
       "      <td>104.834951</td>\n",
       "      <td>0.568613</td>\n",
       "      <td>10.164818</td>\n",
       "    </tr>\n",
       "  </tbody>\n",
       "</table>\n",
       "</div>"
      ],
      "text/plain": [
       "  Top-k   Sketch                                       Total memory  Exe_time  \\\n",
       "0  1024  128*256  147264 bytes =Top:9024+ Sketch:131072+ Sk_head...      6.82   \n",
       "\n",
       "                      Find  Precision  ARE-Top     AAE-Top   ARE-all  \\\n",
       "0  Find:912, TP:206, FP:50     0.8906  0.06073  104.834951  0.568613   \n",
       "\n",
       "     AAE-all  \n",
       "0  10.164818  "
      ]
     },
     "execution_count": 22,
     "metadata": {},
     "output_type": "execute_result"
    }
   ],
   "source": [
    "from Node import DS\n",
    "from Tools import Func\n",
    "from Tools import Config\n",
    "import pandas as pd\n",
    "import numpy as np\n",
    "import os\n",
    "import time\n",
    "import operator\n",
    "import sys\n",
    "import re\n",
    "\n",
    "# ==========================UpdateSk==========================\n",
    "def UpdateSk(element,Sk_head,Sk):\n",
    "    e_max=Config.e_max\n",
    "    col,row=Func.position(element)\n",
    "        # col / row index of element \n",
    "    #print(\"{} send to Sk[{}][{}]\".format(element,row,col))\n",
    "    # ==========================update sketch==========================\n",
    "    Sk_head[row].count+=element.count\n",
    "    Sk_head[row].distinct.add(element.ID)\n",
    "    Sk[row][col]+=1\n",
    "    Update_local_max(Sk_head[row],Sk[row],element,col)\n",
    "    Update_emax(Sk_head,Sk,row)\n",
    "\n",
    "# ==========================update local max==========================       \n",
    "def Update_local_max(head_item,element_list,element,column):\n",
    "    # local max need only 1 row\n",
    "    #print(\"In Update_local_max:\")\n",
    "    width,depth=Config.width,Config.depth\n",
    "    if head_item.maxID=='':\n",
    "        head_item.maxID=element.ID\n",
    "        head_item.keep=1\n",
    "    elif head_item.maxID==element.ID:\n",
    "        head_item.keep+=1\n",
    "    else:\n",
    "        local_max_col,local_max_row=Func.position(DS.Tail(head_item.maxID,0))\n",
    "            # element_list[local_max_col]: lhh的估計值\n",
    "        if local_max_col==column:\n",
    "            # lhh collision with e\n",
    "            head_item.keep-=1\n",
    "            if head_item.keep==0:\n",
    "                head_item.maxID=element.ID\n",
    "                head_item.keep=1\n",
    "        elif element_list[local_max_col]<element_list[column]:\n",
    "            # not collision\n",
    "            head_item.maxID=element.ID\n",
    "            head_item.keep=1 \n",
    "          \n",
    "        '''\n",
    "        local_max_col,local_max_row=Func.position(DS.Tail(head_item.maxID,0))\n",
    "            # element_list[local_max_col]: lhh的估計值\n",
    "        if local_max_col==column:\n",
    "            # lhh collision with e\n",
    "            head_item.keep-=1\n",
    "            if head_item.keep<0:\n",
    "                head_item.maxID=element.ID\n",
    "                head_item.keep=1\n",
    "        elif element_list[local_max_col]<element_list[column]:\n",
    "            # not collision\n",
    "            head_item.maxID=element.ID\n",
    "            head_item.keep=1\n",
    "            \n",
    "        local_max_col,local_max_row=Func.position(DS.Tail(head_item.maxID,0))\n",
    "            # element_list[local_max_col]: lhh的估計值            \n",
    "        if element_list[local_max_col]<element_list[column]:\n",
    "            head_item.maxID=element.ID            \n",
    "        '''\n",
    "        \n",
    "\n",
    "\n",
    "# ==========================update e_max==========================\n",
    "def Update_emax(head,sketch,sk_row):\n",
    "    local_max_col,local_max_row=Func.position(DS.Tail(head[sk_row].maxID,0))\n",
    "    if sketch[local_max_row][local_max_col]>Config.e_max.count:\n",
    "        Config.e_max.ID=head[sk_row].maxID\n",
    "        Config.e_max.count=sketch[local_max_row][local_max_col]\n",
    "\n",
    "# ========================== BringBack=========================\n",
    "def BringBack(e_min,head,sketch):\n",
    "    # bring e_max back to Top\n",
    "    # e_min=e_max, e_max=Null, delete e_max.count in Sketch, send e_min into Sketch\n",
    "    temp=DS.Tail(e_min.ID,e_min.count)\n",
    "    e_min.ID=Config.e_max.ID\n",
    "    e_min.count=Config.e_max.count\n",
    "    c,r=Func.position(Config.e_max)\n",
    "    head[r].bringback+=1\n",
    "    DeleteSk(e_max,head,sketch)\n",
    "    UpdateSk(temp,head,sketch)\n",
    "\n",
    "# ==========================DeleteSk=========================\n",
    "def DeleteSk(element,head,sketch):\n",
    "    # e_max in sketch: sketch[r][c]=0, total count-=sketch[row][col]\n",
    "    #width,depth=get_width_depth()\n",
    "    col,row=Func.position(element)\n",
    "    head[row].count-=element.count\n",
    "        # total_count-=element.count\n",
    "    sketch[row][col]=0\n",
    "    head[row].maxID=''\n",
    "    element.ID=\"\"\n",
    "    element.count=0\n",
    "\n",
    "    \n",
    "# ==========================main=========================    \n",
    "dataset='caida'\n",
    "datapath=r\"..\\dataset\\caida\"\n",
    "pattern='\\w+.dat$'\n",
    "r=re.compile(pattern)\n",
    "filelist=list(filter(r.match,os.listdir(datapath)))\n",
    "\n",
    "w=256\n",
    "d=128\n",
    "size=1024\n",
    "Config.Set_default(w,d,size)\n",
    "    # set width, depth, size of Sk, random seed of hash\n",
    "    # Config.width, Config.depth\n",
    "e_max=Config.e_max\n",
    "    # initialize e_max\n",
    "    \n",
    "Sk_head=[DS.Head(0) for j in range(Config.depth)]\n",
    "Sketch=np.zeros((Config.depth,Config.width),dtype='int32')\n",
    "Top=[]\n",
    "\n",
    "#item_count=100\n",
    "#income=0\n",
    "start=time.time()\n",
    "for datafile in filelist[:1]:\n",
    "    src_data=os.path.join(datapath,datafile)\n",
    "    with open(src_data,'rb') as file:\n",
    "         #以binary讀取，資料型態也為byte\n",
    "        while True:\n",
    "            e=str(file.read(13))\n",
    "            if len(e)<13:\n",
    "                print('EOF')\n",
    "                break\n",
    "            else:\n",
    "                # item_count-=1\n",
    "                #income+=1\n",
    "                #print(\"read {}-th element:{}\".format(income,e))\n",
    "                item=DS.Tail(e,1)\n",
    "                index=Func.find(item,Top)\n",
    "                if index<0:\n",
    "                    if len(Top)<Config.size:\n",
    "                        Top.append(item)\n",
    "                        # 此處的count必等於1，不用sorting\n",
    "                        index=len(Top)-1\n",
    "                    else:\n",
    "                        UpdateSk(item,Sk_head,Sketch)\n",
    "                else:\n",
    "                    Top[index].count+=1\n",
    "                    if index==0 or Top[index].count< Top[index-1].count:\n",
    "                        pass\n",
    "                    else:\n",
    "                        Top.sort(key=operator.attrgetter('count'),reverse=True)                \n",
    "            if Config.e_max.count>Top[-1].count:\n",
    "                BringBack(Top[-1],Sk_head,Sketch)\n",
    "                Top.sort(key=operator.attrgetter('count'),reverse=True)\n",
    "                #print('Top after BringBack: \\n\\t{}'.format(Top)) \n",
    "\n",
    "end=time.time()\n",
    "print(\"Top-{},Sketch:{}*{}\".format(Config.size,Config.depth,Config.width))\n",
    "print(\"Execution time:{:8.3f} seconds.\".format(end-start))\n",
    "print(\"Total memory {} bytes=\".format(sys.getsizeof(Top)+Sketch.nbytes+sys.getsizeof(Sk_head[0])*Config.depth),end='')\n",
    "print(\"Top:{} bytes, Sketch:{} bytes, Sketch_head:{} bytes.\".format(sys.getsizeof(Top),Sketch.nbytes,sys.getsizeof(Sk_head[0])*Config.depth))\n",
    "\n",
    "#====================Top to csv=============================\n",
    "my_csv_file=Func.Top_to_csv(Top,dataset)\n",
    "    # return \"My_OO_kosarak_Top_512_128_256.csv\"\n",
    "\n",
    "#====================result compare=============================\n",
    "# precision\n",
    "gr_dir=r\"..\\dataset\\caida\"\n",
    "gr_file_name='caida_0_ground_truth.csv'\n",
    "gr_path=os.path.join(gr_dir,gr_file_name)\n",
    "    # gr_path=\"..\\dataset\\kosarak\\kosarak_ground_truth.csv\"\n",
    "my_result_path=os.path.join(r'..\\result',my_csv_file)\n",
    "    # my_result_path=\"..\\result\\My_OO_kosarak_Top_512_128_256.csv\"\n",
    "true_positive_set,precision=Func.Get_precision(gr_path,my_result_path)\n",
    "\n",
    "# ====================ARE/AAE for top and all====================\n",
    "\n",
    "\n",
    "\n",
    "'''\n",
    "startx=time.time()\n",
    "top_are,top_aae,all_are,all_aae,tp,fp=Func.Get_ARE_AAE(gr_path,my_result_path,Top,Sk_head,Sketch,2)\n",
    "endx=time.time()\n",
    "print(\"Query2:\")\n",
    "print(\"Find:{}, TP:{}, FP:{}\".format(len(true_positive_set),tp,fp))\n",
    "print(\"Top_ARE: {:8.6f}\".format(top_are))\n",
    "print(\"Top_AAE: {:8.6f}\".format(top_aae))\n",
    "print(\"all_ARE: {:8.6f}\".format(all_are))\n",
    "print(\"all_AAE: {:8.6f}\".format(all_aae))\n",
    "print(\"Estimate time:{:8.3f} seconds.\".format(endx-startx))\n",
    "\n",
    "\n",
    "startx=time.time()\n",
    "top_are,top_aae,all_are,all_aae,tp,fp=Func.Get_ARE_AAE(gr_path,my_result_path,Top,Sk_head,Sketch,1)\n",
    "endx=time.time()\n",
    "\n",
    "print(\"Query1:\")\n",
    "print(\"Find:{}, TP:{}, FP:{}\".format(len(true_positive_set),tp,fp))\n",
    "print(\"Top_ARE: {:8.6f}\".format(top_are))\n",
    "print(\"Top_AAE: {:8.6f}\".format(top_aae))\n",
    "print(\"all_ARE: {:8.6f}\".format(all_are))\n",
    "print(\"all_AAE: {:8.6f}\".format(all_aae))\n",
    "print(\"Estimate time:{:8.3f} seconds.\".format(endx-startx))\n",
    "\n",
    "startx=time.time()\n",
    "top_are,top_aae,all_are,all_aae,tp,fp=Func.Get_ARE_AAE(gr_path,my_result_path,Top,Sk_head,Sketch,3)\n",
    "endx=time.time()\n",
    "print(\"Query3:\")\n",
    "print(\"Find:{}, TP:{}, FP:{}\".format(len(true_positive_set),tp,fp))\n",
    "print(\"Top_ARE: {:8.6f}\".format(top_are))\n",
    "print(\"Top_AAE: {:8.6f}\".format(top_aae))\n",
    "print(\"all_ARE: {:8.6f}\".format(all_are))\n",
    "print(\"all_AAE: {:8.6f}\".format(all_aae))\n",
    "print(\"Estimate time:{:8.3f} seconds.\".format(endx-startx))\n",
    "\n",
    "startx=time.time()\n",
    "top_are,top_aae,all_are,all_aae,tp,fp=Func.Get_ARE_AAE(gr_path,my_result_path,Top,Sk_head,Sketch,4)\n",
    "endx=time.time()\n",
    "print(\"Query4:\")\n",
    "print(\"Find:{}, TP:{}, FP:{}\".format(len(true_positive_set),tp,fp))\n",
    "print(\"Top_ARE: {:8.6f}\".format(top_are))\n",
    "print(\"Top_AAE: {:8.6f}\".format(top_aae))\n",
    "print(\"all_ARE: {:8.6f}\".format(all_are))\n",
    "print(\"all_AAE: {:8.6f}\".format(all_aae))\n",
    "print(\"Estimate time:{:8.3f} seconds.\".format(endx-startx))\n",
    "\n",
    "'''\n",
    "\n",
    "# ====================Cover result into a dataframe====================\n",
    "result_para=(startx,endx,true_positive_set,precision,top_are,top_aae,all_are,all_aae,tp,fp)\n",
    "df=Func.To_df(Top,Sketch,Sk_head,*result_para)\n",
    "df"
   ]
  },
  {
   "cell_type": "code",
   "execution_count": 25,
   "metadata": {},
   "outputs": [
    {
     "name": "stdout",
     "output_type": "stream",
     "text": [
      "[7, 1, 8, 8, 3, 39, 9, 4, 11, 11, 61, 47, 12, 6, 1, 67, 19, 2, 2, 36, 4, 64, 3, 10, 4, 6, 2, 1, 10, 26, 22, 1, 3, 11, 2, 18, 38, 10, 41, 88, 2, 76, 11, 13, 11, 7, 2, 12, 37, 44, 3, 1, 52, 2, 2, 4, 74, 23, 44, 2, 6, 9, 1, 5, 4, 52, 21, 30, 10, 22, 5, 35, 5, 31, 16, 27, 7, 8, 2, 4, 25, 4, 27, 5, 1, 7, 1, 5, 2, 3, 7, 4, 63, 14, 38, 19, 8, 5, 4, 124, 32, 11, 80, 5, 9, 3, 6, 13, 13, 3, 30, 1, 7, 18, 29, 38, 55, 1, 82, 5, 4, 1, 28, 44, 7, 5, 40, 23]\n"
     ]
    },
    {
     "data": {
      "text/plain": [
       "[ID: b'#\\xf0\\xc2\\xd9\\x01\\xbbc\\x13\\xe7t\\x10$\\x06', count: 258]"
      ]
     },
     "execution_count": 25,
     "metadata": {},
     "output_type": "execute_result"
    }
   ],
   "source": [
    "print([i.keep for i in Sk_head])\n",
    "Top[-1]"
   ]
  },
  {
   "cell_type": "code",
   "execution_count": 63,
   "metadata": {},
   "outputs": [
    {
     "name": "stdout",
     "output_type": "stream",
     "text": [
      "total count in Sketch[0]:9854, in Sk_head[0]:10590,avg count:6\n",
      "distinct element in Sketch[0]:1408\n",
      "[ 16 215  35   7  11  14  48  64   4 167  60  39  82   2  75  42  77   5\n",
      "   5  13  48  23   2  14  36  53 113   9  29  17  12  19  29 204  15  55\n",
      "   8  34  22 166  77  10 120  19  25  28  12  15  38  48  38  12  18  44\n",
      "  68  26   6  30  49 195  17  54  58  71  27  35  37  61  10  12   0   9\n",
      "  25  19  38  23  39   8   4  60   5  30  43 175  19  32  54   9   3  12\n",
      "  30  13  31  17  53  10  43  17   1  49   9  33 154  48  24  25  12  23\n",
      "  47  35  19  38  51  24  59  50  14  14  10  15  25 126  34   3  85 105\n",
      "  35  20  23  14  42  36  13  41   5 116  11  47  89  15  39  35  21   7\n",
      "  26  30  14  26   5  71   4   4  10  42  72  70  54 170   6  70  63  68\n",
      "  62 110  25  30  19  10   2  26  31  44  22  17  26  23  42  36   7  80\n",
      "   2  22  23  29  54  20  13  21  59   5  50  34  25  45  58  77  72  64\n",
      "  14  17  89  57  15  10   3  40  14  13  51 157  54  44  32  27  26  37\n",
      "   9  44   8   3  43  20  43  18   7  10  78  69   5  11  88  41  10  55\n",
      "  30  45  79  30  17  11  45  21  46  47  21  50   4 157   9  34  46  33\n",
      "  24  13  15  14]\n",
      "b'\\x85[z\\x1e\\x1bbCb\\x04C\\xe4=\\x06' 7 44\n",
      "215\n",
      "ratio:0.18181818181818182\n"
     ]
    },
    {
     "ename": "AttributeError",
     "evalue": "'numpy.ndarray' object has no attribute 'median'",
     "output_type": "error",
     "traceback": [
      "\u001b[1;31m---------------------------------------------------------------------------\u001b[0m",
      "\u001b[1;31mAttributeError\u001b[0m                            Traceback (most recent call last)",
      "\u001b[1;32m<ipython-input-63-f7d32144c244>\u001b[0m in \u001b[0;36m<module>\u001b[1;34m\u001b[0m\n\u001b[0;32m      9\u001b[0m \u001b[0mprint\u001b[0m\u001b[1;33m(\u001b[0m\u001b[1;34m\"ratio:{}\"\u001b[0m\u001b[1;33m.\u001b[0m\u001b[0mformat\u001b[0m\u001b[1;33m(\u001b[0m\u001b[0mConfig\u001b[0m\u001b[1;33m.\u001b[0m\u001b[0mwidth\u001b[0m\u001b[1;33m/\u001b[0m\u001b[0mrow_cardinality\u001b[0m\u001b[1;33m[\u001b[0m\u001b[1;36m0\u001b[0m\u001b[1;33m]\u001b[0m\u001b[1;33m)\u001b[0m\u001b[1;33m)\u001b[0m\u001b[1;33m\u001b[0m\u001b[0m\n\u001b[0;32m     10\u001b[0m \u001b[1;33m\u001b[0m\u001b[0m\n\u001b[1;32m---> 11\u001b[1;33m \u001b[0mSketch\u001b[0m\u001b[1;33m[\u001b[0m\u001b[1;36m0\u001b[0m\u001b[1;33m]\u001b[0m\u001b[1;33m.\u001b[0m\u001b[0mmedian\u001b[0m\u001b[1;33m(\u001b[0m\u001b[1;33m)\u001b[0m\u001b[1;33m\u001b[0m\u001b[0m\n\u001b[0m",
      "\u001b[1;31mAttributeError\u001b[0m: 'numpy.ndarray' object has no attribute 'median'"
     ]
    }
   ],
   "source": [
    "sum_0=sum(i for i in Sketch[0])\n",
    "print(\"total count in Sketch[0]:{}, in Sk_head[0]:{},avg count:{}\".format(sum_0,Sk_head[0].count,sum_0//len(Sk_head[0].distinct)))\n",
    "print(\"distinct element in Sketch[0]:{}\".format(len(Sk_head[0].distinct)))\n",
    "print(Sketch[0])\n",
    "row_cardinality=[len(i.distinct) for i in Sk_head]\n",
    "print(Sk_head[0].maxID,Sk_head[0].keep,Func.Query2(r\"b'\\x85[z\\x1e\\x1bbCb\\x04C\\xe4=\\x06'\",Top,Sk_head,Sketch,row_cardinality))\n",
    "c,r=Func.position(DS.Tail(r\"b'\\x85[z\\x1e\\x1bbCb\\x04C\\xe4=\\x06'\",0))\n",
    "print(Sketch[r][c])\n",
    "print(\"ratio:{}\".format(Config.width/row_cardinality[0]))\n",
    "\n",
    "Sketch[0].median()"
   ]
  },
  {
   "cell_type": "code",
   "execution_count": 69,
   "metadata": {},
   "outputs": [
    {
     "data": {
      "text/plain": [
       "29.0"
      ]
     },
     "execution_count": 69,
     "metadata": {},
     "output_type": "execute_result"
    }
   ],
   "source": [
    "import numpy as np\n",
    "np.median(Sketch[0])"
   ]
  },
  {
   "cell_type": "code",
   "execution_count": 53,
   "metadata": {},
   "outputs": [
    {
     "data": {
      "text/plain": [
       "202"
      ]
     },
     "execution_count": 53,
     "metadata": {},
     "output_type": "execute_result"
    }
   ],
   "source": [
    "gt_dict=dict(grtruth.values.tolist())\n",
    "gt_dict[r\"b'\\x85[z\\x1e\\x1bbCb\\x04C\\xe4=\\x06'\"]"
   ]
  },
  {
   "cell_type": "code",
   "execution_count": 41,
   "metadata": {},
   "outputs": [
    {
     "name": "stdout",
     "output_type": "stream",
     "text": [
      "Top[1024]:truth:945834, algo result:933951\n",
      "sum of Sketch:1338427\n",
      "sum of Sk_head:1538776\n",
      "sum of Top + Sk_head: 2472727\n",
      "all arriving element: 2472727\n"
     ]
    }
   ],
   "source": [
    "gr_dir=r\"..\\dataset\\caida\"\n",
    "gr_file_name='caida_0_ground_truth.csv'\n",
    "grtruth=pd.read_csv(os.path.join(gr_dir,gr_file_name))\n",
    "\n",
    "print(\"Top[{}]:truth:{}, algo result:{}\".format(Config.size,grtruth['Count'][:Config.size].sum(),sum([i.count for i in Top])))\n",
    "print(\"sum of Sketch:{}\".format(Sketch.sum()))\n",
    "print(\"sum of Sk_head:{}\".format(sum([j.count for j in Sk_head])))\n",
    "\n",
    "# print(\"sum of all count of algo:{}\".format(sum([i.count for i in Top])+Sketch.sum()))\n",
    "print(\"sum of Top + Sk_head: {}\".format(sum([i.count for i in Top])+sum([j.count for j in Sk_head])))\n",
    "print(\"all arriving element: {}\".format(grtruth['Count'].sum()))"
   ]
  },
  {
   "cell_type": "code",
   "execution_count": null,
   "metadata": {
    "scrolled": true
   },
   "outputs": [],
   "source": [
    "print([i.count for i in Top])"
   ]
  },
  {
   "cell_type": "code",
   "execution_count": 10,
   "metadata": {},
   "outputs": [
    {
     "data": {
      "image/png": "[encoded data removed]",
      "text/plain": [
       "<Figure size 432x288 with 1 Axes>"
      ]
     },
     "metadata": {
      "needs_background": "light"
     },
     "output_type": "display_data"
    }
   ],
   "source": [
    "'''\n",
    "a - distribution parameter.\n",
    "\n",
    "size - The shape of the returned array.\n",
    "'''\n",
    "from numpy import random\n",
    "import matplotlib.pyplot as plt\n",
    "import seaborn as sns\n",
    "\n",
    "x = random.zipf(a=2, size=1000)\n",
    "sns.distplot(x[x<10], kde=False)\n",
    "\n",
    "plt.show()"
   ]
  },
  {
   "cell_type": "code",
   "execution_count": null,
   "metadata": {},
   "outputs": [],
   "source": []
  }
 ],
 "metadata": {
  "kernelspec": {
   "display_name": "Python 3",
   "language": "python",
   "name": "python3"
  },
  "language_info": {
   "codemirror_mode": {
    "name": "ipython",
    "version": 3
   },
   "file_extension": ".py",
   "mimetype": "text/x-python",
   "name": "python",
   "nbconvert_exporter": "python",
   "pygments_lexer": "ipython3",
   "version": "3.6.5"
  }
 },
 "nbformat": 4,
 "nbformat_minor": 4
}
