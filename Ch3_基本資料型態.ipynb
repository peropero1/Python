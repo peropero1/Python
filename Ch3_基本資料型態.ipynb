{
 "cells": [
  {
   "cell_type": "code",
   "execution_count": 1,
   "metadata": {},
   "outputs": [
    {
     "data": {
      "text/plain": [
       "int"
      ]
     },
     "execution_count": 1,
     "metadata": {},
     "output_type": "execute_result"
    }
   ],
   "source": [
    "x=3\n",
    "type(x)"
   ]
  },
  {
   "cell_type": "code",
   "execution_count": 2,
   "metadata": {},
   "outputs": [
    {
     "data": {
      "text/plain": [
       "float"
      ]
     },
     "execution_count": 2,
     "metadata": {},
     "output_type": "execute_result"
    }
   ],
   "source": [
    "x+=5.5\n",
    "type(x)"
   ]
  },
  {
   "cell_type": "code",
   "execution_count": 3,
   "metadata": {},
   "outputs": [
    {
     "data": {
      "text/plain": [
       "13"
      ]
     },
     "execution_count": 3,
     "metadata": {},
     "output_type": "execute_result"
    }
   ],
   "source": [
    "x=0b1101\n",
    "x"
   ]
  },
  {
   "cell_type": "code",
   "execution_count": 5,
   "metadata": {},
   "outputs": [
    {
     "name": "stdout",
     "output_type": "stream",
     "text": [
      "0b1111\n"
     ]
    }
   ],
   "source": [
    "y=15\n",
    "print(bin(y))"
   ]
  },
  {
   "cell_type": "code",
   "execution_count": 6,
   "metadata": {},
   "outputs": [
    {
     "data": {
      "text/plain": [
       "48"
      ]
     },
     "execution_count": 6,
     "metadata": {},
     "output_type": "execute_result"
    }
   ],
   "source": [
    "#round()，使用bankers rounding, 處理位數左邊是奇數就用四捨五入，偶數就用五捨六入\n",
    "x=47.5\n",
    "round(x)"
   ]
  },
  {
   "cell_type": "code",
   "execution_count": 7,
   "metadata": {},
   "outputs": [
    {
     "data": {
      "text/plain": [
       "48"
      ]
     },
     "execution_count": 7,
     "metadata": {},
     "output_type": "execute_result"
    }
   ],
   "source": [
    "x=48.5\n",
    "round(x)"
   ]
  },
  {
   "cell_type": "code",
   "execution_count": 9,
   "metadata": {},
   "outputs": [
    {
     "name": "stdout",
     "output_type": "stream",
     "text": [
      "<class 'bool'>\n",
      "1\n",
      "True\n",
      "<class 'bool'>\n",
      "0\n",
      "False\n"
     ]
    }
   ],
   "source": [
    "#布林值和整數互轉\n",
    "x=True\n",
    "print(type(x))\n",
    "print(int(x))\n",
    "print(bool(int(x)))\n",
    "\n",
    "y=False\n",
    "print(type(y))\n",
    "print(int(y))\n",
    "print(bool(int(y)))"
   ]
  },
  {
   "cell_type": "code",
   "execution_count": 10,
   "metadata": {},
   "outputs": [
    {
     "data": {
      "text/plain": [
       "'aaa,bb ,\\nccc,ddd\\n'"
      ]
     },
     "execution_count": 10,
     "metadata": {},
     "output_type": "execute_result"
    }
   ],
   "source": [
    "str1='''aaa,bb ,\n",
    "ccc,ddd\n",
    "'''\n",
    "str1"
   ]
  },
  {
   "cell_type": "code",
   "execution_count": 13,
   "metadata": {},
   "outputs": [
    {
     "name": "stdout",
     "output_type": "stream",
     "text": [
      "I can't stop loving you! \n",
      " I can't stop loving you! \n",
      " I can't \t stop \t loving \t you!\n"
     ]
    }
   ],
   "source": [
    "str1='I can\\'t stop loving you!'\n",
    "str2=\"I can't stop loving you!\"\n",
    "str3='I can\\'t \\t stop \\t loving \\t you!'\n",
    "print(str1,'\\n',str2,'\\n',str3)"
   ]
  },
  {
   "cell_type": "code",
   "execution_count": 18,
   "metadata": {},
   "outputs": [
    {
     "name": "stdout",
     "output_type": "stream",
     "text": [
      "555 <class 'int'>\n",
      "222333 <class 'str'>\n",
      "555 <class 'int'>\n"
     ]
    }
   ],
   "source": [
    "#字串和整數互轉\n",
    "num1=222\n",
    "num2=333\n",
    "num3=num1+num2\n",
    "print(num3,type(num3))\n",
    "str1='222'\n",
    "str2='333'\n",
    "str3=str1+str2\n",
    "print(str3,type(str3))\n",
    "\n",
    "x=int(str1)\n",
    "y=int(str2)\n",
    "print(x+y,type(x+y))"
   ]
  },
  {
   "cell_type": "code",
   "execution_count": 23,
   "metadata": {},
   "outputs": [
    {
     "name": "stdout",
     "output_type": "stream",
     "text": [
      "c 25105\n"
     ]
    }
   ],
   "source": [
    "#回傳ASCII碼及轉成unicode\n",
    "x=99\n",
    "y='我'\n",
    "print(chr(x),ord(y))"
   ]
  },
  {
   "cell_type": "code",
   "execution_count": 24,
   "metadata": {},
   "outputs": [
    {
     "name": "stdout",
     "output_type": "stream",
     "text": [
      "AAAAAAAAAA\n"
     ]
    }
   ],
   "source": [
    "#字串的乘法：複製\n",
    "str1='A'\n",
    "print(str1*10)"
   ]
  },
  {
   "cell_type": "code",
   "execution_count": 25,
   "metadata": {},
   "outputs": [
    {
     "name": "stdout",
     "output_type": "stream",
     "text": [
      "Hello! \\n Python\n"
     ]
    }
   ],
   "source": [
    "str1=r'Hello! \\n Python'\n",
    "print(str1)"
   ]
  },
  {
   "cell_type": "code",
   "execution_count": null,
   "metadata": {},
   "outputs": [],
   "source": []
  }
 ],
 "metadata": {
  "kernelspec": {
   "display_name": "Python 3",
   "language": "python",
   "name": "python3"
  },
  "language_info": {
   "codemirror_mode": {
    "name": "ipython",
    "version": 3
   },
   "file_extension": ".py",
   "mimetype": "text/x-python",
   "name": "python",
   "nbconvert_exporter": "python",
   "pygments_lexer": "ipython3",
   "version": "3.6.2"
  }
 },
 "nbformat": 4,
 "nbformat_minor": 2
}
