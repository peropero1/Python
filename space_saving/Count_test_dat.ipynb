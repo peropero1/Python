{
 "cells": [
  {
   "cell_type": "code",
   "execution_count": 40,
   "metadata": {},
   "outputs": [
    {
     "name": "stdout",
     "output_type": "stream",
     "text": [
      "execution time:0.0019662\n",
      "[['b', 29], ['a', 19], ['g', 10], ['h', 8], ['j', 8], ['f', 6], ['d', 3], ['l', 3], ['y', 3], ['12', 3], ['abc', 2], ['def', 2], ['c', 2], ['k', 2], ['sdf', 2], ['n', 1], ['1', 1], ['2', 1], ['3', 1], ['4', 1], ['5', 1], ['65', 1], ['67', 1], ['7', 1], ['s', 1], ['z', 1], ['x', 1], ['v', 1], ['hh', 1], ['m', 1], ['jk', 1], ['i', 1], ['34', 1], ['54', 1], ['56', 1], ['6', 1], ['bg', 1], ['fsdf', 1], ['sf', 1], ['dsf', 1], ['sd', 1], ['dsg', 1], ['jj', 1], ['gh', 1]]\n"
     ]
    }
   ],
   "source": [
    "# 0 error count\n",
    "import time\n",
    "start=time.time()\n",
    "with open(\"test.dat\",'r') as file:\n",
    "    li=[]\n",
    "    itemset=set()\n",
    "    while True:\n",
    "        line=file.readline().strip('\\n')\n",
    "        if not line:\n",
    "            break\n",
    "        else:\n",
    "            if len(li)==0:\n",
    "                li.append([line,1])\n",
    "            else:\n",
    "                j=0\n",
    "                for i in li:\n",
    "                    # print(i[0],i[1])\n",
    "                    if i[0]==line:\n",
    "                        i[1]+=1\n",
    "                    else:\n",
    "                        j+=1\n",
    "                if j==len(li):\n",
    "                    li.append([line,1])\n",
    "    # print(li,len(li))\n",
    "    end=time.time()\n",
    "    print(\"execution time:{:.7f}\".format(end-start))\n",
    "    print(sorted(li,key = lambda li: li[1],reverse=True))\n",
    "        # sort by values"
   ]
  },
  {
   "cell_type": "code",
   "execution_count": 37,
   "metadata": {},
   "outputs": [
    {
     "name": "stdout",
     "output_type": "stream",
     "text": [
      "[['b', 29], ['a', 19], ['g', 10], ['j', 8], ['h', 8], ['f', 6], ['y', 3], ['l', 3], ['12', 3], ['d', 3], ['abc', 2], ['def', 2], ['c', 2], ['k', 2], ['sdf', 2], ['n', 1], ['1', 1], ['2', 1], ['3', 1], ['4', 1], ['5', 1], ['65', 1], ['67', 1], ['7', 1], ['s', 1], ['z', 1], ['x', 1], ['v', 1], ['hh', 1], ['m', 1], ['jk', 1], ['i', 1], ['34', 1], ['54', 1], ['56', 1], ['6', 1], ['bg', 1], ['fsdf', 1], ['sf', 1], ['dsf', 1], ['sd', 1], ['dsg', 1], ['jj', 1], ['gh', 1]]\n",
      "execution time:0.0039859\n"
     ]
    }
   ],
   "source": [
    "# space saving\n",
    "\n",
    "size=44\n",
    "    # 自行決定stream summary的size, ex: dim(test.dat)=44\n",
    "itemlist=[]\n",
    "income=0\n",
    "start=time.time()\n",
    "    # 啟始時間\n",
    "with open(\"test.dat\",'r') as file:\n",
    "    while True:\n",
    "        line=file.readline().split()\n",
    "        if not line:\n",
    "            break\n",
    "        else:\n",
    "            income+=1\n",
    "            #print(\"incoming item {} is {}\".format(income,line))\n",
    "            if len(itemlist)==0:\n",
    "                itemlist.append([line,1])\n",
    "            else:\n",
    "                # whether incoming item is in itemlist \n",
    "                for i in range(len(itemlist)):\n",
    "                    if line==itemlist[i][0]:\n",
    "                        itemlist[i][1]+=1\n",
    "                        found=True\n",
    "                        #print(\"found in itemlist[{}]\".format(i))\n",
    "                        break\n",
    "                    else:\n",
    "                        found=False\n",
    "                if found:\n",
    "                    # if incoming item in item list, add count\n",
    "                    pass\n",
    "                else:\n",
    "                    if len(itemlist)<size:\n",
    "                        itemlist.append([line,1])\n",
    "                    else:\n",
    "                        # stream summary is full\n",
    "                        last=len(itemlist)-1\n",
    "                        temp=itemlist[last][0]\n",
    "                        itemlist[last][0]=line\n",
    "                        itemlist[last][1]+=1\n",
    "            itemlist=sorted(itemlist,key = lambda itemlist: itemlist[1],reverse=True)\n",
    "        #print(\"itemlist:{}\\nlen(itemlist):{}\\n\".format(itemlist,len(itemlist)))\n",
    "    print(itemlist)\n",
    "    end=time.time()\n",
    "        # 結束時間\n",
    "    print(\"execution time:{:.7f}\".format(end-start))"
   ]
  },
  {
   "cell_type": "code",
   "execution_count": null,
   "metadata": {},
   "outputs": [],
   "source": []
  }
 ],
 "metadata": {
  "kernelspec": {
   "display_name": "Python 3",
   "language": "python",
   "name": "python3"
  },
  "language_info": {
   "codemirror_mode": {
    "name": "ipython",
    "version": 3
   },
   "file_extension": ".py",
   "mimetype": "text/x-python",
   "name": "python",
   "nbconvert_exporter": "python",
   "pygments_lexer": "ipython3",
   "version": "3.6.5"
  }
 },
 "nbformat": 4,
 "nbformat_minor": 2
}
