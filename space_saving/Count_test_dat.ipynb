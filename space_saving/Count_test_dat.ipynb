{
 "cells": [
  {
   "cell_type": "code",
   "execution_count": 30,
   "metadata": {},
   "outputs": [
    {
     "name": "stdout",
     "output_type": "stream",
     "text": [
      "[('b', 29), ('a', 19), ('g', 10), ('h', 8), ('j', 8), ('f', 6), ('d', 3), ('l', 3), ('y', 3), ('12', 3), ('abc', 2), ('def', 2), ('c', 2), ('k', 2), ('sdf', 2), ('n', 1), ('1', 1), ('2', 1), ('3', 1), ('4', 1), ('5', 1), ('65', 1), ('67', 1), ('7', 1), ('s', 1), ('z', 1), ('x', 1), ('v', 1), ('hh', 1), ('m', 1), ('jk', 1), ('i', 1), ('34', 1), ('54', 1), ('56', 1), ('6', 1), ('bg', 1), ('fsdf', 1), ('sf', 1), ('dsf', 1), ('sd', 1), ('dsg', 1), ('jj', 1), ('gh', 1)]\n",
      "dim(input_stream) is: 44\n"
     ]
    }
   ],
   "source": [
    "itemdict={}\n",
    "freq_list=[]\n",
    "with open(\"test.dat\",\"r\") as testfile:\n",
    "    item=testfile.read()\n",
    "    itemlist=item.split(sep='\\n')\n",
    "    # print(itemlist)    \n",
    "    for item in itemlist:\n",
    "        if item not in itemdict:\n",
    "            itemdict[item]=1\n",
    "        else:\n",
    "            itemdict[item]+=1\n",
    "print(sorted(itemdict.items(), key=lambda x:x[1],reverse=True))\n",
    "print(\"dim(input_stream) is:\", len(itemdict))"
   ]
  },
  {
   "cell_type": "code",
   "execution_count": 10,
   "metadata": {},
   "outputs": [
    {
     "data": {
      "text/plain": [
       "{'a': 1, 'b': 2, 'd': 1, 'e': 1}"
      ]
     },
     "execution_count": 10,
     "metadata": {},
     "output_type": "execute_result"
    }
   ],
   "source": [
    "li=['a','b','b','d','e']\n",
    "itemdict={}\n",
    "for item in li:\n",
    "    if item not in itemdict:\n",
    "        itemdict[item]=1\n",
    "    else:\n",
    "        itemdict[item]+=1\n",
    "itemdict"
   ]
  },
  {
   "cell_type": "code",
   "execution_count": 31,
   "metadata": {},
   "outputs": [
    {
     "name": "stdout",
     "output_type": "stream",
     "text": [
      "CacheInfo(hits=48, misses=51, maxsize=None, currsize=51)\n"
     ]
    }
   ],
   "source": [
    "from functools import lru_cache\n",
    "\n",
    "@lru_cache(maxsize=None)\n",
    "def fib(n: int) -> int:\n",
    "    if n < 2:\n",
    "        return n\n",
    "    return fib(n - 1) + fib(n - 2)\n",
    "\n",
    "if __name__ == '__main__':\n",
    "    fib(50)\n",
    "    print(fib.cache_info())"
   ]
  },
  {
   "cell_type": "code",
   "execution_count": null,
   "metadata": {},
   "outputs": [],
   "source": []
  }
 ],
 "metadata": {
  "kernelspec": {
   "display_name": "Python 3",
   "language": "python",
   "name": "python3"
  },
  "language_info": {
   "codemirror_mode": {
    "name": "ipython",
    "version": 3
   },
   "file_extension": ".py",
   "mimetype": "text/x-python",
   "name": "python",
   "nbconvert_exporter": "python",
   "pygments_lexer": "ipython3",
   "version": "3.6.5"
  }
 },
 "nbformat": 4,
 "nbformat_minor": 2
}
