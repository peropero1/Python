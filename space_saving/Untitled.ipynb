{
 "cells": [
  {
   "cell_type": "code",
   "execution_count": 5,
   "metadata": {},
   "outputs": [
    {
     "name": "stdout",
     "output_type": "stream",
     "text": [
      "print ss: Bucket 1\n",
      "['  \"iopub_port\": 6410,', '  \"stdin_port\": 6411,', '  \"control_port\": 6412,', '  \"hb_port\": 6413,', '  \"ip\": \"127.0.0.1\",', '  \"key\": \"865031b0-cef384a5624acf4b7e6895f4\",', '  \"transport\": \"tcp\",', '  \"signature_scheme\": \"hmac-sha256\",']\n",
      "Bucket 2\n",
      "['  \"kernel_name\": \"\"', '}']\n",
      "\n",
      "['  \"iopub_port\": 6410,', '  \"stdin_port\": 6411,', '  \"control_port\": 6412,', '  \"hb_port\": 6413,', '  \"ip\": \"127.0.0.1\",', '  \"key\": \"865031b0-cef384a5624acf4b7e6895f4\",', '  \"transport\": \"tcp\",', '  \"signature_scheme\": \"hmac-sha256\",', '  \"kernel_name\": \"\"', '}']\n",
      "True\n",
      "False\n"
     ]
    }
   ],
   "source": [
    "#!/usr/bin/python\n",
    "\"\"\"\n",
    "Copyright (C) 2012-2015  Bryant Moscon - bmoscon@gmail.com\n",
    " \n",
    " Permission is hereby granted, free of charge, to any person obtaining a copy\n",
    " of this software and associated documentation files (the \"Software\"), to \n",
    " deal in the Software without restriction, including without limitation the \n",
    " rights to use, copy, modify, merge, publish, distribute, sublicense, and/or\n",
    " sell copies of the Software, and to permit persons to whom the Software is\n",
    " furnished to do so, subject to the following conditions:\n",
    " 1. Redistributions of source code must retain the above copyright notice, \n",
    "    this list of conditions, and the following disclaimer.\n",
    " 2. Redistributions in binary form must reproduce the above copyright notice, \n",
    "    this list of conditions and the following disclaimer in the documentation \n",
    "    and/or other materials provided with the distribution, and in the same \n",
    "    place and form as other copyright,\n",
    "    license and disclaimer information.\n",
    " 3. The end-user documentation included with the redistribution, if any, must \n",
    "    include the following acknowledgment: \"This product includes software \n",
    "    developed by Bryant Moscon (http://www.bryantmoscon.org/)\", in the same \n",
    "    place and form as other third-party acknowledgments. Alternately, this \n",
    "    acknowledgment may appear in the software itself, in the same form and \n",
    "    location as other such third-party acknowledgments.\n",
    " 4. Except as contained in this notice, the name of the author, Bryant Moscon,\n",
    "    shall not be used in advertising or otherwise to promote the sale, use or \n",
    "    other dealings in this Software without prior written authorization from \n",
    "    the author.\n",
    " THE SOFTWARE IS PROVIDED \"AS IS\", WITHOUT WARRANTY OF ANY KIND, EXPRESS OR \n",
    " IMPLIED, INCLUDING BUT NOT LIMITED TO THE WARRANTIES OF MERCHANTABILITY, \n",
    " FITNESS FOR A PARTICULAR PURPOSE AND NONINFRINGEMENT. IN NO EVENT SHALL \n",
    " THE AUTHORS OR COPYRIGHT HOLDERS BE LIABLE FOR ANY CLAIM, DAMAGES OR OTHER \n",
    " LIABILITY, WHETHER IN AN ACTION OF CONTRACT, TORT OR OTHERWISE, ARISING FROM,\n",
    " OUT OF OR IN CONNECTION WITH THE SOFTWARE OR THE USE OR OTHER DEALINGS IN \n",
    " THE SOFTWARE.\n",
    "\"\"\"\n",
    "\n",
    "import sys\n",
    "from stream_summary import StreamSummary\n",
    "\n",
    "\n",
    "\n",
    "def main():\n",
    "    if len(sys.argv) != 3:\n",
    "        print (\"Usage: example.py <StreamSummary Size> <file_name>\")\n",
    "        return\n",
    "\n",
    "    size = sys.argv[1]\n",
    "\n",
    "    with open(sys.argv[2], \"r\") as f:\n",
    "        data = f.read().splitlines()\n",
    "\n",
    "    data = [x for x in data if not x.startswith('#') and not len(x) == 0]\n",
    "    ss = StreamSummary(int(10))\n",
    "    \n",
    "    for e in data:\n",
    "        ss.add(e)\n",
    "\n",
    "    print(\"print ss:\",ss)\n",
    "    elements = ss.to_list()\n",
    "    print(elements)\n",
    "    print(ss.exists(elements[0]))\n",
    "    ss.clear()\n",
    "    print(ss.exists(elements[0]))\n",
    "    \n",
    "   \n",
    "    \n",
    "\n",
    "if __name__ == \"__main__\":\n",
    "    main()"
   ]
  },
  {
   "cell_type": "code",
   "execution_count": null,
   "metadata": {},
   "outputs": [],
   "source": []
  }
 ],
 "metadata": {
  "kernelspec": {
   "display_name": "Python 3",
   "language": "python",
   "name": "python3"
  },
  "language_info": {
   "codemirror_mode": {
    "name": "ipython",
    "version": 3
   },
   "file_extension": ".py",
   "mimetype": "text/x-python",
   "name": "python",
   "nbconvert_exporter": "python",
   "pygments_lexer": "ipython3",
   "version": "3.6.5"
  }
 },
 "nbformat": 4,
 "nbformat_minor": 2
}
