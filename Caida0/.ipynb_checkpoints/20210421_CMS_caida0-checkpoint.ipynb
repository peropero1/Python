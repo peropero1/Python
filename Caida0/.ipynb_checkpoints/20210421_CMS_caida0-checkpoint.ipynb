{
 "cells": [
  {
   "cell_type": "code",
   "execution_count": 16,
   "metadata": {},
   "outputs": [
    {
     "name": "stdout",
     "output_type": "stream",
     "text": [
      "EOF\n",
      "Execution time:2931.044 seconds.\n",
      "Total memory 262208 bytes.\n",
      "Top_ARE: 3.250072\n",
      "Top_AAE: 1372240.000\n",
      "all_ARE: 2620.265336\n",
      "all_AAE: 5371.083\n"
     ]
    }
   ],
   "source": [
    "# count-min sketch webdocs, top-1024, cms 1024*4, full read\n",
    "import sys\n",
    "import os\n",
    "import time\n",
    "from probables import (CountMinSketch)\n",
    "import pandas as pd\n",
    "\n",
    "start=time.time()\n",
    "topk=[]\n",
    "w=256\n",
    "d=128\n",
    "size=256\n",
    "\n",
    "item_count=0\n",
    "cms = CountMinSketch(width=w, depth=d)\n",
    "\n",
    "filename='caida_0.dat'\n",
    "filepath=\"..\\\\dataset\\\\\"\n",
    "src_data=os.path.join(filepath,filename)\n",
    "\n",
    "# if os.path.exists(os.path.join(datapath,datali)):\n",
    "if os.path.exists(src_data):\n",
    "    with open(src_data,'rb') as file:\n",
    "        while True:\n",
    "            line=str(file.read(13))\n",
    "            if len(line)<13:\n",
    "                print('EOF')\n",
    "                break\n",
    "            else:\n",
    "                # item_count+=1\n",
    "                # print(\"read {}th element: {}\".format(item_count,element))\n",
    "                cms.add(line)\n",
    "    end=time.time()\n",
    "    print(\"Execution time:{:8.3f} seconds.\".format(end-start))\n",
    "    print(\"Total memory {} bytes.\".format(sys.getsizeof(cms._bins)))\n",
    "else:\n",
    "    print(\"file doesn't exist\")    \n",
    "    \n",
    "\n",
    "#==================== count and check error of top k=============================\n",
    "path=\"..\\\\Caida0\\\\\"\n",
    "groundtruth='caida_0_ground_truth.csv'\n",
    "grtruth=pd.read_csv(os.path.join(path,groundtruth))\n",
    "gli = grtruth.values.tolist()\n",
    "\n",
    "gt_dict=dict(grtruth.values.tolist())\n",
    "top_are=0\n",
    "top_aae=0\n",
    "all_are=0\n",
    "all_aae=0\n",
    "\n",
    "read=0\n",
    "for item in grtruth['Element']:\n",
    "    count=cms.check(str(item))    \n",
    "    if read<size:\n",
    "        top_are+=abs(count-gt_dict[item])/gt_dict[item]\n",
    "        top_aae+=abs(count-gt_dict[item])\n",
    "        read+=1\n",
    "    all_are+=abs(count-gt_dict[item])/gt_dict[item]\n",
    "    all_aae+=abs(count-gt_dict[item])\n",
    "\n",
    "distinct=len(gt_dict)\n",
    "top_are/=size\n",
    "all_are/=distinct\n",
    "all_aae/=distinct \n",
    "print(\"Top_ARE: {:8.6f}\".format(top_are))\n",
    "print(\"Top_AAE: {:8.3f}\".format(top_aae))\n",
    "print(\"all_ARE: {:8.6f}\".format(all_are))\n",
    "print(\"all_AAE: {:8.3f}\".format(all_aae))\n"
   ]
  },
  {
   "cell_type": "code",
   "execution_count": 18,
   "metadata": {},
   "outputs": [
    {
     "name": "stdout",
     "output_type": "stream",
     "text": [
      "Execution time: 196.890 seconds.\n",
      "Top_ARE: 9.222526\n",
      "Top_AAE: 5477711.000\n",
      "all_ARE: 2620.265336\n",
      "all_AAE: 5371.083\n"
     ]
    }
   ],
   "source": [
    "import time\n",
    "\n",
    "startx=time.time()\n",
    "#==================== count and check error of top k=============================\n",
    "path=\"..\\\\Caida0\\\\\"\n",
    "groundtruth='caida_0_ground_truth.csv'\n",
    "grtruth=pd.read_csv(os.path.join(path,groundtruth))\n",
    "gli = grtruth.values.tolist()\n",
    "\n",
    "gt_dict=dict(grtruth.values.tolist())\n",
    "top_are=0\n",
    "top_aae=0\n",
    "all_are=0\n",
    "all_aae=0\n",
    "\n",
    "read=0\n",
    "for item in grtruth['Element']:\n",
    "    count=cms.check(str(item))    \n",
    "    if read<1024:\n",
    "        top_are+=abs(count-gt_dict[item])/gt_dict[item]\n",
    "        top_aae+=abs(count-gt_dict[item])\n",
    "        read+=1\n",
    "    all_are+=abs(count-gt_dict[item])/gt_dict[item]\n",
    "    all_aae+=abs(count-gt_dict[item])\n",
    "\n",
    "endx=time.time()\n",
    "print(\"Execution time:{:8.3f} seconds.\".format(endx-startx))\n",
    "\n",
    "distinct=len(gt_dict)\n",
    "top_are/=1024\n",
    "all_are/=distinct\n",
    "all_aae/=distinct \n",
    "print(\"Top_ARE: {:8.6f}\".format(top_are))\n",
    "print(\"Top_AAE: {:8.3f}\".format(top_aae))\n",
    "print(\"all_ARE: {:8.6f}\".format(all_are))\n",
    "print(\"all_AAE: {:8.3f}\".format(all_aae))\n"
   ]
  },
  {
   "cell_type": "code",
   "execution_count": null,
   "metadata": {},
   "outputs": [],
   "source": []
  }
 ],
 "metadata": {
  "kernelspec": {
   "display_name": "Python 3",
   "language": "python",
   "name": "python3"
  },
  "language_info": {
   "codemirror_mode": {
    "name": "ipython",
    "version": 3
   },
   "file_extension": ".py",
   "mimetype": "text/x-python",
   "name": "python",
   "nbconvert_exporter": "python",
   "pygments_lexer": "ipython3",
   "version": "3.6.5"
  }
 },
 "nbformat": 4,
 "nbformat_minor": 4
}
