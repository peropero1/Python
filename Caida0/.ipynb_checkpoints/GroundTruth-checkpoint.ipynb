{
 "cells": [
  {
   "cell_type": "code",
   "execution_count": 1,
   "metadata": {},
   "outputs": [
    {
     "name": "stdout",
     "output_type": "stream",
     "text": [
      "Distinct element: 177335\n",
      "Number of incomming element: 2472727\n",
      "                                                  Element  Count\n",
      "58            b'\\xd2\\x1d9\\xfa\\x00P\\x0f\\x13I\\x9a\\xf89\\x06'  16889\n",
      "274        b'E.\\x1c)\\xa4\\xb2\\x89\\xb6\\x06\\xba\\xd2\\xad\\x06'  11647\n",
      "706                 b'V+x\\xe8\\x00Po\\xcd\\xe4\\xde\\xccw\\x06'  10113\n",
      "6877       b'\\xb7\\xf6h\\xd0\\xc1\\x8b+\\xfc\\xe1\\x08\\x00P\\x06'   8993\n",
      "1227         b'\\x01l|\\xff\\x8f\\r\\x01l\\xc5\\xc8\\x01\\xbb\\x06'   8418\n",
      "102824           b'\\x99\\xc1\\xe9Z\\x00P+\\xfc\\xe0=\\xe7%\\x06'   6594\n",
      "31291   b'c\\x0f\\xb2\\xd4\\x80\\xd2\\x01`\\x8d\\x12\\x01\\xbb\\x06'   6244\n",
      "1161       b'\\x01l|\\xec\\xcc\\x1b\\x01l\\xc5\\xc8\\x01\\xbb\\x06'   5420\n",
      "2965          b'E\\x0c\\xd5\\xf7\\xd7(\\xdd.\\xdc\\xec\\x00P\\x06'   5194\n",
      "1662       b'E\\x0c\\xd5\\xf5\\xa4\\x14\\xdd.\\xdc\\xec\\x00P\\x06'   5044\n",
      "2050       b'\\x01l$\\xce\\x0e\\xad\\x01l\\xc5\\xc6\\x01\\xbb\\x06'   4444\n",
      "1036       b'\\xdd\\x01b\\xdf\\xd5\\xce\\xdd.\\xdc\\xf1\\x00P\\x06'   4246\n",
      "11380         b'~.~\\x13\\xa5\\xb3+\\xfc\\xe2\\x05\\x01\\xbb\\x06'   4081\n",
      "242       b'\\r\\xe1\\x94\\xb7\\xc2>\\x01`\\xdf\\x92\\x01\\xbb\\x06'   4081\n",
      "1355    b'\\xcf\\x88\\xee\\xa0\\x17\\x01\\x01`\\xa6\\xcc\\x01\\xb...   4054\n",
      "7749             b'\\x800\\xeeP <\\x01`\\xa6\\xc7\\x01\\xbb\\x06'   3972\n",
      "1075    b'\\x05\\x06\\x1b\\xd0\\xcb\\xa4h\\xef\\x88\\xf3\\x1f\\x9...   3767\n",
      "589              b'\\x82+!!\\xa5s\\x01`\\x92\\xe5\\x01\\xbb\\x06'   3639\n",
      "8870       b'E\\x0c\\xd5\\xf4\\xb9\\xf6\\xdd.\\xdc\\xf0\\x00P\\x06'   3588\n",
      "19183               b'ur=\\xf2\\xc1@+\\xfc\\xe2\\x06\\x00P\\x06'   3584\n"
     ]
    }
   ],
   "source": [
    "# count distinct element frequency\n",
    "import pandas as pd\n",
    "import os \n",
    "\n",
    "filename='caida_0.dat'\n",
    "filepath=\"..\\\\dataset\\\\\"\n",
    "src_data=os.path.join(filepath,filename)\n",
    "\n",
    "num_line=0\n",
    "count=0\n",
    "itemdict={}\n",
    "\n",
    "with open(src_data, 'rb') as file:\n",
    "    while True:\n",
    "        line=str(file.read(13))\n",
    "        if len(line)<13:\n",
    "            break\n",
    "        else:\n",
    "            num_line+=1         \n",
    "            if line not in itemdict:\n",
    "                itemdict[line]=1\n",
    "            else:\n",
    "                itemdict[line]+=1\n",
    "\n",
    "df=pd.DataFrame(list(itemdict.items()),columns=['Element', 'Count'])\n",
    "df=df.reset_index(drop=True)\n",
    "df=df.sort_values('Count',ascending=False)\n",
    "\n",
    "print(\"Distinct element: {}\".format(len(itemdict)))\n",
    "print(\"Number of incomming element: {}\".format(num_line))\n",
    "print(df.head(20))\n",
    "\n",
    "df.to_csv(\"..\\\\Caida0\\\\caida_0_ground_truth.csv\",index=False)\n"
   ]
  },
  {
   "cell_type": "code",
   "execution_count": null,
   "metadata": {},
   "outputs": [],
   "source": []
  }
 ],
 "metadata": {
  "kernelspec": {
   "display_name": "Python 3",
   "language": "python",
   "name": "python3"
  },
  "language_info": {
   "codemirror_mode": {
    "name": "ipython",
    "version": 3
   },
   "file_extension": ".py",
   "mimetype": "text/x-python",
   "name": "python",
   "nbconvert_exporter": "python",
   "pygments_lexer": "ipython3",
   "version": "3.6.5"
  }
 },
 "nbformat": 4,
 "nbformat_minor": 4
}
