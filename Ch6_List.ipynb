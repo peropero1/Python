{
 "cells": [
  {
   "cell_type": "code",
   "execution_count": 1,
   "metadata": {},
   "outputs": [
    {
     "name": "stdout",
     "output_type": "stream",
     "text": [
      "23 19 22 31 18\n"
     ]
    }
   ],
   "source": [
    "#變數用串列多重指定\n",
    "list1=[23,19,22,31,18]\n",
    "var1,var2,var3,var4,var5=list1\n",
    "    #若變數個數!=len(list1) 就會發生錯誤\n",
    "print(var1,var2,var3,var4,var5)"
   ]
  },
  {
   "cell_type": "code",
   "execution_count": 15,
   "metadata": {},
   "outputs": [
    {
     "name": "stdout",
     "output_type": "stream",
     "text": [
      "5\n",
      "[22, 31]\n",
      "[23, 19, 22, 31, 18]\n",
      "[23, 19, 22, 31, 18]\n",
      "[23, 19, 22, 31, 18]\n",
      "[23, 19, 22]\n",
      "[31, 18]\n",
      "[31, 18]\n",
      "[23, 22, 18]\n",
      "[18, 31, 22, 19, 23]\n"
     ]
    }
   ],
   "source": [
    "#串列切片\n",
    "list1=[23,19,22,31,18]\n",
    "print(len(list1))\n",
    "print(list1[2:4])\n",
    "    #list[start:end]\n",
    "    #會印出start~end-1\n",
    "\n",
    "#========印出整個list========\n",
    "print(list1[0:len(list1)])\n",
    "    #print 0~4, 即全部\n",
    "print(list1[:])\n",
    "print(list1)\n",
    "#===========================\n",
    "\n",
    "print(list1[:3])\n",
    "    #0,1,2\n",
    "print(list1[3:])\n",
    "    #3~end\n",
    "print(list1[-2:])\n",
    "    #後2個\n",
    "print(list1[0:len(list1):2])\n",
    "    #0到最後一個，每隔二個\n",
    "print(list1[::-1])\n",
    "    #每-1一跳->reverse"
   ]
  },
  {
   "cell_type": "code",
   "execution_count": 21,
   "metadata": {},
   "outputs": [
    {
     "name": "stdout",
     "output_type": "stream",
     "text": [
      "18 31 113\n",
      "Bell Thompson\n",
      "a x\n"
     ]
    }
   ],
   "source": [
    "# min/max/sum\n",
    "#全為字元/串：mim/max會return min/max unicode\n",
    "#全為數值：min/max/sum就return相應value\n",
    "list1=[23,19,22,31,18]\n",
    "list2=[\"Curry\",\"Durant\",\"Iquodala\",\"Bell\",\"Thompson\"]\n",
    "list3=list1+list2\n",
    "list4=['a','x','d','p']\n",
    "print(min(list1),max(list1),sum(list1))\n",
    "print(min(list2),max(list2))\n",
    "print(min(list4),max(list4))"
   ]
  },
  {
   "cell_type": "code",
   "execution_count": 22,
   "metadata": {},
   "outputs": [
    {
     "ename": "TypeError",
     "evalue": "'<' not supported between instances of 'str' and 'int'",
     "output_type": "error",
     "traceback": [
      "\u001b[1;31m--------------------------------------------------------------------------\u001b[0m",
      "\u001b[1;31mTypeError\u001b[0m                                Traceback (most recent call last)",
      "\u001b[1;32m<ipython-input-22-81a68945a6da>\u001b[0m in \u001b[0;36m<module>\u001b[1;34m\u001b[0m\n\u001b[1;32m----> 1\u001b[1;33m \u001b[0mprint\u001b[0m\u001b[1;33m(\u001b[0m\u001b[0mmin\u001b[0m\u001b[1;33m(\u001b[0m\u001b[0mlist3\u001b[0m\u001b[1;33m)\u001b[0m\u001b[1;33m)\u001b[0m\u001b[1;33m\u001b[0m\u001b[0m\n\u001b[0m",
      "\u001b[1;31mTypeError\u001b[0m: '<' not supported between instances of 'str' and 'int'"
     ]
    }
   ],
   "source": [
    "print(min(list3))\n",
    "    #混合資料型態就不能用min/max/sum\n",
    "    #會出現以下error\n",
    "    #用切片的方式才能做"
   ]
  },
  {
   "cell_type": "code",
   "execution_count": 23,
   "metadata": {},
   "outputs": [
    {
     "name": "stdout",
     "output_type": "stream",
     "text": [
      "95\n"
     ]
    }
   ],
   "source": [
    "print(sum(list3[0:4]))"
   ]
  },
  {
   "cell_type": "code",
   "execution_count": 24,
   "metadata": {},
   "outputs": [
    {
     "name": "stdout",
     "output_type": "stream",
     "text": [
      "[23, 19, 22, 31, 18, 23, 19, 22, 31, 18, 23, 19, 22, 31, 18]\n"
     ]
    }
   ],
   "source": [
    "#list的乘法和字串一樣，是重複次數\n",
    "print(list1*3)"
   ]
  },
  {
   "cell_type": "code",
   "execution_count": 32,
   "metadata": {},
   "outputs": [
    {
     "name": "stdout",
     "output_type": "stream",
     "text": [
      "['Curry', 'Durant', 'Bell', 'Thompson']\n",
      "['Thompson']\n",
      "['Durant', 'Bell']\n"
     ]
    }
   ],
   "source": [
    "#刪除list 的元素\n",
    "#語法：del list[slicing]\n",
    "#此種作法當刪除後無法得知刪除的內容->用pop()較優\n",
    "list2=[\"Curry\",\"Durant\",\"Iquodala\",\"Bell\",\"Thompson\"]\n",
    "del list2[2]\n",
    "print(list2)\n",
    "\n",
    "del list2[:3]\n",
    "print(list2)\n",
    "\n",
    "list2=[\"Curry\",\"Durant\",\"Iquodala\",\"Bell\",\"Thompson\"]\n",
    "del list2[::2]\n",
    "print(list2)"
   ]
  },
  {
   "cell_type": "code",
   "execution_count": 33,
   "metadata": {},
   "outputs": [
    {
     "name": "stdout",
     "output_type": "stream",
     "text": [
      "[1, 2, 3]\n"
     ]
    },
    {
     "ename": "NameError",
     "evalue": "name 'x' is not defined",
     "output_type": "error",
     "traceback": [
      "\u001b[1;31m--------------------------------------------------------------------------\u001b[0m",
      "\u001b[1;31mNameError\u001b[0m                                Traceback (most recent call last)",
      "\u001b[1;32m<ipython-input-33-3875f2298115>\u001b[0m in \u001b[0;36m<module>\u001b[1;34m\u001b[0m\n\u001b[0;32m      4\u001b[0m \u001b[0mprint\u001b[0m\u001b[1;33m(\u001b[0m\u001b[0mx\u001b[0m\u001b[1;33m)\u001b[0m\u001b[1;33m\u001b[0m\u001b[0m\n\u001b[0;32m      5\u001b[0m \u001b[1;32mdel\u001b[0m \u001b[0mx\u001b[0m\u001b[1;33m\u001b[0m\u001b[0m\n\u001b[1;32m----> 6\u001b[1;33m \u001b[0mprint\u001b[0m\u001b[1;33m(\u001b[0m\u001b[0mx\u001b[0m\u001b[1;33m)\u001b[0m\u001b[1;33m\u001b[0m\u001b[0m\n\u001b[0m",
      "\u001b[1;31mNameError\u001b[0m: name 'x' is not defined"
     ]
    }
   ],
   "source": [
    "#刪除list\n",
    "#一經刪後即無法復原\n",
    "x=[1,2,3]\n",
    "print(x)\n",
    "del x\n",
    "print(x)\n",
    "    #產生如下error"
   ]
  },
  {
   "cell_type": "code",
   "execution_count": null,
   "metadata": {},
   "outputs": [],
   "source": []
  }
 ],
 "metadata": {
  "kernelspec": {
   "display_name": "Python 3",
   "language": "python",
   "name": "python3"
  },
  "language_info": {
   "codemirror_mode": {
    "name": "ipython",
    "version": 3
   },
   "file_extension": ".py",
   "mimetype": "text/x-python",
   "name": "python",
   "nbconvert_exporter": "python",
   "pygments_lexer": "ipython3",
   "version": "3.6.2"
  }
 },
 "nbformat": 4,
 "nbformat_minor": 2
}
