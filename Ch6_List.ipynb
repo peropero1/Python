{
 "cells": [
  {
   "cell_type": "code",
   "execution_count": null,
   "metadata": {},
   "outputs": [],
   "source": [
    "#變數用串列多重指定\n",
    "list1=[23,19,22,31,18]\n",
    "var1,var2,var3,var4,var5=list1\n",
    "    #若變數個數!=len(list1) 就會發生錯誤\n",
    "print(var1,var2,var3,var4,var5)"
   ]
  },
  {
   "cell_type": "code",
   "execution_count": null,
   "metadata": {},
   "outputs": [],
   "source": [
    "#串列切片\n",
    "list1=[23,19,22,31,18]\n",
    "print(len(list1))\n",
    "print(list1[2:4])\n",
    "    #list[start:end]\n",
    "    #會印出start~end-1\n",
    "\n",
    "#========印出整個list========\n",
    "print(list1[0:len(list1)])\n",
    "    #print 0~4, 即全部\n",
    "print(list1[:])\n",
    "print(list1)\n",
    "#===========================\n",
    "\n",
    "print(list1[:3])\n",
    "    #0,1,2\n",
    "print(list1[3:])\n",
    "    #3~end\n",
    "print(list1[-2:])\n",
    "    #後2個\n",
    "print(list1[0:len(list1):2])\n",
    "    #0到最後一個，每隔二個\n",
    "print(list1[::-1])\n",
    "    #每-1一跳->reverse"
   ]
  },
  {
   "cell_type": "code",
   "execution_count": null,
   "metadata": {},
   "outputs": [],
   "source": [
    "# min/max/sum\n",
    "#全為字元/串：mim/max會return min/max unicode\n",
    "#全為數值：min/max/sum就return相應value\n",
    "list1=[23,19,22,31,18]\n",
    "list2=[\"Curry\",\"Durant\",\"Iquodala\",\"Bell\",\"Thompson\"]\n",
    "list3=list1+list2\n",
    "list4=['a','x','d','p']\n",
    "print(min(list1),max(list1),sum(list1))\n",
    "print(min(list2),max(list2))\n",
    "print(min(list4),max(list4))"
   ]
  },
  {
   "cell_type": "code",
   "execution_count": null,
   "metadata": {},
   "outputs": [],
   "source": [
    "print(min(list3))\n",
    "    #混合資料型態就不能用min/max/sum\n",
    "    #會出現以下error\n",
    "    #用切片的方式才能做"
   ]
  },
  {
   "cell_type": "code",
   "execution_count": null,
   "metadata": {},
   "outputs": [],
   "source": [
    "print(sum(list3[0:4]))"
   ]
  },
  {
   "cell_type": "code",
   "execution_count": null,
   "metadata": {},
   "outputs": [],
   "source": [
    "#list的乘法和字串一樣，是重複次數\n",
    "print(list1*3)"
   ]
  },
  {
   "cell_type": "code",
   "execution_count": null,
   "metadata": {},
   "outputs": [],
   "source": [
    "#刪除list 的元素\n",
    "#語法：del list[slicing]\n",
    "#此種作法當刪除後無法得知刪除的內容->用pop()較優\n",
    "list2=[\"Curry\",\"Durant\",\"Iquodala\",\"Bell\",\"Thompson\"]\n",
    "del list2[2]\n",
    "print(list2)\n",
    "\n",
    "del list2[:3]\n",
    "print(list2)\n",
    "\n",
    "list2=[\"Curry\",\"Durant\",\"Iquodala\",\"Bell\",\"Thompson\"]\n",
    "del list2[::2]\n",
    "print(list2)"
   ]
  },
  {
   "cell_type": "code",
   "execution_count": null,
   "metadata": {},
   "outputs": [],
   "source": [
    "#刪除list\n",
    "#一經刪後即無法復原\n",
    "x=[1,2,3]\n",
    "print(x)\n",
    "del x\n",
    "print(x)\n",
    "    #產生如下error"
   ]
  },
  {
   "cell_type": "code",
   "execution_count": null,
   "metadata": {},
   "outputs": [],
   "source": [
    "#將輸入從str轉成int\n",
    "#results = list(map(int, results))\n",
    "#map() 会根据提供的函数对指定序列做映射。\n",
    "#第一个参数 function 以参数序列中的每一个元素调用 function 函数，返回包含每次 function 函数返回值的新列表。\n",
    "while True:\n",
    "    try:\n",
    "        list1=list(map(int,input().split()))\n",
    "        print(sum(list1))\n",
    "    except:\n",
    "        break\n",
    "    "
   ]
  },
  {
   "cell_type": "code",
   "execution_count": null,
   "metadata": {},
   "outputs": [],
   "source": [
    "'''\n",
    "兩光法師時常替人占卜，由於他算得又快有便宜，因此生意源源不絕，時常大排長龍，他想算 得更快一點，因此找了你這位電腦高手幫他用電腦來加快算命的速度。\n",
    "\n",
    "　　他的占卜規則很簡單，規則是這樣的，輸入一個日期，然後依照下面的公式：\n",
    "\n",
    "M=月\n",
    "D=日 \n",
    "S=(M*2+D)%3\n",
    "\n",
    "得到 S 的值，再依照 S 的值從 0 到 2 分別給與 普通、吉、大吉 等三種不同的運勢\n",
    "'''\n",
    "while True:\n",
    "    try:\n",
    "        date=list(map(int,input().split()))\n",
    "        s=(2*date[0]+date[1])%3\n",
    "        outlist=[\"普通\",\"吉\",\"大吉\"]\n",
    "        print(outlist[s])\n",
    "    except:\n",
    "        break"
   ]
  },
  {
   "cell_type": "code",
   "execution_count": null,
   "metadata": {},
   "outputs": [],
   "source": [
    "'''\n",
    "文文為即將出國的珊珊送行，由於珊珊不喜歡別人給文文的那個綽號，意思就是嘲笑文文不夠聰明，\n",
    "但珊珊沒把握那個綽號是不是事實，所以珊珊決定考驗文文，於是告訴文文說，\n",
    "如果你能在我回國之前回答我生日那年是不是閏年，則等她回國後就答應他的求婚。\n",
    "文文抓抓腦袋想不出來， 於是決定讓最擅長做運算的電腦來幫忙。\n",
    "\n",
    "西元年被4整除且不被100整除，或被400整除者即為閏年\n",
    "'''\n",
    "while True:\n",
    "    try:\n",
    "        year=int(input())\n",
    "        if year%400==0:\n",
    "            print(\"閏年\")\n",
    "        elif (year%4==0) and (year%100!=0):\n",
    "            print(\"閏年\")\n",
    "        else:\n",
    "            print(\"平年\")\n",
    "    except:\n",
    "        break"
   ]
  },
  {
   "cell_type": "code",
   "execution_count": null,
   "metadata": {},
   "outputs": [],
   "source": [
    "'''\n",
    "Eva的家庭作業裏有很多數列填空練習。\n",
    "填空練習的要求是：已知數列的前四項，填出第五項。\n",
    "因 為已經知道這些數列只可能是等差或等比數列，她決定寫一個程式來完成這些練習。\n",
    "\n",
    "第一行是數列的數目t（0 <= t <= 20）。 \n",
    "以下每行均包含四個整數，表示數列的前四項。 \n",
    "約定數列的前五項均為不大於105的自然數，等比數列的比值也是自然數\n",
    "\n",
    "對輸入的每個數列，輸出它的前五項。\n",
    "'''\n",
    "t=input()\n",
    "while t<=20:\n",
    "    try:\n",
    "        \n"
   ]
  }
 ],
 "metadata": {
  "kernelspec": {
   "display_name": "Python 3",
   "language": "python",
   "name": "python3"
  },
  "language_info": {
   "codemirror_mode": {
    "name": "ipython",
    "version": 3
   },
   "file_extension": ".py",
   "mimetype": "text/x-python",
   "name": "python",
   "nbconvert_exporter": "python",
   "pygments_lexer": "ipython3",
   "version": "3.6.2"
  }
 },
 "nbformat": 4,
 "nbformat_minor": 2
}
