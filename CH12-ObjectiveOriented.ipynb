{
 "cells": [
  {
   "cell_type": "markdown",
   "metadata": {},
   "source": [
    "# Class的定義與使用\n",
    "## 王者歸來+ 精通python程設3"
   ]
  },
  {
   "cell_type": "markdown",
   "metadata": {},
   "source": [
    "# class的語法\n",
    "class classname()\n",
    "\n",
    "    statement1 or suite\n",
    "\n",
    "    ...\n",
    "    \n",
    "    statementn\n",
    "    \n",
    "    \n",
    "## 。物件通常具有 attribute\n",
    "## 。method是可呼叫的attribute，其它屬性則是資料。"
   ]
  },
  {
   "cell_type": "code",
   "execution_count": 24,
   "metadata": {},
   "outputs": [
    {
     "name": "stdout",
     "output_type": "stream",
     "text": [
      "Taipei bank, Customer is right.\n"
     ]
    }
   ],
   "source": [
    "#定義類別，取用attribute/ method\n",
    "class Banks():\n",
    "    title=\"Taipei bank\"    # attributes\n",
    "    def motto(self):       # methods\n",
    "        return \"Customer is right.\"\n",
    "        \n",
    "userbank=Banks()\n",
    "print(userbank.title+', '+userbank.motto())"
   ]
  },
  {
   "cell_type": "code",
   "execution_count": 25,
   "metadata": {},
   "outputs": [
    {
     "name": "stdout",
     "output_type": "stream",
     "text": [
      "Point(0,0)\n",
      "(3,4)\n",
      "5.0\n",
      "(-19,4)\n"
     ]
    },
    {
     "data": {
      "text/plain": [
       "(False, True)"
      ]
     },
     "execution_count": 25,
     "metadata": {},
     "output_type": "execute_result"
    }
   ],
   "source": [
    "# 建立一個point class, 保存x,y 座標\n",
    "import math\n",
    "class Point:\n",
    "    def __init__(self, x=0,y=0):\n",
    "        self.x=x\n",
    "        self.y=y\n",
    "    # __init__為初始化class的方法, 又稱為constructor (建構元)，在宣告該類別的物件時會自動執行\n",
    "    # self 則是一個指向物件本身的參照，因此必須包含self, 而類別中的屬性在初始化時也必須以self來限定其名稱。\n",
    "    \n",
    "    def distance_from_origin(self):\n",
    "        return math.hypot(self.x,self.y)\n",
    "    \n",
    "    def __eq__(self,other):\n",
    "        return self.x==other.x and self.y== other.y\n",
    "    # python 事先為comparison operator提供特殊方法，如 ==, >=, <=,...\n",
    "    # 此處重新實作==來覆寫預設定義的==\n",
    "    # 透過實作此方法，可讓point物件相互比較。\n",
    "    \n",
    "    # __repr__ vs. __str__\n",
    "    def __repr__(self):\n",
    "        return \"Point({0.x!r},{0.y!r})\".format(self)\n",
    "    def __str__(self):\n",
    "        return \"({0.x!r},{0.y!r})\".format(self)\n",
    "\n",
    "a=Point()\n",
    "print(repr(a))  # Point(0,0)\n",
    "\n",
    "b=Point(3,4)\n",
    "print(str(b))  # (3,4)\n",
    "print(b.distance_from_origin())  # 5.0\n",
    "\n",
    "b.x=-19\n",
    "print(str(b))  #(-19,4)\n",
    "\n",
    "a==b, a!=b"
   ]
  },
  {
   "cell_type": "markdown",
   "metadata": {},
   "source": [
    "# __repr__ vs. __str__\n",
    "在python中每一個對象都會implement __str__還有__repr__兩個方法，這兩個方法都會回傳一個代表這個對象的字串，而如果**用print function，其輸出是__str__返回的字串，若是直接輸入變數，輸出則為__repr__返回的字串**：\n",
    "\n",
    "例：\n",
    "\n",
    "class Test():\n",
    "\n",
    "    def __init__(self):     \n",
    "        pass             \n",
    "    def __repr__(self):\n",
    "        return \"the repr\"\n",
    "     def __str__(self):\n",
    "        return \"the str\"\n",
    "\n",
    "'>>> a = Test()\n",
    "\n",
    "'>>> a\n",
    "\n",
    "the repr\n",
    "\n",
    "'>>> print(a)\n",
    "\n",
    "the str\n",
    "\n",
    "在python中，每個對象都可以用str()與repr()來轉成可顯示的字串，str()'可讀性'較高，是給開發者閱讀對象中的'有用資訊'的字串，而repr()的英文全名是representation，其產生的字串是給python的直譯器看的，這個字串會顯示'明確且教詳盡的資訊'，通常'可以讓python得知究竟這字串所代表的對象為何'。"
   ]
  },
  {
   "cell_type": "code",
   "execution_count": 26,
   "metadata": {},
   "outputs": [
    {
     "name": "stdout",
     "output_type": "stream",
     "text": [
      "bob  存款餘額: 1000\n",
      "Taipei bank\n",
      "Bob\n"
     ]
    }
   ],
   "source": [
    "class Banks():\n",
    "    title=\"Taipei bank\"\n",
    "    # __init__為初始化class的方法, 又稱為constructor (建構元)，在宣告該類別的物件時會自動執行\n",
    "    # 而self 則是一個指向物件本身的參照，因此必須包含self, 而類別中的屬性在初始化時也必須以self來限定其名稱。\n",
    "    def __init__(self,uname,money):\n",
    "        self.name=uname\n",
    "            # 在__init__中會初始化屬性，用self表示 name是Banks的屬性。\n",
    "        self.balance=money\n",
    "    \n",
    "    #定義在外面的稱function, 在class(資料型態)裡的叫method, just like +,-,*,/ for int.    \n",
    "    def get_balance(self):\n",
    "        return self.balance\n",
    "\n",
    "hung_bank=Banks(\"bob\",1000)\n",
    "    #此時會呼叫__init__() 並建立一個Banks的instance, 並用 hung_bank指向該instance\n",
    "print(hung_bank.name,\" 存款餘額:\", hung_bank.get_balance())\n",
    "print(hung_bank.title)  #\"Taipei bank\"\n",
    "print(hung_bank.name.title())  #string.title(), \"Hung\""
   ]
  },
  {
   "cell_type": "code",
   "execution_count": 27,
   "metadata": {},
   "outputs": [
    {
     "name": "stdout",
     "output_type": "stream",
     "text": [
      "bob :  1000\n",
      "john :  500\n",
      "存入:  300\n",
      "存入:  400\n",
      "bob :  1300\n",
      "john :  900\n",
      "取出:  200\n",
      "取出:  100\n",
      "bob :  1100\n",
      "john :  800\n"
     ]
    }
   ],
   "source": [
    "class Banks():\n",
    "    title=\"Taipei bank\"\n",
    "    #初始化class, 此method又稱為constructor\n",
    "    #定義在外面的稱function, 在class(資料型態)裡的叫method, just like +,-,*,/ for int.  \n",
    "    def __init__(self,uname,money):\n",
    "        self.name=uname\n",
    "        self.balance=money\n",
    "        #self.attribute\n",
    "    \n",
    "    def save_money(self,money):\n",
    "        self.balance+=money\n",
    "        print(\"存入: \",money)\n",
    "    \n",
    "    def withdraw_money(self,money):\n",
    "        self.balance-=money\n",
    "        print(\"取出: \",money)        \n",
    "  \n",
    "    def get_balance(self):\n",
    "        print(self.name,\": \",self.balance)\n",
    "#===================定義class===================\n",
    "#產生物件來引用\n",
    "hung_bank=Banks(\"bob\",1000)\n",
    "john_bank=Banks(\"john\",500)\n",
    "\n",
    "hung_bank.get_balance()\n",
    "john_bank.get_balance()\n",
    "\n",
    "hung_bank.save_money(300)\n",
    "john_bank.save_money(400)\n",
    "\n",
    "hung_bank.get_balance()\n",
    "john_bank.get_balance()\n",
    "\n",
    "hung_bank.withdraw_money(200)\n",
    "john_bank.withdraw_money(100)\n",
    "\n",
    "hung_bank.get_balance()\n",
    "john_bank.get_balance()"
   ]
  },
  {
   "cell_type": "code",
   "execution_count": 28,
   "metadata": {},
   "outputs": [
    {
     "name": "stdout",
     "output_type": "stream",
     "text": [
      "存入:  1000\n",
      "Bob :  1000\n",
      "開戶銀行: Taipei Bank\n",
      "hi\n"
     ]
    }
   ],
   "source": [
    "class Banks():\n",
    "    def __init__(self,uname):\n",
    "        self.name=uname\n",
    "        self.balance=0\n",
    "        self.title=\"Taipei Bank\" #通常初始值會放在__init__中\n",
    "        \n",
    "    def save_money(self,money):\n",
    "        self.balance+=money\n",
    "        print(\"存入: \",money)\n",
    "    \n",
    "    def withdraw_money(self,money):\n",
    "        self.balance-=money\n",
    "        print(\"取出: \",money)        \n",
    "  \n",
    "    def get_balance(self):\n",
    "        print(self.name.title(),\": \",self.balance)\n",
    "\n",
    "hung_bank=Banks(\"bob\") #帳號初始值已設為0\n",
    "hung_bank.save_money(1000)  #可在class外直接取用的method稱為public method\n",
    "hung_bank.get_balance()\n",
    "print(\"開戶銀行:\", hung_bank.title) #title屬性可在class外直接取用, 稱為public attribute\n",
    "\n",
    "hung_bank.balance=\"hi\"\n",
    "    # 在main 修改帳戶餘額\n",
    "print(hung_bank.balance)  #帳戶餘額變成字串\n",
    "#某些class的屬性不該被任意使用\n"
   ]
  },
  {
   "cell_type": "code",
   "execution_count": 29,
   "metadata": {},
   "outputs": [
    {
     "name": "stdout",
     "output_type": "stream",
     "text": [
      "存入:  1000\n",
      "Bob 餘額:  1000\n",
      "開戶銀行: Taipei Bank\n"
     ]
    }
   ],
   "source": [
    "#承接上述，使用private attribute and method來重寫Banks\n",
    "class Banks():\n",
    "    def __init__(self,uname):\n",
    "        self.__name=uname  #__attribute name: 為private,無法從class外部來修改,只能由class內定義的method來修改\n",
    "        self.__balance=0\n",
    "        self.__title=\"Taipei Bank\"\n",
    "        \n",
    "    def save_money(self,money):\n",
    "        self.__balance+=money\n",
    "        print(\"存入: \",money)\n",
    "    \n",
    "    def withdraw_money(self,money):\n",
    "        self.__balance-=money\n",
    "        print(\"取出: \",money)        \n",
    "  \n",
    "    def get_balance(self):\n",
    "        print(self.__name.title(),\"餘額: \",self.__balance)\n",
    "    \n",
    "    def get_title(self):\n",
    "        return self.__title\n",
    "\n",
    "hung_bank=Banks(\"bob\")\n",
    "hung_bank.save_money(1000)\n",
    "hung_bank.get_balance()\n",
    "#print(\"開戶銀行:\", hung_bank.__title) #無法直接取用private attribute, 會有AttributeError \n",
    "print(\"開戶銀行:\",hung_bank.get_title()) #要使用class中定義的method才能取用private attribute\n"
   ]
  },
  {
   "cell_type": "code",
   "execution_count": 30,
   "metadata": {},
   "outputs": [
    {
     "name": "stdout",
     "output_type": "stream",
     "text": [
      "USD 50  equals NTD 1485\n"
     ]
    }
   ],
   "source": [
    "#定義私有的計算手續費method : __cal_rate(self,usa_d)，不被客戶知道\n",
    "class Banks():\n",
    "    def __init__(self,uname):\n",
    "        self.__name=uname\n",
    "        self.__balance=0\n",
    "        self.__title=\"Taipei Bank\"\n",
    "        self.__rate=30\n",
    "        self.__serviceCharge=0.01  #此屬性只可由內部取得\n",
    "    def save_money(self,money):\n",
    "        self.__balance+=money\n",
    "        print(\"存入 {} 完成\".format(money))\n",
    "    def withdraw_money(self,money):\n",
    "        self.__balance-=money\n",
    "        print(\"取出: \",money)\n",
    "    def get_balance(self):\n",
    "        print(self.__name.title(),\"餘額: \",self.__balance)\n",
    "\n",
    "    def usd_twd(self,usa_d):  #美金兌台幣\n",
    "        self.__result=self.__cal_rate(usa_d)\n",
    "        return self.__result\n",
    "    #private charge method\n",
    "    def __cal_rate(self,usa_d):\n",
    "        return int(usa_d*self.__rate*(1-self.__serviceCharge))  #1%手續費，其費率可由貢獻度而得\n",
    "\n",
    "hung_bank=Banks(\"hung\")\n",
    "us_dollar=50\n",
    "print(\"USD\",us_dollar,\" equals NTD\",hung_bank.usd_twd(us_dollar))"
   ]
  },
  {
   "cell_type": "markdown",
   "metadata": {},
   "source": [
    "# 類別繼承\n",
    "\n",
    "## 。Parent class的public method或attribute可直接讓Child class引用。\n",
    "## 。要先定義 parent後才能定義child, 同時child中可設計專屬自己的method和attributes。\n",
    "## 。語法：\n",
    "    class Child(Parent):\n",
    "        suite1\n",
    "        suite2\n",
    "        ..."
   ]
  },
  {
   "cell_type": "code",
   "execution_count": 63,
   "metadata": {},
   "outputs": [
    {
     "name": "stdout",
     "output_type": "stream",
     "text": [
      "存入:  1000\n",
      "Hung 餘額:  1000\n",
      "Taipei Bank\n",
      "<class '__main__.Shilin_Banks'>\n",
      "True\n"
     ]
    }
   ],
   "source": [
    "# 士林分行繼承銀行類別\n",
    "class Banks():\n",
    "    def __init__(self,uname):\n",
    "        self.__name=uname\n",
    "        self.__balance=0\n",
    "        self.__title=\"Taipei Bank\"\n",
    "        self.__rate=30\n",
    "        self.__serviceCharge=0.01\n",
    "    def save_money(self,money):\n",
    "        self.__balance+=money\n",
    "        print(\"存入: \",money)\n",
    "    def withdraw_money(self,money):\n",
    "        self.__balance-=money\n",
    "        print(\"取出: \",money)\n",
    "    def get_balance(self):\n",
    "        print(self.__name.title(),\"餘額: \",self.__balance)\n",
    "\n",
    "    def bank_title(self):  #private attribute要在parenet class中定義取用的method\n",
    "        return self.__title\n",
    "\n",
    "# define a child class:\n",
    "class Shilin_Banks(Banks):  # class claa_name(parent class)\n",
    "    pass  #無任何資料\n",
    "\n",
    "hung_banks=Shilin_Banks(\"hung\")  #產生士林分行的instance\n",
    "hung_banks.save_money(1000)  #取用parent class 的public method/ attributes\n",
    "hung_banks.get_balance()\n",
    "\n",
    "print(hung_banks.bank_title())  #要取用private attribute要在parenet class中定義取用的method\n",
    "\n",
    "print(type(hung_banks))  #hung_banks是Shilin_Banks的instance\n",
    "print(isinstance(hung_banks,Banks)) #hung_banks也是Banks的instance"
   ]
  },
  {
   "cell_type": "code",
   "execution_count": 69,
   "metadata": {},
   "outputs": [
    {
     "name": "stdout",
     "output_type": "stream",
     "text": [
      "Taipei Bank\n",
      "Taipei Bank-Shilin Branch\n"
     ]
    }
   ],
   "source": [
    "#parent和child有相同屬性時，會優先找child，然後才找parent\n",
    "#有相同method時，在相同函數名稱下放入不同物件可產生不同的結果->>polymorphism\n",
    "class Banks():\n",
    "    def __init__(self,uname):\n",
    "        self.__name=uname\n",
    "        self.__balance=0\n",
    "        self.__title=\"Taipei Bank\"  #attribute of parent class\n",
    "    def bank_title(self):\n",
    "        return self.__title\n",
    "    \n",
    "class Shilin_Banks(Banks):\n",
    "    def __init__(self,uname):\n",
    "        self.__title=\"Taipei Bank-Shilin Branch\" #分行名稱，和parenet class有相同名稱的attribute\n",
    "    def bank_title(self):  #有相同屬性時，也要定義自己存取(多型)的方法，否則會出現AttributeError\n",
    "        return self.__title\n",
    "    \n",
    "hung_banks=Shilin_Banks(\"hung\")  #instance of Shilin_Banks\n",
    "bob_banks=Banks(\"bob\")  #instance of Banks\n",
    "\n",
    "print(bob_banks.bank_title())\n",
    "print(hung_banks.bank_title())"
   ]
  },
  {
   "cell_type": "code",
   "execution_count": 75,
   "metadata": {},
   "outputs": [
    {
     "name": "stdout",
     "output_type": "stream",
     "text": [
      "Lucy is  5  years old.\n",
      "Lucy  is running\n",
      "My Pet Happy is  7  years old.\n",
      "My Pet Happy  is running\n",
      "Lucy vs. My pet Happy\n"
     ]
    }
   ],
   "source": [
    "#child 引用parent的method:使用super()\n",
    "class Animals():\n",
    "    def __init__(self,animal_name,animal_age):\n",
    "        self.name=animal_name\n",
    "        self.age=animal_age\n",
    "    def run(self):\n",
    "        print(self.name.title(),\" is running\")\n",
    "class Dogs(Animals):\n",
    "    def __init__(self,dog_name,dog_age):\n",
    "        super().__init__(\"My pet \"+dog_name.title(),dog_age)  #呼叫Animals的initial method, 一樣裡面有2個屬性name和age,\n",
    "                                                              #在初始時，會把\"My pet \"+dog_name.title()整個字串放到name中\n",
    "\n",
    "#mycat: Animals instance\n",
    "mycat=Animals(\"Lucy\",5)\n",
    "print(mycat.name.title(),\"is \",mycat.age,\" years old.\")\n",
    "mycat.run()\n",
    "\n",
    "#mydog: Dogs instance\n",
    "mydog=Dogs(\"happy\",7)\n",
    "print(mydog.name.title(),\"is \",mydog.age,\" years old.\")\n",
    "mydog.run()\n",
    "print(mycat.name,\"vs.\",mydog.name)  #比較Animals.__init__()和Dogs.__init__()使用super後的結果"
   ]
  },
  {
   "cell_type": "code",
   "execution_count": 85,
   "metadata": {
    "scrolled": true
   },
   "outputs": [
    {
     "name": "stdout",
     "output_type": "stream",
     "text": [
      "Ivan's information\n",
      "Father's information\n",
      "Grandpa's information\n",
      "\n",
      "Ivan:  200 \n",
      "Father:  400 \n",
      "Grandpa:  1000\n"
     ]
    }
   ],
   "source": [
    "#child 引用parent/grand parent 的attributes:使用super().__init__()\n",
    "class GrandPa():\n",
    "    def __init__(self):\n",
    "        self.grandpamoney=1000\n",
    "    def getinfo1(self):\n",
    "        print(\"Grandpa's information\")\n",
    "\n",
    "class Father(GrandPa):\n",
    "    def __init__(self):\n",
    "        self.fathermoney=400\n",
    "        super().__init__()    #複製GrandPa 的屬性\n",
    "    def getinfo2(self):\n",
    "        print(\"Father's information\")\n",
    "\n",
    "class Ivan(Father):\n",
    "    def __init__(self):\n",
    "        self.ivanmoney=200\n",
    "        super().__init__()    #複製Father 的屬性\n",
    "    def getinfo3(self):\n",
    "        print(\"Ivan's information\")\n",
    "    def getmoney(self):\n",
    "        print(\"\\nIvan: \",self.ivanmoney,\n",
    "              \"\\nFather: \",self.fathermoney,\n",
    "              \"\\nGrandpa: \",self.grandpamoney)\n",
    "ivan=Ivan()\n",
    "ivan.getinfo3()\n",
    "ivan.getinfo2()\n",
    "ivan.getinfo1()\n",
    "ivan.getmoney()"
   ]
  },
  {
   "cell_type": "code",
   "execution_count": 87,
   "metadata": {},
   "outputs": [
    {
     "name": "stdout",
     "output_type": "stream",
     "text": [
      "IVAN:  300 \n",
      "Father:  1000 \n",
      "Ira:  500\n"
     ]
    }
   ],
   "source": [
    "#取得sibling class中的屬性:sibling_class().attribute\n",
    "class Father():\n",
    "    def __init__(self):\n",
    "        self.fathermoney=1000\n",
    "class Ira(Father):\n",
    "    def __init__(self):\n",
    "        self.iramoney=500\n",
    "        super().__init__()\n",
    "\n",
    "class Ivan(Father):\n",
    "    def __init__(self):\n",
    "        self.ivanmoney=300\n",
    "        super().__init__()\n",
    "    def getinfo(self):\n",
    "        print(\"IVAN: \",self.ivanmoney,\n",
    "              \"\\nFather: \",self.fathermoney,\n",
    "             \"\\nIra: \",Ira().iramoney)  #Ivan, Ira皆為Father的child class, 用sibling_class().attribute的方式來存取\n",
    "ivan=Ivan()\n",
    "ivan.getinfo()"
   ]
  },
  {
   "cell_type": "code",
   "execution_count": 3,
   "metadata": {},
   "outputs": [
    {
     "name": "stdout",
     "output_type": "stream",
     "text": [
      "My pet Lucy  is  sleeping\n",
      "My pet Gimi  is  running in the street\n",
      "My monkey Taylor  is  running in the forest\n"
     ]
    }
   ],
   "source": [
    "#多型，即系統可依據物件所屬類別，引發對應類別的方法，而有不同的行為。\n",
    "#Dogs 繼承Animals, 因此在呼叫obj.action()時，Dogs會優先使用自己定義的action,而呼叫obj.which()時，則會使用Animals的which()\n",
    "#而Monkeys是獨立的class, 裡面有which()及action()，因此obj.which()及obj.action()時會使用內部定義的method\n",
    "#python會由物件類別判斷所使用的method。\n",
    "class Animals():\n",
    "    def __init__(self,animal_name):\n",
    "        self.name=animal_name\n",
    "    def which(self):\n",
    "        return \"My pet \"+self.name.title()\n",
    "    def action(self):\n",
    "        return \"sleeping\"\n",
    "class Dogs(Animals):\n",
    "    def __init__(self,dog_name):\n",
    "        super().__init__(dog_name.title())  #使用Animal的__init__()\n",
    "    def action(self):\n",
    "        return \"running in the street\"\n",
    "\n",
    "class Monkeys():\n",
    "    def __init__(self,monkey_name):\n",
    "        self.name='My monkey '+monkey_name.title()\n",
    "    def which(self):\n",
    "        return self.name\n",
    "    def action(self):\n",
    "        return \"running in the forest\"\n",
    "def doing(obj):\n",
    "    print(obj.which(),' is ', obj.action())\n",
    "\n",
    "my_cat=Animals('lucy')\n",
    "doing(my_cat)\n",
    "my_dog=Dogs('gimi')\n",
    "doing(my_dog)\n",
    "my_monkey=Monkeys('taylor')\n",
    "doing(my_monkey)"
   ]
  },
  {
   "cell_type": "code",
   "execution_count": 4,
   "metadata": {},
   "outputs": [
    {
     "name": "stdout",
     "output_type": "stream",
     "text": [
      "Ivan\n",
      "Father\n",
      "Grandpa\n"
     ]
    }
   ],
   "source": [
    "#多重繼承，當遇到同名的method時，child class會根據繼承的順序來決定method使用的優先順序\n",
    "#Ivan (Father, Uncle)\n",
    "class Grandpa():\n",
    "    def action1(self):\n",
    "        print('Grandpa')\n",
    "class Father(Grandpa):\n",
    "    def action2(self):\n",
    "        print(\"Father\")\n",
    "class Uncle(Grandpa):\n",
    "    def action2(self):\n",
    "        print(\"Uncle\")\n",
    "class Ivan(Father,Uncle):\n",
    "    def action3(self):\n",
    "        print(\"Ivan\")\n",
    "ivan=Ivan()\n",
    "ivan.action3()\n",
    "ivan.action2() #若改為class Ivan(Uncle,Father) 則output會變成Uncle\n",
    "ivan.action1()"
   ]
  },
  {
   "cell_type": "code",
   "execution_count": 5,
   "metadata": {},
   "outputs": [
    {
     "name": "stdout",
     "output_type": "stream",
     "text": [
      "type of grandpa:  <class '__main__.Grandpa'>\n",
      "type of father:  <class '__main__.Father'>\n",
      "type of ivan:  <class '__main__.Ivan'>\n",
      "type of ivan.action3:  <class 'method'>\n"
     ]
    }
   ],
   "source": [
    "# type() : 可查物件的類別及method的type\n",
    "class Grandpa():\n",
    "    def action1(self):\n",
    "        print('Grandpa')\n",
    "class Father(Grandpa):\n",
    "    def action2(self):\n",
    "        print(\"Father\")\n",
    "class Ivan(Father):\n",
    "    def action3(self):\n",
    "        print(\"Ivan\")\n",
    "grandpa=Grandpa()\n",
    "father=Father()\n",
    "ivan=Ivan()\n",
    "print(\"type of grandpa: \",type(grandpa))\n",
    "print(\"type of father: \",type(father))\n",
    "print(\"type of ivan: \",type(ivan))\n",
    "print(\"type of ivan.action3: \",type(ivan.action3))  #type of ivan.action3:  <class 'method'>, 表示action3是class中的method"
   ]
  },
  {
   "cell_type": "code",
   "execution_count": 9,
   "metadata": {},
   "outputs": [
    {
     "name": "stdout",
     "output_type": "stream",
     "text": [
      "ivan is an instance of Grandpa:  True\n",
      "ivan is an instance of Father:  True\n",
      "ivan is an instance of Ivan:  True\n",
      "\n",
      "father is an instance of Grandpa:  True\n",
      "father is an instance of Father:  True\n",
      "father is an instance of Ivan:  False\n",
      "\n",
      "grandpa is an instance of Grandpa:  True\n",
      "grandpa is an instance of Father:  False\n",
      "grandpa is an instance of Ivan:  False\n"
     ]
    }
   ],
   "source": [
    "# isinstance(object,class): chech某物件是否屬於某個class\n",
    "#若為繼承則會return True, ex: ivan會是father & grandpa 的物件\n",
    "class Grandpa():\n",
    "    def action1(self):\n",
    "        print('Grandpa')\n",
    "class Father(Grandpa):\n",
    "    def action2(self):\n",
    "        print(\"Father\")\n",
    "class Ivan(Father):\n",
    "    def action3(self):\n",
    "        print(\"Ivan\")\n",
    "grandpa=Grandpa()\n",
    "father=Father()\n",
    "ivan=Ivan()\n",
    "print(\"ivan is an instance of Grandpa: \", isinstance(ivan,Grandpa))\n",
    "print(\"ivan is an instance of Father: \", isinstance(ivan,Father))\n",
    "print(\"ivan is an instance of Ivan: \", isinstance(ivan,Ivan))\n",
    "print(\"\")\n",
    "print(\"father is an instance of Grandpa: \", isinstance(father,Grandpa))\n",
    "print(\"father is an instance of Father: \", isinstance(father,Father))\n",
    "print(\"father is an instance of Ivan: \", isinstance(father,Ivan))\n",
    "print(\"\")\n",
    "print(\"grandpa is an instance of Grandpa: \", isinstance(grandpa,Grandpa))\n",
    "print(\"grandpa is an instance of Father: \", isinstance(grandpa,Father))\n",
    "print(\"grandpa is an instance of Ivan: \", isinstance(grandpa,Ivan))"
   ]
  },
  {
   "cell_type": "code",
   "execution_count": 14,
   "metadata": {},
   "outputs": [
    {
     "name": "stdout",
     "output_type": "stream",
     "text": [
      "3\n",
      "\n",
      "    文檔字串實例\n",
      "    建議x,y為int\n",
      "    該函數將回傳較大值\n",
      "    \n",
      "======================================================\n",
      "Document of int:\n",
      "int(x=0) -> integer\n",
      "int(x, base=10) -> integer\n",
      "\n",
      "Convert a number or string to an integer, or return 0 if no arguments\n",
      "are given.  If x is a number, return x.__int__().  For floating point\n",
      "numbers, this truncates towards zero.\n",
      "\n",
      "If x is not a number or if base is given, then x must be a string,\n",
      "bytes, or bytearray instance representing an integer literal in the\n",
      "given base.  The literal can be preceded by '+' or '-' and be surrounded\n",
      "by whitespace.  The base defaults to 10.  Valid bases are 0 and 2-36.\n",
      "Base 0 means to interpret the base from the string as an integer literal.\n",
      ">>> int('0b100', base=0)\n",
      "4\n"
     ]
    }
   ],
   "source": [
    "#常見的特殊屬性: __xx__\n",
    "#__doc__:類別 (class) 有 __doc__ 屬性 (attribute) ，這是三引號字串定義的文字，屬於類別 / function /....的說明文件。\n",
    "#        通常三引號字串會直接放在 類別 / function /....下方，利用 __doc__ 即可存取。\n",
    "def getMax(x,y):\n",
    "    '''\n",
    "    文檔字串實例\n",
    "    建議x,y為int\n",
    "    該函數將回傳較大值\n",
    "    '''\n",
    "    if int(x)>int(y):\n",
    "        return x\n",
    "    else:\n",
    "        return y\n",
    "print(getMax(2,3))\n",
    "print(getMax.__doc__)  #印出該function的說明文件\n",
    "print(\"======================================================\")  #print document of int\n",
    "a=20\n",
    "print(\"Document of int:\")\n",
    "print(a.__doc__)  #print document of int"
   ]
  },
  {
   "cell_type": "code",
   "execution_count": 55,
   "metadata": {},
   "outputs": [],
   "source": [
    "#__name__ 程式詳見 C:\\Users\\PERO\\name\n",
    "#該屬性是用來得知目前所在的執行檔案/module名稱，可寫在被引用的B.py中，可明確指名\n",
    "#直接執行B.py時要做的事與被import時要做的事(用if __name__ == '__main__'來區別)\n",
    "#python是直譯式語言，若B.py沒有明確指定if __name__ == '__main__':\n",
    "#則會從第一行開始執行，會產生非預期的效果。"
   ]
  },
  {
   "cell_type": "markdown",
   "metadata": {
    "collapsed": true
   },
   "source": [
    "# Practice "
   ]
  },
  {
   "cell_type": "code",
   "execution_count": 21,
   "metadata": {},
   "outputs": [
    {
     "name": "stdout",
     "output_type": "stream",
     "text": [
      "Hi! Kevin, your score is 80.\n",
      "Hi! Pero, your score is 99.\n"
     ]
    }
   ],
   "source": [
    "# 1\n",
    "class Myschool():\n",
    "    def __init__(self,name,score):\n",
    "        self.name=name\n",
    "        self.score=score\n",
    "    def msg(self):\n",
    "        print(\"Hi! {name}, your score is {score}.\".format(name=self.name.title(),score=self.score))\n",
    "\n",
    "hung=Myschool('kevin',80)\n",
    "hung.msg()\n",
    "lai=Myschool('pero',99)\n",
    "lai.msg()"
   ]
  },
  {
   "cell_type": "code",
   "execution_count": 22,
   "metadata": {},
   "outputs": [
    {
     "name": "stdout",
     "output_type": "stream",
     "text": [
      "Python School\n",
      "Hi! Kevin, your score is 80.\n",
      "Python School\n",
      "Hi! Pero, your score is 99.\n"
     ]
    }
   ],
   "source": [
    "# 2\n",
    "class Myschool2():\n",
    "    def __init__(self,name,score,title='Python School'):\n",
    "        self.name=name\n",
    "        self.score=score\n",
    "        self.title=title\n",
    "    def msg(self):\n",
    "        print(self.title)\n",
    "        print(\"Hi! {name}, your score is {score}.\".format(name=self.name.title(),score=self.score))\n",
    "\n",
    "hung=Myschool2('kevin',80)\n",
    "hung.msg()\n",
    "lai=Myschool2('pero',99)\n",
    "lai.msg()"
   ]
  },
  {
   "cell_type": "code",
   "execution_count": 42,
   "metadata": {},
   "outputs": [
    {
     "name": "stdout",
     "output_type": "stream",
     "text": [
      "存入 5000 完成\n",
      "提出 3000 完成\n",
      "存入 1500 完成\n",
      "Huang 台幣餘額 3500\n",
      "購買50美元\n",
      "提出 1485 完成\n",
      "存入 50 美元完成\n",
      "Huang 台幣餘額 2015\n",
      "Huang 美金外幣餘額 50\n"
     ]
    }
   ],
   "source": [
    "# 3\n",
    "class Banks():\n",
    "    def __init__(self,uname ):\n",
    "        self.__name=uname\n",
    "        self.__balance=0\n",
    "        self.__foreign_balance=0\n",
    "        self.__title=\"Taipei Bank\"\n",
    "        self.__rate=30    #預設的美金兌台幣匯率\n",
    "        self.__service_charge=0.01  #預設的服務費率\n",
    "    def save_money(self,money):\n",
    "        self.__balance+=money\n",
    "        print(\"存入 {} 完成\".format(money))\n",
    "    def withdraw_money(self,money):\n",
    "        self.__balance-=money\n",
    "        print(\"提出 {} 完成\".format(money))\n",
    "    def save_usd_money(self,usd):\n",
    "        self.__foreign_balance+=usd\n",
    "        print(\"存入 {} 美元完成\".format(usd))\n",
    "    def withdraw_usd_money(self,usd):\n",
    "        self.__foreign_balance-=usd\n",
    "        print(\"提出 {} 美元完成\".format(usd))\n",
    "    def buy_usd(self, usd):\n",
    "        print(\"購買{}美元: \".format(usd))\n",
    "        ntd=self.usd_to_ntd(usd)\n",
    "        self.withdraw_money(ntd)\n",
    "        self.save_usd_money(usd)\n",
    "    def get_balance(self):\n",
    "        print(\"{name} 台幣餘額 {money}\".format(name=self.__name.title(),money=self.__balance))\n",
    "    def get_foreign_balance(self):\n",
    "        print(\"{name} 美金外幣餘額 {money}\".format(name=self.__name.title(),money=self.__foreign_balance))\n",
    "    def usd_to_ntd(self, usa_d):\n",
    "        self.result=self.__cal_rate(usa_d)\n",
    "        return self.result\n",
    "    def __cal_rate(self,usa_d):\n",
    "        return int(usa_d*self.__rate*(1-self.__service_charge))\n",
    "huang=Banks('huang')\n",
    "huang.save_money(5000)\n",
    "huang.withdraw_money(3000)\n",
    "huang.save_money(1500)\n",
    "huang.get_balance()\n",
    "\n",
    "huang.buy_usd(50)\n",
    "huang.get_balance()\n",
    "huang.get_foreign_balance()"
   ]
  },
  {
   "cell_type": "code",
   "execution_count": null,
   "metadata": {},
   "outputs": [],
   "source": []
  }
 ],
 "metadata": {
  "kernelspec": {
   "display_name": "Python 3",
   "language": "python",
   "name": "python3"
  },
  "language_info": {
   "codemirror_mode": {
    "name": "ipython",
    "version": 3
   },
   "file_extension": ".py",
   "mimetype": "text/x-python",
   "name": "python",
   "nbconvert_exporter": "python",
   "pygments_lexer": "ipython3",
   "version": "3.6.5"
  }
 },
 "nbformat": 4,
 "nbformat_minor": 2
}
