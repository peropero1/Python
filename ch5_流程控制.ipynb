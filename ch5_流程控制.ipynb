{
 "cells": [
  {
   "cell_type": "code",
   "execution_count": 3,
   "metadata": {},
   "outputs": [
    {
     "name": "stdout",
     "output_type": "stream",
     "text": [
      "Enter your number:-5\n",
      "5\n"
     ]
    }
   ],
   "source": [
    "#if \n",
    "#簡化成一行\n",
    "num=input(\"Enter your number:\")\n",
    "if(int(num)<0):print(abs(int(num)))"
   ]
  },
  {
   "cell_type": "code",
   "execution_count": 5,
   "metadata": {},
   "outputs": [
    {
     "name": "stdout",
     "output_type": "stream",
     "text": [
      "奇偶數判斷\n",
      "Enter your number8\n",
      "8 is even.\n"
     ]
    }
   ],
   "source": [
    "#if..else\n",
    "print(\"奇偶數判斷\")\n",
    "num=input(\"Enter your number\")\n",
    "x=int(num)\n",
    "if(x%2==0):\n",
    "    print(\"%d is even.\"%(x))\n",
    "else:\n",
    "    print(\"%d is odd.\"%(x))"
   ]
  },
  {
   "cell_type": "code",
   "execution_count": 7,
   "metadata": {},
   "outputs": [
    {
     "name": "stdout",
     "output_type": "stream",
     "text": [
      "分數級距\n",
      "Enter your score50\n",
      "rank F\n"
     ]
    }
   ],
   "source": [
    "#if..elif..else\n",
    "print(\"分數級距\")\n",
    "score=input(\"Enter your score\")\n",
    "x=int(score)\n",
    "if(x>=90):\n",
    "    print(\"rank A\")\n",
    "elif(x>=80):\n",
    "    print(\"rank B\")\n",
    "elif(x>=70):\n",
    "    print(\"rank C\")    \n",
    "elif(x>=60):\n",
    "    print(\"rank D\")\n",
    "else:\n",
    "    print(\"rank F\")"
   ]
  },
  {
   "cell_type": "code",
   "execution_count": 11,
   "metadata": {},
   "outputs": [
    {
     "name": "stdout",
     "output_type": "stream",
     "text": [
      "計算票價\n",
      "Enter your age: 15\n",
      "100\n"
     ]
    }
   ],
   "source": [
    "print(\"計算票價\")\n",
    "age=input(\"Enter your age: \")\n",
    "ticket=100\n",
    "x=int(age)\n",
    "if(x>=80 or x<=6):\n",
    "    print(ticket*0.2)\n",
    "elif(x<=12 or x>=60):\n",
    "    print(ticket*.5)\n",
    "else:\n",
    "    print(ticket)"
   ]
  },
  {
   "cell_type": "code",
   "execution_count": 12,
   "metadata": {},
   "outputs": [
    {
     "name": "stdout",
     "output_type": "stream",
     "text": [
      "Help on built-in function ord in module builtins:\n",
      "\n",
      "ord(c, /)\n",
      "    Return the Unicode code point for a one-character string.\n",
      "\n"
     ]
    }
   ],
   "source": [
    "help(ord)"
   ]
  },
  {
   "cell_type": "code",
   "execution_count": 14,
   "metadata": {},
   "outputs": [
    {
     "data": {
      "text/plain": [
       "99"
      ]
     },
     "execution_count": 14,
     "metadata": {},
     "output_type": "execute_result"
    }
   ],
   "source": [
    "ord('A')\n",
    "ord('c')"
   ]
  },
  {
   "cell_type": "code",
   "execution_count": null,
   "metadata": {},
   "outputs": [],
   "source": []
  }
 ],
 "metadata": {
  "kernelspec": {
   "display_name": "Python 3",
   "language": "python",
   "name": "python3"
  },
  "language_info": {
   "codemirror_mode": {
    "name": "ipython",
    "version": 3
   },
   "file_extension": ".py",
   "mimetype": "text/x-python",
   "name": "python",
   "nbconvert_exporter": "python",
   "pygments_lexer": "ipython3",
   "version": "3.6.2"
  }
 },
 "nbformat": 4,
 "nbformat_minor": 2
}
