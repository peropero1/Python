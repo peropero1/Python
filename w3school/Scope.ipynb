{
 "cells": [
  {
   "cell_type": "markdown",
   "metadata": {},
   "source": [
    "# Python Scope\n",
    "A variable is only available from inside the region it is created. This is called scope.\n",
    "\n",
    "-> 變數可被取用的範圍叫scope\n",
    "\n",
    "## Local Scope\n",
    "A variable created inside a function belongs to the local scope of that function, and can only be used inside that function.\n",
    "\n",
    "-> 在function範圍內可被取用的Scope"
   ]
  },
  {
   "cell_type": "code",
   "execution_count": 1,
   "metadata": {},
   "outputs": [
    {
     "name": "stdout",
     "output_type": "stream",
     "text": [
      "100 1361934448\n",
      "10 1361931568\n"
     ]
    }
   ],
   "source": [
    "# local scope\n",
    "\n",
    "def myfunction():\n",
    "    x=10\n",
    "    print(x,id(x))\n",
    "\n",
    "\n",
    "x=100\n",
    "print(x,id(x))\n",
    "myfunction()\n"
   ]
  },
  {
   "cell_type": "markdown",
   "metadata": {},
   "source": [
    "# Function Inside Function\n",
    "As explained in the example above, the variable x is not available outside the function, but it is available for any function inside the function:\n",
    "\n",
    "-> 巢狀函數中，外層的函數可取用內層函數的值, 反之不行\n",
    "\n"
   ]
  },
  {
   "cell_type": "code",
   "execution_count": 7,
   "metadata": {},
   "outputs": [
    {
     "name": "stdout",
     "output_type": "stream",
     "text": [
      "10 1361931568\n",
      "5 1361931408\n",
      "100 1361934448\n",
      "5 1361931408\n"
     ]
    }
   ],
   "source": [
    "def outer_function():\n",
    "    x=10\n",
    "    y=5\n",
    "    print(x,id(x))\n",
    "    print(y,id(y))\n",
    "    def inner_function():\n",
    "        x=100\n",
    "        print(x,id(x))\n",
    "        print(y,id(y))\n",
    "    inner_function()\n",
    "\n",
    "\n",
    "outer_function()"
   ]
  },
  {
   "cell_type": "markdown",
   "metadata": {},
   "source": [
    "# Global Scope\n",
    "\n",
    "A variable created in the main body of the Python code is a global variable and belongs to the global scope.\n",
    "\n",
    "Global variables are available from within any scope, global and local.\n",
    "\n",
    "-> main裡的變數為global scoope\n",
    "-> 要指定global scope變數在變數前加global 識別字"
   ]
  },
  {
   "cell_type": "code",
   "execution_count": 11,
   "metadata": {},
   "outputs": [
    {
     "name": "stdout",
     "output_type": "stream",
     "text": [
      "100\n",
      "50 1361932848\n"
     ]
    }
   ],
   "source": [
    "def myfunction():\n",
    "    global y\n",
    "    y=50\n",
    "    print(x)\n",
    "    \n",
    "    \n",
    "#============main===========\n",
    "x=100\n",
    "myfunction()\n",
    "print(y,id(y))\n",
    "    # 可存取myfunction裡的y\n"
   ]
  },
  {
   "cell_type": "code",
   "execution_count": 14,
   "metadata": {},
   "outputs": [
    {
     "name": "stdout",
     "output_type": "stream",
     "text": [
      "300 2840990467216\n",
      "200 1361937648\n",
      "200 1361937648\n"
     ]
    }
   ],
   "source": [
    "# 在function裡修改global 的變數\n",
    "x=300\n",
    "\n",
    "def myfunction():\n",
    "    global x\n",
    "    x=200\n",
    "    print(x,id(x))\n",
    "    \n",
    "    \n",
    "#=======================main=================\n",
    "print(x,id(x))\n",
    "    # 先印出300的\n",
    "myfunction()\n",
    "    # 改references 到myfunction裡的global x\n",
    "print(x,id(x))\n",
    "    #參到考myfunction裡"
   ]
  },
  {
   "cell_type": "code",
   "execution_count": null,
   "metadata": {},
   "outputs": [],
   "source": []
  }
 ],
 "metadata": {
  "kernelspec": {
   "display_name": "Python 3",
   "language": "python",
   "name": "python3"
  },
  "language_info": {
   "codemirror_mode": {
    "name": "ipython",
    "version": 3
   },
   "file_extension": ".py",
   "mimetype": "text/x-python",
   "name": "python",
   "nbconvert_exporter": "python",
   "pygments_lexer": "ipython3",
   "version": "3.6.5"
  }
 },
 "nbformat": 4,
 "nbformat_minor": 2
}
