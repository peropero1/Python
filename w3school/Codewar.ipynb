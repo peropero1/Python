{
 "cells": [
  {
   "cell_type": "code",
   "execution_count": 27,
   "metadata": {},
   "outputs": [
    {
     "data": {
      "text/plain": [
       "2"
      ]
     },
     "execution_count": 27,
     "metadata": {},
     "output_type": "execute_result"
    }
   ],
   "source": [
    "inputstr='aA11'\n",
    "def duplicate_count(text):\n",
    "    # Your code goes here\n",
    "    text=text.lower()\n",
    "    temp=dict([(i,0) for i in text])\n",
    "    for char in text:\n",
    "        if char in temp.keys():\n",
    "            temp[char]+=1\n",
    "    count=0\n",
    "    for item in temp.values():\n",
    "        if item >=2:\n",
    "            count +=1\n",
    "    return count\n",
    "duplicate_count(inputstr)"
   ]
  },
  {
   "cell_type": "code",
   "execution_count": 40,
   "metadata": {},
   "outputs": [
    {
     "data": {
      "text/plain": [
       "['A', 'B', 'C', 'D', 'A', 'B']"
      ]
     },
     "execution_count": 40,
     "metadata": {},
     "output_type": "execute_result"
    }
   ],
   "source": [
    "def unique_in_order(iterable):\n",
    "    inputlist=[]\n",
    "    for item in iterable:\n",
    "        if len(inputlist)!=0:\n",
    "            if inputlist[len(inputlist)-1]==item:\n",
    "                pass\n",
    "            else:\n",
    "                inputlist.append(item)\n",
    "        else:\n",
    "            inputlist.append(item)\n",
    "    return inputlist\n",
    "result=unique_in_order('AAAABBBCCDAABBB')  \n",
    "result"
   ]
  },
  {
   "cell_type": "code",
   "execution_count": null,
   "metadata": {},
   "outputs": [],
   "source": []
  }
 ],
 "metadata": {
  "kernelspec": {
   "display_name": "Python 3",
   "language": "python",
   "name": "python3"
  },
  "language_info": {
   "codemirror_mode": {
    "name": "ipython",
    "version": 3
   },
   "file_extension": ".py",
   "mimetype": "text/x-python",
   "name": "python",
   "nbconvert_exporter": "python",
   "pygments_lexer": "ipython3",
   "version": "3.6.5"
  }
 },
 "nbformat": 4,
 "nbformat_minor": 4
}
