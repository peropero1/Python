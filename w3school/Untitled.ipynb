{
 "cells": [
  {
   "cell_type": "code",
   "execution_count": 7,
   "metadata": {},
   "outputs": [
    {
     "name": "stdout",
     "output_type": "stream",
     "text": [
      "Welcome Mike Olsen to the class of 2019\n",
      "Method 'printname()' of the Person class is overriden.\n"
     ]
    }
   ],
   "source": [
    "# parent class\n",
    "\n",
    "class Person():\n",
    "    def __init__(self,firstname,lastname):\n",
    "        self.firstname=firstname\n",
    "        self.lastname=lastname\n",
    "    def printname(self):\n",
    "        print(self.firstname, self.lastname)\n",
    "\n",
    "# child class\n",
    "class Student(Person):\n",
    "    def __init__(self,fname,lname,year):\n",
    "        super().__init__(fname,lname)\n",
    "        # super():自動繼承parent class的所有屬性,因為不指Student class instance,故不加self\n",
    "        self.graduateyear=year\n",
    "    def welcome(self):\n",
    "        # 定義Student instance自已的method.\n",
    "        print(\"Welcome\", self.firstname, self.lastname, \"to the class of\", self.graduateyear)\n",
    "        \n",
    "    def printname(self):\n",
    "        # 定義和parent class同名的method會覆寫method of parent class.\n",
    "        print(\"Method 'printname()' of the Person class is overriden.\")\n",
    "x=Student(\"Mike\", \"Olsen\", 2019)\n",
    "x.welcome()\n",
    "x.printname()"
   ]
  },
  {
   "cell_type": "code",
   "execution_count": 27,
   "metadata": {},
   "outputs": [
    {
     "data": {
      "text/plain": [
       "2"
      ]
     },
     "execution_count": 27,
     "metadata": {},
     "output_type": "execute_result"
    }
   ],
   "source": [
    "inputstr='aA11'\n",
    "def duplicate_count(text):\n",
    "    # Your code goes here\n",
    "    text=text.lower()\n",
    "    temp=dict([(i,0) for i in text])\n",
    "    for char in text:\n",
    "        if char in temp.keys():\n",
    "            temp[char]+=1\n",
    "    count=0\n",
    "    for item in temp.values():\n",
    "        if item >=2:\n",
    "            count +=1\n",
    "    return count\n",
    "duplicate_count(inputstr)"
   ]
  },
  {
   "cell_type": "code",
   "execution_count": 36,
   "metadata": {},
   "outputs": [
    {
     "data": {
      "text/plain": [
       "2"
      ]
     },
     "execution_count": 36,
     "metadata": {},
     "output_type": "execute_result"
    }
   ],
   "source": [
    "inputstr='aA11'\n",
    "inputstr.lower().count('a')"
   ]
  },
  {
   "cell_type": "code",
   "execution_count": 17,
   "metadata": {},
   "outputs": [
    {
     "data": {
      "text/plain": [
       "dict_keys(['a', 'b', 'c', 'd', 'e'])"
      ]
     },
     "execution_count": 17,
     "metadata": {},
     "output_type": "execute_result"
    }
   ],
   "source": [
    "t.keys()"
   ]
  },
  {
   "cell_type": "code",
   "execution_count": 18,
   "metadata": {},
   "outputs": [
    {
     "data": {
      "text/plain": [
       "dict_values([0, 0, 0, 0, 0])"
      ]
     },
     "execution_count": 18,
     "metadata": {},
     "output_type": "execute_result"
    }
   ],
   "source": [
    "t.values()"
   ]
  },
  {
   "cell_type": "code",
   "execution_count": 19,
   "metadata": {},
   "outputs": [
    {
     "data": {
      "text/plain": [
       "True"
      ]
     },
     "execution_count": 19,
     "metadata": {},
     "output_type": "execute_result"
    }
   ],
   "source": [
    "'a' in t.keys() "
   ]
  },
  {
   "cell_type": "code",
   "execution_count": 40,
   "metadata": {},
   "outputs": [
    {
     "data": {
      "text/plain": [
       "['A', 'B', 'C', 'D', 'A', 'B']"
      ]
     },
     "execution_count": 40,
     "metadata": {},
     "output_type": "execute_result"
    }
   ],
   "source": [
    "def unique_in_order(iterable):\n",
    "    inputlist=[]\n",
    "    for item in iterable:\n",
    "        if len(inputlist)!=0:\n",
    "            if inputlist[len(inputlist)-1]==item:\n",
    "                pass\n",
    "            else:\n",
    "                inputlist.append(item)\n",
    "        else:\n",
    "            inputlist.append(item)\n",
    "    return inputlist\n",
    "result=unique_in_order('AAAABBBCCDAABBB')  \n",
    "result"
   ]
  },
  {
   "cell_type": "code",
   "execution_count": 38,
   "metadata": {},
   "outputs": [
    {
     "data": {
      "text/plain": [
       "4"
      ]
     },
     "execution_count": 38,
     "metadata": {},
     "output_type": "execute_result"
    }
   ],
   "source": [
    "x=[1,2,4,5]\n",
    "len(x)"
   ]
  },
  {
   "cell_type": "code",
   "execution_count": null,
   "metadata": {},
   "outputs": [],
   "source": []
  }
 ],
 "metadata": {
  "kernelspec": {
   "display_name": "Python 3",
   "language": "python",
   "name": "python3"
  },
  "language_info": {
   "codemirror_mode": {
    "name": "ipython",
    "version": 3
   },
   "file_extension": ".py",
   "mimetype": "text/x-python",
   "name": "python",
   "nbconvert_exporter": "python",
   "pygments_lexer": "ipython3",
   "version": "3.6.5"
  }
 },
 "nbformat": 4,
 "nbformat_minor": 4
}
