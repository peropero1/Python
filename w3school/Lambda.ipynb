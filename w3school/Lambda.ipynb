{
 "cells": [
  {
   "cell_type": "code",
   "execution_count": 1,
   "metadata": {},
   "outputs": [],
   "source": [
    "# https://www.w3schools.com/python/python_lambda.asp"
   ]
  },
  {
   "cell_type": "markdown",
   "metadata": {},
   "source": [
    "## A lambda function is a small anonymous function.\n",
    "\n",
    "## A lambda function can take any number of arguments, but can only have one expression.\n",
    "\n",
    "# Syntax\n",
    "\n",
    "* lambda arguments : expression"
   ]
  },
  {
   "cell_type": "code",
   "execution_count": 2,
   "metadata": {},
   "outputs": [
    {
     "name": "stdout",
     "output_type": "stream",
     "text": [
      "15\n"
     ]
    }
   ],
   "source": [
    "# A lambda function that adds 10 to the number passed in as an argument, and print the result:\n",
    "\n",
    "x=lambda a:a+10\n",
    "print(x(5))"
   ]
  },
  {
   "cell_type": "code",
   "execution_count": 6,
   "metadata": {},
   "outputs": [
    {
     "name": "stdout",
     "output_type": "stream",
     "text": [
      "24\n",
      "9 <class 'function'>\n"
     ]
    }
   ],
   "source": [
    "# Lambda functions can take any number of arguments:\n",
    "# 多個參數\n",
    "x=lambda a,b:a*b\n",
    "print(x(3,8))\n",
    "\n",
    "y= lambda s,t,w: s+t+w\n",
    "print(y(2,3,4),type(y))\n",
    "    # lambda return為function"
   ]
  },
  {
   "cell_type": "markdown",
   "metadata": {},
   "source": [
    "### Why Use Lambda Functions?\n",
    "\n",
    "The power of lambda is better shown when you use them as an anonymous function inside another function.\n",
    "   * 可在函數內作為匿名函數使用\n",
    "\n",
    "Say you have a function definition that takes one argument, and that argument will be multiplied with an unknown number:"
   ]
  },
  {
   "cell_type": "code",
   "execution_count": 10,
   "metadata": {},
   "outputs": [
    {
     "name": "stdout",
     "output_type": "stream",
     "text": [
      "12\n",
      "16\n"
     ]
    }
   ],
   "source": [
    "def myfunc(n):\n",
    "    return lambda a:a*n\n",
    "triple_function=myfunc(3)\n",
    "    # 3 as argument of n\n",
    "double_function=myfunc(2)\n",
    "    \n",
    "print(triple_function(4))\n",
    "    # 4 as argument of lambda\n",
    "    # final result is 3*4=12\n",
    "print(double_function(8))"
   ]
  },
  {
   "cell_type": "code",
   "execution_count": null,
   "metadata": {},
   "outputs": [],
   "source": []
  }
 ],
 "metadata": {
  "kernelspec": {
   "display_name": "Python 3",
   "language": "python",
   "name": "python3"
  },
  "language_info": {
   "codemirror_mode": {
    "name": "ipython",
    "version": 3
   },
   "file_extension": ".py",
   "mimetype": "text/x-python",
   "name": "python",
   "nbconvert_exporter": "python",
   "pygments_lexer": "ipython3",
   "version": "3.6.5"
  }
 },
 "nbformat": 4,
 "nbformat_minor": 4
}
