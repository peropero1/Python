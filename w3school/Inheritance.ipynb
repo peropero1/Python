{
 "cells": [
  {
   "cell_type": "markdown",
   "metadata": {},
   "source": [
    "## Python Inheritance\n",
    "Inheritance allows us to define a class that inherits all the methods and properties from another class.\n",
    "\n",
    "// child class可繼承parent的method和properties\n",
    "    \n",
    "* Parent class is the class being inherited from, also called base class.\n",
    "\n",
    "* Child class is the class that inherits from another class, also called derived class."
   ]
  },
  {
   "cell_type": "code",
   "execution_count": 4,
   "metadata": {},
   "outputs": [
    {
     "name": "stdout",
     "output_type": "stream",
     "text": [
      "print out Yencheng-Lai\n"
     ]
    }
   ],
   "source": [
    "# Create a Parent Class\n",
    "# Any class can be a parent class, so the syntax is the same as creating any other class:\n",
    "# Create a class named Person, with firstname and lastname properties, and a printname method:\n",
    "\n",
    "class Person:\n",
    "    def __init__(self,firstname,lastname):\n",
    "        self.firstname=firstname\n",
    "        self.lastname=lastname\n",
    "    def printname(self):\n",
    "        print(\"print out {}-{}\".format(self.firstname,self.lastname))\n",
    "        \n",
    "p1=Person(\"Yencheng\",\"Lai\")\n",
    "p1.printname()"
   ]
  },
  {
   "cell_type": "code",
   "execution_count": 5,
   "metadata": {},
   "outputs": [
    {
     "name": "stdout",
     "output_type": "stream",
     "text": [
      "print out John-Doe\n"
     ]
    }
   ],
   "source": [
    "# Create a Child Class\n",
    "# To create a class that inherits the functionality from another class, send the parent class as a parameter when creating the child class:\n",
    "\n",
    "class Student(Person):\n",
    "    # 把parent class 做為參數丟進child class中\n",
    "    pass\n",
    "\n",
    "p2=Student(\"John\",\"Doe\")\n",
    "p2.printname()"
   ]
  },
  {
   "cell_type": "code",
   "execution_count": 9,
   "metadata": {},
   "outputs": [
    {
     "name": "stdout",
     "output_type": "stream",
     "text": [
      "print out PeroStudent-DoeChild\n"
     ]
    }
   ],
   "source": [
    "# Add the __init__() Function in child class\n",
    "# The child's __init__() function overrides the inheritance of the parent's __init__() function.\n",
    "\n",
    "class Student(Person):\n",
    "    def __init__(self,fname,lname):\n",
    "        self.fname=fname+'Student'\n",
    "        self.lname=lname+'Child'\n",
    "    def printSname(self):\n",
    "        print(\"print out {}-{}\".format(self.fname,self.lname))\n",
    "p3=Student(\"Pero\",\"Doe\")\n",
    "    # 此時會使用Student的__init__ 來產生Student instance\n",
    "p3.printSname()"
   ]
  },
  {
   "cell_type": "code",
   "execution_count": 17,
   "metadata": {},
   "outputs": [
    {
     "name": "stdout",
     "output_type": "stream",
     "text": [
      "Banana-Apple has ID: 10453185\n"
     ]
    }
   ],
   "source": [
    "# To keep the inheritance of the parent's __init__() function, add a call to the parent's __init__() function:\n",
    "# 把parent class的__init__放到child自已的__init__中，就能使用parent中的properties.\n",
    "class Person:\n",
    "    def __init__(self,firstname,lastname):\n",
    "        self.firstname=firstname\n",
    "        self.lastname=lastname\n",
    "    def printname(self):\n",
    "        print(\"print out {}-{}\".format(self.firstname,self.lastname))\n",
    "\n",
    "class Student(Person):\n",
    "    def __init__(self,fname,lname):\n",
    "        Person.__init__(self,fname,lname)\n",
    "        self.ID='10453185'\n",
    "    def printout(self):\n",
    "        print(\"{}-{} has ID: {}\".format(self.firstname,self.lastname,self.ID))\n",
    "            # 注意此處，self.firstname 是Student繼承Parent class的關係，不能以self.fname來取用。\n",
    "p4=Student(\"Banana\",\"Apple\")\n",
    "p4.printout()"
   ]
  },
  {
   "cell_type": "code",
   "execution_count": 1,
   "metadata": {},
   "outputs": [
    {
     "name": "stdout",
     "output_type": "stream",
     "text": [
      "Welcome Mike Olsen to the class of 2019\n",
      "Method 'printname()' of the Person class is overriden.\n"
     ]
    }
   ],
   "source": [
    "# Use the super() Function\n",
    "# Python also has a super() function that will make the child class inherit all the methods and properties from its parent:\n",
    "\n",
    "# parent class\n",
    "\n",
    "class Person():\n",
    "    def __init__(self,firstname,lastname):\n",
    "        self.firstname=firstname\n",
    "        self.lastname=lastname\n",
    "    def printname(self):\n",
    "        print(self.firstname, self.lastname)\n",
    "\n",
    "# child class\n",
    "class Student(Person):\n",
    "    def __init__(self,fname,lname,year):\n",
    "        super().__init__(fname,lname)\n",
    "        # super():自動繼承parent class的所有屬性,因為不指Student class instance,故不加self\n",
    "        self.graduateyear=year\n",
    "    def welcome(self):\n",
    "        # 定義Student instance自已的method.\n",
    "        print(\"Welcome\", self.firstname, self.lastname, \"to the class of\", self.graduateyear)\n",
    "        \n",
    "    def printname(self):\n",
    "        # 定義和parent class同名的method會覆寫method of parent class.\n",
    "        print(\"Method 'printname()' of the Person class is overriden.\")\n",
    "x=Student(\"Mike\", \"Olsen\", 2019)\n",
    "x.welcome()\n",
    "x.printname()"
   ]
  },
  {
   "cell_type": "code",
   "execution_count": null,
   "metadata": {},
   "outputs": [],
   "source": []
  }
 ],
 "metadata": {
  "kernelspec": {
   "display_name": "Python 3",
   "language": "python",
   "name": "python3"
  },
  "language_info": {
   "codemirror_mode": {
    "name": "ipython",
    "version": 3
   },
   "file_extension": ".py",
   "mimetype": "text/x-python",
   "name": "python",
   "nbconvert_exporter": "python",
   "pygments_lexer": "ipython3",
   "version": "3.6.5"
  }
 },
 "nbformat": 4,
 "nbformat_minor": 2
}
