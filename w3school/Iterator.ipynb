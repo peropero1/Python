{
 "cells": [
  {
   "cell_type": "markdown",
   "metadata": {},
   "source": [
    "# Python Iterators\n",
    "\n",
    "1. An iterator is an object that contains a countable number of values.  \n",
    "    * iterator是包含可數個數值的物件。\n",
    "    \n",
    "2. An iterator is an object that can be iterated upon, meaning that you can traverse through all the values.\n",
    "    * iterator為iterable的物件，即可以traverse其所有值。\n",
    "\n",
    "3. Technically, in Python, an iterator is an object which implements the iterator protocol, which consist of the methods __iter__() and __next__().\n",
    "    * iterator物件一般來說自帶__iter__() 和__next__()方法。\n",
    "\n",
    "4. Iterator vs Iterable\n",
    "    * Lists, tuples, dictionaries, and sets are all iterable objects. They are iterable containers which you can get an iterator from.\n",
    "\n",
    "![關係](https://miro.medium.com/max/875/1*lbQHbTDlXaB4BFza3ijOow.png)\n",
    "\n"
   ]
  },
  {
   "cell_type": "code",
   "execution_count": 3,
   "metadata": {},
   "outputs": [
    {
     "name": "stdout",
     "output_type": "stream",
     "text": [
      "apple\n",
      "banana\n"
     ]
    }
   ],
   "source": [
    "# case of tuple\n",
    "mytuple = (\"apple\", \"banana\", \"cherry\")\n",
    "my_iterator=iter(mytuple)\n",
    "    # 取得iterator\n",
    "print(next(my_iterator))\n",
    "    # 以next(iterator)來traverse\n",
    "print(next(my_iterator))"
   ]
  },
  {
   "cell_type": "code",
   "execution_count": 2,
   "metadata": {},
   "outputs": [
    {
     "name": "stdout",
     "output_type": "stream",
     "text": [
      "1\n",
      "2\n",
      "1\n",
      "<class 'list'> <class 'list_iterator'>\n"
     ]
    }
   ],
   "source": [
    "x=[1,2,3]\n",
    "y=iter(x)\n",
    "z=iter(x)\n",
    "\n",
    "print(next(y))\n",
    "print(next(y))\n",
    "print(next(z))\n",
    "    # y和z是2個無關的iterator, 對x做iteration\n",
    "print(type(x),type(y))\n",
    "\n",
    "'''\n",
    "在這裡，x 是「可迭代」的物件，而 y 和 z 則是兩個互不相關的迭代器實例，它們從「可迭代物件」x 來產出資料。\n",
    "y 和 z 會有指向 x 某個元素的「狀態」，並依照某些規則輸出 x 裡的元素。在這個例子中，x 是 list 型別的資料結構，但這並非必要條件。\n",
    "'''"
   ]
  },
  {
   "cell_type": "code",
   "execution_count": 8,
   "metadata": {},
   "outputs": [
    {
     "name": "stdout",
     "output_type": "stream",
     "text": [
      "o\n",
      "n\n",
      "g\n",
      "e\n",
      "g\n",
      "A\n",
      "e\n",
      "a\n",
      "R\n"
     ]
    }
   ],
   "source": [
    "# case of string\n",
    "mystr='Koenigsegg Agera R'\n",
    "myit=iter(mystr)\n",
    "for i in myit:\n",
    "    print(next(myit))\n",
    "\n",
    "# 此處print結果不會出現K 見下方說明"
   ]
  },
  {
   "cell_type": "markdown",
   "metadata": {},
   "source": [
    "## for loop過程\n",
    "![for loop](https://miro.medium.com/max/875/1*t8dE9nqdrG9Wa0xzahYKdQ.png)"
   ]
  },
  {
   "cell_type": "code",
   "execution_count": 1,
   "metadata": {
    "scrolled": true
   },
   "outputs": [
    {
     "name": "stdout",
     "output_type": "stream",
     "text": [
      "K\n",
      "o\n",
      "e\n",
      "n\n",
      "i\n",
      "g\n",
      "s\n",
      "e\n",
      "g\n",
      "g\n",
      " \n",
      "A\n",
      "g\n",
      "e\n",
      "r\n",
      "a\n",
      " \n",
      "R\n"
     ]
    },
    {
     "ename": "SystemExit",
     "evalue": "",
     "output_type": "error",
     "traceback": [
      "An exception has occurred, use %tb to see the full traceback.\n",
      "\u001b[1;31mSystemExit\u001b[0m\n"
     ]
    },
    {
     "name": "stderr",
     "output_type": "stream",
     "text": [
      "c:\\users\\pero\\appdata\\local\\programs\\python\\python36\\lib\\site-packages\\IPython\\core\\interactiveshell.py:3275: UserWarning: To exit: use 'exit', 'quit', or Ctrl-D.\n",
      "  warn(\"To exit: use 'exit', 'quit', or Ctrl-D.\", stacklevel=1)\n"
     ]
    }
   ],
   "source": [
    "# 加上raise StopIteration來終止__next__\n",
    "import sys\n",
    "\n",
    "mystr='Koenigsegg Agera R'\n",
    "myit=iter(mystr)\n",
    "while True:\n",
    "    try:\n",
    "        print(next(myit))\n",
    "    except StopIteration:\n",
    "        sys.exit()\n",
    "        "
   ]
  },
  {
   "cell_type": "markdown",
   "metadata": {},
   "source": [
    "# Create an Iterator\n",
    "1. To create an object/class as an iterator you have to implement the methods __iter__() and __next__() to your object.\n",
    "    * 要建立iterable的object/class需在物件內建立 __iter__() and __next__()2個方法。\n",
    "\n",
    "2. As you have learned in the Python Classes/Objects chapter, all classes have a function called __init__(), which allows you to do some initializing when the object is being created.\n",
    "\n",
    "The __ iter __() method acts similar, you can do operations (initializing etc.), but must always return the iterator object itself.\n",
    "\n",
    "The __ next __() method also allows you to do operations, and must return the next item in the sequence.\n",
    "\n",
    "實務面上，可迭代物件通常會實作 __iter__() 和 __next__() 這兩個方法，使得該物件同時是可迭代及迭代器。"
   ]
  },
  {
   "cell_type": "code",
   "execution_count": 6,
   "metadata": {},
   "outputs": [
    {
     "name": "stdout",
     "output_type": "stream",
     "text": [
      "1\n",
      "2\n",
      "3\n",
      "4\n"
     ]
    }
   ],
   "source": [
    "# Create an iterator that returns numbers, starting with 1, and each sequence will increase by one (returning 1,2,3,4,5 etc.):\n",
    "class MyNumbers:\n",
    "    def __iter__(self):\n",
    "        self.a=1\n",
    "        return self\n",
    "    def __next__(self):\n",
    "        if self.a<20:\n",
    "            x=self.a\n",
    "            self.a+=1\n",
    "            return x\n",
    "        else:\n",
    "            raise StopIteration\n",
    "                # StopIteration 异常用于标识迭代的完成，防止出现无限循环的情况，\n",
    "                # 在 __next__() 方法中我们可以设置在完成指定循环次数后触发 StopIteration 异常来结束迭代。\n",
    "n=MyNumbers()\n",
    "k=iter(n)\n",
    "print(next(k))\n",
    "print(next(k))\n",
    "print(next(k))\n",
    "print(next(k))"
   ]
  },
  {
   "cell_type": "code",
   "execution_count": 13,
   "metadata": {},
   "outputs": [
    {
     "name": "stdout",
     "output_type": "stream",
     "text": [
      "0 1\n",
      "2350616897296 2350616897296\n",
      "1\n",
      "1\n",
      "2\n",
      "3\n",
      "5\n",
      "8\n"
     ]
    },
    {
     "data": {
      "text/plain": [
       "'\\n因為 fib 物件具有 __iter__() 和 __next__() 方法，所以它本身既是可迭代物件也是迭代器物件。\\n迭代器物件實例的內部狀態由 prev 和 curr 這兩個實例變數來維持，並在接續的 next() 呼叫中被調用。每一次呼叫 next() 方法，會有兩個重要的程序被執行：\\n1. 修改狀態，以供下次 next() 調用。\\n2. 回傳當次 next() 產生的值。\\n'"
      ]
     },
     "execution_count": 13,
     "metadata": {},
     "output_type": "execute_result"
    }
   ],
   "source": [
    "# 建立一個可輸出fibonacci sequence的class\n",
    "\n",
    "class Fib:\n",
    "    def __init__(self):\n",
    "        self.prev=0\n",
    "        self.curr=1\n",
    "    def __iter__(self):\n",
    "        return self\n",
    "        # Returning self from a method simply means that your method returns a reference to the instance object on which it was called. \n",
    "        # This can sometimes be seen in use with object oriented APIs that are designed as a fluent interface that encourages method cascading.\n",
    "        # 意思就是return 呼叫該方法的instance的參考 (即自己的參考)\n",
    "        # 在此處因為Fib 物件本身即為iterable, return self即下方f的參考\n",
    "    def __next__(self):\n",
    "        value=self.curr\n",
    "        self.curr+=self.prev\n",
    "        self.prev=value\n",
    "        return value\n",
    "    \n",
    "f=Fib()\n",
    "print(f.prev,f.curr)\n",
    "result=iter(f)\n",
    "print(id(f),id(result))\n",
    "    # 由此處可得到__iter__()中return self的結果，確實是f的參考\n",
    "\n",
    "print(next(result))\n",
    "print(next(result))\n",
    "print(next(result))\n",
    "print(next(result))\n",
    "print(next(result))\n",
    "print(next(result))\n",
    "\n",
    "'''\n",
    "因為 fib 物件具有 __iter__() 和 __next__() 方法，所以它本身既是可迭代物件也是迭代器物件。\n",
    "迭代器物件實例的內部狀態由 prev 和 curr 這兩個實例變數來維持，並在接續的 next() 呼叫中被調用。每一次呼叫 next() 方法，會有兩個重要的程序被執行：\n",
    "1. 修改狀態，以供下次 next() 調用。\n",
    "2. 回傳當次 next() 產生的值。\n",
    "'''"
   ]
  },
  {
   "cell_type": "code",
   "execution_count": 19,
   "metadata": {},
   "outputs": [
    {
     "name": "stdout",
     "output_type": "stream",
     "text": [
      "1\n",
      "2\n",
      "6\n",
      "24\n",
      "120\n",
      "720\n"
     ]
    }
   ],
   "source": [
    "# one more try :factorial\n",
    "\n",
    "class Factorial:\n",
    "    def __init__(self):\n",
    "        self.curr=1\n",
    "        self.prev=1\n",
    "\n",
    "    def __iter__(self):\n",
    "        return self\n",
    "    def __next__(self):\n",
    "        value=self.curr*self.prev\n",
    "        self.curr+=1\n",
    "        self.prev=value\n",
    "        return value\n",
    "        \n",
    "f=Factorial()\n",
    "result=iter(f)\n",
    "print(next(result))\n",
    "print(next(result))\n",
    "print(next(result))\n",
    "print(next(result))\n",
    "print(next(result))\n",
    "print(next(result))"
   ]
  },
  {
   "cell_type": "markdown",
   "metadata": {},
   "source": [
    "# StopIteration\n",
    "* To prevent the iteration to go on forever, we can use the StopIteration statement.\n",
    "In the __ next__() method, we can add a terminating condition to raise an error if the iteration is done a specified number of times:"
   ]
  },
  {
   "cell_type": "code",
   "execution_count": 3,
   "metadata": {},
   "outputs": [
    {
     "name": "stdout",
     "output_type": "stream",
     "text": [
      "1\n",
      "2\n",
      "3\n",
      "4\n",
      "5\n",
      "6\n",
      "7\n",
      "8\n",
      "9\n",
      "10\n",
      "11\n",
      "12\n",
      "13\n",
      "14\n",
      "15\n",
      "16\n",
      "17\n",
      "18\n",
      "19\n",
      "20\n"
     ]
    }
   ],
   "source": [
    "# Stop after 20 iterations:\n",
    "class MyNumbers():\n",
    "    def __iter__(self):\n",
    "        self.a=1\n",
    "        return self\n",
    "    def __next__(self):\n",
    "        # 為iteration建立中止條件\n",
    "        if self.a<=20:\n",
    "            x=self.a\n",
    "            self.a+=1\n",
    "            return x\n",
    "        else:\n",
    "            raise StopIteration\n",
    "\n",
    "myclass=MyNumbers()\n",
    "myiter=iter(myclass)\n",
    "for item in myiter:\n",
    "    print(item)"
   ]
  },
  {
   "cell_type": "code",
   "execution_count": 4,
   "metadata": {},
   "outputs": [
    {
     "name": "stdout",
     "output_type": "stream",
     "text": [
      "1\n",
      "2\n",
      "6\n",
      "24\n",
      "120\n",
      "720\n",
      "5040\n",
      "40320\n",
      "362880\n",
      "3628800\n"
     ]
    }
   ],
   "source": [
    "# one more try :factorial 10\n",
    "\n",
    "class Factorial():\n",
    "    def __init__(self):\n",
    "        self.prev=1\n",
    "        self.curr=1\n",
    "    def __iter__(self):\n",
    "        return self\n",
    "    def __next__(self):\n",
    "        if self.curr<=10:\n",
    "            value=self.prev*self.curr\n",
    "            self.curr+=1\n",
    "            self.prev=value\n",
    "            return value\n",
    "        else:\n",
    "            raise StopIteration\n",
    "\n",
    "f=Factorial()\n",
    "iter_f=iter(f)\n",
    "for item in iter_f:\n",
    "    print(item)"
   ]
  },
  {
   "cell_type": "code",
   "execution_count": null,
   "metadata": {},
   "outputs": [],
   "source": []
  }
 ],
 "metadata": {
  "kernelspec": {
   "display_name": "Python 3",
   "language": "python",
   "name": "python3"
  },
  "language_info": {
   "codemirror_mode": {
    "name": "ipython",
    "version": 3
   },
   "file_extension": ".py",
   "mimetype": "text/x-python",
   "name": "python",
   "nbconvert_exporter": "python",
   "pygments_lexer": "ipython3",
   "version": "3.6.5"
  }
 },
 "nbformat": 4,
 "nbformat_minor": 2
}
