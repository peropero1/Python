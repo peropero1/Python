{
 "cells": [
  {
   "cell_type": "code",
   "execution_count": 4,
   "metadata": {},
   "outputs": [],
   "source": [
    "# https://www.w3schools.com/python/python_dictionaries.asp\n",
    "# 宣告\n",
    "# A dictionary is a collection which is unordered, changeable and indexed. \n",
    "# In Python dictionaries are written with curly brackets, and they have keys and values.\n",
    "\n",
    "mydict={\n",
    "    \"sex\":\"male\",  # 每個key-value pair間要用逗號分開\n",
    "    \"age\":30,\n",
    "    \"height\":171,\n",
    "    \"graduate\":'NTU'\n",
    "}"
   ]
  },
  {
   "cell_type": "code",
   "execution_count": 5,
   "metadata": {},
   "outputs": [
    {
     "name": "stdout",
     "output_type": "stream",
     "text": [
      "NTU <class 'str'>\n",
      "30 <class 'int'>\n"
     ]
    }
   ],
   "source": [
    "# Accessing Items\n",
    "\n",
    "y=mydict['graduate']\n",
    "    # You can access the items of a dictionary by referring to its key name, inside square brackets:\n",
    "print(y,type(y))\n",
    "    \n",
    "\n",
    "z=mydict.get('age')\n",
    "    # There is also a method called get() that will give you the same result:\n",
    "print(z,type(z))"
   ]
  },
  {
   "cell_type": "code",
   "execution_count": 6,
   "metadata": {},
   "outputs": [
    {
     "name": "stdout",
     "output_type": "stream",
     "text": [
      "{'sex': 'male', 'age': 18, 'height': 171, 'graduate': 'NTU'}\n"
     ]
    }
   ],
   "source": [
    "# Change Values\n",
    "# You can change the value of a specific item by referring to its key name\n",
    "\n",
    "mydict['age']=18\n",
    "print(mydict)"
   ]
  },
  {
   "cell_type": "code",
   "execution_count": 11,
   "metadata": {},
   "outputs": [
    {
     "name": "stdout",
     "output_type": "stream",
     "text": [
      "sex\n",
      "age\n",
      "height\n",
      "graduate\n",
      "male\n",
      "18\n",
      "171\n",
      "NTU\n",
      "male\n",
      "18\n",
      "171\n",
      "NTU\n",
      "sex male\n",
      "age 18\n",
      "height 171\n",
      "graduate NTU\n"
     ]
    }
   ],
   "source": [
    "# Loop Through a Dictionary\n",
    "# 4種方式\n",
    "\n",
    "'''\n",
    "You can loop through a dictionary by using a for loop.\n",
    "\n",
    "When looping through a dictionary, the return value are the keys of the dictionary, \n",
    "\n",
    "but there are methods to return the values as well.\n",
    "'''\n",
    "\n",
    "for x in mydict:\n",
    "    print(x)\n",
    "        # 以item in dict的話回傳值會是dict中的keys\n",
    "\n",
    "for y in mydict:\n",
    "    print(mydict[y])\n",
    "        # dict[key]的話回傳就是values\n",
    "        \n",
    "        \n",
    "# You can also use the values() method to return values of a dictionary\n",
    "for x in mydict.values():\n",
    "    print(x)\n",
    "        # 用values()來return值\n",
    "        \n",
    "        \n",
    "# Loop through both keys and values, by using the items() method\n",
    "for x,y in mydict.items():\n",
    "    print(x,y)\n",
    "        # 以items()會return a tuple."
   ]
  },
  {
   "cell_type": "code",
   "execution_count": 12,
   "metadata": {},
   "outputs": [
    {
     "name": "stdout",
     "output_type": "stream",
     "text": [
      "sex type is in mydict.\n",
      "there is no name property.\n"
     ]
    }
   ],
   "source": [
    "# Check if Key Exists\n",
    "# To determine if a specified key is present in a dictionary use the 'in' keyword:\n",
    "\n",
    "if 'sex' in mydict:\n",
    "    print('sex type is in mydict.')\n",
    "\n",
    "if 'name' in mydict:\n",
    "    print('sex type is in mydict.')\n",
    "else:\n",
    "    print('there is no name property.')\n"
   ]
  },
  {
   "cell_type": "code",
   "execution_count": 13,
   "metadata": {},
   "outputs": [
    {
     "name": "stdout",
     "output_type": "stream",
     "text": [
      "4\n"
     ]
    }
   ],
   "source": [
    "# Dictionary Length\n",
    "# To determine how many items (key-value pairs) a dictionary has, use the len() function.\n",
    "\n",
    "print(len(mydict))"
   ]
  },
  {
   "cell_type": "code",
   "execution_count": 14,
   "metadata": {},
   "outputs": [
    {
     "name": "stdout",
     "output_type": "stream",
     "text": [
      "{'sex': 'male', 'age': 18, 'height': 171, 'graduate': 'NTU', 'name': 'peropero'}\n"
     ]
    }
   ],
   "source": [
    "# Adding Items\n",
    "# Adding an item to the dictionary is done by using a new index key and assigning a value to it:\n",
    "\n",
    "mydict['name']='peropero'\n",
    "print(mydict)"
   ]
  },
  {
   "cell_type": "code",
   "execution_count": 15,
   "metadata": {},
   "outputs": [
    {
     "name": "stdout",
     "output_type": "stream",
     "text": [
      "{'sex': 'male', 'age': 18, 'height': 171, 'graduate': 'NTU', 'name': 'peropero'}\n",
      "{'age': 18, 'height': 171, 'graduate': 'NTU', 'name': 'peropero'}\n"
     ]
    }
   ],
   "source": [
    "# Removing Items\n",
    "# There are several methods to remove items from a dictionary:\n",
    "# pop(), popitem(), del, clear()\n",
    "\n",
    "print(mydict)\n",
    "mydict.pop('sex')\n",
    "print(mydict)\n"
   ]
  },
  {
   "cell_type": "code",
   "execution_count": 17,
   "metadata": {},
   "outputs": [
    {
     "name": "stdout",
     "output_type": "stream",
     "text": [
      "{'age': 18, 'height': 171, 'graduate': 'NTU'}\n"
     ]
    }
   ],
   "source": [
    "# The popitem() method removes the last inserted item (in versions before 3.7, a random item is removed instead):\n",
    "mydict.popitem()\n",
    "    # pop 最後一個插入的item in python 3.7\n",
    "print(mydict)"
   ]
  },
  {
   "cell_type": "code",
   "execution_count": 18,
   "metadata": {},
   "outputs": [
    {
     "name": "stdout",
     "output_type": "stream",
     "text": [
      "{'age': 18, 'graduate': 'NTU'}\n"
     ]
    }
   ],
   "source": [
    "# The del keyword removes the item with the specified key name\n",
    "del mydict['height']\n",
    "print(mydict)"
   ]
  },
  {
   "cell_type": "code",
   "execution_count": 19,
   "metadata": {},
   "outputs": [
    {
     "ename": "NameError",
     "evalue": "name 'mydict' is not defined",
     "output_type": "error",
     "traceback": [
      "\u001b[1;31m---------------------------------------------------------------------------\u001b[0m",
      "\u001b[1;31mNameError\u001b[0m                                 Traceback (most recent call last)",
      "\u001b[1;32m<ipython-input-19-314fbc3b1ba7>\u001b[0m in \u001b[0;36m<module>\u001b[1;34m\u001b[0m\n\u001b[0;32m      1\u001b[0m \u001b[1;31m# del whole dict\u001b[0m\u001b[1;33m\u001b[0m\u001b[1;33m\u001b[0m\u001b[0m\n\u001b[0;32m      2\u001b[0m \u001b[1;32mdel\u001b[0m \u001b[0mmydict\u001b[0m\u001b[1;33m\u001b[0m\u001b[0m\n\u001b[1;32m----> 3\u001b[1;33m \u001b[0mprint\u001b[0m\u001b[1;33m(\u001b[0m\u001b[0mmydict\u001b[0m\u001b[1;33m)\u001b[0m\u001b[1;33m\u001b[0m\u001b[0m\n\u001b[0m",
      "\u001b[1;31mNameError\u001b[0m: name 'mydict' is not defined"
     ]
    }
   ],
   "source": [
    "# del whole dict\n",
    "del mydict\n",
    "print(mydict)"
   ]
  },
  {
   "cell_type": "code",
   "execution_count": 20,
   "metadata": {},
   "outputs": [
    {
     "name": "stdout",
     "output_type": "stream",
     "text": [
      "{}\n"
     ]
    }
   ],
   "source": [
    "# The clear() method empties the dictionary\n",
    "mydict={\n",
    "    \"sex\":\"male\",\n",
    "    \"age\":30,\n",
    "    \"height\":171,\n",
    "    \"graduate\":'NTU'\n",
    "}\n",
    "\n",
    "mydict.clear()\n",
    "print(mydict)"
   ]
  },
  {
   "cell_type": "code",
   "execution_count": 22,
   "metadata": {},
   "outputs": [
    {
     "name": "stdout",
     "output_type": "stream",
     "text": [
      "{'sex': 'male', 'age': 30, 'height': 171, 'graduate': 'NTU'} \n",
      "\n",
      "{'sex': 'male', 'age': 30, 'height': 171, 'graduate': 'NTU'}\n",
      "after pop age key in mydict:\n",
      "\n",
      "{'sex': 'male', 'height': 171, 'graduate': 'NTU'} \n",
      "\n",
      "{'sex': 'male', 'age': 30, 'height': 171, 'graduate': 'NTU'}\n"
     ]
    }
   ],
   "source": [
    "# Copy a Dictionary\n",
    "# There are ways to make a copy, one way is to use the built-in Dictionary method copy().\n",
    "# 不要用dict1=dict2, 會變成把dict1改參考到dict2\n",
    "mydict={\n",
    "    \"sex\":\"male\",\n",
    "    \"age\":30,\n",
    "    \"height\":171,\n",
    "    \"graduate\":'NTU'\n",
    "}\n",
    "\n",
    "\n",
    "mydict2=mydict.copy()\n",
    "\n",
    "print(mydict,'\\n')\n",
    "print(mydict2)\n",
    "\n",
    "mydict.pop('age')\n",
    "\n",
    "print('after pop age key in mydict:\\n')\n",
    "print(mydict,'\\n')\n",
    "print(mydict2)"
   ]
  },
  {
   "cell_type": "code",
   "execution_count": 23,
   "metadata": {},
   "outputs": [
    {
     "name": "stdout",
     "output_type": "stream",
     "text": [
      "{'brand': 'Ford', 'model': 'Mustang', 'year': 1964}\n"
     ]
    }
   ],
   "source": [
    "# Another way to make a copy is to use the built-in function dict().\n",
    "\n",
    "thisdict = {\n",
    "  \"brand\": \"Ford\",\n",
    "  \"model\": \"Mustang\",\n",
    "  \"year\": 1964\n",
    "}\n",
    "\n",
    "\n",
    "mydict=dict(thisdict)\n",
    "\n",
    "print(mydict)"
   ]
  },
  {
   "cell_type": "code",
   "execution_count": 26,
   "metadata": {},
   "outputs": [
    {
     "name": "stdout",
     "output_type": "stream",
     "text": [
      "{'pap': {'name': 'David', 'age': 50}, 'mom': {'name': 'Ada', 'age': 45}, 'child1': {'name': 'Bob', 'age': 18}} \n",
      "\n",
      "{'name': 'Ada', 'age': 45}\n"
     ]
    }
   ],
   "source": [
    "# Nested Dictionaries\n",
    "# A dictionary can also contain many dictionaries, this is called nested dictionaries.\n",
    "\n",
    "family={\n",
    "    'pap':{\n",
    "        'name':'David',\n",
    "        'age':50\n",
    "    },\n",
    "    'mom':{'name':'Ada','age':45},\n",
    "        # item 間要用逗號隔開\n",
    "    'child1':{\n",
    "        'name':'Bob',\n",
    "        'age':18}\n",
    "}\n",
    "\n",
    "print(family,'\\n')\n",
    "print(family['mom'])"
   ]
  },
  {
   "cell_type": "code",
   "execution_count": 28,
   "metadata": {},
   "outputs": [
    {
     "name": "stdout",
     "output_type": "stream",
     "text": [
      "{'pap': {'name': 'David', 'age': 50}, 'mom': {'name': 'Ada', 'age': 45}, 'child': {'name': 'Bob', 'age': 18}}\n"
     ]
    }
   ],
   "source": [
    "# 用字典包多個字典\n",
    "pap={'name':'David','age':50}\n",
    "mom={'name':'Ada','age':45}\n",
    "child1={\n",
    "    'name':'Bob',\n",
    "    'age':18}\n",
    "family2={'pap':pap,'mom':mom,'child':child1}\n",
    "    # 後面的value直接以字典指定\n",
    "print(family2)"
   ]
  },
  {
   "cell_type": "code",
   "execution_count": 31,
   "metadata": {},
   "outputs": [
    {
     "name": "stdout",
     "output_type": "stream",
     "text": [
      "{'sn': 'A0001455', 'screen_size': 6.5, 'price': 50000, 'cpu': 'A10', 'brand': 'apple'}\n"
     ]
    }
   ],
   "source": [
    "# The dict() Constructor\n",
    "\n",
    "phone_dict=dict(sn='A0001455',screen_size=6.5,price=50000,cpu='A10',brand='apple')\n",
    "    # key 不加引號\n",
    "print(phone_dict)\n"
   ]
  },
  {
   "cell_type": "code",
   "execution_count": null,
   "metadata": {},
   "outputs": [],
   "source": []
  }
 ],
 "metadata": {
  "kernelspec": {
   "display_name": "Python 3",
   "language": "python",
   "name": "python3"
  },
  "language_info": {
   "codemirror_mode": {
    "name": "ipython",
    "version": 3
   },
   "file_extension": ".py",
   "mimetype": "text/x-python",
   "name": "python",
   "nbconvert_exporter": "python",
   "pygments_lexer": "ipython3",
   "version": "3.6.5"
  }
 },
 "nbformat": 4,
 "nbformat_minor": 2
}
