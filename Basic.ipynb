{
 "cells": [
  {
   "cell_type": "markdown",
   "metadata": {},
   "source": [
    "# Define a Class\n",
    "\n",
    "https://ithelp.ithome.com.tw/users/20119871/ironman/3825"
   ]
  },
  {
   "cell_type": "code",
   "execution_count": 7,
   "metadata": {},
   "outputs": [
    {
     "name": "stdout",
     "output_type": "stream",
     "text": [
      "<__main__.MSDie object at 0x000001AA5537F710> 2\n",
      "<__main__.MSDie object at 0x000001AA5537F710> 1\n",
      "<__main__.MSDie object at 0x000001AA5537F710> 3\n",
      "<__main__.MSDie object at 0x000001AA5537F710> 2\n",
      "<__main__.MSDie object at 0x000001AA5537F710> 2\n",
      "[<__main__.MSDie object at 0x000001AA55396F98>, <__main__.MSDie object at 0x000001AA55362EF0>]\n",
      "<class '__main__.MSDie'>\n"
     ]
    }
   ],
   "source": [
    "# https://runestone.academy/runestone/books/published/pythonds3/ProperClasses/a_proper_python_class.html\n",
    "\n",
    "import random\n",
    "\n",
    "class MSDie:\n",
    "    \"\"\"\n",
    "    Multi-sided die\n",
    "\n",
    "    Instance Variables:\n",
    "        current_value\n",
    "        num_sides\n",
    "\n",
    "    \"\"\"\n",
    "\n",
    "    def __init__(self, num_sides):\n",
    "        # 產生一個有num_sides面的骰子\n",
    "        # self的概念是指這個物件本體\n",
    "        self.num_sides = num_sides\n",
    "        self.current_value = self.roll()\n",
    "\n",
    "    def roll(self):\n",
    "        # 定義方法的方式基本和函式定義的方法一致，只是要加上self。\n",
    "        self.current_value = random.randrange(1,self.num_sides+1)\n",
    "        # 骰一次並return值，randrange()\n",
    "        return self.current_value\n",
    "\n",
    "my_die = MSDie(6)\n",
    "    # 產生一個六面骰\n",
    "for i in range(5):\n",
    "    # 骰五次\n",
    "    print(my_die, my_die.current_value)\n",
    "    my_die.roll()\n",
    "\n",
    "d_list = [MSDie(6), MSDie(20)]\n",
    "print(d_list)\n",
    "    # 可看出在未加上合適的表達方式(__str__() or __repr__())時直接print出來的是物件的參照。"
   ]
  },
  {
   "cell_type": "code",
   "execution_count": 10,
   "metadata": {},
   "outputs": [
    {
     "name": "stdout",
     "output_type": "stream",
     "text": [
      "2\n",
      "3\n",
      "3\n",
      "4\n",
      "4\n",
      "[MSDie(6):5, MSDie(20):6]\n",
      "4\n",
      "MSDie(6):4\n"
     ]
    }
   ],
   "source": [
    "# __str__()用來定義傳回物件描述字串，通常用來描述的字串是對使用者友善的說明文字，如果對物件使用str()，所呼叫的就是__str__()。\n",
    "# 如果要定義對開發人員較有意義的描述，例如傳回產生實例的類別名稱之類的，則可以定義__repr__()，如果對物件使用repr()，則所呼叫的就是__repr__()。\n",
    "import random\n",
    "\n",
    "\n",
    "class MSDie():\n",
    "    def __init__(self,num_sides):\n",
    "        self.num_sides=num_sides\n",
    "        self.current_value=self.roll()\n",
    "    def roll(self):\n",
    "        self.current_value=random.randrange(1,self.num_sides+1)\n",
    "        return self.current_value\n",
    "    # 加入2種表達方式\n",
    "    def __str__(self):\n",
    "        # def __str__(self):   # 定義物件的字串描述\n",
    "        return str(self.current_value)\n",
    "    def __repr__(self):\n",
    "        return \"MSDie({}):{}\".format(self.num_sides,self.current_value)\n",
    "\n",
    "my_die=MSDie(6)\n",
    "for i in range(5):\n",
    "    print(my_die)\n",
    "    my_die.roll()\n",
    "d_list = [MSDie(6), MSDie(20)]\n",
    "print(d_list)\n",
    "\n",
    "print(str(my_die))\n",
    "    # 輸出current value\n",
    "print(repr(my_die))\n",
    "    # 輸出 幾面骰和目前的點數"
   ]
  },
  {
   "cell_type": "code",
   "execution_count": null,
   "metadata": {},
   "outputs": [],
   "source": []
  }
 ],
 "metadata": {
  "kernelspec": {
   "display_name": "Python 3",
   "language": "python",
   "name": "python3"
  },
  "language_info": {
   "codemirror_mode": {
    "name": "ipython",
    "version": 3
   },
   "file_extension": ".py",
   "mimetype": "text/x-python",
   "name": "python",
   "nbconvert_exporter": "python",
   "pygments_lexer": "ipython3",
   "version": "3.6.5"
  }
 },
 "nbformat": 4,
 "nbformat_minor": 2
}
