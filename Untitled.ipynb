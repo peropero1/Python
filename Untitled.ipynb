{
 "cells": [
  {
   "cell_type": "code",
   "execution_count": 9,
   "metadata": {},
   "outputs": [
    {
     "name": "stdout",
     "output_type": "stream",
     "text": [
      "1 2\n",
      "吉\n"
     ]
    }
   ],
   "source": [
    "'''\n",
    "兩光法師時常替人占卜，由於他算得又快有便宜，因此生意源源不絕，時常大排長龍，他想算 得更快一點，因此找了你這位電腦高手幫他用電腦來加快算命的速度。\n",
    "\n",
    "　　他的占卜規則很簡單，規則是這樣的，輸入一個日期，然後依照下面的公式：\n",
    "\n",
    "M=月\n",
    "D=日\n",
    "S=(M*2+D)%3\n",
    "\n",
    "得到 S 的值，再依照 S 的值從 0 到 2 分別給與 普通、吉、大吉 等三種不同的運勢\n",
    "\n",
    "\n",
    "輸入說明\n",
    "輸入資料共一行，包含兩個整數，分別為月份及日期\n",
    "\n",
    "輸出說明\n",
    "運勢\n",
    "\n",
    "範例輸入 #1\n",
    "1 1\n",
    "範例輸出 #1\n",
    "普通\n",
    "範例輸入 #2\n",
    "1 2\n",
    "範例輸出 #2\n",
    "吉\n",
    "'''\n",
    "\n",
    "fortune=('普通','吉','大吉')\n",
    "m,d=input().split()\n",
    "s=(int(m)*2+int(d))%3\n",
    "print(fortune[s])\n"
   ]
  },
  {
   "cell_type": "code",
   "execution_count": 12,
   "metadata": {
    "scrolled": true
   },
   "outputs": [
    {
     "ename": "SyntaxError",
     "evalue": "can't assign to function call (<ipython-input-12-59d784dce077>, line 25)",
     "output_type": "error",
     "traceback": [
      "\u001b[1;36m  File \u001b[1;32m\"<ipython-input-12-59d784dce077>\"\u001b[1;36m, line \u001b[1;32m25\u001b[0m\n\u001b[1;33m    int(item)+=7\u001b[0m\n\u001b[1;37m    ^\u001b[0m\n\u001b[1;31mSyntaxError\u001b[0m\u001b[1;31m:\u001b[0m can't assign to function call\n"
     ]
    }
   ],
   "source": [
    "'''\n",
    "在密碼學裡面有一種很簡單的加密方式，就是把明碼的每個字元加上某一個整數K而得到密碼的字元（明碼及密碼字元一定都在ASCII碼中可列印的範圍內）。\n",
    "\n",
    "例如若K=2，那麼apple經過加密後就變成crrng了。解密則是反過來做。這個問題是給你一個密碼字串，請你依照上述的解密方式輸出明碼。\n",
    "\n",
    "至於在本任務中K到底是多少，請自行參照Sample Input及Sample Output推出來吧！相當簡單的。\n",
    "\n",
    "輸入說明\n",
    "輸入資料若干行，讀取到 EOF 為止。每行含有1個字串，就是需要解密的明碼。\n",
    "\n",
    "輸出說明\n",
    "對每一測試資料，請輸出解密後的密碼。\n",
    "\n",
    "範例輸入 #1\n",
    "1JKJ'pz'{ol'{yhklthyr'vm'{ol'Jvu{yvs'Kh{h'Jvywvyh{pvu5\n",
    "1PIT'pz'h'{yhklthyr'vm'{ol'Pu{lyuh{pvuhs'I|zpulzz'Thjopul'Jvywvyh{pvu5\n",
    "範例輸出 #1\n",
    "*CDC is the trademark of the Control Data Corporation.\n",
    "*IBM is a trademark of the International Business Machine Corporation.\n",
    "\n",
    "'''\n",
    "\n",
    "inputstr=input()\n",
    "for item in inputstr:\n",
    "    item+=7\n",
    "print(inputstr)\n"
   ]
  },
  {
   "cell_type": "code",
   "execution_count": null,
   "metadata": {},
   "outputs": [],
   "source": []
  },
  {
   "cell_type": "code",
   "execution_count": null,
   "metadata": {},
   "outputs": [],
   "source": []
  }
 ],
 "metadata": {
  "kernelspec": {
   "display_name": "Python 3",
   "language": "python",
   "name": "python3"
  },
  "language_info": {
   "codemirror_mode": {
    "name": "ipython",
    "version": 3
   },
   "file_extension": ".py",
   "mimetype": "text/x-python",
   "name": "python",
   "nbconvert_exporter": "python",
   "pygments_lexer": "ipython3",
   "version": "3.6.5"
  }
 },
 "nbformat": 4,
 "nbformat_minor": 2
}
