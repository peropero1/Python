{
 "cells": [
  {
   "cell_type": "code",
   "execution_count": 7,
   "metadata": {},
   "outputs": [
    {
     "name": "stdout",
     "output_type": "stream",
     "text": [
      "C:\\Users\\PERO\n",
      "C:\\Users\\PERO\n",
      "C:\\Users\n",
      "C:\\Users\\PERO\\Let_It_Be.csv\n",
      "C:\\Users\\PERO\\aaa.txt\n"
     ]
    }
   ],
   "source": [
    "import os\n",
    "    #os is file-path related module\n",
    "print(os.getcwd())\n",
    "    #取得目前的工作目錄\n",
    "print(os.path.abspath('.'))\n",
    "    #目前工作目錄的絕對路徑\n",
    "print(os.path.abspath('..'))\n",
    "    #目前工作目錄上一層的絕對路徑\n",
    "print(os.path.abspath('Let_It_Be.csv'))\n",
    "    #該檔案的絕對路徑\n",
    "print(os.path.abspath('aaa.txt'))\n",
    "    #此檔案不存在於目前工作目錄，會output: C:\\Users\\PERO\\aaa.txt"
   ]
  },
  {
   "cell_type": "code",
   "execution_count": 16,
   "metadata": {},
   "outputs": [
    {
     "name": "stdout",
     "output_type": "stream",
     "text": [
      "<class '_io.TextIOWrapper'>\n",
      "<class 'str'>\n"
     ]
    }
   ],
   "source": [
    "#read()\n",
    "with open(\"first_100_line.txt\",\"r\") as fn:\n",
    "    print(fn.read())\n",
    "        #read() 會將檔案一次全數讀入\n",
    "    print(type(fn))\n",
    "        #<class '_io.TextIOWrapper'>, fn是IO的object\n",
    "\n",
    "    data=fn.read()\n",
    "    print(type(data))\n",
    "        #<class 'str'>, read()會以string回傳，使用時要小心\n",
    "    print(data,\"lenth of data:\", len(data))\n",
    "        #lenth of data: 6361"
   ]
  },
  {
   "cell_type": "code",
   "execution_count": 28,
   "metadata": {},
   "outputs": [
    {
     "name": "stdout",
     "output_type": "stream",
     "text": [
      "[device,日期,時間,行為[in,out,drop],數量]\n",
      "\n",
      "ddd132fbeb030acc3b44baf05b1dcac3,2018-01-26 14:40:00,In,1231366\n",
      "ddd132fbeb030acc3b44baf05b1dcac3,2018-01-26 14:40:00,Out,18384520\n",
      "ddd132fbeb030acc3b44baf05b1dcac3,2018-01-26 14:40:00,Drop,0\n",
      "c780b7948c2bddf10a23377ccb70fdcc,2018-01-26 14:40:00,In,3047907\n",
      "c780b7948c2bddf10a23377ccb70fdcc,2018-01-26 14:40:00,Out,24176837\n",
      "c780b7948c2bddf10a23377ccb70fdcc,2018-01-26 14:40:00,Drop,0\n",
      "7e8295177b70a8408b27ec8392de10b6,2018-01-26 14:40:00,In,1449923\n",
      "7e8295177b70a8408b27ec8392de10b6,2018-01-26 14:40:00,Out,7588800\n"
     ]
    }
   ],
   "source": [
    "#遍歷檔案by逐行讀取, 但此種作法的file object(即 fn)只能在with block內取用\n",
    "filename=\"first_100_line.txt\"\n",
    "with open(filename) as fn:\n",
    "    for line,x in zip(fn,range(10)):\n",
    "            #用zip打包2個list，讓line在fn，x在range(10)裡迭代，輸出共10行\n",
    "        print(line.rstrip())  #把print每行的換行消掉"
   ]
  },
  {
   "cell_type": "code",
   "execution_count": 25,
   "metadata": {},
   "outputs": [
    {
     "name": "stdout",
     "output_type": "stream",
     "text": [
      "[device,日期,時間,行為[in,out,drop],數量]\n",
      "\n",
      "ddd132fbeb030acc3b44baf05b1dcac3,2018-01-26 14:40:00,In,1231366\n",
      "ddd132fbeb030acc3b44baf05b1dcac3,2018-01-26 14:40:00,Out,18384520\n",
      "ddd132fbeb030acc3b44baf05b1dcac3,2018-01-26 14:40:00,Drop,0\n",
      "c780b7948c2bddf10a23377ccb70fdcc,2018-01-26 14:40:00,In,3047907\n",
      "c780b7948c2bddf10a23377ccb70fdcc,2018-01-26 14:40:00,Out,24176837\n",
      "c780b7948c2bddf10a23377ccb70fdcc,2018-01-26 14:40:00,Drop,0\n",
      "7e8295177b70a8408b27ec8392de10b6,2018-01-26 14:40:00,In,1449923\n",
      "7e8295177b70a8408b27ec8392de10b6,2018-01-26 14:40:00,Out,7588800\n"
     ]
    }
   ],
   "source": [
    "#readlines():逐行讀取, readlines()會回傳list並將每行存在各element中，並且換行字元也會存\n",
    "filename=\"first_100_line.txt\"\n",
    "with open(filename) as fn:\n",
    "    obj_list=fn.readlines()\n",
    "for element in obj_list[:10]:\n",
    "    print(element.rstrip())\n"
   ]
  },
  {
   "cell_type": "code",
   "execution_count": 45,
   "metadata": {},
   "outputs": [
    {
     "name": "stdout",
     "output_type": "stream",
     "text": [
      "['ddd132fbeb030acc3b44baf05b1dcac3', 'c780b7948c2bddf10a23377ccb70fdcc', '7e8295177b70a8408b27ec8392de10b6', '1e031f8f74ca4dca26b535351bfaa5d1', '09388884152dd73f59ffd4b8c4eeed35', '1623f56ae211c641a5e3de98833a7788']\n"
     ]
    },
    {
     "data": {
      "text/plain": [
       "'\\n#把結果寫到device.txt\\n\\noutput_file=\"device.txt\"\\nwith open(output_file,\\'w\\') as fo:\\n    for element in device:\\n        fo.write(element+\\'\\n\\')\\n'"
      ]
     },
     "execution_count": 45,
     "metadata": {},
     "output_type": "execute_result"
    }
   ],
   "source": [
    "#readlines()\n",
    "input_file=\"first_100_line.txt\"\n",
    "with open(input_file) as fn:\n",
    "    obj_list=fn.readlines() #一樣會把整份文件讀進ram\n",
    "device=[]\n",
    "for element in obj_list:\n",
    "    name=element[:32]\n",
    "    if name not in device:\n",
    "        device.append(name)\n",
    "print(device)\n",
    "\n",
    "'''\n",
    "#把結果寫到device.txt\n",
    "\n",
    "output_file=\"device.txt\"\n",
    "with open(output_file,'w') as fo:\n",
    "    for element in device:\n",
    "        fo.write(element+'\\n')\n",
    "'''\n"
   ]
  },
  {
   "cell_type": "code",
   "execution_count": 39,
   "metadata": {
    "scrolled": true
   },
   "outputs": [
    {
     "name": "stdout",
     "output_type": "stream",
     "text": [
      "6\n",
      "['ddd132fbeb030acc3b44baf05b1dcac3', 'c780b7948c2bddf10a23377ccb70fdcc', '7e8295177b70a8408b27ec8392de10b6', '1e031f8f74ca4dca26b535351bfaa5d1', '09388884152dd73f59ffd4b8c4eeed35', '1623f56ae211c641a5e3de98833a7788']\n"
     ]
    }
   ],
   "source": [
    "#readline() 一次讀一行, 比較省RAM\n",
    "filename=\"first_100_line.txt\"\n",
    "device=[]\n",
    "with open(filename) as fn:\n",
    "    while True:\n",
    "        line=fn.readline()\n",
    "        if not line:\n",
    "            break\n",
    "        else:\n",
    "            if line[:32] not in device:\n",
    "                device.append(line[:32])\n",
    "    print(len(device))\n",
    "    print(device)"
   ]
  },
  {
   "cell_type": "code",
   "execution_count": 5,
   "metadata": {
    "collapsed": true
   },
   "outputs": [],
   "source": [
    "#filename='syslog-2018.12.21.txt'\n",
    "filename=\"100line.txt\"\n",
    "with open(filename) as fn, open('output.txt','w') as fo:\n",
    "    x=100\n",
    "    while(x>0):\n",
    "        line=fn.readline()\n",
    "        if not line:\n",
    "            break\n",
    "        else:\n",
    "            fo.write(line)\n",
    "        x-=1;"
   ]
  },
  {
   "cell_type": "code",
   "execution_count": 3,
   "metadata": {},
   "outputs": [
    {
     "data": {
      "text/plain": [
       "'C:\\\\Users\\\\PERO\\\\Python_pra\\\\dest.txt'"
      ]
     },
     "execution_count": 3,
     "metadata": {},
     "output_type": "execute_result"
    }
   ],
   "source": [
    "import shutil\n",
    "    #檔案/目錄的複製/刪除/更動位置/名稱等\n",
    "#===================1. 檔案的複製：shutil.copy(src, dest)===================\n",
    "shutil.copy(r'output.txt','dest.txt')\n",
    "    #把output.txt複製到同目錄下，用新檔名dest.txt\n",
    "shutil.copy(r'output.txt','C:\\\\Users\\\\PERO\\\\Python_pra')\n",
    "    #把output.txt複製到其它目錄下，用原檔名\n",
    "shutil.copy(r'output.txt','C:\\\\Users\\\\PERO\\\\Python_pra\\\\dest.txt')\n",
    "    #把output.txt複製到其它目錄下，用新檔名\n",
    "#路徑要用\\\\不能用\\    "
   ]
  },
  {
   "cell_type": "code",
   "execution_count": 4,
   "metadata": {},
   "outputs": [
    {
     "data": {
      "text/plain": [
       "'C:\\\\Users\\\\PERO\\\\Python_pra\\\\New'"
      ]
     },
     "execution_count": 4,
     "metadata": {},
     "output_type": "execute_result"
    }
   ],
   "source": [
    "#===================2. 目錄(內容)的複製：shutil.copytree(src, dest)===================\n",
    "shutil.copytree('Python_pra','New_Python_pra')\n",
    "    #複製Python_pra到新目錄New_Python_pra\n",
    "shutil.copytree('Python_pra','C:\\\\Users\\\\PERO\\\\Python_pra\\\\New')\n",
    "    #複製到新目錄下"
   ]
  },
  {
   "cell_type": "code",
   "execution_count": null,
   "metadata": {
    "collapsed": true
   },
   "outputs": [],
   "source": []
  }
 ],
 "metadata": {
  "kernelspec": {
   "display_name": "Python 3",
   "language": "python",
   "name": "python3"
  },
  "language_info": {
   "codemirror_mode": {
    "name": "ipython",
    "version": 3
   },
   "file_extension": ".py",
   "mimetype": "text/x-python",
   "name": "python",
   "nbconvert_exporter": "python",
   "pygments_lexer": "ipython3",
   "version": "3.6.2"
  }
 },
 "nbformat": 4,
 "nbformat_minor": 2
}
