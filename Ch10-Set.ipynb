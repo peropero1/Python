{
 "cells": [
  {
   "cell_type": "code",
   "execution_count": 1,
   "metadata": {},
   "outputs": [
    {
     "name": "stdout",
     "output_type": "stream",
     "text": [
      "{'C', 'Java', 'Python'} {'C', 'Java', 'Python'}\n"
     ]
    }
   ],
   "source": [
    "#建立集合\n",
    "#元素唯一，內容需為不可變的type，可混用\n",
    "#所謂「不可變」指的是該type為not hashable的data type\n",
    "languages={'C','Python','Java'}\n",
    "rlanguages={'C','Python','Java','C'}\n",
    "    #存在重複元素會自動捨去\n",
    "print(languages, rlanguages)"
   ]
  },
  {
   "cell_type": "code",
   "execution_count": 5,
   "metadata": {},
   "outputs": [
    {
     "name": "stdout",
     "output_type": "stream",
     "text": [
      "{1, 2, 3, 4} / {1, (2, 5, 10), 'Python'}\n"
     ]
    }
   ],
   "source": [
    "#不同type的變數組成的集合\n",
    "integer_set={1,2,3,4}\n",
    "mix_set={1,'Python',(2,5,10)}\n",
    "print(integer_set,'/',mix_set)"
   ]
  },
  {
   "cell_type": "code",
   "execution_count": 6,
   "metadata": {},
   "outputs": [
    {
     "data": {
      "text/plain": [
       "dict"
      ]
     },
     "execution_count": 6,
     "metadata": {},
     "output_type": "execute_result"
    }
   ],
   "source": [
    "#{}是空字典定義，不是空集合\n",
    "x={}\n",
    "type(x)"
   ]
  },
  {
   "cell_type": "code",
   "execution_count": 13,
   "metadata": {},
   "outputs": [
    {
     "name": "stdout",
     "output_type": "stream",
     "text": [
      "['w', 'x', 'y', 'z', 'w']\n",
      "{'z', 'w', 'x', 'y'}\n",
      "{'n', 'a', 'p', 'D', 'S', 'r', 'i', 'g', 'm', 't', 'o', ' ', 'L', 'e'}\n"
     ]
    }
   ],
   "source": [
    "#用set()建立集合，該函數會將mutable variable轉成集合元素\n",
    "test_list=['w','x','y','z','w']\n",
    "    #含重複元素\n",
    "s='DeepStone mean Deep Learning'\n",
    "x=set(test_list)\n",
    "y=set(s)\n",
    "print(test_list)\n",
    "print(x)\n",
    "print(y)"
   ]
  },
  {
   "cell_type": "code",
   "execution_count": 14,
   "metadata": {},
   "outputs": [
    {
     "name": "stdout",
     "output_type": "stream",
     "text": [
      "{'apple', 'banana', 'orange'} <class 'set'>\n",
      "['apple', 'banana', 'orange'] <class 'list'>\n"
     ]
    }
   ],
   "source": [
    "#利用 集合<->串列 刪除重複資料\n",
    "fruits=['apple','orange','apple','banana','orange']\n",
    "x=set(fruits)\n",
    "    #list->set\n",
    "y=list(x)\n",
    "    #set->list\n",
    "print(x,type(x))\n",
    "print(y,type(y))"
   ]
  },
  {
   "cell_type": "code",
   "execution_count": 18,
   "metadata": {},
   "outputs": [
    {
     "name": "stdout",
     "output_type": "stream",
     "text": [
      "{'Peter'}\n",
      "{'Peter'}\n"
     ]
    }
   ],
   "source": [
    "#交集：有以下2種語法\n",
    "# A & B\n",
    "# A.intersection(B)\n",
    "math={'Kevin','Peter','Eric'}\n",
    "physics={'Peter','Nelson','Tom'}\n",
    "both=math&physics\n",
    "print(both)\n",
    "\n",
    "AB=math.intersection(physics)\n",
    "print(AB)"
   ]
  },
  {
   "cell_type": "code",
   "execution_count": 19,
   "metadata": {},
   "outputs": [
    {
     "name": "stdout",
     "output_type": "stream",
     "text": [
      "{'Tom', 'Nelson', 'Peter', 'Eric', 'Kevin'}\n",
      "{'Tom', 'Nelson', 'Peter', 'Eric', 'Kevin'}\n"
     ]
    }
   ],
   "source": [
    "#聯集\n",
    "# A | B\n",
    "# A.union(B)\n",
    "math={'Kevin','Peter','Eric'}\n",
    "physics={'Peter','Nelson','Tom'}\n",
    "u=math|physics\n",
    "print(u)\n",
    "\n",
    "AB=math.union(physics)\n",
    "print(AB)"
   ]
  },
  {
   "cell_type": "code",
   "execution_count": 26,
   "metadata": {},
   "outputs": [
    {
     "name": "stdout",
     "output_type": "stream",
     "text": [
      "math-physiscs:\n",
      "{'Eric', 'Kevin'}\n",
      "{'Eric', 'Kevin'}\n",
      "============================\n",
      "physics-math:\n",
      "{'Nelson', 'Tom'}\n",
      "{'Nelson', 'Tom'}\n"
     ]
    }
   ],
   "source": [
    "#差集\n",
    "# A-B, 有在A但沒在B的元素\n",
    "#A.difference(B)\n",
    "math={'Kevin','Peter','Eric'}\n",
    "physics={'Peter','Nelson','Tom'}\n",
    "d=math-physics\n",
    "\n",
    "print('math-physiscs:')\n",
    "print(d)\n",
    "\n",
    "AB=math.difference(physics)\n",
    "print(AB)\n",
    "print('============================')\n",
    "print('physics-math:')\n",
    "print(physics-math)\n",
    "\n",
    "BA=physics.difference(math)\n",
    "print(BA)\n"
   ]
  },
  {
   "cell_type": "code",
   "execution_count": 28,
   "metadata": {},
   "outputs": [
    {
     "name": "stdout",
     "output_type": "stream",
     "text": [
      "math^physiscs:\n",
      " {'Nelson', 'Eric', 'Tom', 'Kevin'}\n",
      "{'Nelson', 'Eric', 'Tom', 'Kevin'}\n"
     ]
    }
   ],
   "source": [
    "#對稱差集，屬於A或屬於B但不同時屬於A和B的元素->只屬於其中某一個set的元素\n",
    "# A^B={x| x∈ A∪B - A∩B }\n",
    "# A.symmetric_difference(B)\n",
    "math={'Kevin','Peter','Eric'}\n",
    "physics={'Peter','Nelson','Tom'}\n",
    "print('math^physiscs:\\n',math^physics)\n",
    "\n",
    "AB=math.symmetric_difference(physics)\n",
    "print(AB)\n"
   ]
  },
  {
   "cell_type": "code",
   "execution_count": 30,
   "metadata": {},
   "outputs": [
    {
     "name": "stdout",
     "output_type": "stream",
     "text": [
      "False\n",
      "True\n",
      "True\n",
      "False\n"
     ]
    }
   ],
   "source": [
    "#等於== /不等於!=\n",
    "A={1,2,3,4,5}\n",
    "B={3,4,5,6,7}\n",
    "C={1,2,3,4,5}\n",
    "print(A==B)\n",
    "print(A==C)\n",
    "print(A!=B)\n",
    "print(A!=C)"
   ]
  },
  {
   "cell_type": "code",
   "execution_count": 33,
   "metadata": {},
   "outputs": [
    {
     "name": "stdout",
     "output_type": "stream",
     "text": [
      "True\n",
      "False\n",
      "True False\n"
     ]
    }
   ],
   "source": [
    "#in/ not in\n",
    "fruits=set('orange')\n",
    "print('a' in fruits)\n",
    "print('b' in fruits)\n",
    "\n",
    "\n",
    "car={'Toyota','Mazda','Ford'}\n",
    "boolean='Ford' in car\n",
    "boolean2='Audi' in car\n",
    "print(boolean,boolean2)\n"
   ]
  },
  {
   "cell_type": "code",
   "execution_count": 4,
   "metadata": {},
   "outputs": [
    {
     "name": "stdout",
     "output_type": "stream",
     "text": [
      "{'Taichung', 'Tokyo', 'Taipei', 'Peiking'}\n",
      "{(1, 2, 3), 'Peiking', 'Tokyo', 'Taipei', 'Taichung'}\n"
     ]
    }
   ],
   "source": [
    "#set的methods\n",
    "#A.add()\n",
    "cities={'Taipei','Peiking','Tokyo'}\n",
    "cities.add('Taichung')\n",
    "print(cities)\n",
    "cities.add((1,2,3))\n",
    "print(cities)\n",
    "    #set 為無序(out-of-order)"
   ]
  },
  {
   "cell_type": "code",
   "execution_count": 14,
   "metadata": {},
   "outputs": [
    {
     "name": "stdout",
     "output_type": "stream",
     "text": [
      "number: {10, 1, 2, 3} ,id: 1702686405352 \n",
      " deep_num: {10, 1, 2, 3} ,id: 1702686405352 \n",
      "\n",
      "number: {10, 1, 2, 3} ,id: 1702686405352 \n",
      " shallow_num: {1, 2, 3, 100, 10} ,id: 1702686407816 \n",
      "\n"
     ]
    }
   ],
   "source": [
    "#A.copy()->shallow copy\n",
    "#亦有deep copy及shallow copy\n",
    "#deep copy,即2個ref同時指到相同memory address\n",
    "number={1,2,3}\n",
    "deep_num=number\n",
    "deep_num.add(10)\n",
    "print('number:',number,',id:',id(number),'\\n','deep_num:',deep_num,',id:',id(number),'\\n')\n",
    "    #number 及deep_num均指向相同位址\n",
    "\n",
    "#shallow copy, copy原set的內容放到另一塊memory\n",
    "shallow_num=number.copy()\n",
    "shallow_num.add(100)\n",
    "print('number:',number,',id:',id(number),'\\n','shallow_num:',shallow_num,',id:',id(shallow_num),'\\n')\n",
    "    #number 及shallow_num指向不同位址"
   ]
  },
  {
   "cell_type": "code",
   "execution_count": 17,
   "metadata": {},
   "outputs": [
    {
     "name": "stdout",
     "output_type": "stream",
     "text": [
      "{'France', 'Taiwan'}\n",
      "Key Error\n"
     ]
    }
   ],
   "source": [
    "#A.remove(x),刪除x元素，若不存在則會return KeyError\n",
    "countries={'Taiwan',\"Japan\",'France'}\n",
    "countries.remove('Japan')\n",
    "print(countries)\n",
    "try:\n",
    "    countries.remove('China')\n",
    "except KeyError:\n",
    "    print('Key Error')"
   ]
  },
  {
   "cell_type": "code",
   "execution_count": 20,
   "metadata": {},
   "outputs": [
    {
     "name": "stdout",
     "output_type": "stream",
     "text": [
      "{'bird', 'dog'}\n",
      "None\n",
      "{'bird', 'dog'}\n",
      "None\n"
     ]
    }
   ],
   "source": [
    "#A.discard()\n",
    "#該函數不管元素是否存在於A中都會return None, \n",
    "animal={'dog','cat','bird'}\n",
    "ret_val=animal.discard('cat')\n",
    "print(animal)\n",
    "print(ret_val)\n",
    "\n",
    "ret_val2=animal.discard('pig')\n",
    "print(animal)\n",
    "print(ret_val2)"
   ]
  },
  {
   "cell_type": "code",
   "execution_count": 28,
   "metadata": {},
   "outputs": [
    {
     "name": "stdout",
     "output_type": "stream",
     "text": [
      "{'dog', 'cat'}\n",
      "bird <class 'str'> \n",
      "\n",
      "after pop(): {'cat'}\n",
      "after pop(): set()\n",
      "<class 'KeyError'>\n"
     ]
    }
   ],
   "source": [
    "#A.pop()\n",
    "#隨機pop出 A的元素，若A是空集合則會return KeyError\n",
    "animal={'dog','cat','bird'}\n",
    "popout=animal.pop()\n",
    "print(animal)\n",
    "print(popout,type(popout),'\\n')\n",
    "\n",
    "try:\n",
    "    for i in range(3):\n",
    "        animal.pop()\n",
    "        print('after pop():',animal)\n",
    "except KeyError:\n",
    "    print(KeyError)"
   ]
  },
  {
   "cell_type": "code",
   "execution_count": 30,
   "metadata": {},
   "outputs": [
    {
     "name": "stdout",
     "output_type": "stream",
     "text": [
      "set() , None\n"
     ]
    }
   ],
   "source": [
    "#A.clear()\n",
    "#刪除A中的所有元素，回傳None\n",
    "states={'Mississippi','Idoho','Florida'}\n",
    "ret_val=states.clear()\n",
    "print(states,',',ret_val)"
   ]
  },
  {
   "cell_type": "code",
   "execution_count": 32,
   "metadata": {},
   "outputs": [
    {
     "name": "stdout",
     "output_type": "stream",
     "text": [
      "False\n",
      "True\n"
     ]
    }
   ],
   "source": [
    "#isdisjoint()  \n",
    "#不相交\n",
    "#ret_boolean=A.isdisjoint(B)\n",
    "A={1,2,3}\n",
    "B={3,4,5}\n",
    "C={6,7,8}\n",
    "boolean=A.isdisjoint(B)\n",
    "print(boolean)\n",
    "    #是否不相交：false, 因為有共同元素3\n",
    "\n",
    "print(B.isdisjoint(C))\n",
    "    #B and C為不相交"
   ]
  },
  {
   "cell_type": "code",
   "execution_count": 34,
   "metadata": {},
   "outputs": [
    {
     "name": "stdout",
     "output_type": "stream",
     "text": [
      "True\n",
      "False\n"
     ]
    }
   ],
   "source": [
    "#issubset()\n",
    "#boolean=A.issubset(B)\n",
    "A={1,2,3}\n",
    "B={1,2,3,4,5}\n",
    "C={5,6,7,8}\n",
    "print(A.issubset(B))\n",
    "    #所有A的元素均是B的元素\n",
    "print(B.issubset(C))\n",
    "    #B和C只有一個共同元素5"
   ]
  },
  {
   "cell_type": "code",
   "execution_count": 36,
   "metadata": {},
   "outputs": [
    {
     "name": "stdout",
     "output_type": "stream",
     "text": [
      "False\n",
      "True\n",
      "False\n"
     ]
    }
   ],
   "source": [
    "#issuperset\n",
    "#boolean=A.issuperset(B)\n",
    "A={1,2,3}\n",
    "B={1,2,3,4,5}\n",
    "C={5,6,7,8}\n",
    "print(A.issuperset(B))\n",
    "print(B.issuperset(A))\n",
    "    #B is superest of A\n",
    "print(B.issuperset(C))"
   ]
  },
  {
   "cell_type": "code",
   "execution_count": 38,
   "metadata": {},
   "outputs": [
    {
     "name": "stdout",
     "output_type": "stream",
     "text": [
      "None {1, 3}\n",
      "None {3}\n"
     ]
    }
   ],
   "source": [
    "#intersection_update()\n",
    "#ret_val=A.intersection_update(B,C,...)\n",
    "#把A update為A和B,C,...的交集,並回傳None\n",
    "A={1,2,3}\n",
    "B={1,3,4,5}\n",
    "C={3,5,6,7,8}\n",
    "ret_val=A.intersection_update(B)\n",
    "    #A會從{1,2,3}->{1,3}\n",
    "print(ret_val,A)\n",
    "ret_val=A.intersection_update(B,C)\n",
    "    #A->{3}\n",
    "print(ret_val,A)"
   ]
  },
  {
   "cell_type": "code",
   "execution_count": 40,
   "metadata": {},
   "outputs": [
    {
     "name": "stdout",
     "output_type": "stream",
     "text": [
      "{'Audi', 'ED Design', 'Daihatsu', 'Benz', 'Ferrari', 'Cadilac'}\n",
      "{'Daihatsu', 'Ferrari', 'ED Design'}\n"
     ]
    }
   ],
   "source": [
    "#A.update(B)\n",
    "#把B中的元素加到A\n",
    "cars1={'Audi','Benz','Cadilac'}\n",
    "cars2={'Daihatsu','ED Design','Ferrari'}\n",
    "cars1.update(cars2)\n",
    "print(cars1)\n",
    "print(cars2)"
   ]
  },
  {
   "cell_type": "code",
   "execution_count": 42,
   "metadata": {},
   "outputs": [
    {
     "name": "stdout",
     "output_type": "stream",
     "text": [
      "{'Audi', 'Benz'}\n"
     ]
    }
   ],
   "source": [
    "#A.difference_update(B)\n",
    "#刪除A中和B重複的元素,並存在A裡\n",
    "cars1={'Audi','Benz','Cadilac','Ferrari'}\n",
    "cars2={'Cadilac','Daihatsu','ED Design','Ferrari'}\n",
    "cars1.difference_update(cars2)\n",
    "    #會刪去'Cadilac','Ferrari'\n",
    "print(cars1)"
   ]
  },
  {
   "cell_type": "code",
   "execution_count": 44,
   "metadata": {},
   "outputs": [
    {
     "name": "stdout",
     "output_type": "stream",
     "text": [
      "{'Audi', 'Daihatsu', 'ED Design', 'Benz'}\n"
     ]
    }
   ],
   "source": [
    "#A.symmetric_diffence_update(B)\n",
    "#將屬於A或屬於B但不同時屬於A和B的元素放到A中\n",
    "cars1={'Audi','Benz','Cadilac','Ferrari'}\n",
    "cars2={'Cadilac','Daihatsu','ED Design','Ferrari'}\n",
    "cars1.symmetric_difference_update(cars2)\n",
    "    #cars1會變成{'Audi','Benz','Daihatsu','ED Design'}\n",
    "print(cars1)"
   ]
  },
  {
   "cell_type": "code",
   "execution_count": 47,
   "metadata": {},
   "outputs": [
    {
     "name": "stdout",
     "output_type": "stream",
     "text": [
      "101\n",
      "55\n",
      "419\n",
      "z\n",
      "R\n",
      "3\n"
     ]
    }
   ],
   "source": [
    "#Set上的基本函數\n",
    "#enumerate(), len(), max(),min(), sorted(), sum()\n",
    "numlist={100,99,64,101,55}\n",
    "chrlist={'a','x','R','z','b'}\n",
    "mix_set={1,'Python',(2,5,10)}\n",
    "    #長度為3\n",
    "print(max(numlist))\n",
    "print(min(numlist))\n",
    "print(sum(numlist))\n",
    "print(max(chrlist))\n",
    "print(min(chrlist))\n",
    "print(len(mix_set))\n"
   ]
  },
  {
   "cell_type": "code",
   "execution_count": 50,
   "metadata": {},
   "outputs": [
    {
     "name": "stdout",
     "output_type": "stream",
     "text": [
      "['Audi', 'Benz', 'Daihatsu', 'ED Design']\n",
      "['ED Design', 'Daihatsu', 'Benz', 'Audi']\n"
     ]
    }
   ],
   "source": [
    "#sorted(A,reverse=True/False), 會將結果回傳成list\n",
    "cars1={'Audi', 'Daihatsu', 'ED Design', 'Benz'}\n",
    "print(sorted(cars1))\n",
    "print(sorted(cars1,reverse=True))"
   ]
  },
  {
   "cell_type": "code",
   "execution_count": 57,
   "metadata": {},
   "outputs": [
    {
     "name": "stdout",
     "output_type": "stream",
     "text": [
      "<enumerate object at 0x0000018C7010D240> <class 'enumerate'>\n",
      "[(0, 'wine'), (1, 'tea'), (2, 'coffee')]\n",
      "(0, 'wine')\n",
      "(1, 'tea')\n",
      "(2, 'coffee')\n",
      "0 wine\n",
      "1 tea\n",
      "2 coffee\n"
     ]
    }
   ],
   "source": [
    "#enumerate(iterable,start)\n",
    "#回傳整數配對的enumerate物件->(start,item)\n",
    "drinks={'coffee','tea','wine'}\n",
    "enumerate_drink=enumerate(drinks)\n",
    "print(enumerate_drink, type(enumerate_drink))\n",
    "    #要轉成串列輸出\n",
    "print(list(enumerate_drink))\n",
    "#使用迴圈輸出\n",
    "for item in enumerate(drinks):\n",
    "    #注意上面的 enumerate(drinks) 而不是item in enumerate_drink\n",
    "    print(item)\n",
    "\n",
    "#分開輸出\n",
    "for count, item in enumerate(drinks):\n",
    "    print(count,item)"
   ]
  },
  {
   "cell_type": "code",
   "execution_count": 58,
   "metadata": {},
   "outputs": [
    {
     "name": "stdout",
     "output_type": "stream",
     "text": [
      "Union of x and y: frozenset({1, 3, 5, 7, 9})\n",
      "Intersection of x and y: frozenset({5})\n"
     ]
    }
   ],
   "source": [
    "#frozenset()\n",
    "#不可變的集合，即一旦設定好就不能再更改\n",
    "#可用來作為字典的key和其它集合的元素\n",
    "x=frozenset([1,3,5])\n",
    "y=frozenset([5,7,9])\n",
    "print('Union of x and y:',x|y)\n",
    "print('Intersection of x and y:',x&y)\n"
   ]
  },
  {
   "cell_type": "code",
   "execution_count": null,
   "metadata": {
    "collapsed": true
   },
   "outputs": [],
   "source": [
    "#Excercise 1\n"
   ]
  }
 ],
 "metadata": {
  "kernelspec": {
   "display_name": "Python 3",
   "language": "python",
   "name": "python3"
  },
  "language_info": {
   "codemirror_mode": {
    "name": "ipython",
    "version": 3
   },
   "file_extension": ".py",
   "mimetype": "text/x-python",
   "name": "python",
   "nbconvert_exporter": "python",
   "pygments_lexer": "ipython3",
   "version": "3.6.2"
  }
 },
 "nbformat": 4,
 "nbformat_minor": 2
}
