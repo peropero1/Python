{
 "cells": [
  {
   "cell_type": "markdown",
   "metadata": {},
   "source": [
    "# 遞迴式呼叫 (函數呼叫自已)"
   ]
  },
  {
   "cell_type": "code",
   "execution_count": 2,
   "metadata": {},
   "outputs": [
    {
     "name": "stdout",
     "output_type": "stream",
     "text": [
      "120\n"
     ]
    }
   ],
   "source": [
    "# 計算階乘\n",
    "def factorial(n):\n",
    "    if n==1:\n",
    "        return 1\n",
    "    else:\n",
    "        return (n*factorial(n-1))\n",
    "print(factorial(5))"
   ]
  },
  {
   "cell_type": "markdown",
   "metadata": {},
   "source": [
    "# 全域變數 vs.區域變數 \n",
    "## 。python在呼叫函數時會建立一塊記憶體空間，在該空間內處理相關的變數，當呼叫結束後該記憶體也隨之收回，因此local variable只能在該空間內發揮影響。\n",
    "## 。Global variable一般在main建立，因此main可引用，同程式下的所有函數也可引用。"
   ]
  },
  {
   "cell_type": "code",
   "execution_count": 3,
   "metadata": {},
   "outputs": [
    {
     "name": "stdout",
     "output_type": "stream",
     "text": [
      "print by main: Global Variable\n",
      "print by function: Global Variable\n"
     ]
    }
   ],
   "source": [
    "# msg變數可被main及函數使用\n",
    "def printmsg():\n",
    "    print('print by function:',msg)\n",
    "msg='Global Variable'\n",
    "print('print by main:',msg)\n",
    "printmsg()"
   ]
  },
  {
   "cell_type": "markdown",
   "metadata": {},
   "source": [
    "# lambda\n",
    "## python 中的 anonymous function以lambda定義，可有許多函數，但只能有一個expression\n",
    "### 語法：lambda arg1,arg2,... : expression, 其中參數arg可有1~多個"
   ]
  },
  {
   "cell_type": "code",
   "execution_count": 4,
   "metadata": {},
   "outputs": [
    {
     "name": "stdout",
     "output_type": "stream",
     "text": [
      "100\n"
     ]
    }
   ],
   "source": [
    "# 以lambda計算平方\n",
    "sqare=lambda x: x**2\n",
    "print(sqare(10))\n",
    "    #注意此處仍需提供參數"
   ]
  },
  {
   "cell_type": "code",
   "execution_count": 5,
   "metadata": {},
   "outputs": [
    {
     "name": "stdout",
     "output_type": "stream",
     "text": [
      "50\n"
     ]
    }
   ],
   "source": [
    "#傳回二個參數的積\n",
    "product=lambda x,y: x*y\n",
    "print(product(5,10))"
   ]
  },
  {
   "cell_type": "markdown",
   "metadata": {},
   "source": [
    "# filter(function, iterable)：\n",
    "## 。把iterable的元素逐一放入function中，把function執行結果為True的元素組成新的filter object傳回。"
   ]
  },
  {
   "cell_type": "code",
   "execution_count": 6,
   "metadata": {},
   "outputs": [
    {
     "name": "stdout",
     "output_type": "stream",
     "text": [
      "odds in my_list: [5, 15, 25]\n"
     ]
    }
   ],
   "source": [
    "# 以filter篩選出list內為奇數的元素\n",
    "def find_odd(x):\n",
    "    return x if (x %2==1) else None\n",
    "my_list=list(range(5,35,5))\n",
    "filter_elements=filter(find_odd,my_list)\n",
    "\n",
    "print('odds in my_list:',[item for item in filter_elements])"
   ]
  },
  {
   "cell_type": "code",
   "execution_count": 7,
   "metadata": {},
   "outputs": [
    {
     "name": "stdout",
     "output_type": "stream",
     "text": [
      "[5, 15, 25]\n"
     ]
    }
   ],
   "source": [
    "#使用lambda 重寫上述篩選功能\n",
    "my_list=list(range(5,35,5))\n",
    "filter_elements=list(filter(lambda x: (x%2==1),my_list))\n",
    "print(filter_elements)"
   ]
  },
  {
   "cell_type": "markdown",
   "metadata": {},
   "source": [
    "# map(funciton, iterable)\n",
    "## 。類似filter(), map()是把iterable中的元素逐一丟入function後的執行結果組成新的filter object傳回"
   ]
  },
  {
   "cell_type": "code",
   "execution_count": 8,
   "metadata": {},
   "outputs": [
    {
     "name": "stdout",
     "output_type": "stream",
     "text": [
      "[25, 100, 225, 400, 625, 900]\n"
     ]
    }
   ],
   "source": [
    "#以map()回傳元素平方值\n",
    "my_list=list(range(5,35,5))\n",
    "square=list(map(lambda x: x**2, my_list))\n",
    "print(square)"
   ]
  },
  {
   "cell_type": "markdown",
   "metadata": {},
   "source": [
    "# Practice"
   ]
  },
  {
   "cell_type": "code",
   "execution_count": 9,
   "metadata": {},
   "outputs": [
    {
     "name": "stdout",
     "output_type": "stream",
     "text": [
      "enter an int, q to quit: q\n",
      "Wrong enter, bye.\n"
     ]
    }
   ],
   "source": [
    "# practice 1\n",
    "# 以正規表示式來match 是否為正負數\n",
    "import re\n",
    "'''\n",
    "^[-+]?[0-9]+\\.[0-9]+$\n",
    "\n",
    "^表示以这个字符开头，也就是以[-+]开头，[-+]表示字符-或者+之一，\n",
    "\n",
    "?表示0个或1个，也就是说符号是可选的。\n",
    "\n",
    "同理[0-9]表示0到9的一个数字，+表示1个或多个，也就是整数部分。\n",
    "\n",
    ".表示的是小数点，\\是转义字符因为.是特殊符号（匹配任意单个除\\r\\n之外的字符），\n",
    "\n",
    "所以需要转义。\n",
    "\n",
    "小数部分同理，$表示字符串以此结尾。\n",
    "'''\n",
    "\n",
    "\n",
    "def absolute(n):\n",
    "    if n <0:\n",
    "        return (-n)\n",
    "    elif n>0:\n",
    "        return n\n",
    "    else:\n",
    "        return 0\n",
    "\n",
    "while True:\n",
    "    x=input('enter an int, q to quit: ')\n",
    "    value=re.compile(r'^[-+]?[0-9]+\\.[0-9]+$')\n",
    "                \n",
    "    if value.match(x):\n",
    "        print(absolute(float(x)))\n",
    "    else:\n",
    "        print('Wrong enter, bye.')\n",
    "        break"
   ]
  },
  {
   "cell_type": "code",
   "execution_count": 29,
   "metadata": {},
   "outputs": [
    {
     "name": "stdout",
     "output_type": "stream",
     "text": [
      "請輸入運算, q to quit:\n",
      "1:加法\n",
      "2:減法\n",
      "3:乘法\n",
      "4:除法\n",
      "1/2/3/4: 0\n",
      "Wrong operation, try again\n",
      "1/2/3/4: -1\n",
      "Wrong operation, try again\n",
      "1/2/3/4: 1\n",
      "x= 0\n",
      "y= 5\n",
      "x+y= 5\n",
      "1/2/3/4: q\n",
      "Bye\n"
     ]
    }
   ],
   "source": [
    "# practice 2,3,4\n",
    "def subtract(x,y):\n",
    "    return x-y\n",
    "def addition(x,y):\n",
    "    return x+y\n",
    "def multiply(x,y):\n",
    "    return x*y\n",
    "def divide(x,y):\n",
    "    if y!=0:\n",
    "        return x/y\n",
    "    else:\n",
    "        print('Divide by 0, Error')\n",
    "\n",
    "print('請輸入運算, q to quit:')\n",
    "print('1:加法\\n2:減法\\n3:乘法\\n4:除法')\n",
    "while True:\n",
    "    op=input(\"1/2/3/4: \")\n",
    "    \n",
    "    if op=='q':\n",
    "        print('Bye')\n",
    "        break\n",
    "    elif not(op.isdigit()) or (int(op)>4 or int(op)<=0):\n",
    "        print('Wrong operation, try again')\n",
    "        continue\n",
    "\n",
    "    x=int(input('x= '))\n",
    "    y=int(input('y= '))\n",
    "    if op=='1':\n",
    "        print('x+y=',addition(x,y))\n",
    "    elif op=='2':\n",
    "        print('x-y=',subtract(x,y))\n",
    "    elif op=='3':\n",
    "        print('x*y=',multiply(x,y))\n",
    "    elif op=='4':\n",
    "        print('x/y=',divide(x,y))\n",
    "    else:\n",
    "        print('Operation error')\n"
   ]
  },
  {
   "cell_type": "code",
   "execution_count": null,
   "metadata": {},
   "outputs": [],
   "source": []
  }
 ],
 "metadata": {
  "kernelspec": {
   "display_name": "Python 3",
   "language": "python",
   "name": "python3"
  },
  "language_info": {
   "codemirror_mode": {
    "name": "ipython",
    "version": 3
   },
   "file_extension": ".py",
   "mimetype": "text/x-python",
   "name": "python",
   "nbconvert_exporter": "python",
   "pygments_lexer": "ipython3",
   "version": "3.6.5"
  }
 },
 "nbformat": 4,
 "nbformat_minor": 2
}
