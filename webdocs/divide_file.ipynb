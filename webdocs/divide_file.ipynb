{
 "cells": [
  {
   "cell_type": "code",
   "execution_count": 5,
   "metadata": {},
   "outputs": [],
   "source": [
    "# 1692082/4=423020\n",
    "\n",
    "import pandas as pd\n",
    "import os\n",
    "filename='webdocs.dat'\n",
    "\n",
    "#filepath=r\"X:\\\\NTU\\\\ML-sketch\\\\dataset\\\\Webpage\\\\webdocs\\\\\"\n",
    "filepath=r\"C:\\\\Users\\\\Pero\\\\Downloads\\\\\"\n",
    "src_data=os.path.join(filepath,filename)\n",
    "\n",
    "line_count=0\n",
    "file_number=20\n",
    "name='out_split_'\n",
    "with open(src_data,'r') as file:\n",
    "    for i in range(file_number):\n",
    "        with open(name+str(i)+'.txt','w') as temp:\n",
    "            for i in range(84605):\n",
    "                eli=file.readline().split()\n",
    "                if not eli:\n",
    "                    break\n",
    "                else:\n",
    "                    for item in eli:\n",
    "                        #print(item)\n",
    "                        temp.write(item+'\\n')\n",
    "\n"
   ]
  },
  {
   "cell_type": "code",
   "execution_count": 8,
   "metadata": {},
   "outputs": [
    {
     "name": "stdout",
     "output_type": "stream",
     "text": [
      "8\n",
      "22\n",
      "49\n",
      "54\n",
      "122\n",
      "146\n",
      "176\n",
      "306\n",
      "355\n",
      "362\n",
      "369\n",
      "371\n",
      "392\n",
      "459\n",
      "475\n",
      "478\n",
      "514\n",
      "516\n",
      "524\n",
      "732\n",
      "818\n",
      "892\n",
      "1098\n",
      "1157\n",
      "1174\n",
      "1194\n",
      "1723\n",
      "1815\n",
      "1940\n",
      "2218\n",
      "2380\n",
      "2581\n",
      "3383\n",
      "3475\n",
      "3490\n",
      "3570\n",
      "3675\n",
      "5442\n",
      "8707\n",
      "10387\n",
      "10454\n",
      "542571\n",
      "48\n",
      "49\n",
      "76\n",
      "81\n",
      "109\n",
      "119\n",
      "122\n",
      "123\n"
     ]
    }
   ],
   "source": [
    "import pandas as pd\n",
    "import os\n",
    "filename='webdocs.dat'\n",
    "\n",
    "#filepath=r\"X:\\\\NTU\\\\ML-sketch\\\\dataset\\\\Webpage\\\\webdocs\\\\\"\n",
    "filepath=r\"C:\\\\Users\\\\Pero\\\\Downloads\\\\\"\n",
    "name='out_split_1.txt'\n",
    "\n",
    "line_count=50\n",
    "\n",
    "with open(name,'r') as file:\n",
    "    while line_count:\n",
    "        eli=file.readline().strip('\\n')\n",
    "        line_count-=1\n",
    "        print(eli)"
   ]
  },
  {
   "cell_type": "code",
   "execution_count": null,
   "metadata": {},
   "outputs": [],
   "source": []
  }
 ],
 "metadata": {
  "kernelspec": {
   "display_name": "Python 3",
   "language": "python",
   "name": "python3"
  },
  "language_info": {
   "codemirror_mode": {
    "name": "ipython",
    "version": 3
   },
   "file_extension": ".py",
   "mimetype": "text/x-python",
   "name": "python",
   "nbconvert_exporter": "python",
   "pygments_lexer": "ipython3",
   "version": "3.6.5"
  }
 },
 "nbformat": 4,
 "nbformat_minor": 2
}
