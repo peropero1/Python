{
 "cells": [
  {
   "cell_type": "code",
   "execution_count": null,
   "metadata": {},
   "outputs": [],
   "source": [
    "# 1692082/4=423020\n",
    "\n",
    "import pandas as pd\n",
    "import os\n",
    "filename='webdocs.dat'\n",
    "\n",
    "#filepath=r\"X:\\\\NTU\\\\ML-sketch\\\\dataset\\\\Webpage\\\\webdocs\\\\\"\n",
    "filepath=r\"C:\\\\Users\\\\Pero\\\\Downloads\\\\\"\n",
    "src_data=os.path.join(filepath,filename)\n",
    "\n",
    "line_count=20\n",
    "file_count=0\n",
    "size=5\n",
    "name='out_'+str(file_count)+'.txt'\n",
    "with open(src_data,'r') as file:\n",
    "    eli=file.readline(5)\n",
    "    print(eli)\n"
   ]
  },
  {
   "cell_type": "code",
   "execution_count": null,
   "metadata": {},
   "outputs": [],
   "source": []
  }
 ],
 "metadata": {
  "kernelspec": {
   "display_name": "Python 3",
   "language": "python",
   "name": "python3"
  },
  "language_info": {
   "codemirror_mode": {
    "name": "ipython",
    "version": 3
   },
   "file_extension": ".py",
   "mimetype": "text/x-python",
   "name": "python",
   "nbconvert_exporter": "python",
   "pygments_lexer": "ipython3",
   "version": "3.6.5"
  }
 },
 "nbformat": 4,
 "nbformat_minor": 2
}
