{
 "cells": [
  {
   "cell_type": "code",
   "execution_count": 1,
   "metadata": {},
   "outputs": [
    {
     "name": "stdout",
     "output_type": "stream",
     "text": [
      "555 <class 'int'>\t222333 $$$ <class 'str'>\n"
     ]
    }
   ],
   "source": [
    "#print(value, ..., sep=' ', end='\\n', file=sys.stdout, flush=False)\n",
    "num1=222\n",
    "num2=333\n",
    "num3=num1+num2\n",
    "print(num3,type(num3),end='\\t')\n",
    "str1='222'\n",
    "str2='333'\n",
    "str3=str1+str2\n",
    "print(str3,type(str3),sep=' $$$ ')"
   ]
  },
  {
   "cell_type": "code",
   "execution_count": 6,
   "metadata": {},
   "outputs": [
    {
     "name": "stdout",
     "output_type": "stream",
     "text": [
      "小明 第 1次考試成績為：90 \n"
     ]
    }
   ],
   "source": [
    "#格式化輸出\n",
    "#print(\"...輸出格式\"% (變數,...))\n",
    "score=90\n",
    "str1=\"小明\"\n",
    "count=1\n",
    "print(\"%s 第 %d次考試成績為：%d \" % (str1,count,score))"
   ]
  },
  {
   "cell_type": "code",
   "execution_count": 7,
   "metadata": {},
   "outputs": [
    {
     "name": "stdout",
     "output_type": "stream",
     "text": [
      "小明 第 1次考試成績為：90 \n"
     ]
    }
   ],
   "source": [
    "#上例的\"%s 本次的第 %d次考試成績為：%d \"以字串代替\n",
    "score=90\n",
    "str1=\"小明\"\n",
    "count=1\n",
    "formatstr=\"%s 第 %d次考試成績為：%d \"\n",
    "print(formatstr % (str1,count,score))"
   ]
  },
  {
   "cell_type": "code",
   "execution_count": 8,
   "metadata": {},
   "outputs": [
    {
     "name": "stdout",
     "output_type": "stream",
     "text": [
      "100的16進制=64, 8進制=144\n"
     ]
    }
   ],
   "source": [
    "#格式化8和16進制的輸出\n",
    "x=100\n",
    "print(\"100的16進制=%x, 8進制=%o\" %(x,x))"
   ]
  },
  {
   "cell_type": "code",
   "execution_count": 17,
   "metadata": {},
   "outputs": [
    {
     "name": "stdout",
     "output_type": "stream",
     "text": [
      "x=/   100/\n",
      "x=/  +100/\n",
      "x=/100   /\n",
      "y=/  -100/\n",
      "y=/-100  /\n"
     ]
    }
   ],
   "source": [
    "#對齊的整數格式化輸出: \n",
    "# %+/-nd：+/-表示靠右/左輸出，當資料為正時，靠右輸出時會再多+號，n為保留位數\n",
    "x=100\n",
    "y=-100\n",
    "print(\"x=/%6d/\"%x)\n",
    "print(\"x=/%+6d/\"%x)\n",
    "print(\"x=/%-6d/\"%x)\n",
    "print(\"y=/%+6d/\"%y)\n",
    "print(\"y=/%-6d/\"%y)"
   ]
  },
  {
   "cell_type": "code",
   "execution_count": 22,
   "metadata": {},
   "outputs": [
    {
     "name": "stdout",
     "output_type": "stream",
     "text": [
      "a=/10.500  /\n",
      "a=/ +10.500/\n"
     ]
    }
   ],
   "source": [
    "#對齊的浮點數格式化輸出: %+/-m.nf, m表示總共的位數，n表示小數的位數\n",
    "a=10.5\n",
    "print(\"a=/%-8.3f/\"%a)\n",
    "print(\"a=/%+8.3f/\"%a)"
   ]
  },
  {
   "cell_type": "code",
   "execution_count": 26,
   "metadata": {},
   "outputs": [
    {
     "name": "stdout",
     "output_type": "stream",
     "text": [
      "姓名\t國\t英\t總分\n",
      "林小明\t 98\t 90\t 188\n"
     ]
    }
   ],
   "source": [
    "#對齊的字串格式化輸出:\n",
    "print(\"姓名\\t國\\t英\\t總分\")\n",
    "print(\"%3s\\t%3d\\t%3d\\t%4d\"%(\"林小明\",98,90,98+90))"
   ]
  },
  {
   "cell_type": "code",
   "execution_count": null,
   "metadata": {},
   "outputs": [],
   "source": []
  }
 ],
 "metadata": {
  "kernelspec": {
   "display_name": "Python 3",
   "language": "python",
   "name": "python3"
  },
  "language_info": {
   "codemirror_mode": {
    "name": "ipython",
    "version": 3
   },
   "file_extension": ".py",
   "mimetype": "text/x-python",
   "name": "python",
   "nbconvert_exporter": "python",
   "pygments_lexer": "ipython3",
   "version": "3.6.2"
  }
 },
 "nbformat": 4,
 "nbformat_minor": 2
}
