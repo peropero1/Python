{
 "cells": [
  {
   "cell_type": "markdown",
   "metadata": {},
   "source": [
    "## pdb\n",
    "https://docs.python.org/zh-tw/3.7/library/pdb.html"
   ]
  },
  {
   "cell_type": "code",
   "execution_count": 1,
   "metadata": {},
   "outputs": [
    {
     "name": "stdout",
     "output_type": "stream",
     "text": [
      "--Return--\n",
      "> <ipython-input-1-8c3ea130ea9c>(10)<module>()->None\n",
      "-> pdb.set_trace()\n",
      "(Pdb) first\n",
      "'First'\n",
      "(Pdb) second\n",
      "'Second'\n",
      "(Pdb) n\n",
      "> c:\\programdata\\anaconda3\\lib\\site-packages\\ipython\\core\\interactiveshell.py(3334)run_code()\n",
      "-> sys.excepthook = old_excepthook\n",
      "(Pdb) result\n",
      "<ExecutionResult object at 27e028c0780, execution_count=1 error_before_exec=None error_in_exec=None info=<ExecutionInfo object at 27e028c00b8, raw_cell=\"# 在程式段中設定追蹤點: set_trace()\n",
      "import pdb\n",
      "# l(list): 列出..\" store_history=True silent=False shell_futures=True> result=None>\n",
      "(Pdb) c\n",
      "FirstSecondThird\n"
     ]
    }
   ],
   "source": [
    "# 在程式段中設定追蹤點: set_trace()\n",
    "import pdb\n",
    "# l(list): 列出所有的code\n",
    "# n(next): 下一行\n",
    "# c(continue): 繼續/離開debug\n",
    "# p(print): 印出相關變數\n",
    "\n",
    "first='First'\n",
    "second=\"Second\"\n",
    "pdb.set_trace()\n",
    "result=first+second\n",
    "third=\"Third\"\n",
    "result+=third\n",
    "print(result)\n",
    "    # 在cmd中執行結果較正確"
   ]
  },
  {
   "cell_type": "code",
   "execution_count": 4,
   "metadata": {},
   "outputs": [
    {
     "name": "stdout",
     "output_type": "stream",
     "text": [
      "> <ipython-input-4-4e2ff90fba47>(5)add_num()\n",
      "-> return(a+b+c+d)\n",
      "(Pdb) h\n",
      "\n",
      "Documented commands (type help <topic>):\n",
      "========================================\n",
      "EOF    c          d        h         list      q        rv       undisplay\n",
      "a      cl         debug    help      ll        quit     s        unt      \n",
      "alias  clear      disable  ignore    longlist  r        source   until    \n",
      "args   commands   display  interact  n         restart  step     up       \n",
      "b      condition  down     j         next      return   tbreak   w        \n",
      "break  cont       enable   jump      p         retval   u        whatis   \n",
      "bt     continue   exit     l         pp        run      unalias  where    \n",
      "\n",
      "Miscellaneous help topics:\n",
      "==========================\n",
      "exec  pdb\n",
      "\n",
      "(Pdb) c\n"
     ]
    },
    {
     "data": {
      "text/plain": [
       "14"
      ]
     },
     "execution_count": 4,
     "metadata": {},
     "output_type": "execute_result"
    }
   ],
   "source": [
    "# 在function中設定trace point\n",
    "def add_num(a,b,c,d):\n",
    "    import pdb\n",
    "    pdb.set_trace()\n",
    "    return(a+b+c+d)\n",
    "add_num(3,6,4,1)\n",
    "    # 按h列出可用的相關命令"
   ]
  },
  {
   "cell_type": "code",
   "execution_count": null,
   "metadata": {},
   "outputs": [],
   "source": []
  }
 ],
 "metadata": {
  "kernelspec": {
   "display_name": "Python 3",
   "language": "python",
   "name": "python3"
  },
  "language_info": {
   "codemirror_mode": {
    "name": "ipython",
    "version": 3
   },
   "file_extension": ".py",
   "mimetype": "text/x-python",
   "name": "python",
   "nbconvert_exporter": "python",
   "pygments_lexer": "ipython3",
   "version": "3.6.5"
  }
 },
 "nbformat": 4,
 "nbformat_minor": 4
}
