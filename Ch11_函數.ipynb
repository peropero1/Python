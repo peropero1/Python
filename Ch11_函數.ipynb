{
 "cells": [
  {
   "cell_type": "markdown",
   "metadata": {},
   "source": [
    "# 函數定義\n",
    "\n",
    "def Function_Name ( par1,par2,...):\n",
    "    \"註解\"\n",
    "    程式區塊\n",
    "    return(return_val1, return_val2,... )\n"
   ]
  },
  {
   "cell_type": "code",
   "execution_count": 3,
   "metadata": {},
   "outputs": [
    {
     "ename": "TypeError",
     "evalue": "greeting() missing 1 required positional argument: 'name'",
     "output_type": "error",
     "traceback": [
      "\u001b[1;31m---------------------------------------------------------------------------\u001b[0m",
      "\u001b[1;31mTypeError\u001b[0m                                 Traceback (most recent call last)",
      "\u001b[1;32m<ipython-input-3-d3fa45aa2a13>\u001b[0m in \u001b[0;36m<module>\u001b[1;34m\u001b[0m\n\u001b[0;32m      1\u001b[0m \u001b[1;32mdef\u001b[0m \u001b[0mgreeting\u001b[0m\u001b[1;33m(\u001b[0m\u001b[0mname\u001b[0m\u001b[1;33m)\u001b[0m\u001b[1;33m:\u001b[0m\u001b[1;33m\u001b[0m\u001b[0m\n\u001b[0;32m      2\u001b[0m     \u001b[0mprint\u001b[0m\u001b[1;33m(\u001b[0m\u001b[1;34m\"Hi, \"\u001b[0m\u001b[1;33m+\u001b[0m\u001b[0mname\u001b[0m\u001b[1;33m+\u001b[0m\u001b[1;34m\" Good morning.\"\u001b[0m\u001b[1;33m)\u001b[0m\u001b[1;33m\u001b[0m\u001b[0m\n\u001b[1;32m----> 3\u001b[1;33m \u001b[0mgreeting\u001b[0m\u001b[1;33m(\u001b[0m\u001b[1;33m)\u001b[0m\u001b[1;33m\u001b[0m\u001b[0m\n\u001b[0m",
      "\u001b[1;31mTypeError\u001b[0m: greeting() missing 1 required positional argument: 'name'"
     ]
    }
   ],
   "source": [
    "def greeting(name):\n",
    "    print(\"Hi, \"+name+\" Good morning.\")\n",
    "\n",
    "greeting()"
   ]
  },
  {
   "cell_type": "markdown",
   "metadata": {},
   "source": [
    "# Keyword Arguments，關鍵參數\n",
    "## 呼叫函數時，參數使用 參數名稱=值  的方式指定。"
   ]
  },
  {
   "cell_type": "code",
   "execution_count": 4,
   "metadata": {},
   "outputs": [
    {
     "name": "stdout",
     "output_type": "stream",
     "text": [
      "My interest is Traveling\n",
      "In Traveling, I like Japan most.\n",
      "\n",
      "My interest is Traveling\n",
      "In Traveling, I like Japan most.\n",
      "\n"
     ]
    }
   ],
   "source": [
    "def interest (interest_type, subject):\n",
    "    print('My interest is '+interest_type)\n",
    "    print('In '+ interest_type+ ', I like '+subject+' most.')\n",
    "    print()\n",
    "interest(interest_type='Traveling',subject='Japan')\n",
    "    # 指定interest_type='Traveling'\n",
    "interest(subject='Japan',interest_type='Traveling')\n",
    "    # 用keyword argument沒有順序的問題"
   ]
  },
  {
   "cell_type": "markdown",
   "metadata": {},
   "source": [
    "# 參數的default value，當未指定參數值時就會用default\n",
    "\n",
    "## 有預設值的參數要放在右邊"
   ]
  },
  {
   "cell_type": "code",
   "execution_count": 1,
   "metadata": {},
   "outputs": [
    {
     "name": "stdout",
     "output_type": "stream",
     "text": [
      "My interest is Traveling\n",
      "In Traveling, I like Japan most.\n",
      "\n",
      "My interest is Watching movie\n",
      "In Watching movie, I like London most.\n",
      "\n"
     ]
    }
   ],
   "source": [
    "def interest (interest_type, subject='London'):\n",
    "    print('My interest is '+interest_type)\n",
    "    print('In '+ interest_type+ ', I like '+subject+' most.')\n",
    "    print()\n",
    "interest(interest_type='Traveling',subject='Japan')\n",
    "    #注意 subject的輸出\n",
    "interest(interest_type='Watching movie')\n",
    "    # using default value : London"
   ]
  },
  {
   "cell_type": "markdown",
   "metadata": {},
   "source": [
    "# 函數的return value\n"
   ]
  },
  {
   "cell_type": "code",
   "execution_count": 8,
   "metadata": {},
   "outputs": [
    {
     "name": "stdout",
     "output_type": "stream",
     "text": [
      "None\n",
      "<class 'NoneType'>\n"
     ]
    }
   ],
   "source": [
    "# 不指定return 的話 預設行為是return None\n",
    "def greeting(name):\n",
    "    pass\n",
    "    #print(\"Hi, \"+name+\" Good morning.\")\n",
    "\n",
    "return_value=greeting('Pero')\n",
    "print(return_value)\n",
    "print(type(return_value))\n"
   ]
  },
  {
   "cell_type": "markdown",
   "metadata": {},
   "source": [
    "## 多筆return value以不同方式承接"
   ]
  },
  {
   "cell_type": "code",
   "execution_count": 23,
   "metadata": {},
   "outputs": [
    {
     "name": "stdout",
     "output_type": "stream",
     "text": [
      "<class 'tuple'>\n",
      "10 + 15 = 25\n",
      "10 - 15 = -5\n",
      "10 * 15 = 150\n",
      "10 / 15 = 0.6666666666666666\n",
      "[25, -5, 150, 0.6666666666666666]\n",
      "(25, -5, 150, 0.6666666666666666)\n"
     ]
    }
   ],
   "source": [
    "def multifunction(a,b):\n",
    "    addresult=a+b\n",
    "    subresult=a-b\n",
    "    mulresult=a*b\n",
    "    divresult=a/b\n",
    "    return addresult,subresult, mulresult, divresult\n",
    "        # 以tuple回傳\n",
    "\n",
    "x1,x2=10,15\n",
    "print(type(multifunction(x1,x2)))\n",
    "\n",
    "add,sub,mul,div=multifunction(x1,x2)\n",
    "    # 用4個變數來接\n",
    "result_list=list(multifunction(x1,x2))\n",
    "    # 用list來接\n",
    "result_tuple=multifunction(x1,x2)\n",
    "    # 用tuple來接\n",
    "print(x1,'+',x2,'=',add)\n",
    "print(x1,'-',x2,'=',sub)\n",
    "print(x1,'*',x2,'=',mul)\n",
    "print(x1,'/',x2,'=',div)\n",
    "print(result_list)\n",
    "print(result_tuple)"
   ]
  },
  {
   "cell_type": "markdown",
   "metadata": {},
   "source": [
    "# return 字典"
   ]
  },
  {
   "cell_type": "code",
   "execution_count": 25,
   "metadata": {},
   "outputs": [
    {
     "name": "stdout",
     "output_type": "stream",
     "text": [
      "{'VIP_ID': '101', 'Name': 'Pero'} \n",
      " <class 'dict'>\n",
      "{'VIP_ID': '102', 'Name': 'Nelson', 'Tel': '09123456'}\n"
     ]
    }
   ],
   "source": [
    "def build_vip(id, name,tel=''):\n",
    "    vip_dict={'VIP_ID':id, 'Name':name}\n",
    "    if tel:\n",
    "        vip_dict['Tel']=tel\n",
    "    return vip_dict\n",
    "member1=build_vip('101','Pero')\n",
    "member2=build_vip('102','Nelson','09123456')\n",
    "print(member1,'\\n',type(member1))\n",
    "print(member2)\n"
   ]
  },
  {
   "cell_type": "code",
   "execution_count": 27,
   "metadata": {},
   "outputs": [
    {
     "name": "stdout",
     "output_type": "stream",
     "text": [
      "VIP system build up:\n",
      "Enter ID: 102\n",
      "Enter Name: Pero\n",
      "Enter Telephone number: 09123456\n",
      "{'VIP_ID': '102', 'Name': 'Pero', 'Tel': '09123456'}\n",
      "Do you continue to enter? y/n:y\n",
      "VIP system build up:\n",
      "Enter ID: 105\n",
      "Enter Name: Taylor\n",
      "Enter Telephone number: \n",
      "{'VIP_ID': '105', 'Name': 'Taylor'}\n",
      "Do you continue to enter? y/n:n\n",
      "Good bye\n"
     ]
    }
   ],
   "source": [
    "#上方的迴圈版本\n",
    "def build_vip(id, name,tel=''):\n",
    "    vip_dict={'VIP_ID':id, 'Name':name}\n",
    "    if tel:\n",
    "        vip_dict['Tel']=tel\n",
    "    return vip_dict\n",
    "while True:\n",
    "    print('VIP system build up:')\n",
    "    idnum=input('Enter ID: ')\n",
    "    name= input('Enter Name: ')\n",
    "    tel=input('Enter Telephone number: ')\n",
    "    member=build_vip(idnum, name,tel)\n",
    "    print(member)\n",
    "    repeat=input('Do you continue to enter? y/n:')\n",
    "    if repeat!='y':\n",
    "        break\n",
    "print('Good bye')"
   ]
  },
  {
   "cell_type": "markdown",
   "metadata": {},
   "source": [
    "# 使用list當參數"
   ]
  },
  {
   "cell_type": "code",
   "execution_count": 29,
   "metadata": {},
   "outputs": [
    {
     "name": "stdout",
     "output_type": "stream",
     "text": [
      "Dear:Pero\n",
      "We will enroll a production debut on 12/20/2020.\n",
      "Sincerely. \n",
      "\n",
      "Dear:Stickin\n",
      "We will enroll a production debut on 12/20/2020.\n",
      "Sincerely. \n",
      "\n",
      "Dear:Taylor\n",
      "We will enroll a production debut on 12/20/2020.\n",
      "Sincerely. \n",
      "\n",
      "Dear:Ada\n",
      "We will enroll a production debut on 12/20/2020.\n",
      "Sincerely. \n",
      "\n"
     ]
    }
   ],
   "source": [
    "def product_msg(customers):\n",
    "    str1='Dear:'\n",
    "    str2='We will enroll a production debut on 12/20/2020.'\n",
    "    str3='Sincerely.'\n",
    "    for customer in customers:\n",
    "        # list丟進去函數後可以遞迴取用元素\n",
    "        msg=str1+customer+'\\n'+str2+'\\n'+str3\n",
    "        print(msg,'\\n')\n",
    "members=['Pero','Stickin','Taylor','Ada']\n",
    "product_msg(members)"
   ]
  },
  {
   "cell_type": "markdown",
   "metadata": {},
   "source": [
    "# 把list做為參數傳入函數時，可傳遞 參照和 副本\n",
    "## 。把參照傳入函數，在函數內進行操作的話會更動原list, \n",
    "## 。傳遞副本不會更動原list。"
   ]
  },
  {
   "cell_type": "code",
   "execution_count": 40,
   "metadata": {},
   "outputs": [
    {
     "name": "stdout",
     "output_type": "stream",
     "text": [
      "Unserved meals: \n",
      "   BigMac\n",
      "   ChickenBurger\n",
      "   MacChicken\n",
      "Served meals: \n",
      "  All serve done. \n",
      "\n",
      "廚房處理所點的餐點\n",
      "Menu:  MacChicken\n",
      "Menu:  ChickenBurger\n",
      "Menu:  BigMac\n",
      "\n",
      " All service done. \n",
      "\n",
      "Unserved meals: \n",
      "There is no unserved meal. \n",
      "\n",
      "Served meals: \n",
      "   MacChicken\n",
      "   ChickenBurger\n",
      "   BigMac\n",
      "[]\n",
      "['MacChicken', 'ChickenBurger', 'BigMac']\n"
     ]
    }
   ],
   "source": [
    "# main中的unserved和 kitchen中的unserved會指向相同的記憶體空間\n",
    "def kitchen(unserved, served):\n",
    "    #把未服務的餐點轉為已服務\n",
    "    print('廚房處理所點的餐點')\n",
    "    while unserved:\n",
    "        current_meal=unserved.pop()\n",
    "        # 把第一筆未服務的餐點取出, 在此可看到在函數中對unserved做操作\n",
    "        print('Menu: ',current_meal)\n",
    "        served.append(current_meal)\n",
    "def show_unserved_meal(unserved):\n",
    "    #顯示未服務的餐點\n",
    "    print(\"Unserved meals: \")\n",
    "    if not unserved:\n",
    "        print(\"There is no unserved meal.\",'\\n')\n",
    "    for unserved_meal in unserved:    \n",
    "        print('  ',unserved_meal)\n",
    "def show_served_meal(served):\n",
    "    #顯示已服務的餐點\n",
    "    print(\"Served meals: \")\n",
    "    if not served:\n",
    "        print(\"  All serve done.\",'\\n')\n",
    "    for served_meal in served:    \n",
    "        print('  ',served_meal)\n",
    "\n",
    "#===============Main Function================\n",
    "\n",
    "unserved=['BigMac','ChickenBurger','MacChicken']\n",
    "served=[]\n",
    "#廚房處理前\n",
    "show_unserved_meal(unserved)\n",
    "show_served_meal(served)\n",
    "\n",
    "#服務過程\n",
    "kitchen(unserved, served)\n",
    "print('\\n','All service done.','\\n')\n",
    "\n",
    "#廚房處理後\n",
    "show_unserved_meal(unserved)\n",
    "show_served_meal(served)\n",
    "\n",
    "#可看到2個list已被改變\n",
    "print(unserved)\n",
    "print(served)\n"
   ]
  },
  {
   "cell_type": "code",
   "execution_count": 42,
   "metadata": {},
   "outputs": [
    {
     "name": "stdout",
     "output_type": "stream",
     "text": [
      "Unserved meals: \n",
      "   BigMac\n",
      "   ChickenBurger\n",
      "   MacChicken\n",
      "Served meals: \n",
      "   Empty Queue. \n",
      "\n",
      "廚房處理所點的餐點\n",
      "Menu:  MacChicken\n",
      "Menu:  ChickenBurger\n",
      "Menu:  BigMac\n",
      "\n",
      " All service done. \n",
      "\n",
      "Unserved meals: \n",
      "There is no unserved meal. \n",
      "\n",
      "Served meals: \n",
      "   MacChicken\n",
      "   ChickenBurger\n",
      "   BigMac\n",
      "[]\n",
      "['MacChicken', 'ChickenBurger', 'BigMac']\n"
     ]
    }
   ],
   "source": [
    "#即使main中用不同名稱(order_list/ served_list) 結果也相同\n",
    "def kitchen(unserved, served):\n",
    "    #把未服務的餐點轉為已服務\n",
    "    print('廚房處理所點的餐點')\n",
    "    while unserved:\n",
    "        current_meal=unserved.pop()\n",
    "        # 把第一筆未服務的餐點取出, 在此可看到函數中對unserved做操作\n",
    "        print('Menu: ',current_meal)\n",
    "        served.append(current_meal)\n",
    "def show_unserved_meal(unserved):\n",
    "    #顯示未服務的餐點\n",
    "    print(\"Unserved meals: \")\n",
    "    if not unserved:\n",
    "        print(\"There is no unserved meal.\",'\\n')\n",
    "    for unserved_meal in unserved:    \n",
    "        print('  ',unserved_meal)\n",
    "def show_served_meal(served):\n",
    "    #顯示已服務的餐點\n",
    "    print(\"Served meals: \")\n",
    "    if not served:\n",
    "        print('  ','Empty Queue.','\\n')\n",
    "    for served_meal in served:    \n",
    "        print('  ',served_meal)\n",
    "\n",
    "#===============Main Function================\n",
    "\n",
    "order_list=['BigMac','ChickenBurger','MacChicken']\n",
    "served_list=[]\n",
    "#廚房處理前\n",
    "show_unserved_meal(order_list)\n",
    "show_served_meal(served_list)\n",
    "\n",
    "#服務過程\n",
    "kitchen(order_list, served_list)\n",
    "print('\\n','All service done.','\\n')\n",
    "\n",
    "#廚房處理後\n",
    "show_unserved_meal(order_list)\n",
    "show_served_meal(served_list)\n",
    "\n",
    "print(order_list)\n",
    "print(served_list)"
   ]
  },
  {
   "cell_type": "code",
   "execution_count": 45,
   "metadata": {},
   "outputs": [
    {
     "name": "stdout",
     "output_type": "stream",
     "text": [
      "2150141503816\n",
      "2150141503816\n",
      "2150141682120\n",
      "['BigMac', 'ChickenBurger', 'MacChicken']\n",
      "['BigMac', 'ChickenBurger', 'MacChicken']\n",
      "['BigMac', 'ChickenBurger', 'MacChicken']\n"
     ]
    }
   ],
   "source": [
    "x=['BigMac','ChickenBurger','MacChicken']\n",
    "a=x\n",
    "b=x[:]\n",
    "\n",
    "# 分別指向不同記憶體\n",
    "print(id(x), id(a), id(b),sep='\\n')\n",
    "#但內容相同\n",
    "print(x,a,b,sep='\\n')"
   ]
  },
  {
   "cell_type": "code",
   "execution_count": 48,
   "metadata": {},
   "outputs": [
    {
     "name": "stdout",
     "output_type": "stream",
     "text": [
      "Unserved meals: \n",
      "   BigMac\n",
      "   ChickenBurger\n",
      "   MacChicken\n",
      "Served meals: \n",
      "   Empty Queue. \n",
      "\n",
      "廚房處理中的餐點\n",
      "Menu:  MacChicken\n",
      "Menu:  ChickenBurger\n",
      "Menu:  BigMac\n",
      "\n",
      " All service done. \n",
      "\n",
      "Unserved meals: \n",
      "   BigMac\n",
      "   ChickenBurger\n",
      "   MacChicken\n",
      "Served meals: \n",
      "   Empty Queue. \n",
      "\n",
      "['BigMac', 'ChickenBurger', 'MacChicken']\n",
      "[]\n"
     ]
    }
   ],
   "source": [
    "# 傳遞list的副本 kitchen(lista[:])\n",
    "def kitchen(unserved, served):\n",
    "    #把未服務的餐點轉為已服務\n",
    "    print('廚房處理中的餐點')\n",
    "    while unserved:\n",
    "        current_meal=unserved.pop()\n",
    "        # 把第一筆未服務的餐點取出, 在此可看到函數中對unserved做操作\n",
    "        print('Menu: ',current_meal)\n",
    "        served.append(current_meal)\n",
    "def show_unserved_meal(unserved):\n",
    "    #顯示未服務的餐點\n",
    "    print(\"Unserved meals: \")\n",
    "    if not unserved:\n",
    "        print(\"There is no unserved meal.\",'\\n')\n",
    "    for unserved_meal in unserved:    \n",
    "        print('  ',unserved_meal)\n",
    "def show_served_meal(served):\n",
    "    #顯示已服務的餐點\n",
    "    print(\"Served meals: \")\n",
    "    if not served:\n",
    "        print('  ','Empty Queue.','\\n')\n",
    "    for served_meal in served:    \n",
    "        print('  ',served_meal)\n",
    "\n",
    "#===============Main Function================\n",
    "\n",
    "order_list=['BigMac','ChickenBurger','MacChicken']\n",
    "served_list=[]\n",
    "#廚房處理前\n",
    "show_unserved_meal(order_list)\n",
    "show_served_meal(served_list)\n",
    "\n",
    "#服務過程\n",
    "kitchen(order_list[:], served_list[:])\n",
    "print('\\n','All service done.','\\n')\n",
    "\n",
    "#廚房處理後 可發現2個list的內容沒改變\n",
    "show_unserved_meal(order_list)\n",
    "show_served_meal(served_list)\n",
    "\n",
    "print(order_list)\n",
    "print(served_list)"
   ]
  },
  {
   "cell_type": "markdown",
   "metadata": {},
   "source": [
    "# 傳遞任意數量參數：使用 * 符號"
   ]
  },
  {
   "cell_type": "code",
   "execution_count": 49,
   "metadata": {},
   "outputs": [
    {
     "name": "stdout",
     "output_type": "stream",
     "text": [
      "Formula of this Icecream: \n",
      "--- strawberry\n",
      "Formula of this Icecream: \n",
      "--- strawberry\n",
      "--- chocolate\n",
      "--- raisin\n"
     ]
    }
   ],
   "source": [
    "# 參數前面加 *\n",
    "def make_icecream(*toppings):\n",
    "    #列出配方\n",
    "    print(\"Formula of this Icecream: \")\n",
    "    for element in toppings:\n",
    "        print('---',element)\n",
    "        \n",
    "make_icecream('strawberry')\n",
    "make_icecream('strawberry','chocolate','raisin')"
   ]
  },
  {
   "cell_type": "markdown",
   "metadata": {},
   "source": [
    "## 含有一般參數與任意數量參數的函數，任意參數要放在右邊"
   ]
  },
  {
   "cell_type": "code",
   "execution_count": 52,
   "metadata": {},
   "outputs": [
    {
     "name": "stdout",
     "output_type": "stream",
     "text": [
      "Formula of Vanila : \n",
      "--- strawberry\n",
      "Formula of Mango : \n",
      "--- strawberry\n",
      "--- chocolate\n",
      "--- raisin\n"
     ]
    }
   ],
   "source": [
    "def make_icecream(icecream_type,*toppings):\n",
    "    print(\"Formula of\", icecream_type,': ')\n",
    "    for element in toppings:\n",
    "        print('---',element)\n",
    "make_icecream('Vanila','strawberry')\n",
    "make_icecream('Mango','strawberry','chocolate','raisin')"
   ]
  },
  {
   "cell_type": "markdown",
   "metadata": {},
   "source": [
    "## 含有一般參數與任意數量的keyword arguments: 使用**"
   ]
  },
  {
   "cell_type": "code",
   "execution_count": 55,
   "metadata": {},
   "outputs": [
    {
     "name": "stdout",
     "output_type": "stream",
     "text": [
      "{'Name': 'James', 'Age': '32', 'Key': 'Ohio'}\n"
     ]
    }
   ],
   "source": [
    "def build_dict(name, age, **players):\n",
    "    #建立NBA球員的字典\n",
    "    info={}\n",
    "    info['Name']=name\n",
    "    info['Age']=age\n",
    "    for key,value in players.items():\n",
    "        info['Key']=value\n",
    "    return info\n",
    "\n",
    "player_dict=build_dict('James','32',City='Cleverland',State='Ohio')\n",
    "print(player_dict)"
   ]
  },
  {
   "cell_type": "markdown",
   "metadata": {},
   "source": [
    "# 結論\n",
    "## 1. 函數定義時\n",
    "### 。使用*，會把所有參數放入tuple中供函數使用\n",
    "### 。使用**，會把所有key arguments放入dict中供函數使用\n",
    "\n",
    "## 2. 函數呼叫時\n",
    "### 。在list, tuple, set前加*會把容器中的所有元素unpack, 變成位置參數\n",
    "### 。在dict前加*會把字典的key轉成位置參數\n",
    "### 。在dict前加**會把字典的(key, value) pair變成keyword arguments"
   ]
  },
  {
   "cell_type": "code",
   "execution_count": 65,
   "metadata": {},
   "outputs": [
    {
     "name": "stdout",
     "output_type": "stream",
     "text": [
      "({'a': 'Ass', 'b': 'We', 'c': 'Can'},) <class 'tuple'>\n",
      "{'a': 'apple', 'b': 'banana', 'c': 'cat'} <class 'dict'>\n"
     ]
    }
   ],
   "source": [
    "# 讀一下下面\n",
    "# https://stackoverflow.com/questions/36901/what-does-double-star-asterisk-and-star-asterisk-do-for-parameters\n",
    "\n",
    "x={'a':'Ass','b':'We','c':'Can'}\n",
    "def Aniki1(*a):    \n",
    "    return a\n",
    "def Aniki2(**a):\n",
    "    return a\n",
    "#def Aniki3(**a,b=(1,2)):\n",
    "\n",
    "print(Aniki1(x), type(Aniki1(x)))\n",
    "print(Aniki2(a='apple',b='banana',c='cat'), type(Aniki2(a='apple',b='banana',c='cat')))"
   ]
  },
  {
   "cell_type": "code",
   "execution_count": null,
   "metadata": {},
   "outputs": [],
   "source": []
  }
 ],
 "metadata": {
  "kernelspec": {
   "display_name": "Python 3",
   "language": "python",
   "name": "python3"
  },
  "language_info": {
   "codemirror_mode": {
    "name": "ipython",
    "version": 3
   },
   "file_extension": ".py",
   "mimetype": "text/x-python",
   "name": "python",
   "nbconvert_exporter": "python",
   "pygments_lexer": "ipython3",
   "version": "3.6.5"
  }
 },
 "nbformat": 4,
 "nbformat_minor": 2
}
