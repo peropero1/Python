{
 "cells": [
  {
   "cell_type": "markdown",
   "metadata": {},
   "source": [
    "## About Kosarak\n",
    "- Distinct element: 606770\n",
    "- Number of incomming element: 990002\n",
    "- Top-10 frequent element and count: \n",
    "\n",
    "| element | frquent |\n",
    "| :----- | :----- |\n",
    "| 3 | 36133 |\n",
    "| 6 | 30225 |\n",
    "| 6 3 | 21139 |\n",
    "| 11 6 | 12769 |\n",
    "| 1 | 9766 |\n",
    "| 11 6 3 | 9083 |\n",
    "| 1 3 | 6002 |\n",
    "| 11 | 5374 |\n",
    "| 1 6 | 5046 |\n",
    "| 4 | 4290 |\n"
   ]
  },
  {
   "cell_type": "code",
   "execution_count": 3,
   "metadata": {},
   "outputs": [
    {
     "name": "stdout",
     "output_type": "stream",
     "text": [
      "Distinct element: 606770\n",
      "Number of incomming element: 990002\n",
      "Size of item_set: 16777440\n"
     ]
    }
   ],
   "source": [
    "# count distinct element, set不能把list丟進去，要轉成tuple\n",
    "import sys\n",
    "\n",
    "num_line=0\n",
    "count=0\n",
    "item_set=set()\n",
    "with open('kosarak.dat','r') as file:\n",
    "    while True:\n",
    "        line=tuple(file.readline().split())\n",
    "        if not line:\n",
    "            break\n",
    "        else:\n",
    "            num_line+=1\n",
    "            if line not in item_set:\n",
    "                item_set.add(line)\n",
    "print(\"Distinct element: {}\".format(len(item_set)))\n",
    "print(\"Number of incomming element: {}\".format(num_line))\n",
    "print(\"Size of item_set: {}\".format(sys.getsizeof(item_set)))"
   ]
  },
  {
   "cell_type": "code",
   "execution_count": 19,
   "metadata": {},
   "outputs": [
    {
     "name": "stdout",
     "output_type": "stream",
     "text": [
      "Distinct element: 606770\n",
      "Number of incomming element: 990002\n",
      "       Element  Count\n",
      "17           3  36133\n",
      "111          6  30225\n",
      "31         6 3  21139\n",
      "94        11 6  12769\n",
      "1            1   9766\n",
      "85      11 6 3   9083\n",
      "271        1 3   6002\n",
      "253         11   5374\n",
      "37         1 6   5046\n",
      "279          4   4290\n",
      "86        11 3   3756\n",
      "241         55   3561\n",
      "466      1 6 3   3510\n",
      "233        4 3   3000\n",
      "64        55 3   2377\n",
      "195     11 1 6   2375\n",
      "1525       4 6   2340\n",
      "742      4 6 3   1758\n",
      "250   11 1 6 3   1753\n",
      "89        6 55   1749\n"
     ]
    },
    {
     "data": {
      "text/plain": [
       "'\\nwith open(\"kosarak_distinct_count.txt\",\\'w\\') as write_obj:\\n    for item in sorted(itemdict.items(),key = lambda s: s[1],reverse=True):\\n        temp=list(item)\\n        tempstr=temp[0]+\\',\\'+str(temp[1])+\\'\\n\\'\\n        write_obj.write(tempstr)\\n'"
      ]
     },
     "execution_count": 19,
     "metadata": {},
     "output_type": "execute_result"
    }
   ],
   "source": [
    "# count distinct element frequency\n",
    "import pandas as pd \n",
    "\n",
    "num_line=0\n",
    "count=0\n",
    "itemdict={}\n",
    "with open('kosarak.dat','r') as file:\n",
    "    while True:\n",
    "        line=file.readline().strip('\\n')\n",
    "        if not line:\n",
    "            break\n",
    "        else:\n",
    "            num_line+=1         \n",
    "            if line not in itemdict:\n",
    "                itemdict[line]=1\n",
    "            else:\n",
    "                itemdict[line]+=1\n",
    "\n",
    "df=pd.DataFrame(list(itemdict.items()),columns=['Element', 'Count'])\n",
    "df=df.reset_index(drop=True)\n",
    "df=df.sort_values('Count',ascending=False)\n",
    "\n",
    "print(\"Distinct element: {}\".format(len(itemdict)))\n",
    "print(\"Number of incomming element: {}\".format(num_line))\n",
    "print(df.head(20))\n",
    "\n",
    "df.to_csv(\"kosarak_distinct_count.csv\",index=False)\n"
   ]
  },
  {
   "cell_type": "markdown",
   "metadata": {},
   "source": [
    "## Count-min sketch\n",
    "- Top-256 with size 2424 bytes.\n",
    "- Execution time:1.4817874431610107 seconds.\n",
    "- Top-512 with size 4728 bytes.\n",
    "- Execution time:228.55175113677979 seconds."
   ]
  },
  {
   "cell_type": "code",
   "execution_count": 18,
   "metadata": {},
   "outputs": [
    {
     "name": "stdout",
     "output_type": "stream",
     "text": [
      "[['3', 383], ['6', 292], ['6 3', 214], ['11 6', 158], ['1', 122], ['11 6 3', 95], ['1 3', 64], ['11 3', 58], ['1 6', 56], ['4', 49], ['11', 47], ['55', 42], ['1 6 3', 39], ['4 3', 33], ['55 3', 31], ['4 6 3', 25], ['11 1 6', 24], ['2', 21], ['4 6', 21], ['294', 21], ['11 4 6', 20], ['294 3', 20], ['6 55 3', 20], ['7', 19], ['6 55', 17], ['11 6 2', 17], ['218', 17], ['6 2', 16], ['11 1 6 3', 16], ['11 6 2 3', 16], ['2 3', 16], ['648', 16], ['6 294 3', 16], ['490', 15], ['27', 15], ['11 1', 15], ['73', 15], ['11 4 6 3', 14], ['6 2 3', 14], ['11 6 55 3', 14], ['490 3', 14], ['64', 13], ['77', 13], ['11 1 3', 13], ['1 55 9085 444', 13], ['3 316', 13], ['6 7', 12], ['218 6 1657 1658 3665 303 650 827 3436 91 9907 3 7 77 531 737 467', 12], ['490 6', 12], ['316', 12], ['6 3 77', 12], ['4 1', 11], ['138', 11], ['3693', 11], ['11 27 1 6 1898 860 1900 1769 3492 1914 3794 2342 215 1800 1801 2952 826 1131 5013 3 1714 1956 1496 5344 1499 205 5990 2805 1957 9761 9762 9763 3643 5929 9764 9765 9766 1958 1959 8865 9767 9768 9769 9770 2809 1960 9771 7498 5911 9772 6556 5080 6285 2810 9773 9774 1961 9775 1962 3923 1963 7897 9776 6287 1052 7380 576 2817 6294 4599 3834 290 148 787 3493 2826', 11], ['11 648 6', 11], ['4 1 6', 11], ['4 1 3', 11], ['218 6', 11], ['11 6 229 6163 91 135 662 136 967 448', 11], ['6 3 7', 11], ['314 6 10015', 11], ['269', 11], ['11 6 8757 3 64 7523 677', 10]] 256\n",
      "Top-256 with size 2424 bytes.\n",
      "Execution time:1.4817874431610107 seconds.\n"
     ]
    }
   ],
   "source": [
    "# count min sketch with kosarak, keeps top-256 elements,read 10000 items.\n",
    "\n",
    "import sys\n",
    "import time\n",
    "from probables import (CountMinSketch)\n",
    "\n",
    "start=time.time()\n",
    "topk=[]\n",
    "size=256\n",
    "item=10000\n",
    "cms = CountMinSketch(width=1024, depth=4)\n",
    "with open(\"kosarak.dat\",'r') as file:\n",
    "    while item:\n",
    "        line=file.readline().strip('\\n')\n",
    "        if not line:\n",
    "            break\n",
    "        else:\n",
    "            item-=1\n",
    "            cms.add(line)\n",
    "            count=cms.check(line)\n",
    "            if len(topk)==0:\n",
    "                topk.append([line,count])\n",
    "            else:\n",
    "                find=False\n",
    "                for i in range(len(topk)):\n",
    "                    if line==topk[i][0]:\n",
    "                        topk[i][1]=count\n",
    "                        topk=sorted(topk,key = lambda topk:topk[1],reverse=True)\n",
    "                        find=True\n",
    "                        break\n",
    "                if find==False:\n",
    "                    if len(topk)<size:\n",
    "                        topk.append([line,count])\n",
    "                        topk=sorted(topk,key = lambda topk:topk[1],reverse=True)\n",
    "                    else:\n",
    "                        topk.append([line,count])\n",
    "                        topk=sorted(topk,key = lambda topk:topk[1],reverse=True)\n",
    "                        topk.pop()\n",
    "end=time.time()\n",
    "print(topk[:64],len(topk))\n",
    "print(\"Top-{} with size {} bytes.\".format(len(topk),sys.getsizeof(topk)))\n",
    "print(\"Execution time:{} seconds.\".format(str(end-start)))"
   ]
  },
  {
   "cell_type": "code",
   "execution_count": 1,
   "metadata": {},
   "outputs": [
    {
     "name": "stdout",
     "output_type": "stream",
     "text": [
      "[['3', 36826], ['6', 30906], ['6 3', 21876], ['11 6', 13465], ['1', 10512], ['11 6 3', 9726], ['1 3', 6663], ['11', 6049], ['1 6', 5695], ['4', 4969], ['11 3', 4564], ['55', 4269], ['1 6 3', 4156], ['4 3', 3666], ['55 3', 3050], ['11 1 6', 3005], ['4 6', 2992], ['4 6 3', 2441], ['11 1 6 3', 2437], ['6 55', 2430], ['2', 2310], ['294', 2276], ['6 55 3', 2004], ['490', 1981], ['2 3', 1946], ['27', 1822], ['7', 1770], ['294 3', 1759], ['218', 1717], ['11 4 6', 1594], ['490 3', 1578], ['11 1', 1554], ['6 2', 1540], ['6 294', 1534], ['64', 1521], ['73', 1495], ['11 4 6 3', 1488], ['91', 1488], ['4 1', 1438], ['218 3', 1434], ['11 6 55', 1412], ['11 6 55 3', 1409], ['6 2 3', 1389], ['3 7', 1373], ['490 6', 1365], ['6 7', 1365], ['6 294 3', 1354], ['27 3', 1349], ['218 6', 1324], ['77', 1311], ['138', 1309], ['316', 1307], ['11 1 3', 1300], ['1 55', 1298], ['27 6', 1291], ['3 73', 1280], ['3 64', 1203], ['27 6 3', 1201], ['6 3 7', 1196], ['3 316', 1175], ['4 1 3', 1171], ['1 218 55 1065 2866 136', 1153], ['218 6 3', 1133], ['148', 1124], ['11 6 2', 1122], ['446', 1120], ['6 73', 1119], ['6 64', 1119], ['490 6 3', 1116], ['648', 1112], ['11 6 2 3', 1094], ['1751', 1090], ['6 91', 1087], ['145', 1086], ['6 138', 1083], ['11 6 77', 1075], ['11 27 1 6 83 115 729 7 49 205 8940 6286 6287 1051 1052 7958 6870 897 1980 4978 11754 421 438', 1069], ['269', 1069], ['11 6 294', 1068], ['6 3 73', 1064], ['138 3', 1061], ['5', 1059], ['6 3 64', 1057], ['3 446', 1051], ['993', 1050], ['4 1 6', 1049], ['1726 73', 1048], ['91 3', 1048], ['278', 1045], ['11 55', 1044], ['11 4', 1043], ['246', 1042], ['3 77', 1041], ['152', 1039], ['18', 1038], ['6 77', 1036], ['1 55 3', 1033], ['30490 3 442', 1032], ['11 7778 6 3', 1031], ['11 987 218 6 253 307 590 1751 148', 1022]] 1024\n",
      "Top-1024 with size 9328 bytes.\n",
      "Execution time:307.51479172706604 seconds.\n"
     ]
    }
   ],
   "source": [
    "# count min sketch with kosarak, keeps top-1024, full read\n",
    "\n",
    "import sys\n",
    "import time\n",
    "from probables import (CountMinSketch)\n",
    "\n",
    "start=time.time()\n",
    "topk=[]\n",
    "size=1024\n",
    "cms = CountMinSketch(width=1024, depth=4)\n",
    "with open(\"kosarak.dat\",'r') as file:\n",
    "    while True:\n",
    "        line=file.readline().strip('\\n')\n",
    "        if not line:\n",
    "            break\n",
    "        else:\n",
    "            cms.add(line)\n",
    "            count=cms.check(line)\n",
    "            if len(topk)==0:\n",
    "                topk.append([line,count])\n",
    "            else:\n",
    "                find=False\n",
    "                for i in range(len(topk)):\n",
    "                    if line==topk[i][0]:\n",
    "                        topk[i][1]=count\n",
    "                        topk=sorted(topk,key = lambda topk:topk[1],reverse=True)\n",
    "                        find=True\n",
    "                        break\n",
    "                if find==False:\n",
    "                    if len(topk)<size:\n",
    "                        topk.append([line,count])\n",
    "                        topk=sorted(topk,key = lambda topk:topk[1],reverse=True)\n",
    "                    else:\n",
    "                        topk.append([line,count])\n",
    "                        topk=sorted(topk,key = lambda topk:topk[1],reverse=True)\n",
    "                        topk.pop()\n",
    "end=time.time()\n",
    "print(topk[:100],len(topk))\n",
    "print(\"Top-{} with size {} bytes.\".format(len(topk),sys.getsizeof(topk)))\n",
    "print(\"Execution time:{} seconds.\".format(str(end-start)))"
   ]
  },
  {
   "cell_type": "code",
   "execution_count": 3,
   "metadata": {},
   "outputs": [
    {
     "name": "stdout",
     "output_type": "stream",
     "text": [
      "9432\n"
     ]
    }
   ],
   "source": [
    "import sys\n",
    "print(sys.getsizeof(topk)+sys.getsizeof(cms))"
   ]
  },
  {
   "cell_type": "markdown",
   "metadata": {},
   "source": [
    "## Space-Saving\n",
    "- Top-1024 with size 9328 bytes.\n",
    "- Execution time:3.5773608684539795 seconds.\n",
    "- Top-512 with size 4720 bytes.\n",
    "- Execution time:150.65503454208374 seconds."
   ]
  },
  {
   "cell_type": "code",
   "execution_count": 3,
   "metadata": {
    "scrolled": true
   },
   "outputs": [
    {
     "ename": "KeyboardInterrupt",
     "evalue": "",
     "output_type": "error",
     "traceback": [
      "\u001b[1;31m---------------------------------------------------------------------------\u001b[0m",
      "\u001b[1;31mKeyboardInterrupt\u001b[0m                         Traceback (most recent call last)",
      "\u001b[1;32m<ipython-input-3-cbf9c20d9ab2>\u001b[0m in \u001b[0;36m<module>\u001b[1;34m\u001b[0m\n\u001b[0;32m     19\u001b[0m                 \u001b[0mitemlist\u001b[0m\u001b[1;33m.\u001b[0m\u001b[0mappend\u001b[0m\u001b[1;33m(\u001b[0m\u001b[1;33m[\u001b[0m\u001b[0mline\u001b[0m\u001b[1;33m,\u001b[0m\u001b[1;36m1\u001b[0m\u001b[1;33m]\u001b[0m\u001b[1;33m)\u001b[0m\u001b[1;33m\u001b[0m\u001b[0m\n\u001b[0;32m     20\u001b[0m             \u001b[1;32melse\u001b[0m\u001b[1;33m:\u001b[0m\u001b[1;33m\u001b[0m\u001b[0m\n\u001b[1;32m---> 21\u001b[1;33m                 \u001b[1;32mfor\u001b[0m \u001b[0mi\u001b[0m \u001b[1;32min\u001b[0m \u001b[0mrange\u001b[0m\u001b[1;33m(\u001b[0m\u001b[0mlen\u001b[0m\u001b[1;33m(\u001b[0m\u001b[0mitemlist\u001b[0m\u001b[1;33m)\u001b[0m\u001b[1;33m)\u001b[0m\u001b[1;33m:\u001b[0m\u001b[1;33m\u001b[0m\u001b[0m\n\u001b[0m\u001b[0;32m     22\u001b[0m                     \u001b[1;32mif\u001b[0m \u001b[0mline\u001b[0m\u001b[1;33m==\u001b[0m\u001b[0mitemlist\u001b[0m\u001b[1;33m[\u001b[0m\u001b[0mi\u001b[0m\u001b[1;33m]\u001b[0m\u001b[1;33m[\u001b[0m\u001b[1;36m0\u001b[0m\u001b[1;33m]\u001b[0m\u001b[1;33m:\u001b[0m\u001b[1;33m\u001b[0m\u001b[0m\n\u001b[0;32m     23\u001b[0m                         \u001b[0mitemlist\u001b[0m\u001b[1;33m[\u001b[0m\u001b[0mi\u001b[0m\u001b[1;33m]\u001b[0m\u001b[1;33m[\u001b[0m\u001b[1;36m1\u001b[0m\u001b[1;33m]\u001b[0m\u001b[1;33m+=\u001b[0m\u001b[1;36m1\u001b[0m\u001b[1;33m\u001b[0m\u001b[0m\n",
      "\u001b[1;31mKeyboardInterrupt\u001b[0m: "
     ]
    }
   ],
   "source": [
    "# space saving kosarak, itemlist[i][0]為讀入的行，不為list,\n",
    "# keeps top-256 elements,read 10000 items.\n",
    "\n",
    "import sys\n",
    "import time\n",
    "start=time.time()\n",
    "\n",
    "size=1024\n",
    "itemlist=[]\n",
    "item=100\n",
    "with open(\"kosarak.dat\",'r') as file:\n",
    "    while True:\n",
    "        line=file.readline().strip('\\n')\n",
    "        if not line:\n",
    "            break\n",
    "        else:\n",
    "            item-=1\n",
    "            if len(itemlist)==0:\n",
    "                itemlist.append([line,1])\n",
    "            else:\n",
    "                for i in range(len(itemlist)):\n",
    "                    if line==itemlist[i][0]:\n",
    "                        itemlist[i][1]+=1\n",
    "                        found=True\n",
    "                        #print(\"found in itemlist[{}]\".format(i))\n",
    "                        break\n",
    "                    else:\n",
    "                        found=False\n",
    "                if found:\n",
    "                    pass\n",
    "                else:\n",
    "                    if len(itemlist)<size:\n",
    "                        itemlist.append([line,1])\n",
    "                    else:\n",
    "                        # len(itemset)=size\n",
    "                        last=len(itemlist)-1\n",
    "                        itemlist[last][0]=line\n",
    "                        itemlist[last][1]+=1\n",
    "            itemlist=sorted(itemlist,key = lambda itemlist: itemlist[1],reverse=True)\n",
    "        #print(\"itemlist:{}\\nlen(itemlist):{}\\n\".format(itemlist,len(itemlist)))\n",
    "end=time.time()\n",
    "\n",
    "print(itemlist[:100],len(itemlist))\n",
    "print(\"Top-{} with size {} bytes.\".format(len(itemlist),sys.getsizeof(itemlist)))\n",
    "print(\"Execution time:{} seconds.\".format(str(end-start)))"
   ]
  },
  {
   "cell_type": "code",
   "execution_count": 17,
   "metadata": {},
   "outputs": [
    {
     "name": "stdout",
     "output_type": "stream",
     "text": [
      "[[['3'], 36133], [['6'], 30225], [['6', '3'], 21139], [['11', '6'], 12769], [['1'], 9766], [['11', '6', '3'], 9083], ['766 3', 4490], ['11 6 55 514 278 28 7 1834 400 32 438', 4490], ['11 6 3 3262', 4490], ['218', 4490]]\n",
      "1912 bytes\n"
     ]
    }
   ],
   "source": [
    "# space saving kosarak, 讀入的line會變成list\n",
    "import sys\n",
    "size=200\n",
    "itemlist=[]\n",
    "income=0\n",
    "with open(\"kosarak.dat\",'r') as file:\n",
    "    while True:\n",
    "        line=file.readline().strip('\\n')\n",
    "        if not line:\n",
    "            break\n",
    "        else:\n",
    "            income+=1\n",
    "            temp=line.split()\n",
    "            if len(itemlist)==0:\n",
    "                itemlist.append([temp,1])\n",
    "            else:\n",
    "                for i in range(len(itemlist)):\n",
    "                    if temp==itemlist[i][0]:\n",
    "                        itemlist[i][1]+=1\n",
    "                        found=True\n",
    "                        #print(\"found in itemlist[{}]\".format(i))\n",
    "                        break\n",
    "                    else:\n",
    "                        found=False\n",
    "                if found:\n",
    "                    pass\n",
    "                else:\n",
    "                    if len(itemlist)<size:\n",
    "                        itemlist.append([temp,1])\n",
    "                    else:\n",
    "                        # len(itemset)=size\n",
    "                        last=len(itemlist)-1\n",
    "                        temp=itemlist[last][0]\n",
    "                        itemlist[last][0]=line\n",
    "                        itemlist[last][1]+=1\n",
    "            itemlist=sorted(itemlist,key = lambda itemlist: itemlist[1],reverse=True)\n",
    "        #print(\"itemlist:{}\\nlen(itemlist):{}\\n\".format(itemlist,len(itemlist)))\n",
    "print(itemlist[:10])\n",
    "print(sys.getsizeof(itemlist),'bytes')"
   ]
  },
  {
   "cell_type": "code",
   "execution_count": 4,
   "metadata": {},
   "outputs": [
    {
     "name": "stdout",
     "output_type": "stream",
     "text": [
      "[['3', 36133], ['6', 30225], ['6 3', 21139], ['11 6', 12769], ['1', 9766], ['11 6 3', 9083], ['1 3', 6002], ['11', 5374], ['1 6', 5046], ['4', 4290], ['11 3', 3756], ['55', 3561], ['1 6 3', 3510], ['4 3', 3000], ['55 3', 2377], ['11 1 6', 2375], ['4 6', 2341], ['4 6 3', 1758], ['11 1 6 3', 1753], ['6 55', 1749], ['294', 1653], ['2', 1601], ['6 55 3', 1375], ['490', 1226], ['27', 1168], ['294 3', 1162], ['2 3', 1152], ['7', 1100], ['218', 1056], ['11 4 6', 954], ['64', 915], ['6 294', 893], ['6 2', 882], ['11 1', 880], ['91', 866], ['73', 853], ['490 3', 846], ['11 4 6 3', 828], ['6 294 3', 823], ['4 1', 821], ['6 2 3', 821], ['3 73', 820], ['27 6 3', 820], ['27 3', 819], ['6 7', 819], ['11 6 55', 819], ['4 1 3', 818], ['218 3', 818], ['3 7', 818], ['316', 818], ['18', 818], ['11 6 55 3', 817], ['11 218 6 3', 817], ['4 55 3', 817], ['278', 817], ['584', 817], ['6 91', 817], ['142 3', 817], ['6 504 3', 817], ['1056', 817], ['4 1 6', 816], ['1 55', 816], ['11 1 3', 816], ['667', 816], ['1 218', 816], ['799 6 3', 816], ['246 11 218 6', 816], ['528 3', 816], ['6 12 21539 33867 3 73', 816], ['9286', 816], ['672', 816], ['324 325 326 327 328 329 330 331 332 333 334 335 336 337 338 339 1438 1439 11 27 218 40 6 344 991 303 6665 2163 253 4520 1121 358 2329 2044 369 970 260 1532 842 504 2005 3454 808 273 3 1069 7 5979 321 77 1001 148 438 916 496', 816], ['269 138 3', 816], ['1823 11 6 2163 2821 1035 776 2874 521 2959 3 28943 135 3102 136 1101 1141 455 3092', 816], ['6 3 7391', 816], ['1352 6', 816], ['1057 27 3 6901 677', 816], ['11 6 3 13960 77 4597 1615 667', 816], ['27 1 6 7 3904 1495 3283 3284 3905 1496 205 9928 10728 1503 1504 1505 5894 1506 1507 4006 8076 8941 1052 3924 3915 9930 3005 8338 8155 12882 6748 7732 3289 4401 673 6484 5899 5900 8158 6462 7734 9482 10117 14057 8425 13581 4003 2817 674 3208 5902 3294 10928 14475 2229 14409 3209 5452 5453 5454 5455 10690 8101 10691 4415 212 3210 134 9000 87 1868 8173 321', 816], ['138 3 21330', 816], ['218 294 3 15553 423', 816], ['490 16495', 816], ['11 27 6 1991 2843 3 7 1976 1977 211 2313 87', 816], ['11 6 8065', 816], ['1 6 2866', 816], ['11 1057 1 3', 816], ['22360', 816], ['11 2086 40 314 6 215 28 32 205 8839', 816], ['4 19044 3', 816], ['11 4 922 6 3 12583', 816], ['27 6 21680 3 49 53', 816], ['11 6 6230', 816], ['11 2324 15569 3 2457', 816], ['11 2309 6 2 5368 83', 816], ['1 6 1837 126 8945', 816], ['7 2065', 816], ['11 6 215 90 91 3', 816], ['4 4315 4648 3 7', 816], ['55 3 316', 816], ['512', 816]] 1024\n",
      "Top-1024 with size 9328 bytes.\n",
      "Execution time:303.9870328903198 seconds.\n"
     ]
    }
   ],
   "source": [
    "# space saving kosarak, top-1024 elements, full test\n",
    "# Execution time:303.9870328903198 seconds\n",
    "\n",
    "import sys\n",
    "import time\n",
    "start=time.time()\n",
    "\n",
    "size=1024\n",
    "itemlist=[]\n",
    "with open(\"kosarak.dat\",'r') as file:\n",
    "    while True:\n",
    "        line=file.readline().strip('\\n')\n",
    "        if not line:\n",
    "            break\n",
    "        else:\n",
    "            if len(itemlist)==0:\n",
    "                itemlist.append([line,1])\n",
    "            else:\n",
    "                for i in range(len(itemlist)):\n",
    "                    if line==itemlist[i][0]:\n",
    "                        itemlist[i][1]+=1\n",
    "                        found=True\n",
    "                        #print(\"found in itemlist[{}]\".format(i))\n",
    "                        break\n",
    "                    else:\n",
    "                        found=False\n",
    "                if found:\n",
    "                    pass\n",
    "                else:\n",
    "                    if len(itemlist)<size:\n",
    "                        itemlist.append([line,1])\n",
    "                    else:\n",
    "                        # len(itemset)=size\n",
    "                        last=len(itemlist)-1\n",
    "                        itemlist[last][0]=line\n",
    "                        itemlist[last][1]+=1\n",
    "            itemlist=sorted(itemlist,key = lambda itemlist: itemlist[1],reverse=True)\n",
    "        #print(\"itemlist:{}\\nlen(itemlist):{}\\n\".format(itemlist,len(itemlist)))\n",
    "end=time.time()\n",
    "\n",
    "print(itemlist[:100],len(itemlist))\n",
    "print(\"Top-{} with size {} bytes.\".format(len(itemlist),sys.getsizeof(itemlist)))\n",
    "print(\"Execution time:{} seconds.\".format(str(end-start)))"
   ]
  },
  {
   "cell_type": "code",
   "execution_count": null,
   "metadata": {},
   "outputs": [],
   "source": []
  }
 ],
 "metadata": {
  "kernelspec": {
   "display_name": "Python 3",
   "language": "python",
   "name": "python3"
  },
  "language_info": {
   "codemirror_mode": {
    "name": "ipython",
    "version": 3
   },
   "file_extension": ".py",
   "mimetype": "text/x-python",
   "name": "python",
   "nbconvert_exporter": "python",
   "pygments_lexer": "ipython3",
   "version": "3.6.5"
  }
 },
 "nbformat": 4,
 "nbformat_minor": 4
}
