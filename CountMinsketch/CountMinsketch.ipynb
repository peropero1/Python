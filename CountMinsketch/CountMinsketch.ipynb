{
 "cells": [
  {
   "cell_type": "code",
   "execution_count": 38,
   "metadata": {},
   "outputs": [
    {
     "name": "stdout",
     "output_type": "stream",
     "text": [
      "Truth    CMS\n",
      "29       30 \n",
      "19       25 \n",
      "10       12 \n",
      "8        14 \n",
      "8        12 \n",
      "6        9  \n",
      "3        5  \n",
      "3        4  \n",
      "3        6  \n",
      "3        4  \n",
      "2        5  \n",
      "2        12 \n",
      "2        5  \n",
      "2        5  \n",
      "2        5  \n",
      "1        3  \n",
      "1        5  \n",
      "1        3  \n",
      "1        9  \n",
      "1        5  \n",
      "1        5  \n",
      "1        5  \n",
      "1        5  \n",
      "1        5  \n",
      "1        5  \n",
      "1        1  \n",
      "1        2  \n",
      "1        7  \n",
      "1        11 \n",
      "1        5  \n",
      "1        6  \n",
      "1        3  \n",
      "1        11 \n",
      "1        5  \n",
      "1        9  \n",
      "1        13 \n",
      "1        4  \n",
      "1        5  \n",
      "1        3  \n",
      "1        11 \n",
      "1        6  \n",
      "1        5  \n",
      "1        2  \n",
      "1        5  \n"
     ]
    }
   ],
   "source": [
    "x=[['b', 29], ['a', 19], ['g', 10], ['h', 8], ['j', 8], ['f', 6], ['d', 3], ['l', 3], \n",
    "   ['y', 3], ['12', 3], ['abc', 2], ['def', 2], ['c', 2], ['k', 2], ['sdf', 2], ['n', 1], ['1', 1], \n",
    "   ['2', 1], ['3', 1], ['4', 1], ['5', 1], ['65', 1], ['67', 1], ['7', 1], ['s', 1], ['z', 1], ['x', 1], ['v', 1], ['hh', 1], ['m', 1], ['jk', 1], ['i', 1], ['34', 1], ['54', 1], ['56', 1], ['6', 1], ['bg', 1], ['fsdf', 1], ['sf', 1], ['dsf', 1], ['sd', 1], ['dsg', 1], ['jj', 1], ['gh', 1]]\n",
    "\n",
    "from probables import (CountMinSketch)\n",
    "cms = CountMinSketch(width=10, depth=4)\n",
    "with open(\"test.dat\",'r') as file:\n",
    "    while True:\n",
    "        line=file.readline().strip('\\n')\n",
    "        if not line:\n",
    "            break\n",
    "        else:\n",
    "            cms.add(line)\n",
    "print(\"Truth    CMS\")            \n",
    "for i in range(len(x)):\n",
    "    print(\"{:<3d}      {:<3d}\".format(x[i][1],cms.check(x[i][0]))) "
   ]
  },
  {
   "cell_type": "code",
   "execution_count": 27,
   "metadata": {},
   "outputs": [
    {
     "name": "stdout",
     "output_type": "stream",
     "text": [
      "[['b', 29], ['a', 25], ['g', 11], ['sdf', 10], ['jj', 10], ['gh', 10], ['j', 9], ['12', 9], ['f', 9], ['dsf', 9]]\n"
     ]
    }
   ],
   "source": [
    "# space saving\n",
    "\n",
    "size=10\n",
    "itemlist=[]\n",
    "income=0\n",
    "with open(\"test.dat\",'r') as file:\n",
    "    while True:\n",
    "        line=file.readline().strip('\\n')\n",
    "        if not line:\n",
    "            break\n",
    "        else:\n",
    "            income+=1\n",
    "            #print(\"incoming item {} is {}\".format(income,line))\n",
    "            if len(itemlist)==0:\n",
    "                itemlist.append([line,1])\n",
    "            else:\n",
    "                for i in range(len(itemlist)):\n",
    "                    if line==itemlist[i][0]:\n",
    "                        itemlist[i][1]+=1\n",
    "                        found=True\n",
    "                        #print(\"found in itemlist[{}]\".format(i))\n",
    "                        break\n",
    "                    else:\n",
    "                        found=False\n",
    "                if found:\n",
    "                    pass\n",
    "                else:\n",
    "                    if len(itemlist)<size:\n",
    "                        itemlist.append([line,1])\n",
    "                    else:\n",
    "                        # len(itemset)=size\n",
    "                        last=len(itemlist)-1\n",
    "                        temp=itemlist[last][0]\n",
    "                        itemlist[last][0]=line\n",
    "                        itemlist[last][1]+=1\n",
    "            itemlist=sorted(itemlist,key = lambda itemlist: itemlist[1],reverse=True)\n",
    "        #print(\"itemlist:{}\\nlen(itemlist):{}\\n\".format(itemlist,len(itemlist)))\n",
    "print(itemlist)"
   ]
  },
  {
   "cell_type": "code",
   "execution_count": 36,
   "metadata": {},
   "outputs": [
    {
     "name": "stdout",
     "output_type": "stream",
     "text": [
      "Truth    CMS     SS\n",
      "29       30      29 \n",
      "19       25      25 \n",
      "10       12      11 \n",
      "8        14      10 \n",
      "8        12      10 \n",
      "6        9       10 \n",
      "3        5       9  \n",
      "3        4       9  \n",
      "3        6       9  \n",
      "3        4       9  \n"
     ]
    }
   ],
   "source": [
    "print(\"Truth    CMS     SS\")\n",
    "for i in range(10):\n",
    "    print(\"{:<3d}      {:<3d}     {:<3d}\".format(x[i][1],cms.check(x[i][0]),itemlist[i][1]))"
   ]
  },
  {
   "cell_type": "code",
   "execution_count": null,
   "metadata": {},
   "outputs": [],
   "source": [
    "from pyprobables import hashes\n"
   ]
  }
 ],
 "metadata": {
  "kernelspec": {
   "display_name": "Python 3",
   "language": "python",
   "name": "python3"
  },
  "language_info": {
   "codemirror_mode": {
    "name": "ipython",
    "version": 3
   },
   "file_extension": ".py",
   "mimetype": "text/x-python",
   "name": "python",
   "nbconvert_exporter": "python",
   "pygments_lexer": "ipython3",
   "version": "3.6.5"
  }
 },
 "nbformat": 4,
 "nbformat_minor": 2
}
