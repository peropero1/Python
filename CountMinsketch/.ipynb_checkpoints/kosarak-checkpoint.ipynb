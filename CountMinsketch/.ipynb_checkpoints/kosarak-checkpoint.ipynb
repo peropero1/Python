{
 "cells": [
  {
   "cell_type": "code",
   "execution_count": 21,
   "metadata": {},
   "outputs": [
    {
     "name": "stdout",
     "output_type": "stream",
     "text": [
      "Distinct element: 606770\n",
      "Number of incomming element: 990003\n"
     ]
    }
   ],
   "source": [
    "# count distinct element, set不能把list丟進去，要轉成tuple\n",
    "num_line=0\n",
    "count=0\n",
    "item_set=set()\n",
    "with open('kosarak.dat','r') as file:\n",
    "    while True:\n",
    "        line=tuple(file.readline().split())\n",
    "        num_line+=1\n",
    "        if not line:\n",
    "            break\n",
    "        else:\n",
    "            if line not in item_set:\n",
    "                item_set.add(line)\n",
    "print(\"Distinct element: {}\".format(len(item_set)))\n",
    "print(\"Number of incomming element: {}\".format(num_line))"
   ]
  },
  {
   "cell_type": "code",
   "execution_count": 44,
   "metadata": {},
   "outputs": [
    {
     "name": "stdout",
     "output_type": "stream",
     "text": [
      "Distinct element: 606770\n",
      "Number of incomming element: 990003\n"
     ]
    }
   ],
   "source": [
    "# count distinct element\n",
    "num_line=0\n",
    "count=0\n",
    "itemdict={}\n",
    "with open('kosarak.dat','r') as file:\n",
    "    while True:\n",
    "        line=file.readline().strip('\\n')\n",
    "        num_line+=1\n",
    "        if not line:\n",
    "            break\n",
    "        else:\n",
    "            if line not in itemdict:\n",
    "                itemdict[line]=1\n",
    "            else:\n",
    "                itemdict[line]+=1\n",
    "print(\"Distinct element: {}\".format(len(itemdict)))\n",
    "print(\"Number of incomming element: {}\".format(num_line))\n",
    "\n",
    "with open(\"kosarak_distinct_count.txt\",'w') as write_obj:\n",
    "    for item in sorted(itemdict.items(),key = lambda s: s[1],reverse=True):\n",
    "        temp=list(item)\n",
    "        tempstr=temp[0]+','+str(temp[1])+'\\n'\n",
    "        write_obj.write(tempstr)"
   ]
  },
  {
   "cell_type": "markdown",
   "metadata": {},
   "source": [
    "## Count-min sketch\n",
    "- Top-256 with size 2424 bytes.\n",
    "- Execution time:1.4817874431610107 seconds.\n",
    "- Top-512 with size 4728 bytes.\n",
    "- Execution time:228.55175113677979 seconds."
   ]
  },
  {
   "cell_type": "code",
   "execution_count": 18,
   "metadata": {},
   "outputs": [
    {
     "name": "stdout",
     "output_type": "stream",
     "text": [
      "[['3', 383], ['6', 292], ['6 3', 214], ['11 6', 158], ['1', 122], ['11 6 3', 95], ['1 3', 64], ['11 3', 58], ['1 6', 56], ['4', 49], ['11', 47], ['55', 42], ['1 6 3', 39], ['4 3', 33], ['55 3', 31], ['4 6 3', 25], ['11 1 6', 24], ['2', 21], ['4 6', 21], ['294', 21], ['11 4 6', 20], ['294 3', 20], ['6 55 3', 20], ['7', 19], ['6 55', 17], ['11 6 2', 17], ['218', 17], ['6 2', 16], ['11 1 6 3', 16], ['11 6 2 3', 16], ['2 3', 16], ['648', 16], ['6 294 3', 16], ['490', 15], ['27', 15], ['11 1', 15], ['73', 15], ['11 4 6 3', 14], ['6 2 3', 14], ['11 6 55 3', 14], ['490 3', 14], ['64', 13], ['77', 13], ['11 1 3', 13], ['1 55 9085 444', 13], ['3 316', 13], ['6 7', 12], ['218 6 1657 1658 3665 303 650 827 3436 91 9907 3 7 77 531 737 467', 12], ['490 6', 12], ['316', 12], ['6 3 77', 12], ['4 1', 11], ['138', 11], ['3693', 11], ['11 27 1 6 1898 860 1900 1769 3492 1914 3794 2342 215 1800 1801 2952 826 1131 5013 3 1714 1956 1496 5344 1499 205 5990 2805 1957 9761 9762 9763 3643 5929 9764 9765 9766 1958 1959 8865 9767 9768 9769 9770 2809 1960 9771 7498 5911 9772 6556 5080 6285 2810 9773 9774 1961 9775 1962 3923 1963 7897 9776 6287 1052 7380 576 2817 6294 4599 3834 290 148 787 3493 2826', 11], ['11 648 6', 11], ['4 1 6', 11], ['4 1 3', 11], ['218 6', 11], ['11 6 229 6163 91 135 662 136 967 448', 11], ['6 3 7', 11], ['314 6 10015', 11], ['269', 11], ['11 6 8757 3 64 7523 677', 10]] 256\n",
      "Top-256 with size 2424 bytes.\n",
      "Execution time:1.4817874431610107 seconds.\n"
     ]
    }
   ],
   "source": [
    "# count min sketch with kosarak, keeps top-256 elements,read 10000 items.\n",
    "\n",
    "import sys\n",
    "import time\n",
    "from probables import (CountMinSketch)\n",
    "\n",
    "start=time.time()\n",
    "topk=[]\n",
    "size=256\n",
    "item=10000\n",
    "cms = CountMinSketch(width=1024, depth=4)\n",
    "with open(\"kosarak.dat\",'r') as file:\n",
    "    while item:\n",
    "        line=file.readline().strip('\\n')\n",
    "        if not line:\n",
    "            break\n",
    "        else:\n",
    "            item-=1\n",
    "            cms.add(line)\n",
    "            count=cms.check(line)\n",
    "            if len(topk)==0:\n",
    "                topk.append([line,count])\n",
    "            else:\n",
    "                find=False\n",
    "                for i in range(len(topk)):\n",
    "                    if line==topk[i][0]:\n",
    "                        topk[i][1]=count\n",
    "                        topk=sorted(topk,key = lambda topk:topk[1],reverse=True)\n",
    "                        find=True\n",
    "                        break\n",
    "                if find==False:\n",
    "                    if len(topk)<size:\n",
    "                        topk.append([line,count])\n",
    "                        topk=sorted(topk,key = lambda topk:topk[1],reverse=True)\n",
    "                    else:\n",
    "                        topk.append([line,count])\n",
    "                        topk=sorted(topk,key = lambda topk:topk[1],reverse=True)\n",
    "                        topk.pop()\n",
    "end=time.time()\n",
    "print(topk[:64],len(topk))\n",
    "print(\"Top-{} with size {} bytes.\".format(len(topk),sys.getsizeof(topk)))\n",
    "print(\"Execution time:{} seconds.\".format(str(end-start)))"
   ]
  },
  {
   "cell_type": "code",
   "execution_count": 19,
   "metadata": {},
   "outputs": [
    {
     "name": "stdout",
     "output_type": "stream",
     "text": [
      "[['3', 36826], ['6', 30906], ['6 3', 21876], ['11 6', 13465], ['1', 10512], ['11 6 3', 9726], ['1 3', 6663], ['11', 6049], ['1 6', 5695], ['4', 4969], ['11 3', 4564], ['55', 4269], ['1 6 3', 4156], ['4 3', 3666], ['55 3', 3050], ['11 1 6', 3005], ['4 6', 2992], ['4 6 3', 2441], ['11 1 6 3', 2437], ['6 55', 2430], ['2', 2310], ['294', 2276], ['6 55 3', 2004], ['490', 1981], ['2 3', 1946], ['27', 1822], ['7', 1770], ['294 3', 1759], ['218', 1717], ['11 4 6', 1594], ['490 3', 1578], ['11 1', 1554], ['6 2', 1540], ['6 294', 1534], ['64', 1521], ['73', 1495], ['11 4 6 3', 1488], ['91', 1488], ['4 1', 1438], ['218 3', 1434], ['11 6 55', 1412], ['11 6 55 3', 1409], ['6 2 3', 1389], ['3 7', 1373], ['490 6', 1365], ['6 7', 1365], ['6 294 3', 1354], ['27 3', 1349], ['218 6', 1324], ['77', 1311], ['138', 1309], ['316', 1307], ['11 1 3', 1300], ['1 55', 1298], ['27 6', 1291], ['3 73', 1280], ['3 64', 1203], ['27 6 3', 1201], ['6 3 7', 1196], ['3 316', 1175], ['4 1 3', 1171], ['1 218 55 1065 2866 136', 1153], ['218 6 3', 1133], ['148', 1124]] 512\n",
      "Top-512 with size 4728 bytes.\n",
      "Execution time:228.55175113677979 seconds.\n"
     ]
    }
   ],
   "source": [
    "# count min sketch with kosarak, keeps top-512, full read\n",
    "\n",
    "import sys\n",
    "import time\n",
    "from probables import (CountMinSketch)\n",
    "\n",
    "start=time.time()\n",
    "topk=[]\n",
    "size=512\n",
    "cms = CountMinSketch(width=1024, depth=4)\n",
    "with open(\"kosarak.dat\",'r') as file:\n",
    "    while True:\n",
    "        line=file.readline().strip('\\n')\n",
    "        if not line:\n",
    "            break\n",
    "        else:\n",
    "            cms.add(line)\n",
    "            count=cms.check(line)\n",
    "            if len(topk)==0:\n",
    "                topk.append([line,count])\n",
    "            else:\n",
    "                find=False\n",
    "                for i in range(len(topk)):\n",
    "                    if line==topk[i][0]:\n",
    "                        topk[i][1]=count\n",
    "                        topk=sorted(topk,key = lambda topk:topk[1],reverse=True)\n",
    "                        find=True\n",
    "                        break\n",
    "                if find==False:\n",
    "                    if len(topk)<size:\n",
    "                        topk.append([line,count])\n",
    "                        topk=sorted(topk,key = lambda topk:topk[1],reverse=True)\n",
    "                    else:\n",
    "                        topk.append([line,count])\n",
    "                        topk=sorted(topk,key = lambda topk:topk[1],reverse=True)\n",
    "                        topk.pop()\n",
    "end=time.time()\n",
    "print(topk[:64],len(topk))\n",
    "print(\"Top-{} with size {} bytes.\".format(len(topk),sys.getsizeof(topk)))\n",
    "print(\"Execution time:{} seconds.\".format(str(end-start)))"
   ]
  },
  {
   "cell_type": "markdown",
   "metadata": {},
   "source": [
    "## Space-Saving\n",
    "- Top-1024 with size 9328 bytes.\n",
    "- Execution time:3.5773608684539795 seconds.\n",
    "- Top-512 with size 4720 bytes.\n",
    "- Execution time:150.65503454208374 seconds."
   ]
  },
  {
   "cell_type": "code",
   "execution_count": 25,
   "metadata": {
    "scrolled": true
   },
   "outputs": [
    {
     "name": "stdout",
     "output_type": "stream",
     "text": [
      "[['3', 381], ['6', 290], ['6 3', 205], ['11 6', 152], ['1', 118], ['11 6 3', 92], ['1 3', 59], ['1 6', 53], ['11 3', 50], ['11', 43], ['4', 39], ['55', 39], ['1 6 3', 35], ['4 3', 29], ['55 3', 27], ['4 6', 20], ['4 6 3', 19], ['294', 17], ['11 1 6', 17], ['2', 16], ['6 55 3', 16], ['11 4 6', 15], ['294 3', 14], ['7', 13], ['73', 13], ['6 55', 12], ['11 4 6 3', 12], ['11 6 2', 12], ['27', 12], ['2 3', 12], ['6 294 3', 12], ['6 2', 11], ['11 1 6 3', 11], ['11 6 2 3', 11], ['218', 11], ['3 316', 11], ['11 1', 11], ['64', 10], ['490', 10], ['91 3', 10], ['1 55 3', 10], ['490 6', 10], ['648', 10], ['11 6 3 64', 10], ['6 3 7', 10], ['138', 9], ['11 1 3', 9], ['11 6 667', 9], ['6 91 3', 9], ['2895', 9], ['993', 9], ['11 4', 9], ['316', 9], ['6 3 77', 9], ['11 6 55 3', 9], ['11 218 6 1455 300 376 306 261 3 4776 7 897 4009 10 6915 212 10006 6916 6917 87 312 148', 9], ['3347', 9], ['2309 6 2 138 10007 7901 7 7904 6646 3351 897 136', 9], ['4 275 8424 3 278 10008', 9], ['4 934', 9], ['324 325 330 331 332 333 335 336 338 339 11 6 859 2 2012 4962 303 220 154 1034 260 45 523 1024 4963 2942 380 3322 8226 10009 4990 938 1714 2173 2876 1149 7060 3262 5017 558 100 102 1559 106 1071 852 10010 7141 711 833 3398 6110 3985 5969 4773 10011 584 2386 2093 644 64 3766 4068 1037 848 3146 1152 4618 9261 5713 77 290 737 438 1926 316', 9], ['1594', 9], ['4714 3', 9], ['1 6 2210 3', 9]] 1024\n",
      "Top-1024 with size 9328 bytes.\n",
      "Execution time:3.5773608684539795 seconds.\n"
     ]
    }
   ],
   "source": [
    "# space saving kosarak, itemlist[i][0]為讀入的行，不為list,\n",
    "# keeps top-256 elements,read 10000 items.\n",
    "\n",
    "import sys\n",
    "import time\n",
    "start=time.time()\n",
    "\n",
    "size=1024\n",
    "itemlist=[]\n",
    "item=10000\n",
    "with open(\"kosarak.dat\",'r') as file:\n",
    "    while item:\n",
    "        line=file.readline().strip('\\n')\n",
    "        if not line:\n",
    "            break\n",
    "        else:\n",
    "            item-=1\n",
    "            if len(itemlist)==0:\n",
    "                itemlist.append([line,1])\n",
    "            else:\n",
    "                for i in range(len(itemlist)):\n",
    "                    if line==itemlist[i][0]:\n",
    "                        itemlist[i][1]+=1\n",
    "                        found=True\n",
    "                        #print(\"found in itemlist[{}]\".format(i))\n",
    "                        break\n",
    "                    else:\n",
    "                        found=False\n",
    "                if found:\n",
    "                    pass\n",
    "                else:\n",
    "                    if len(itemlist)<size:\n",
    "                        itemlist.append([line,1])\n",
    "                    else:\n",
    "                        # len(itemset)=size\n",
    "                        last=len(itemlist)-1\n",
    "                        itemlist[last][0]=line\n",
    "                        itemlist[last][1]+=1\n",
    "            itemlist=sorted(itemlist,key = lambda itemlist: itemlist[1],reverse=True)\n",
    "        #print(\"itemlist:{}\\nlen(itemlist):{}\\n\".format(itemlist,len(itemlist)))\n",
    "end=time.time()\n",
    "\n",
    "print(itemlist[:64],len(itemlist))\n",
    "print(\"Top-{} with size {} bytes.\".format(len(itemlist),sys.getsizeof(itemlist)))\n",
    "print(\"Execution time:{} seconds.\".format(str(end-start)))"
   ]
  },
  {
   "cell_type": "code",
   "execution_count": 17,
   "metadata": {},
   "outputs": [
    {
     "name": "stdout",
     "output_type": "stream",
     "text": [
      "[[['3'], 36133], [['6'], 30225], [['6', '3'], 21139], [['11', '6'], 12769], [['1'], 9766], [['11', '6', '3'], 9083], ['766 3', 4490], ['11 6 55 514 278 28 7 1834 400 32 438', 4490], ['11 6 3 3262', 4490], ['218', 4490]]\n",
      "1912 bytes\n"
     ]
    }
   ],
   "source": [
    "# space saving kosarak, 讀入的line會變成list\n",
    "import sys\n",
    "size=200\n",
    "itemlist=[]\n",
    "income=0\n",
    "with open(\"kosarak.dat\",'r') as file:\n",
    "    while True:\n",
    "        line=file.readline().strip('\\n')\n",
    "        if not line:\n",
    "            break\n",
    "        else:\n",
    "            income+=1\n",
    "            temp=line.split()\n",
    "            if len(itemlist)==0:\n",
    "                itemlist.append([temp,1])\n",
    "            else:\n",
    "                for i in range(len(itemlist)):\n",
    "                    if temp==itemlist[i][0]:\n",
    "                        itemlist[i][1]+=1\n",
    "                        found=True\n",
    "                        #print(\"found in itemlist[{}]\".format(i))\n",
    "                        break\n",
    "                    else:\n",
    "                        found=False\n",
    "                if found:\n",
    "                    pass\n",
    "                else:\n",
    "                    if len(itemlist)<size:\n",
    "                        itemlist.append([temp,1])\n",
    "                    else:\n",
    "                        # len(itemset)=size\n",
    "                        last=len(itemlist)-1\n",
    "                        temp=itemlist[last][0]\n",
    "                        itemlist[last][0]=line\n",
    "                        itemlist[last][1]+=1\n",
    "            itemlist=sorted(itemlist,key = lambda itemlist: itemlist[1],reverse=True)\n",
    "        #print(\"itemlist:{}\\nlen(itemlist):{}\\n\".format(itemlist,len(itemlist)))\n",
    "print(itemlist[:10])\n",
    "print(sys.getsizeof(itemlist),'bytes')"
   ]
  },
  {
   "cell_type": "code",
   "execution_count": 26,
   "metadata": {},
   "outputs": [
    {
     "name": "stdout",
     "output_type": "stream",
     "text": [
      "[['3', 36133], ['6', 30225], ['6 3', 21139], ['11 6', 12769], ['1', 9766], ['11 6 3', 9083], ['1 3', 6002], ['11', 5374], ['1 6', 5046], ['4', 4290], ['11 3', 3756], ['55', 3561], ['1 6 3', 3510], ['4 3', 3000], ['55 3', 2377], ['11 1 6', 2375], ['4 6', 2341], ['4 6 3', 1758], ['11 1 6 3', 1753], ['6 55', 1749], ['294', 1653], ['2', 1601], ['6 55 3', 1375], ['490', 1226], ['27', 1168], ['294 3', 1162], ['2 3', 1152], ['7', 1100], ['218', 1056], ['11 4 6', 954], ['64', 915], ['6 294', 893], ['6 2', 882], ['11 1', 880], ['91', 866], ['73', 853], ['490 3', 846], ['11 4 6 3', 828], ['6 294 3', 823], ['4 1', 821], ['6 2 3', 821], ['3 73', 820], ['27 6 3', 820], ['27 3', 819], ['6 7', 819], ['11 6 55', 819], ['4 1 3', 818], ['218 3', 818], ['3 7', 818], ['316', 818], ['18', 818], ['11 6 55 3', 817], ['11 218 6 3', 817], ['4 55 3', 817], ['278', 817], ['584', 817], ['6 91', 817], ['142 3', 817], ['6 504 3', 817], ['1056', 817], ['4 1 6', 816], ['1 55', 816], ['11 1 3', 816], ['667', 816]] 1024\n",
      "Top-1024 with size 9328 bytes.\n",
      "Execution time:373.19045400619507 seconds.\n"
     ]
    }
   ],
   "source": [
    "# space saving kosarak, top-1024 elements, full test\n",
    "\n",
    "import sys\n",
    "import time\n",
    "start=time.time()\n",
    "\n",
    "size=1024\n",
    "itemlist=[]\n",
    "with open(\"kosarak.dat\",'r') as file:\n",
    "    while True:\n",
    "        line=file.readline().strip('\\n')\n",
    "        if not line:\n",
    "            break\n",
    "        else:\n",
    "            if len(itemlist)==0:\n",
    "                itemlist.append([line,1])\n",
    "            else:\n",
    "                for i in range(len(itemlist)):\n",
    "                    if line==itemlist[i][0]:\n",
    "                        itemlist[i][1]+=1\n",
    "                        found=True\n",
    "                        #print(\"found in itemlist[{}]\".format(i))\n",
    "                        break\n",
    "                    else:\n",
    "                        found=False\n",
    "                if found:\n",
    "                    pass\n",
    "                else:\n",
    "                    if len(itemlist)<size:\n",
    "                        itemlist.append([line,1])\n",
    "                    else:\n",
    "                        # len(itemset)=size\n",
    "                        last=len(itemlist)-1\n",
    "                        itemlist[last][0]=line\n",
    "                        itemlist[last][1]+=1\n",
    "            itemlist=sorted(itemlist,key = lambda itemlist: itemlist[1],reverse=True)\n",
    "        #print(\"itemlist:{}\\nlen(itemlist):{}\\n\".format(itemlist,len(itemlist)))\n",
    "end=time.time()\n",
    "\n",
    "print(itemlist[:64],len(itemlist))\n",
    "print(\"Top-{} with size {} bytes.\".format(len(itemlist),sys.getsizeof(itemlist)))\n",
    "print(\"Execution time:{} seconds.\".format(str(end-start)))"
   ]
  },
  {
   "cell_type": "markdown",
   "metadata": {},
   "source": [
    "## My algo"
   ]
  },
  {
   "cell_type": "code",
   "execution_count": null,
   "metadata": {},
   "outputs": [],
   "source": [
    "topk=[]\n",
    "depth=1024\n",
    "SK=[depth]\n",
    "\n",
    "\n",
    "for incoming element e:\n",
    "    if topk is empty:\n",
    "        topk.append([e,1])\n",
    "    else:\n",
    "        if topk is not full :\n",
    "            if e is found in topk:\n",
    "                topk[e][count]+=1\n",
    "            else:\n",
    "                topk.append([e,1])\n",
    "        else:\n",
    "            SK[h1(e)]\n",
    "            \n",
    "            "
   ]
  },
  {
   "cell_type": "code",
   "execution_count": null,
   "metadata": {},
   "outputs": [],
   "source": [
    "# 10000 items\n",
    "\n",
    "import sys\n",
    "import time\n",
    "start=time.time()\n",
    "\n",
    "size=1024\n",
    "itemlist=[]\n",
    "item=10000\n",
    "depth=1024\n",
    "width=4\n",
    "\n",
    "with open(\"kosarak.dat\",'r') as file:\n",
    "    while item:\n",
    "        line=file.readline().strip('\\n')\n",
    "        if not line:\n",
    "            break\n",
    "        else:\n",
    "            item-=1\n",
    "            if len(itemlist)==0:\n",
    "                itemlist.append([line,1])\n",
    "            else:\n",
    "                for i in range(len(itemlist)):\n",
    "                    if line==itemlist[i][0]:\n",
    "                        itemlist[i][1]+=1\n",
    "                        found=True\n",
    "                        #print(\"found in itemlist[{}]\".format(i))\n",
    "                        break\n",
    "                    else:\n",
    "                        found=False\n",
    "                if found:\n",
    "                    pass\n",
    "                else:\n",
    "                    if len(itemlist)<size:\n",
    "                        itemlist.append([line,1])\n",
    "                    else:\n",
    "                        # len(itemset)=size\n",
    "                        last=len(itemlist)-1\n",
    "                        line=itemlist[last][0]\n",
    "                        itemlist[last][0]=line\n",
    "                        itemlist[last][1]+=1\n",
    "            itemlist=sorted(itemlist,key = lambda itemlist: itemlist[1],reverse=True)\n",
    "        #print(\"itemlist:{}\\nlen(itemlist):{}\\n\".format(itemlist,len(itemlist)))\n",
    "end=time.time()\n",
    "\n",
    "print(itemlist[:64],len(itemlist))\n",
    "print(\"Top-{} with size {} bytes.\".format(len(itemlist),sys.getsizeof(itemlist)))\n",
    "print(\"Execution time:{} seconds.\".format(str(end-start)))"
   ]
  },
  {
   "cell_type": "code",
   "execution_count": null,
   "metadata": {},
   "outputs": [],
   "source": []
  }
 ],
 "metadata": {
  "kernelspec": {
   "display_name": "Python 3",
   "language": "python",
   "name": "python3"
  },
  "language_info": {
   "codemirror_mode": {
    "name": "ipython",
    "version": 3
   },
   "file_extension": ".py",
   "mimetype": "text/x-python",
   "name": "python",
   "nbconvert_exporter": "python",
   "pygments_lexer": "ipython3",
   "version": "3.6.5"
  }
 },
 "nbformat": 4,
 "nbformat_minor": 4
}
