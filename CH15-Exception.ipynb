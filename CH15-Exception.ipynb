{
 "cells": [
  {
   "cell_type": "markdown",
   "metadata": {},
   "source": [
    "# exception"
   ]
  },
  {
   "cell_type": "code",
   "execution_count": 2,
   "metadata": {},
   "outputs": [
    {
     "ename": "ZeroDivisionError",
     "evalue": "division by zero",
     "output_type": "error",
     "traceback": [
      "\u001b[1;31m---------------------------------------------------------------------------\u001b[0m",
      "\u001b[1;31mZeroDivisionError\u001b[0m                         Traceback (most recent call last)",
      "\u001b[1;32m<ipython-input-2-5ed74ac55d94>\u001b[0m in \u001b[0;36m<module>\u001b[1;34m()\u001b[0m\n\u001b[0;32m      2\u001b[0m \u001b[1;32mdef\u001b[0m \u001b[0mdivision\u001b[0m\u001b[1;33m(\u001b[0m\u001b[0mx\u001b[0m\u001b[1;33m,\u001b[0m\u001b[0my\u001b[0m\u001b[1;33m)\u001b[0m\u001b[1;33m:\u001b[0m\u001b[1;33m\u001b[0m\u001b[0m\n\u001b[0;32m      3\u001b[0m     \u001b[1;32mreturn\u001b[0m \u001b[0mx\u001b[0m\u001b[1;33m/\u001b[0m\u001b[0my\u001b[0m\u001b[1;33m\u001b[0m\u001b[0m\n\u001b[1;32m----> 4\u001b[1;33m \u001b[0mdivision\u001b[0m\u001b[1;33m(\u001b[0m\u001b[1;36m2\u001b[0m\u001b[1;33m,\u001b[0m\u001b[1;36m0\u001b[0m\u001b[1;33m)\u001b[0m\u001b[1;33m\u001b[0m\u001b[0m\n\u001b[0m\u001b[0;32m      5\u001b[0m \u001b[0mdivision\u001b[0m\u001b[1;33m(\u001b[0m\u001b[1;36m4\u001b[0m\u001b[1;33m/\u001b[0m\u001b[1;36m2\u001b[0m\u001b[1;33m)\u001b[0m\u001b[1;33m\u001b[0m\u001b[0m\n",
      "\u001b[1;32m<ipython-input-2-5ed74ac55d94>\u001b[0m in \u001b[0;36mdivision\u001b[1;34m(x, y)\u001b[0m\n\u001b[0;32m      1\u001b[0m \u001b[1;31m#===================15.1 exception===================\u001b[0m\u001b[1;33m\u001b[0m\u001b[1;33m\u001b[0m\u001b[0m\n\u001b[0;32m      2\u001b[0m \u001b[1;32mdef\u001b[0m \u001b[0mdivision\u001b[0m\u001b[1;33m(\u001b[0m\u001b[0mx\u001b[0m\u001b[1;33m,\u001b[0m\u001b[0my\u001b[0m\u001b[1;33m)\u001b[0m\u001b[1;33m:\u001b[0m\u001b[1;33m\u001b[0m\u001b[0m\n\u001b[1;32m----> 3\u001b[1;33m     \u001b[1;32mreturn\u001b[0m \u001b[0mx\u001b[0m\u001b[1;33m/\u001b[0m\u001b[0my\u001b[0m\u001b[1;33m\u001b[0m\u001b[0m\n\u001b[0m\u001b[0;32m      4\u001b[0m \u001b[0mdivision\u001b[0m\u001b[1;33m(\u001b[0m\u001b[1;36m2\u001b[0m\u001b[1;33m,\u001b[0m\u001b[1;36m0\u001b[0m\u001b[1;33m)\u001b[0m\u001b[1;33m\u001b[0m\u001b[0m\n\u001b[0;32m      5\u001b[0m \u001b[0mdivision\u001b[0m\u001b[1;33m(\u001b[0m\u001b[1;36m4\u001b[0m\u001b[1;33m/\u001b[0m\u001b[1;36m2\u001b[0m\u001b[1;33m)\u001b[0m\u001b[1;33m\u001b[0m\u001b[0m\n",
      "\u001b[1;31mZeroDivisionError\u001b[0m: division by zero"
     ]
    }
   ],
   "source": [
    "def division(x,y):\n",
    "    return x/y\n",
    "division(2,0)    # 除以0: 產生ZeroDivisionError且程式停止\n",
    "division(4/2)    # 這行不會執行"
   ]
  },
  {
   "cell_type": "markdown",
   "metadata": {},
   "source": [
    "# try-except\n",
    "\n",
    "### 當發生異常時會check是否產生指定的異常物件並執行相應的處理。\n",
    "\n",
    "### 語法：\n",
    "    try:\n",
    "        指令\n",
    "    except 異常物件:\n",
    "        異常處理"
   ]
  },
  {
   "cell_type": "code",
   "execution_count": 2,
   "metadata": {},
   "outputs": [
    {
     "name": "stdout",
     "output_type": "stream",
     "text": [
      "2/0: 除數不得為零\n"
     ]
    },
    {
     "ename": "TypeError",
     "evalue": "unsupported operand type(s) for /: 'str' and 'str'",
     "output_type": "error",
     "traceback": [
      "\u001b[1;31m---------------------------------------------------------------------------\u001b[0m",
      "\u001b[1;31mTypeError\u001b[0m                                 Traceback (most recent call last)",
      "\u001b[1;32m<ipython-input-2-dbb3ea9b308b>\u001b[0m in \u001b[0;36m<module>\u001b[1;34m\u001b[0m\n\u001b[0;32m      8\u001b[0m \u001b[0mdivision\u001b[0m\u001b[1;33m(\u001b[0m\u001b[1;36m2\u001b[0m\u001b[1;33m,\u001b[0m\u001b[1;36m0\u001b[0m\u001b[1;33m)\u001b[0m\u001b[1;33m\u001b[0m\u001b[0m\n\u001b[0;32m      9\u001b[0m \u001b[0mdivision\u001b[0m\u001b[1;33m(\u001b[0m\u001b[1;36m4\u001b[0m\u001b[1;33m,\u001b[0m\u001b[1;36m2\u001b[0m\u001b[1;33m)\u001b[0m\u001b[1;33m\u001b[0m\u001b[0m\n\u001b[1;32m---> 10\u001b[1;33m \u001b[0mdivision\u001b[0m\u001b[1;33m(\u001b[0m\u001b[1;34m'a'\u001b[0m\u001b[1;33m,\u001b[0m\u001b[1;34m'b'\u001b[0m\u001b[1;33m)\u001b[0m    \u001b[1;31m#未定義的except會抓不到仍會造成程式中止\u001b[0m\u001b[1;33m\u001b[0m\u001b[0m\n\u001b[0m",
      "\u001b[1;32m<ipython-input-2-dbb3ea9b308b>\u001b[0m in \u001b[0;36mdivision\u001b[1;34m(x, y)\u001b[0m\n\u001b[0;32m      2\u001b[0m \u001b[1;32mdef\u001b[0m \u001b[0mdivision\u001b[0m\u001b[1;33m(\u001b[0m\u001b[0mx\u001b[0m\u001b[1;33m,\u001b[0m\u001b[0my\u001b[0m\u001b[1;33m)\u001b[0m\u001b[1;33m:\u001b[0m\u001b[1;33m\u001b[0m\u001b[0m\n\u001b[0;32m      3\u001b[0m     \u001b[1;32mtry\u001b[0m\u001b[1;33m:\u001b[0m\u001b[1;33m\u001b[0m\u001b[0m\n\u001b[1;32m----> 4\u001b[1;33m         \u001b[1;32mreturn\u001b[0m \u001b[0mx\u001b[0m\u001b[1;33m/\u001b[0m\u001b[0my\u001b[0m\u001b[1;33m\u001b[0m\u001b[0m\n\u001b[0m\u001b[0;32m      5\u001b[0m     \u001b[1;32mexcept\u001b[0m \u001b[0mZeroDivisionError\u001b[0m\u001b[1;33m:\u001b[0m\u001b[1;33m\u001b[0m\u001b[0m\n\u001b[0;32m      6\u001b[0m         \u001b[0mprint\u001b[0m\u001b[1;33m(\u001b[0m\u001b[1;34m\"%d/%d: 除數不得為零\"\u001b[0m\u001b[1;33m%\u001b[0m\u001b[1;33m(\u001b[0m\u001b[0mx\u001b[0m\u001b[1;33m,\u001b[0m\u001b[0my\u001b[0m\u001b[1;33m)\u001b[0m\u001b[1;33m)\u001b[0m\u001b[1;33m\u001b[0m\u001b[0m\n",
      "\u001b[1;31mTypeError\u001b[0m: unsupported operand type(s) for /: 'str' and 'str'"
     ]
    }
   ],
   "source": [
    "#使用try except改寫\n",
    "def division(x,y):\n",
    "    try:\n",
    "        return x/y\n",
    "    except ZeroDivisionError:\n",
    "        print(\"%d/%d: 除數不得為零\"%(x,y))\n",
    "         \n",
    "division(2,0)\n",
    "division(4,2)\n",
    "division('a','b')    #未定義的except會抓不到仍會造成程式中止"
   ]
  },
  {
   "cell_type": "markdown",
   "metadata": {},
   "source": [
    "## try-except-else: 當\n",
    "### 語法:\n",
    "    try:\n",
    "        指令：所有可能發生例外的程式碼, ex:除以0，檔案不存在，TypeError...etc\n",
    "    except 異常物件:\n",
    "        異常處理\n",
    "    else:\n",
    "        正常處理: 當指令沒發生exception時執行的區塊。"
   ]
  },
  {
   "cell_type": "code",
   "execution_count": 4,
   "metadata": {},
   "outputs": [
    {
     "name": "stdout",
     "output_type": "stream",
     "text": [
      "除數不得為零。\n"
     ]
    },
    {
     "data": {
      "text/plain": [
       "2.0"
      ]
     },
     "execution_count": 4,
     "metadata": {},
     "output_type": "execute_result"
    }
   ],
   "source": [
    "# try-except-else\n",
    "def division(x,y):\n",
    "    try:\n",
    "        ans= x/y\n",
    "    except ZeroDivisionError:\n",
    "        print(\"除數不得為零。\")\n",
    "    else:\n",
    "        return ans\n",
    "division(2,0)\n",
    "division(4,2)"
   ]
  },
  {
   "cell_type": "markdown",
   "metadata": {},
   "source": [
    "# FileNotFoundError, 找不到檔案的error"
   ]
  },
  {
   "cell_type": "code",
   "execution_count": 6,
   "metadata": {},
   "outputs": [
    {
     "name": "stdout",
     "output_type": "stream",
     "text": [
      "abc.txt does not exists.\n",
      "多年未發表新作的日本 VERTEX 公司旗下家電玩具 electroys 系列，即將於今年『福音戰士新劇場版』最終章《新·福音戰士劇場版:│▌》上映之際，再次推出福音戰士最新商品「EVANGELION 初號機 格林機槍風扇 REAL TOKYO-III Ver.」，預計 2020 年 06 月發售。\n"
     ]
    }
   ],
   "source": [
    "\n",
    "def openfile(filename):\n",
    "    try:\n",
    "        with open(filename) as file_obj:\n",
    "            data=file_obj.read()\n",
    "    except FileNotFoundError:\n",
    "        print(filename,'does not exists.')\n",
    "    else:\n",
    "        print(data)\n",
    "\n",
    "fn='abc.txt'   \n",
    "fl='ansi.txt'\n",
    "\n",
    "openfile(fn)\n",
    "openfile(fl)"
   ]
  },
  {
   "cell_type": "markdown",
   "metadata": {},
   "source": [
    "# 計算單一檔案內的單字數"
   ]
  },
  {
   "cell_type": "code",
   "execution_count": 9,
   "metadata": {},
   "outputs": [
    {
     "name": "stdout",
     "output_type": "stream",
     "text": [
      "['多年未發表新作的日本', 'VERTEX', '公司旗下家電玩具', 'electroys', '系列，即將於今年『福音戰士新劇場版』最終章《新·福音戰士劇場版:│▌》上映之際，再次推出福音戰士最新商品「EVANGELION', '初號機', '格林機槍風扇', 'REAL', 'TOKYO-III', 'Ver.」，預計', '2020', '年', '06', '月發售。']\n",
      "ansi.txt 文章的字數是:  14\n"
     ]
    }
   ],
   "source": [
    "def wordsNum(fn):\n",
    "#適用於英文文件\n",
    "    try:\n",
    "        with open(fn) as file_obj:\n",
    "            data=file_obj.read()\n",
    "    except FileNotFoundError:\n",
    "        print(\"There is no %s\"%fl)\n",
    "    else:\n",
    "        word_list=data.split()    # 以空白分隔，22空白間算一個單字，所以只適用於英文\n",
    "        print(word_list)\n",
    "        print(fn,\"文章的字數是: \",len(word_list))\n",
    "file='ansi.txt'\n",
    "wordsNum(file)"
   ]
  },
  {
   "cell_type": "markdown",
   "metadata": {},
   "source": [
    "# 計算多個檔案的單字數"
   ]
  },
  {
   "cell_type": "code",
   "execution_count": 11,
   "metadata": {},
   "outputs": [
    {
     "name": "stdout",
     "output_type": "stream",
     "text": [
      "ansi.txt 文章的字數是:  14\n",
      "output_ch14.txt 文章的字數是:  3\n",
      "ch14_15.txt 文章的字數是:  2\n"
     ]
    }
   ],
   "source": [
    "# 把要讀的檔案放在list中，再用迴圈逐檔分析\n",
    "def wordsNum(fn):\n",
    "#適用於英文文件\n",
    "    try:\n",
    "        with open(fn) as file_obj:\n",
    "            data=file_obj.read()\n",
    "    except FileNotFoundError:\n",
    "        print(\"There is no \\'%s\\'\"%fl)\n",
    "    else:\n",
    "        word_list=data.split()\n",
    "        print(fn,\"文章的單字數是: \",len(word_list))\n",
    "        \n",
    "file_list=['ansi.txt','output_ch14.txt','ch14_15.txt']\n",
    "for item in file_list:\n",
    "    wordsNum(item)"
   ]
  },
  {
   "cell_type": "markdown",
   "metadata": {},
   "source": [
    "# 多組異常處理\n"
   ]
  },
  {
   "cell_type": "code",
   "execution_count": 3,
   "metadata": {},
   "outputs": [
    {
     "name": "stdout",
     "output_type": "stream",
     "text": [
      "General exception occurs\n",
      "None\n",
      "General exception occurs\n",
      "None\n",
      "2.0\n"
     ]
    }
   ],
   "source": [
    "# 通用型異常物件: Exception\n",
    "\n",
    "def division(x,y):\n",
    "    try:\n",
    "        return x/y\n",
    "    except Exception:\n",
    "        print(\"General exception occurs\")\n",
    "\n",
    "print(division(2,0))    # ZeroDivisionError\n",
    "print(division('a','b'))   # TypeError\n",
    "print(division(6,3))"
   ]
  },
  {
   "cell_type": "code",
   "execution_count": 7,
   "metadata": {},
   "outputs": [
    {
     "name": "stdout",
     "output_type": "stream",
     "text": [
      "ZeroDivisionError\n",
      "None\n",
      "TypeError\n",
      "None\n",
      "2.0\n",
      "===============================\n",
      "ZeroDivisionError or TypeError\n",
      "None\n",
      "ZeroDivisionError or TypeError\n",
      "None\n",
      "2.0\n"
     ]
    }
   ],
   "source": [
    "# 捕捉多個異常的設計\n",
    "# except (Exception1, Exception2,...)\n",
    "\n",
    "def division(x,y):    # 每個except分開寫\n",
    "    try:\n",
    "        return x/y\n",
    "    except ZeroDivisionError:\n",
    "        print(\"ZeroDivisionError\")\n",
    "    except TypeError:\n",
    "        print(\"TypeError\")\n",
    "        \n",
    "def division1(x,y):  # 用1個except捕捉多個例外\n",
    "    try:\n",
    "        return x/y\n",
    "    except (ZeroDivisionError,TypeError):\n",
    "        print(\"ZeroDivisionError or TypeError\")\n",
    "\n",
    "print(division(2,0))\n",
    "    #divide by zero\n",
    "print(division('a','b'))\n",
    "    #error type\n",
    "print(division(6,3))\n",
    "print(\"===============================\")\n",
    "print(division1(2,0))\n",
    "    #divide by zero\n",
    "print(division1('a','b'))\n",
    "    #error type\n",
    "print(division1(6,3))"
   ]
  },
  {
   "cell_type": "code",
   "execution_count": 13,
   "metadata": {},
   "outputs": [
    {
     "name": "stdout",
     "output_type": "stream",
     "text": [
      "division by zero\n",
      "None\n",
      "unsupported operand type(s) for /: 'str' and 'str'\n",
      "None\n",
      "2.0\n"
     ]
    }
   ],
   "source": [
    "# 使用python內建錯誤訊息\n",
    "def division(x,y):\n",
    "    try:\n",
    "        return x/y\n",
    "    except (ZeroDivisionError,TypeError) as e:\n",
    "        print(e)  # 使用內建的error messages,就不用不同error寫一個輸出。\n",
    "        \n",
    "print(division(2,0))    # divide by zero，None是except的回傳值，\n",
    "print(division('a','b'))    # TypeError\n",
    "print(division(6,3))"
   ]
  },
  {
   "cell_type": "code",
   "execution_count": 10,
   "metadata": {},
   "outputs": [
    {
     "name": "stdout",
     "output_type": "stream",
     "text": [
      "Except occurs.\n",
      "None\n",
      "Except occurs.\n",
      "None\n",
      "2.0\n"
     ]
    }
   ],
   "source": [
    "# 捕捉所有異常\n",
    "def division(x,y):\n",
    "    try:\n",
    "        return x/y\n",
    "    except:                      #只要異常發生就處理\n",
    "        print(\"Except occurs.\")\n",
    "\n",
    "print(division(2,0))     #divide by zero\n",
    "print(division('a','b')    #error type\n",
    "print(division(6,3))"
   ]
  },
  {
   "cell_type": "markdown",
   "metadata": {},
   "source": [
    "# 丟出異常"
   ]
  },
  {
   "cell_type": "code",
   "execution_count": 13,
   "metadata": {},
   "outputs": [
    {
     "name": "stdout",
     "output_type": "stream",
     "text": [
      "正確長度\n",
      "密碼長度異常: 密碼長度不足\n",
      "密碼長度異常: 密碼長度過長\n"
     ]
    }
   ],
   "source": [
    "# 丟出自行定義的異常 raise Exception('msg')\n",
    "#密碼和對應格式不符\n",
    "\n",
    "def passWord(pwd):\n",
    "    pwdlen=len(pwd)\n",
    "    if pwdlen<5:\n",
    "        raise Exception('密碼長度不足')\n",
    "    if pwdlen>8:        \n",
    "        raise Exception('密碼長度過長')\n",
    "    print(\"正確長度\")\n",
    "for pwd in ('aaaacwd','ac','zcaqeagadga'):\n",
    "    try:\n",
    "        passWord(pwd)\n",
    "    except Exception as err:\n",
    "        print(\"密碼長度異常:\",str(err))"
   ]
  },
  {
   "cell_type": "code",
   "execution_count": 14,
   "metadata": {},
   "outputs": [
    {
     "name": "stdout",
     "output_type": "stream",
     "text": [
      "Except occurs.\n",
      "Phase done.\n",
      "None\n",
      "Except occurs.\n",
      "Phase done.\n",
      "None\n",
      "Phase done.\n",
      "2.0\n"
     ]
    }
   ],
   "source": [
    "#===================finally===================\n",
    "#不論是否有異常發生都會執行finally裡的區塊\n",
    "def division(x,y):\n",
    "    try:\n",
    "        return x/y\n",
    "    except:\n",
    "        print(\"Except occurs.\")\n",
    "    finally:\n",
    "        print(\"Phase done.\")\n",
    "print(division(2,0))\n",
    "print(division('a','b'))\n",
    "print(division(6,3))\n"
   ]
  },
  {
   "cell_type": "code",
   "execution_count": 16,
   "metadata": {},
   "outputs": [
    {
     "name": "stdout",
     "output_type": "stream",
     "text": [
      "Hung 目前餘額:  1000\n",
      "存入  300  完成\n",
      "Hung 目前餘額:  1300\n"
     ]
    },
    {
     "ename": "AssertionError",
     "evalue": "存款金額需大於零",
     "output_type": "error",
     "traceback": [
      "\u001b[1;31m---------------------------------------------------------------------------\u001b[0m",
      "\u001b[1;31mAssertionError\u001b[0m                            Traceback (most recent call last)",
      "\u001b[1;32m<ipython-input-16-b4b6a8507341>\u001b[0m in \u001b[0;36m<module>\u001b[1;34m()\u001b[0m\n\u001b[0;32m     27\u001b[0m \u001b[0mhungbank\u001b[0m\u001b[1;33m.\u001b[0m\u001b[0msave_money\u001b[0m\u001b[1;33m(\u001b[0m\u001b[1;36m300\u001b[0m\u001b[1;33m)\u001b[0m\u001b[1;33m\u001b[0m\u001b[0m\n\u001b[0;32m     28\u001b[0m \u001b[0mhungbank\u001b[0m\u001b[1;33m.\u001b[0m\u001b[0mget_balance\u001b[0m\u001b[1;33m(\u001b[0m\u001b[1;33m)\u001b[0m\u001b[1;33m\u001b[0m\u001b[0m\n\u001b[1;32m---> 29\u001b[1;33m \u001b[0mhungbank\u001b[0m\u001b[1;33m.\u001b[0m\u001b[0msave_money\u001b[0m\u001b[1;33m(\u001b[0m\u001b[1;33m-\u001b[0m\u001b[1;36m300\u001b[0m\u001b[1;33m)\u001b[0m\u001b[1;33m\u001b[0m\u001b[0m\n\u001b[0m\u001b[0;32m     30\u001b[0m     \u001b[1;31m#故意存-300\u001b[0m\u001b[1;33m\u001b[0m\u001b[1;33m\u001b[0m\u001b[0m\n\u001b[0;32m     31\u001b[0m \u001b[0mhungbank\u001b[0m\u001b[1;33m.\u001b[0m\u001b[0mget_balance\u001b[0m\u001b[1;33m(\u001b[0m\u001b[1;33m)\u001b[0m\u001b[1;33m\u001b[0m\u001b[0m\n",
      "\u001b[1;32m<ipython-input-16-b4b6a8507341>\u001b[0m in \u001b[0;36msave_money\u001b[1;34m(self, money)\u001b[0m\n\u001b[0;32m     10\u001b[0m         \u001b[0mself\u001b[0m\u001b[1;33m.\u001b[0m\u001b[0mbalance\u001b[0m\u001b[1;33m=\u001b[0m\u001b[0mmoney\u001b[0m\u001b[1;33m\u001b[0m\u001b[0m\n\u001b[0;32m     11\u001b[0m     \u001b[1;32mdef\u001b[0m \u001b[0msave_money\u001b[0m\u001b[1;33m(\u001b[0m\u001b[0mself\u001b[0m\u001b[1;33m,\u001b[0m\u001b[0mmoney\u001b[0m\u001b[1;33m)\u001b[0m\u001b[1;33m:\u001b[0m\u001b[1;33m\u001b[0m\u001b[0m\n\u001b[1;32m---> 12\u001b[1;33m         \u001b[1;32massert\u001b[0m \u001b[0mmoney\u001b[0m\u001b[1;33m>\u001b[0m\u001b[1;36m0\u001b[0m\u001b[1;33m,\u001b[0m\u001b[1;34m'存款金額需大於零'\u001b[0m\u001b[1;33m\u001b[0m\u001b[0m\n\u001b[0m\u001b[0;32m     13\u001b[0m             \u001b[1;31m#test money ?>0\u001b[0m\u001b[1;33m\u001b[0m\u001b[1;33m\u001b[0m\u001b[0m\n\u001b[0;32m     14\u001b[0m         \u001b[0mself\u001b[0m\u001b[1;33m.\u001b[0m\u001b[0mbalance\u001b[0m\u001b[1;33m+=\u001b[0m\u001b[0mmoney\u001b[0m\u001b[1;33m\u001b[0m\u001b[0m\n",
      "\u001b[1;31mAssertionError\u001b[0m: 存款金額需大於零"
     ]
    }
   ],
   "source": [
    "#===================assert===================\n",
    "#確保程式執行的某個階段必須符合一定的條件，否則會拋出異常。\n",
    "#即執行到assert時就會測試條件。\n",
    "#語法：assert condition, 'msg'\n",
    "#在windows下，用cmd執行 python.exe -O file.py即可停用assert\n",
    "class Bank():\n",
    "    title=\"Taipei Bank\"\n",
    "    def __init__(self,uname,money):\n",
    "        self.name=uname\n",
    "        self.balance=money\n",
    "    def save_money(self,money):\n",
    "        assert money>0,'存款金額需大於零'\n",
    "            #test money ?>0\n",
    "        self.balance+=money\n",
    "        print(\"存入 \",money,\" 完成\")\n",
    "    def withdraw_money(self,money):\n",
    "        assert money>0,'提款金額需大於零'\n",
    "            #test money ?>0\n",
    "        assert money <self.balance,\"餘額不足\"\n",
    "        self.balance-=money\n",
    "        print(\"提出 \",money)\n",
    "    def get_balance(self):\n",
    "        print(self.name.title(),\"目前餘額: \",self.balance)\n",
    "        \n",
    "hungbank=Bank(\"Hung\",1000)\n",
    "hungbank.get_balance()\n",
    "hungbank.save_money(300)\n",
    "hungbank.get_balance()\n",
    "hungbank.save_money(-300)\n",
    "    #故意存-300會發生AssertionError\n",
    "hungbank.get_balance()"
   ]
  },
  {
   "cell_type": "code",
   "execution_count": 17,
   "metadata": {
    "collapsed": true
   },
   "outputs": [],
   "source": [
    "#===================logging===================\n",
    "#用來設定有興趣的變數在各執行階段的變化\n",
    "import logging\n",
    "logging.basicConfig(level=logging.DEBUG)\n",
    "    #用來設定顯示logging的等級,共有5種：DEBUG, INFO, WARNING, ERROR, CRITICAL\n",
    "    #設定後，只會顯示和自己及比自已優先 level的message\n"
   ]
  },
  {
   "cell_type": "code",
   "execution_count": null,
   "metadata": {
    "collapsed": true
   },
   "outputs": [],
   "source": []
  }
 ],
 "metadata": {
  "kernelspec": {
   "display_name": "Python 3",
   "language": "python",
   "name": "python3"
  },
  "language_info": {
   "codemirror_mode": {
    "name": "ipython",
    "version": 3
   },
   "file_extension": ".py",
   "mimetype": "text/x-python",
   "name": "python",
   "nbconvert_exporter": "python",
   "pygments_lexer": "ipython3",
   "version": "3.6.5"
  }
 },
 "nbformat": 4,
 "nbformat_minor": 2
}
