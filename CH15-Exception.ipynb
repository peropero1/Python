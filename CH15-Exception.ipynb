{
 "cells": [
  {
   "cell_type": "markdown",
   "metadata": {},
   "source": [
    "# exception"
   ]
  },
  {
   "cell_type": "code",
   "execution_count": null,
   "metadata": {},
   "outputs": [],
   "source": [
    "def division(x,y):\n",
    "    return x/y\n",
    "division(2,0)    # 除以0: 產生ZeroDivisionError且程式停止\n",
    "division(4/2)    # 這行不會執行"
   ]
  },
  {
   "cell_type": "markdown",
   "metadata": {},
   "source": [
    "# try-except\n",
    "\n",
    "### 當發生異常時會check是否產生指定的異常物件並執行相應的處理。\n",
    "\n",
    "### 語法：\n",
    "    try:\n",
    "        指令\n",
    "    except 異常物件:\n",
    "        異常處理"
   ]
  },
  {
   "cell_type": "code",
   "execution_count": null,
   "metadata": {},
   "outputs": [],
   "source": [
    "#使用try except改寫\n",
    "def division(x,y):\n",
    "    try:\n",
    "        return x/y\n",
    "    except ZeroDivisionError:\n",
    "        print(\"%d/%d: 除數不得為零\"%(x,y))\n",
    "         \n",
    "division(2,0)\n",
    "division(4,2)\n",
    "division('a','b')    #未定義的except會抓不到仍會造成程式中止"
   ]
  },
  {
   "cell_type": "markdown",
   "metadata": {},
   "source": [
    "## try-except-else:\n",
    "### 語法:\n",
    "    try:\n",
    "        指令：所有可能發生例外的程式碼, ex:除以0，檔案不存在，TypeError...etc\n",
    "    except 異常物件:\n",
    "        異常處理\n",
    "    else:\n",
    "        正常處理: 當指令沒發生exception時執行的區塊。"
   ]
  },
  {
   "cell_type": "code",
   "execution_count": null,
   "metadata": {},
   "outputs": [],
   "source": [
    "# try-except-else\n",
    "def division(x,y):\n",
    "    try:\n",
    "        ans= x/y\n",
    "    except ZeroDivisionError:\n",
    "        print(\"除數不得為零。\")\n",
    "    else:\n",
    "        return ans\n",
    "division(2,0)\n",
    "division(4,2)"
   ]
  },
  {
   "cell_type": "markdown",
   "metadata": {},
   "source": [
    "# FileNotFoundError, 找不到檔案的error"
   ]
  },
  {
   "cell_type": "code",
   "execution_count": null,
   "metadata": {},
   "outputs": [],
   "source": [
    "\n",
    "def openfile(filename):\n",
    "    try:\n",
    "        with open(filename) as file_obj:\n",
    "            data=file_obj.read()\n",
    "    except FileNotFoundError:\n",
    "        print(filename,'does not exists.')\n",
    "    else:\n",
    "        print(data)\n",
    "\n",
    "fn='abc.txt'   \n",
    "fl='ansi.txt'\n",
    "\n",
    "openfile(fn)\n",
    "openfile(fl)"
   ]
  },
  {
   "cell_type": "markdown",
   "metadata": {},
   "source": [
    "# 計算單一檔案內的單字數"
   ]
  },
  {
   "cell_type": "code",
   "execution_count": null,
   "metadata": {},
   "outputs": [],
   "source": [
    "def wordsNum(fn):\n",
    "#適用於英文文件\n",
    "    try:\n",
    "        with open(fn) as file_obj:\n",
    "            data=file_obj.read()\n",
    "    except FileNotFoundError:\n",
    "        print(\"There is no %s\"%fl)\n",
    "    else:\n",
    "        word_list=data.split()    # 以空白分隔，22空白間算一個單字，所以只適用於英文\n",
    "        print(word_list)\n",
    "        print(fn,\"文章的字數是: \",len(word_list))\n",
    "file='ansi.txt'\n",
    "wordsNum(file)"
   ]
  },
  {
   "cell_type": "markdown",
   "metadata": {},
   "source": [
    "# 計算多個檔案的單字數"
   ]
  },
  {
   "cell_type": "code",
   "execution_count": null,
   "metadata": {},
   "outputs": [],
   "source": [
    "# 把要讀的檔案放在list中，再用迴圈逐檔分析\n",
    "def wordsNum(fn):\n",
    "#適用於英文文件\n",
    "    try:\n",
    "        with open(fn) as file_obj:\n",
    "            data=file_obj.read()\n",
    "    except FileNotFoundError:\n",
    "        print(\"There is no \\'%s\\'\"%fl)\n",
    "    else:\n",
    "        word_list=data.split()\n",
    "        print(fn,\"文章的單字數是: \",len(word_list))\n",
    "        \n",
    "file_list=['ansi.txt','output_ch14.txt','ch14_15.txt']\n",
    "for item in file_list:\n",
    "    wordsNum(item)"
   ]
  },
  {
   "cell_type": "markdown",
   "metadata": {},
   "source": [
    "# 多組異常處理\n"
   ]
  },
  {
   "cell_type": "code",
   "execution_count": null,
   "metadata": {},
   "outputs": [],
   "source": [
    "# 通用型異常物件: Exception\n",
    "\n",
    "def division(x,y):\n",
    "    try:\n",
    "        return x/y\n",
    "    except Exception:\n",
    "        print(\"General exception occurs\")\n",
    "\n",
    "print(division(2,0))    # ZeroDivisionError\n",
    "print(division('a','b'))   # TypeError\n",
    "print(division(6,3))"
   ]
  },
  {
   "cell_type": "code",
   "execution_count": null,
   "metadata": {},
   "outputs": [],
   "source": [
    "# 捕捉多個異常的設計\n",
    "# except (Exception1, Exception2,...)\n",
    "\n",
    "def division(x,y):    # 每個except分開寫\n",
    "    try:\n",
    "        return x/y\n",
    "    except ZeroDivisionError:\n",
    "        print(\"ZeroDivisionError\")\n",
    "    except TypeError:\n",
    "        print(\"TypeError\")\n",
    "        \n",
    "def division1(x,y):  # 用1個except捕捉多個例外\n",
    "    try:\n",
    "        return x/y\n",
    "    except (ZeroDivisionError,TypeError):\n",
    "        print(\"ZeroDivisionError or TypeError\")\n",
    "\n",
    "print(division(2,0))\n",
    "    #divide by zero\n",
    "print(division('a','b'))\n",
    "    #error type\n",
    "print(division(6,3))\n",
    "print(\"===============================\")\n",
    "print(division1(2,0))\n",
    "    #divide by zero\n",
    "print(division1('a','b'))\n",
    "    #error type\n",
    "print(division1(6,3))"
   ]
  },
  {
   "cell_type": "code",
   "execution_count": null,
   "metadata": {},
   "outputs": [],
   "source": [
    "# 使用python內建錯誤訊息\n",
    "def division(x,y):\n",
    "    try:\n",
    "        return x/y\n",
    "    except (ZeroDivisionError,TypeError) as e:\n",
    "        print(e)  # 使用內建的error messages,就不用不同error寫一個輸出。\n",
    "        \n",
    "print(division(2,0))    # divide by zero，None是except的回傳值，\n",
    "print(division('a','b'))    # TypeError\n",
    "print(division(6,3))"
   ]
  },
  {
   "cell_type": "code",
   "execution_count": null,
   "metadata": {},
   "outputs": [],
   "source": [
    "# 捕捉所有異常\n",
    "def division(x,y):\n",
    "    try:\n",
    "        return x/y\n",
    "    except:                      #只要異常發生就處理\n",
    "        print(\"Except occurs.\")\n",
    "\n",
    "print(division(2,0))     #divide by zero\n",
    "print(division('a','b')    #error type\n",
    "print(division(6,3))"
   ]
  },
  {
   "cell_type": "markdown",
   "metadata": {},
   "source": [
    "# 丟出異常\n",
    "\n",
    "### 把某些狀況設為自行定義的異常。\n",
    "### 語法：\n",
    "    raise Exception ('msg')\n",
    "    ...\n",
    "    try:\n",
    "        指令\n",
    "    except Exception as err:\n",
    "        print('msg',+str(err))"
   ]
  },
  {
   "cell_type": "code",
   "execution_count": null,
   "metadata": {},
   "outputs": [],
   "source": [
    "# 丟出自行定義的異常 raise Exception('msg')\n",
    "#密碼和對應格式不符\n",
    "\n",
    "def passWord(pwd):    # 要求密碼長度需為[5,8]個字元\n",
    "    pwdlen=len(pwd)\n",
    "    if pwdlen<5:\n",
    "        raise Exception('密碼長度不足')     # raise Exception\n",
    "    if pwdlen>8:        \n",
    "        raise Exception('密碼長度過長')\n",
    "    print(\"正確長度\")\n",
    "    \n",
    "for pwd in ('aaaacwd','ac','zcaqeagadga'):\n",
    "    try:\n",
    "        passWord(pwd)\n",
    "    except Exception as err:\n",
    "        print(\"密碼長度異常:\",str(err))"
   ]
  },
  {
   "cell_type": "markdown",
   "metadata": {},
   "source": [
    "# 記錄traceback字串\n",
    "### traceback.format_exc()"
   ]
  },
  {
   "cell_type": "code",
   "execution_count": null,
   "metadata": {},
   "outputs": [],
   "source": [
    "import traceback\n",
    "\n",
    "def pwdCheck(pwd):\n",
    "    if len(pwd)<5:\n",
    "        raise Exception('密碼長度不足')\n",
    "    elif len(pwd)>8:\n",
    "        raise Exception('密碼長度過長')\n",
    "    else:\n",
    "        print('密碼長度正確')\n",
    "\n",
    "for pwd in ('aaaacwd','ac','zcaqeagadga'):\n",
    "    try:\n",
    "        pwdCheck(pwd)\n",
    "    except Exception as err:\n",
    "        with open ('err_log.txt','a') as lg:\n",
    "            lg.write(traceback.format_exc())\n",
    "        print('將traceback寫入錯誤檔err_log.txt完成')\n",
    "        print('密碼長度錯誤發生',str(err))\n",
    "\n",
    "'''\n",
    "err_log.txt的內容：\n",
    "\n",
    "Traceback (most recent call last):\n",
    "  File \"<ipython-input-4-d6bd824fcc72>\", line 13, in <module>\n",
    "    pwdCheck(pwd)\n",
    "  File \"<ipython-input-4-d6bd824fcc72>\", line 5, in pwdCheck\n",
    "    raise Exception('密碼長度不足')\n",
    "Exception: 密碼長度不足\n",
    "Traceback (most recent call last):\n",
    "  File \"<ipython-input-4-d6bd824fcc72>\", line 13, in <module>\n",
    "    pwdCheck(pwd)\n",
    "  File \"<ipython-input-4-d6bd824fcc72>\", line 7, in pwdCheck\n",
    "    raise Exception('密碼長度過長')\n",
    "Exception: 密碼長度過長\n",
    "\n",
    "'''        \n"
   ]
  },
  {
   "cell_type": "markdown",
   "metadata": {},
   "source": [
    "# finally\n",
    "### finally用來和try搭配，finally表示exception 或else後一定要執行的區塊。\n",
    "### else 內為正常執行時的區塊。"
   ]
  },
  {
   "cell_type": "code",
   "execution_count": null,
   "metadata": {},
   "outputs": [],
   "source": [
    "# finally\n",
    "#不論是否有異常發生都會執行finally裡的區塊\n",
    "\n",
    "def division(x,y):\n",
    "    try:\n",
    "        return x/y\n",
    "    except:\n",
    "        print(\"Except occurs.\")\n",
    "    finally:\n",
    "        print(\"Execution here anyway.\")\n",
    "\n",
    "        \n",
    "print(division(2,0))\n",
    "print(division('a','b'))\n",
    "print(division(6,3))\n"
   ]
  },
  {
   "cell_type": "markdown",
   "metadata": {},
   "source": [
    "# assert\n",
    "### assert主要用在對執行狀態做檢查用，確保程式執行的某個階段必須符合一定的條件，否則會拋出異常且終止程式。\n",
    "### 語法：\n",
    "    assert 條件,'字串'\n",
    "### 程式執行到assert時，就check 條件的內容是為為True, 若為False，則把字串輸出到traceback的字串內。"
   ]
  },
  {
   "cell_type": "code",
   "execution_count": null,
   "metadata": {},
   "outputs": [],
   "source": [
    "# assert\n",
    "# 在windows下，用cmd執行 python.exe -O file.py即可停用assert\n",
    "\n",
    "'''\n",
    "要檢查：\n",
    "1. 存款及提款金額>0\n",
    "2. 確保提款金額<= 存款金額\n",
    "'''\n",
    "\n",
    "class Bank():\n",
    "    title=\"Taipei Bank\"\n",
    "    def __init__(self,uname,money):\n",
    "        self.name=uname\n",
    "        self.balance=money\n",
    "    def save_money(self,money):\n",
    "        assert money>0,'存款金額需大於零'    # 收到存款時就要check金額\n",
    "            #test money ?>0\n",
    "        self.balance+=money\n",
    "        print(\"存入 \",money,\" 完成\")\n",
    "    def withdraw_money(self,money):\n",
    "        assert money>0,'提款金額需大於零'\n",
    "            #test money ?>0\n",
    "        assert money <self.balance,\"餘額不足\"\n",
    "        self.balance-=money\n",
    "        print(\"提出 \",money)\n",
    "    def get_balance(self):\n",
    "        print(self.name.title(),\"目前餘額: \",self.balance)\n",
    "        \n",
    "hungbank=Bank(\"Hung\",1000)\n",
    "hungbank.get_balance()\n",
    "hungbank.save_money(300)\n",
    "hungbank.get_balance()\n",
    "hungbank.save_money(-300)    #故意存-300會發生AssertionError\n",
    "hungbank.get_balance()"
   ]
  },
  {
   "cell_type": "markdown",
   "metadata": {},
   "source": [
    "# logging module\n",
    "### 用來執行程式的除錯，可自定關鍵變數在每個階段的變化，不用時只要加指令即可隱藏。\n",
    "### logging 共有5個level, 由低至高如下:\n",
    "    1. debug\n",
    "    2. info\n",
    "    3. warning\n",
    "    4. error\n",
    "    5. critical\n",
    "    \n",
    "# 下列實驗的print()記得改用.format的方式，%d.%()的方式會發生logging error\n",
    "    \n",
    "### 。logging.basicConfig() 有 8 個參數如下表所示 :\n",
    "| **參數**   |**說明** |\n",
    "|---|---|\n",
    "|level   |日誌之安全等級 (0, 10, 20, 40, 50)|\n",
    "|format  |控制輸出訊息的格式化字串|\n",
    "|filename|用來儲存輸出訊息的日誌檔案名稱|\n",
    "|filemode|開啟日誌檔案之模式, 如 'a' (預設), 'w' 等|\n",
    "|datefmt |輸出日期時間 asctime 之格式字串, 與 time.strftime()|\n",
    "|style   |格式化字串的標示字元, 有三種 : % (預設), {, 或 $|\n",
    "|handlers|加入至根日誌之處理器, 不可與 stream, filename 同時存在|\n",
    "|stream  |標準輸出之串流|\n",
    "\n",
    "\n",
    "### 。輸出的訊息除了自訂之字串外, 還可以加上其他相關資訊, 例如事件發生時間, 安全等級名稱, 執行此程式之使用者帳號等, 這可在傳入參數 format 中以如下特定之格式化字串來設定：\n",
    "\n",
    "\n",
    " |格式化字串| 說明|\n",
    " |:---|:---|\n",
    " |%(asctime)s|\t 日期時間, 格式為 YYYY-MM-DD HH:mm:SS,ms (毫秒)|\n",
    " |%(message)s|\t 使用者自訂訊息|\n",
    " |%(levelname)s| 日誌安全等級|\n",
    " |%(levelno)s|\t 日誌安全等級之數值|\n",
    " |%(name)s\t |使用者名稱 (帳號) \n",
    " |%(lineno)d|\t 日誌輸出函數呼叫於程式中所在之列數|\n",
    " |%(filename)s|\t 日誌輸出函數之模組的檔名|\n",
    " |%(module)s|\t 日誌輸出函數之模組名稱|\n",
    " |%(pathname)s|\t 日誌輸出函數之模組之完整路徑|\n",
    " |%(funcName)s|\t 日誌輸出函數之名稱|\n",
    " |%(threrad)d|\t 執行緒 ID|\n",
    " |%(threradName)s|\t 執行緒名稱|\n",
    " |%(process)d|\t 程序 ID|\n",
    " |%(created)f|\t 以 UNIX 標準表示之現在時間 (浮點數)|"
   ]
  },
  {
   "cell_type": "code",
   "execution_count": 10,
   "metadata": {},
   "outputs": [
    {
     "name": "stderr",
     "output_type": "stream",
     "text": [
      "2020-03-12 00:23:30,413 DEBUG: logging message,debug\n",
      "2020-03-12 00:23:30,414 INFO: logging message, info\n",
      "2020-03-12 00:23:30,416 WARNING: logging message, warning\n",
      "2020-03-12 00:23:30,417 ERROR: logging message, error\n",
      "2020-03-12 00:23:30,418 CRITICAL: logging message, critical\n"
     ]
    }
   ],
   "source": [
    "# logging\n",
    "#用來設定有興趣的變數在各執行階段的變化\n",
    "\n",
    "import logging\n",
    "\n",
    "logging.basicConfig(level=logging.DEBUG)    #用來設定顯示logging的等級\n",
    "    #設定後，只會顯示和自己及比自已優先 level的message\n",
    "\n",
    "# ex: 上述設定logging.DEBUG, 則所有level的message皆可輸出：\n",
    "\n",
    "logging.debug(\"logging message,debug\")\n",
    "logging.info(\"logging message, info\")\n",
    "logging.warning(\"logging message, warning\")\n",
    "logging.error(\"logging message, error\")\n",
    "logging.critical(\"logging message, critical\")\n",
    "\n",
    "# 各level:root:為前導訊息"
   ]
  },
  {
   "cell_type": "code",
   "execution_count": 11,
   "metadata": {},
   "outputs": [
    {
     "name": "stderr",
     "output_type": "stream",
     "text": [
      "2020-03-12 00:23:32,743 DEBUG: logging message,debug\n",
      "2020-03-12 00:23:32,744 INFO: logging message, info\n",
      "2020-03-12 00:23:32,745 WARNING: logging message, warning\n",
      "2020-03-12 00:23:32,746 ERROR: logging message, error\n",
      "2020-03-12 00:23:32,747 CRITICAL: logging message, critical\n"
     ]
    }
   ],
   "source": [
    "import logging\n",
    "\n",
    "logging.basicConfig(level=logging.WARNING)\n",
    "\n",
    "# ex: 上述設定logging.WARNING, 則只有WARNING以上的message才可輸出\n",
    "\n",
    "logging.debug(\"logging message,debug\")\n",
    "logging.info(\"logging message, info\")\n",
    "logging.warning(\"logging message, warning\")\n",
    "logging.error(\"logging message, error\")\n",
    "logging.critical(\"logging message, critical\")"
   ]
  },
  {
   "cell_type": "code",
   "execution_count": 3,
   "metadata": {},
   "outputs": [
    {
     "name": "stderr",
     "output_type": "stream",
     "text": [
      "2020-03-12 00:19:29,537 DEBUG: logging message,debug\n",
      "2020-03-12 00:19:29,538 INFO: logging message, info\n",
      "2020-03-12 00:19:29,539 WARNING: logging message, warning\n",
      "2020-03-12 00:19:29,540 ERROR: logging message, error\n",
      "2020-03-12 00:19:29,541 CRITICAL: logging message, critical\n"
     ]
    }
   ],
   "source": [
    "# 用logging.bacisConfig(level,format='') 取消前導訊息\n",
    "\n",
    "logging.basicConfig(level=logging.WARNING, format='')\n",
    "\n",
    "logging.debug(\"logging message,debug\")\n",
    "logging.info(\"logging message, info\")\n",
    "logging.warning(\"logging message, warning\")\n",
    "logging.error(\"logging message, error\")\n",
    "logging.critical(\"logging message, critical\")"
   ]
  },
  {
   "cell_type": "code",
   "execution_count": 4,
   "metadata": {},
   "outputs": [
    {
     "name": "stderr",
     "output_type": "stream",
     "text": [
      "2020-03-12 00:19:31,675 DEBUG: logging message,debug\n",
      "2020-03-12 00:19:31,677 INFO: logging message, info\n",
      "2020-03-12 00:19:31,678 WARNING: logging message, warning\n",
      "2020-03-12 00:19:31,679 ERROR: logging message, error\n",
      "2020-03-12 00:19:31,680 CRITICAL: logging message, critical\n"
     ]
    }
   ],
   "source": [
    "# format='%(asctime)s': logg產生的時間\n",
    "import logging\n",
    "\n",
    "logging.basicConfig(level=logging.DEBUG, format='%(asctime)s')\n",
    "\n",
    "logging.debug(\"logging message,debug\")\n",
    "logging.info(\"logging message, info\")\n",
    "logging.warning(\"logging message, warning\")\n",
    "logging.error(\"logging message, error\")\n",
    "logging.critical(\"logging message, critical\")"
   ]
  },
  {
   "cell_type": "code",
   "execution_count": 5,
   "metadata": {
    "scrolled": false
   },
   "outputs": [
    {
     "name": "stderr",
     "output_type": "stream",
     "text": [
      "2020-03-12 00:19:33,623 DEBUG: logging message,debug\n",
      "2020-03-12 00:19:33,624 INFO: logging message, info\n",
      "2020-03-12 00:19:33,625 WARNING: logging message, warning\n",
      "2020-03-12 00:19:33,626 ERROR: logging message, error\n",
      "2020-03-12 00:19:33,627 CRITICAL: logging message, critical\n"
     ]
    }
   ],
   "source": [
    "# format='%(asctime)s : %(messgae)s'\n",
    "import logging\n",
    "\n",
    "logging.basicConfig(level=logging.DEBUG, format='%(asctime)s : %(messgae)s')\n",
    "\n",
    "logging.debug(\"logging message,debug\")\n",
    "logging.info(\"logging message, info\")\n",
    "logging.warning(\"logging message, warning\")\n",
    "logging.error(\"logging message, error\")\n",
    "logging.critical(\"logging message, critical\")"
   ]
  },
  {
   "cell_type": "code",
   "execution_count": 6,
   "metadata": {},
   "outputs": [
    {
     "name": "stderr",
     "output_type": "stream",
     "text": [
      "2020-03-12 00:19:37,768 DEBUG: logging message,debug\n",
      "2020-03-12 00:19:37,769 INFO: logging message, info\n",
      "2020-03-12 00:19:37,770 WARNING: logging message, warning\n",
      "2020-03-12 00:19:37,771 ERROR: logging message, error\n",
      "2020-03-12 00:19:37,772 CRITICAL: logging message, critical\n"
     ]
    }
   ],
   "source": [
    "# format='%(asctime)s-%(levelname)s : %(messgae)s': 列出目前的顯示層級\n",
    "import logging\n",
    "\n",
    "logging.basicConfig(level=logging.DEBUG, format='%(asctime)s-%(levelname)s : %(messgae)s')\n",
    "\n",
    "logging.debug(\"logging message,debug\")\n",
    "logging.info(\"logging message, info\")\n",
    "logging.warning(\"logging message, warning\")\n",
    "logging.error(\"logging message, error\")\n",
    "logging.critical(\"logging message, critical\")"
   ]
  },
  {
   "cell_type": "markdown",
   "metadata": {},
   "source": [
    "# 追蹤變數的變化\n",
    "### logging.debug(msg, *args, **kwargs): Logs a message with level DEBUG on this logger. \n",
    "    The msg is the message format string,\n",
    "    The args are the arguments which are merged into msg using the string formatting operator."
   ]
  },
  {
   "cell_type": "code",
   "execution_count": 9,
   "metadata": {
    "scrolled": false
   },
   "outputs": [
    {
     "name": "stderr",
     "output_type": "stream",
     "text": [
      "2020-03-12 00:22:19,063 DEBUG: 程式開始\n",
      "2020-03-12 00:22:19,064 DEBUG: factorial 5 計算開始:\n",
      "2020-03-12 00:22:19,065 DEBUG: i=1, ans=1\n",
      "2020-03-12 00:22:19,066 DEBUG: i=2, ans=2\n",
      "2020-03-12 00:22:19,067 DEBUG: i=3, ans=6\n",
      "2020-03-12 00:22:19,068 DEBUG: i=4, ans=24\n",
      "2020-03-12 00:22:19,069 DEBUG: i=5, ans=120\n",
      "2020-03-12 00:22:19,069 DEBUG: factorial 5 計算結束\n",
      "2020-03-12 00:22:19,070 DEBUG: 程式結束\n"
     ]
    },
    {
     "name": "stdout",
     "output_type": "stream",
     "text": [
      "factorial(5)=120\n"
     ]
    }
   ],
   "source": [
    "# 追蹤factorial計算階乘的過程\n",
    "\n",
    "import logging\n",
    "\n",
    "FORMAT = '%(asctime)s %(levelname)s: %(message)s'\n",
    "logging.basicConfig(level=logging.DEBUG,format=FORMAT)\n",
    "# 設定logging訊息輸出的格式\n",
    "    \n",
    "logging.debug('程式開始')\n",
    "\n",
    "def factorial(n):\n",
    "    logging.debug('factorial {} 計算開始:'.format(n))\n",
    "    ans=1\n",
    "    for i in range(1,n+1):\n",
    "        ans*=i\n",
    "        logging.debug('i={}, ans={}'.format(str(i),str(ans)))\n",
    "    logging.debug('factorial {} 計算結束'.format(n))\n",
    "    return ans\n",
    "\n",
    "num=5\n",
    "print('factorial({})={}'.format(num,factorial(num)))\n",
    "\n",
    "logging.debug('程式結束')\n"
   ]
  },
  {
   "cell_type": "code",
   "execution_count": 2,
   "metadata": {},
   "outputs": [
    {
     "name": "stderr",
     "output_type": "stream",
     "text": [
      "2020-03-12 00:18:31,523 DEBUG: debug message\n",
      "2020-03-12 00:18:31,525 INFO: info message\n",
      "2020-03-12 00:18:31,526 WARNING: warning message\n",
      "2020-03-12 00:18:31,527 ERROR: error message\n",
      "2020-03-12 00:18:31,528 CRITICAL: critical message\n"
     ]
    }
   ],
   "source": [
    "import logging\n",
    "\n",
    "FORMAT = '%(asctime)s %(levelname)s: %(message)s'\n",
    "logging.basicConfig(level=logging.DEBUG, format=FORMAT)\n",
    "\n",
    "logging.debug('debug message')\n",
    "logging.info('info message')\n",
    "logging.warning('warning message')\n",
    "logging.error('error message')\n",
    "logging.critical('critical message')"
   ]
  },
  {
   "cell_type": "code",
   "execution_count": null,
   "metadata": {},
   "outputs": [],
   "source": []
  }
 ],
 "metadata": {
  "kernelspec": {
   "display_name": "Python 3",
   "language": "python",
   "name": "python3"
  },
  "language_info": {
   "codemirror_mode": {
    "name": "ipython",
    "version": 3
   },
   "file_extension": ".py",
   "mimetype": "text/x-python",
   "name": "python",
   "nbconvert_exporter": "python",
   "pygments_lexer": "ipython3",
   "version": "3.6.5"
  }
 },
 "nbformat": 4,
 "nbformat_minor": 2
}
