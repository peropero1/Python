{
 "cells": [
  {
   "cell_type": "code",
   "execution_count": 2,
   "metadata": {},
   "outputs": [],
   "source": [
    "# 建立makefood.py放在同目錄下\n",
    "def make_icecream(*toppings):\n",
    "    #列出配方\n",
    "    print(\"Formula of this Icecream: \")\n",
    "    for element in toppings:\n",
    "        print('---',element)\n",
    "def make_drink(size,drink):\n",
    "    print(\"所點飲料如下： \")\n",
    "    print('---',size.title())\n",
    "    print('---',drink.title())"
   ]
  },
  {
   "cell_type": "markdown",
   "metadata": {},
   "source": [
    "# 應用自行建立module的方式：\n",
    "## 1. import <font color=\"blue\">*module_name*</font>\n",
    "## 2. from <font color=\"blue\">*module_name*</font> import <font color=\"blue\">*function_name*</font>\n",
    "## 3. from <font color=\"blue\">*module_name*</font> import <font color=\"blue\">*function_1, function_2,....function_n*</font>\n",
    "## 4. from <font color=\"blue\">*module_name*</font> import <font color=\"blue\">*</font>\n",
    "## 5. from <font color=\"blue\">*module_name*</font> import <font color=\"blue\">*function_name*</font> as <font color=\"blue\">*short_name*</font>\n",
    "## 6. import <font color=\"blue\">*module_name*</font> as <font color=\"blue\">*short_name*</font>"
   ]
  },
  {
   "cell_type": "code",
   "execution_count": 6,
   "metadata": {},
   "outputs": [
    {
     "name": "stdout",
     "output_type": "stream",
     "text": [
      "['__builtins__', '__cached__', '__doc__', '__file__', '__loader__', '__name__', '__package__', '__spec__', 'make_drink', 'make_icecream']\n",
      "所點飲料如下： \n",
      "--- Small\n",
      "--- Fonda\n"
     ]
    }
   ],
   "source": [
    "# 1.  import module_name\n",
    "# 引用module內函數的語法： module.function\n",
    "import makefood\n",
    "print(dir(makefood))\n",
    "    # for a module object: the module's attributes.\n",
    "makefood.make_drink('small','Fonda')\n"
   ]
  },
  {
   "cell_type": "code",
   "execution_count": 9,
   "metadata": {},
   "outputs": [
    {
     "name": "stdout",
     "output_type": "stream",
     "text": [
      "Formula of this Icecream: \n",
      "--- 草莓醬\n",
      "--- 巧克力\n"
     ]
    }
   ],
   "source": [
    "# 2. from module_name import function_name\n",
    "# 使用函數時可省略module_name\n",
    "\n",
    "from makefood import make_icecream\n",
    "make_icecream('草莓醬','巧克力')\n",
    "    # 可省略module_name\n",
    "\n",
    "# makefood.make_drink('small','Fonda')\n",
    "    # 沒有引用makefood, 執行會發生錯誤"
   ]
  },
  {
   "cell_type": "code",
   "execution_count": 8,
   "metadata": {},
   "outputs": [
    {
     "name": "stdout",
     "output_type": "stream",
     "text": [
      "Formula of this Icecream: \n",
      "--- vanila\n",
      "--- choco\n",
      "--- strawberry\n",
      "所點飲料如下： \n",
      "--- Medium\n",
      "--- Sprite\n"
     ]
    }
   ],
   "source": [
    "# 3. from module_name import function_1, function_2,....function_n\n",
    "from makefood import make_icecream\n",
    "from makefood import make_drink\n",
    "\n",
    "make_icecream('vanila','choco','strawberry')\n",
    "make_drink('medium','Sprite')"
   ]
  },
  {
   "cell_type": "code",
   "execution_count": 11,
   "metadata": {},
   "outputs": [
    {
     "name": "stdout",
     "output_type": "stream",
     "text": [
      "['__builtins__', '__cached__', '__doc__', '__file__', '__loader__', '__name__', '__package__', '__spec__', 'make_drink', 'make_icecream']\n",
      "Formula of this Icecream: \n",
      "--- vanila\n",
      "--- choco\n",
      "--- strawberry\n",
      "所點飲料如下： \n",
      "--- Medium\n",
      "--- Sprite\n"
     ]
    }
   ],
   "source": [
    "# 4. from module_name import *\n",
    "# 可省略module_name\n",
    "from makefood import *\n",
    "\n",
    "print(dir(makefood))\n",
    "\n",
    "make_icecream('vanila','choco','strawberry')\n",
    "make_drink('medium','Sprite')"
   ]
  },
  {
   "cell_type": "code",
   "execution_count": 12,
   "metadata": {},
   "outputs": [
    {
     "name": "stdout",
     "output_type": "stream",
     "text": [
      "Formula of this Icecream: \n",
      "--- strawberry\n",
      "--- choco\n",
      "--- vanila\n"
     ]
    }
   ],
   "source": [
    "# 5. from module_name import function_name as short_name\n",
    "from makefood import make_icecream as ice\n",
    "\n",
    "ice('strawberry','choco','vanila')\n"
   ]
  },
  {
   "cell_type": "code",
   "execution_count": 15,
   "metadata": {},
   "outputs": [
    {
     "name": "stdout",
     "output_type": "stream",
     "text": [
      "所點飲料如下： \n",
      "--- Large\n",
      "--- Coke\n",
      "Formula of this Icecream: \n",
      "--- strawberry\n",
      "--- choco\n",
      "--- vanila\n"
     ]
    }
   ],
   "source": [
    "# 6. import module_name as short_name\n",
    "import makefood as food\n",
    "dir(food)\n",
    "food.make_drink('large','coke')\n",
    "food.make_icecream('strawberry','choco','vanila')"
   ]
  },
  {
   "cell_type": "code",
   "execution_count": null,
   "metadata": {},
   "outputs": [],
   "source": []
  }
 ],
 "metadata": {
  "kernelspec": {
   "display_name": "Python 3",
   "language": "python",
   "name": "python3"
  },
  "language_info": {
   "codemirror_mode": {
    "name": "ipython",
    "version": 3
   },
   "file_extension": ".py",
   "mimetype": "text/x-python",
   "name": "python",
   "nbconvert_exporter": "python",
   "pygments_lexer": "ipython3",
   "version": "3.6.5"
  }
 },
 "nbformat": 4,
 "nbformat_minor": 2
}
