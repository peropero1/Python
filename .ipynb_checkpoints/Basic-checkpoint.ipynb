{
 "cells": [
  {
   "cell_type": "markdown",
   "metadata": {},
   "source": [
    "# Define a Class\n",
    "\n",
    "https://ithelp.ithome.com.tw/users/20119871/ironman/3825"
   ]
  },
  {
   "cell_type": "code",
   "execution_count": 7,
   "metadata": {},
   "outputs": [
    {
     "name": "stdout",
     "output_type": "stream",
     "text": [
      "<__main__.MSDie object at 0x000001AA5537F710> 2\n",
      "<__main__.MSDie object at 0x000001AA5537F710> 1\n",
      "<__main__.MSDie object at 0x000001AA5537F710> 3\n",
      "<__main__.MSDie object at 0x000001AA5537F710> 2\n",
      "<__main__.MSDie object at 0x000001AA5537F710> 2\n",
      "[<__main__.MSDie object at 0x000001AA55396F98>, <__main__.MSDie object at 0x000001AA55362EF0>]\n",
      "<class '__main__.MSDie'>\n"
     ]
    }
   ],
   "source": [
    "# https://runestone.academy/runestone/books/published/pythonds3/ProperClasses/a_proper_python_class.html\n",
    "\n",
    "import random\n",
    "\n",
    "class MSDie:\n",
    "    \"\"\"\n",
    "    Multi-sided die\n",
    "\n",
    "    Instance Variables:\n",
    "        current_value\n",
    "        num_sides\n",
    "\n",
    "    \"\"\"\n",
    "\n",
    "    def __init__(self, num_sides):\n",
    "        # 產生一個有num_sides面的骰子\n",
    "        # self的概念是指這個物件本體\n",
    "        self.num_sides = num_sides\n",
    "        self.current_value = self.roll()\n",
    "\n",
    "    def roll(self):\n",
    "        # 定義方法的方式基本和函式定義的方法一致，只是要加上self。\n",
    "        self.current_value = random.randrange(1,self.num_sides+1)\n",
    "        # 骰一次並return值，randrange()\n",
    "        return self.current_value\n",
    "\n",
    "my_die = MSDie(6)\n",
    "    # 產生一個六面骰\n",
    "for i in range(5):\n",
    "    # 骰五次\n",
    "    print(my_die, my_die.current_value)\n",
    "    my_die.roll()\n",
    "\n",
    "d_list = [MSDie(6), MSDie(20)]\n",
    "print(d_list)\n",
    "    # 可看出在未加上合適的表達方式(__str__() or __repr__())時直接print出來的是物件的參照。"
   ]
  },
  {
   "cell_type": "code",
   "execution_count": 10,
   "metadata": {},
   "outputs": [
    {
     "name": "stdout",
     "output_type": "stream",
     "text": [
      "2\n",
      "3\n",
      "3\n",
      "4\n",
      "4\n",
      "[MSDie(6):5, MSDie(20):6]\n",
      "4\n",
      "MSDie(6):4\n"
     ]
    }
   ],
   "source": [
    "# 加入描述的方法，__str__與__repr__\n",
    "# __str__()用來定義傳回物件描述字串，通常用來描述的字串是對使用者友善的說明文字，如果對物件使用str()，所呼叫的就是__str__()。\n",
    "# 如果要定義對開發人員較有意義的描述，例如傳回產生實例的類別名稱之類的，則可以定義__repr__()，如果對物件使用repr()，則所呼叫的就是__repr__()。\n",
    "import random\n",
    "\n",
    "\n",
    "class MSDie():\n",
    "    def __init__(self,num_sides):\n",
    "        self.num_sides=num_sides\n",
    "        self.current_value=self.roll()\n",
    "    def roll(self):\n",
    "        self.current_value=random.randrange(1,self.num_sides+1)\n",
    "        return self.current_value\n",
    "    # 加入2種表達方式\n",
    "    def __str__(self):\n",
    "        # def __str__(self):   # 定義物件的字串描述\n",
    "        return str(self.current_value)\n",
    "    def __repr__(self):\n",
    "        return \"MSDie({}):{}\".format(self.num_sides,self.current_value)\n",
    "\n",
    "my_die=MSDie(6)\n",
    "for i in range(5):\n",
    "    # 骰5次\n",
    "    print(my_die)\n",
    "    my_die.roll()\n",
    "d_list = [MSDie(6), MSDie(20)]\n",
    "print(d_list)\n",
    "\n",
    "print(str(my_die))\n",
    "    # 輸出current value\n",
    "print(repr(my_die))\n",
    "    # 輸出 幾面骰和目前的點數"
   ]
  },
  {
   "cell_type": "code",
   "execution_count": 8,
   "metadata": {},
   "outputs": [
    {
     "name": "stdout",
     "output_type": "stream",
     "text": [
      "3 2\n",
      "False\n",
      "False\n"
     ]
    },
    {
     "ename": "TypeError",
     "evalue": "'<=' not supported between instances of 'MSDie' and 'MSDie'",
     "output_type": "error",
     "traceback": [
      "\u001b[1;31m---------------------------------------------------------------------------\u001b[0m",
      "\u001b[1;31mTypeError\u001b[0m                                 Traceback (most recent call last)",
      "\u001b[1;32m<ipython-input-8-a6e3c7e70d43>\u001b[0m in \u001b[0;36m<module>\u001b[1;34m\u001b[0m\n\u001b[0;32m     40\u001b[0m \u001b[0mprint\u001b[0m\u001b[1;33m(\u001b[0m\u001b[0mx\u001b[0m\u001b[1;33m==\u001b[0m\u001b[0my\u001b[0m\u001b[1;33m)\u001b[0m\u001b[1;33m\u001b[0m\u001b[0m\n\u001b[0;32m     41\u001b[0m \u001b[0mprint\u001b[0m\u001b[1;33m(\u001b[0m\u001b[0mx\u001b[0m\u001b[1;33m<\u001b[0m\u001b[0my\u001b[0m\u001b[1;33m)\u001b[0m\u001b[1;33m\u001b[0m\u001b[0m\n\u001b[1;32m---> 42\u001b[1;33m \u001b[0mprint\u001b[0m\u001b[1;33m(\u001b[0m\u001b[0mx\u001b[0m\u001b[1;33m<=\u001b[0m\u001b[0my\u001b[0m\u001b[1;33m)\u001b[0m\u001b[1;33m\u001b[0m\u001b[0m\n\u001b[0m",
      "\u001b[1;31mTypeError\u001b[0m: '<=' not supported between instances of 'MSDie' and 'MSDie'"
     ]
    }
   ],
   "source": [
    "'''\n",
    "比較\n",
    "__lt__ less than <\n",
    "\n",
    "__gt__ greater than >\n",
    "\n",
    "__eq__ equal to ==\n",
    "\n",
    "__le__ less than or equal to <=\n",
    "\n",
    "__ge__ greater than or equal to >=\n",
    "\n",
    "__ne__ not equal to !=\n",
    "'''\n",
    "import random\n",
    "\n",
    "class MSDie():\n",
    "    def __init__(self,side):\n",
    "        self.side=side\n",
    "        self.current_value=self.roll()\n",
    "    def roll(self):\n",
    "        self.current_value=random.randrange(1,self.side+1)\n",
    "        return self.current_value\n",
    "    def __str__(self):\n",
    "        return str(self.current_value)\n",
    "    def __repr__(self):\n",
    "        return \"MSDie({}):{}\".format(self.side,self.current_value)\n",
    "    def __eq__(self,other):\n",
    "        return self.current_value==other.current_value\n",
    "    def __lt__(self,other):\n",
    "        return self.current_value< other.current_value\n",
    "    def __gt__(self,other):\n",
    "        return self.current_value> other.current_value\n",
    "    \n",
    "    \n",
    "x=MSDie(6)\n",
    "y=MSDie(7)\n",
    "\n",
    "print(x,y)\n",
    "print(x==y)\n",
    "print(x<y)\n",
    "print(x<=y)\n",
    "    '''\n",
    "    未實作方法會出現TypeError\n",
    "        ---------------------------------------------------------------------------\n",
    "    TypeError                                 Traceback (most recent call last)\n",
    "    <ipython-input-8-a6e3c7e70d43> in <module>\n",
    "         40 print(x==y)\n",
    "         41 print(x<y)\n",
    "    ---> 42 print(x<=y)\n",
    "\n",
    "    TypeError: '<=' not supported between instances of 'MSDie' and 'MSDie'\n",
    "    '''"
   ]
  },
  {
   "cell_type": "code",
   "execution_count": 10,
   "metadata": {},
   "outputs": [
    {
     "name": "stdout",
     "output_type": "stream",
     "text": [
      "True\n",
      "True\n"
     ]
    }
   ],
   "source": [
    "'''\n",
    "只需實作 =, < ,<=即可判斷所有的比較\n",
    "'''\n",
    "import random\n",
    "\n",
    "class MSDie():\n",
    "    def __init__(self,side):\n",
    "        self.side=side\n",
    "        self.current_value=self.roll()\n",
    "    def roll(self):\n",
    "        self.current_value=random.randrange(1,self.side+1)\n",
    "        return self.current_value\n",
    "    def __str__(self):\n",
    "        return str(self.current_value)\n",
    "    def __repr__(self):\n",
    "        return \"MSDie({}):{}\".format(self.side,self.current_value)\n",
    "    def __eq__(self,other):\n",
    "        return self.current_value==other.current_value\n",
    "    def __lt__(self,other):\n",
    "        return self.current_value< other.current_value\n",
    "    def __le__(self,other):\n",
    "        return self.current_value<= other.current_value\n",
    "    \n",
    "    \n",
    "x=MSDie(6)\n",
    "y=MSDie(7)\n",
    "\n",
    "\n",
    "print(x!=y)\n",
    "print(x>y)\n",
    "    # 只需實作 =, < ,<=即可判斷所有的比較"
   ]
  },
  {
   "cell_type": "code",
   "execution_count": null,
   "metadata": {},
   "outputs": [],
   "source": []
  }
 ],
 "metadata": {
  "kernelspec": {
   "display_name": "Python 3",
   "language": "python",
   "name": "python3"
  },
  "language_info": {
   "codemirror_mode": {
    "name": "ipython",
    "version": 3
   },
   "file_extension": ".py",
   "mimetype": "text/x-python",
   "name": "python",
   "nbconvert_exporter": "python",
   "pygments_lexer": "ipython3",
   "version": "3.6.5"
  }
 },
 "nbformat": 4,
 "nbformat_minor": 2
}
