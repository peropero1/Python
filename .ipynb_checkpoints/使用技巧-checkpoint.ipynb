{
 "cells": [
  {
   "cell_type": "markdown",
   "metadata": {},
   "source": [
    "<font size=5 color=blue> Markdown </font>"
   ]
  },
  {
   "cell_type": "code",
   "execution_count": null,
   "metadata": {},
   "outputs": [],
   "source": [
    "<font face=\"黑體\"> 我是黑體字 </font>\n",
    "\n",
    "<font face=\"微軟雅黑\"> 我是微軟雅黑 </font>\n",
    "\n",
    "<font face=\"STCAIYUN\">我是華文彩雲</font>\n",
    "\n",
    "<font color=#0099ff size=7 face=\"黑體\"> color=#0099ff size=72 face=\"黑體\" </font>\n",
    "\n",
    "<font color=#00ffff size=72> color=#00ffff </font>\n",
    "\n",
    "<font color=gray size=72> color=gray </font>\n",
    "\n",
    "Size：規定文字的尺寸大小。可能的值：從 1 到 7 的數字。瀏覽器預設值是 3 ；\n",
    "具體顏色分類及標記請參照：https://blog.csdn.net/testcs_dn/article/details/45719357/"
   ]
  },
  {
   "cell_type": "markdown",
   "metadata": {},
   "source": [
    "<font face=\"黑體\"> 我是黑體字 </font>\n",
    "\n",
    "<font face=\"微軟雅黑\"> 我是微軟雅黑 </font>\n",
    "\n",
    "<font face=\"STCAIYUN\">我是華文彩雲</font>\n",
    "\n",
    "<font color=#0099ff size=7 face=\"黑體\"> color=#0099ff size=72 face=\"黑體\" </font>\n",
    "\n",
    "<font color=#00ffff size=72> color=#00ffff </font>\n",
    "\n",
    "<font color=gray size=72> color=gray </font>\n",
    "\n",
    "Size：規定文字的尺寸大小。可能的值：從 1 到 7 的數字。瀏覽器預設值是 3 ；\n",
    "具體顏色分類及標記請參照：https://blog.csdn.net/testcs_dn/article/details/45719357/"
   ]
  },
  {
   "cell_type": "code",
   "execution_count": null,
   "metadata": {},
   "outputs": [],
   "source": [
    "<table><tr><td bgcolor=#FF00FF>背景色的设置是按照十六进制颜色值：#7FFFD4</td></tr></table>\n",
    "<table><tr><td bgcolor=#FF83FA>背景色的设置是按照十六进制颜色值：#FF83FA</td></tr></table>\n",
    "<table><tr><td bgcolor=#D1EEEE>背景色的设置是按照十六进制颜色值：#D1EEEE</td></tr></table>"
   ]
  },
  {
   "cell_type": "markdown",
   "metadata": {},
   "source": [
    "<table><tr><td bgcolor=#FF00FF>背景色的设置是按照十六进制颜色值：#7FFFD4</td></tr></table>\n",
    "<table><tr><td bgcolor=#FF83FA>背景色的设置是按照十六进制颜色值：#FF83FA</td></tr></table>\n",
    "<table><tr><td bgcolor=#D1EEEE>背景色的设置是按照十六进制颜色值：#D1EEEE</td></tr></table>"
   ]
  },
  {
   "cell_type": "code",
   "execution_count": null,
   "metadata": {},
   "outputs": [],
   "source": []
  }
 ],
 "metadata": {
  "kernelspec": {
   "display_name": "Python 3",
   "language": "python",
   "name": "python3"
  },
  "language_info": {
   "codemirror_mode": {
    "name": "ipython",
    "version": 3
   },
   "file_extension": ".py",
   "mimetype": "text/x-python",
   "name": "python",
   "nbconvert_exporter": "python",
   "pygments_lexer": "ipython3",
   "version": "3.6.5"
  }
 },
 "nbformat": 4,
 "nbformat_minor": 2
}
