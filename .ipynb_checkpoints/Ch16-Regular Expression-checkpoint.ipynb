{
 "cells": [
  {
   "cell_type": "markdown",
   "metadata": {},
   "source": [
    "# re module\n",
    "### re.compile(msg)\n",
    "### re.search(msg):　 return 第一個 match的msg or None, 配合.group()\n",
    "### re.findall(msg) :     return a list of match elements or None"
   ]
  },
  {
   "cell_type": "code",
   "execution_count": 10,
   "metadata": {},
   "outputs": [
    {
     "name": "stdout",
     "output_type": "stream",
     "text": [
      "<class '_sre.SRE_Pattern'>\n",
      "<class '_sre.SRE_Match'>\n",
      "電話號碼是：0930-919-919\n",
      "<class '_sre.SRE_Pattern'>\n",
      "<class 'NoneType'>\n",
      "訊息中不含電話號碼。\n",
      "<class '_sre.SRE_Pattern'>\n",
      "<class '_sre.SRE_Match'>\n",
      "電話號碼是：0933-080-080\n"
     ]
    },
    {
     "data": {
      "text/plain": [
       "\"\\n<class '_sre.SRE_Pattern'>物件的屬性：\\n['__class__', '__copy__', '__deepcopy__', '__delattr__', '__dir__', '__doc__', '__eq__', '__format__', '__ge__', \\n'__getattribute__', '__gt__', '__hash__', '__init__', '__init_subclass__', '__le__', '__lt__', '__ne__', '__new__', \\n'__reduce__', '__reduce_ex__', '__repr__', '__setattr__', '__sizeof__', '__str__', '__subclasshook__', 'findall', \\n'finditer', 'flags', 'fullmatch', 'groupindex', 'groups', 'match', 'pattern', 'scanner', 'search', 'split', 'sub', 'subn']\\n\""
      ]
     },
     "execution_count": 10,
     "metadata": {},
     "output_type": "execute_result"
    }
   ],
   "source": [
    "# re.compile('msg'): 把msg作為pattern 參數輸入，會回傳一個Regex物件，可由search, findall等方法來搜尋和比對\n",
    "\n",
    "# 下面是用reg來找手機號碼：'\\d\\d\\d\\d-\\d\\d\\d-\\d\\d\\d'\n",
    "import re\n",
    "\n",
    "msg1='Please call my secretary using 0930-919-919 or 0952-001-001'\n",
    "msg2='日本 BANDAI SPIRITS 公司 HOBBY 事業部今（01）日正式公開組裝模型『RG』系列最新作，出自《福音戰士新劇場版》的「RG 用人型決戰兵器 人造人 EVA 初號機」預計於 2020 年 03 月發售的消息。'\n",
    "msg3='https://www.toy-people.com/?p=50172-0313&fbclid=IwAR16EtxvoCgb4gFnvqR-yNcG_6s3WlEZMwJPMqDM_DhiGnb1-3XQjDcigIg, 0933-080-080'\n",
    "\n",
    "\n",
    "def parsing(msg):\n",
    "    phoneRule=re.compile(r'\\d\\d\\d\\d-\\d\\d\\d-\\d\\d\\d')    # <class '_sre.SRE_Pattern'> object\n",
    "    print(type(phoneRule))\n",
    "    phoneNum=phoneRule.search(msg)    # re.search(str): 會搜尋msg並回傳是否找到對應的pattern, 沒有找到會回傳None，成功時會回傳MatchObject物件\n",
    "    print(type(phoneNum))    # <class '_sre.SRE_Match'>\n",
    "    if phoneNum:\n",
    "        print('電話號碼是：{}'.format(phoneNum.group()))\n",
    "    else:\n",
    "        print('訊息中不含電話號碼。')\n",
    "parsing(msg1)    # 只會回傳第一筆0930-919-919\n",
    "parsing(msg2)\n",
    "parsing(msg3)\n",
    "\n",
    "\n",
    "'''\n",
    "<class '_sre.SRE_Pattern'>物件的屬性：\n",
    "['__class__', '__copy__', '__deepcopy__', '__delattr__', '__dir__', '__doc__', '__eq__', '__format__', '__ge__', \n",
    "'__getattribute__', '__gt__', '__hash__', '__init__', '__init_subclass__', '__le__', '__lt__', '__ne__', '__new__', \n",
    "'__reduce__', '__reduce_ex__', '__repr__', '__setattr__', '__sizeof__', '__str__', '__subclasshook__', 'findall', \n",
    "'finditer', 'flags', 'fullmatch', 'groupindex', 'groups', 'match', 'pattern', 'scanner', 'search', 'split', 'sub', 'subn']\n",
    "'''"
   ]
  },
  {
   "cell_type": "code",
   "execution_count": 13,
   "metadata": {},
   "outputs": [
    {
     "name": "stdout",
     "output_type": "stream",
     "text": [
      "<class 'list'>\n",
      "電話號碼是：['0930-919-919', '0952-001-001']\n",
      "<class 'list'>\n",
      "電話號碼是：[]\n",
      "<class 'list'>\n",
      "電話號碼是：['0933-080-080']\n"
     ]
    }
   ],
   "source": [
    "# re.findall(msg): 搜尋msg並將比對到的所有pattern以list方式回傳\n",
    "\n",
    "# 把上面的search()改為findall()\n",
    "\n",
    "import re\n",
    "\n",
    "msg1='Please call my secretary using 0930-919-919 or 0952-001-001'\n",
    "msg2='日本 BANDAI SPIRITS 公司 HOBBY 事業部今（01）日正式公開組裝模型『RG』系列最新作，出自《福音戰士新劇場版》的「RG 用人型決戰兵器 人造人 EVA 初號機」預計於 2020 年 03 月發售的消息。'\n",
    "msg3='https://www.toy-people.com/?p=50172-0313&fbclid=IwAR16EtxvoCgb4gFnvqR-yNcG_6s3WlEZMwJPMqDM_DhiGnb1-3XQjDcigIg, 0933-080-080'\n",
    "\n",
    "\n",
    "def parsing(msg):\n",
    "    phoneRule=re.compile(r'\\d\\d\\d\\d-\\d\\d\\d-\\d\\d\\d')\n",
    "    phoneNum=phoneRule.findall(msg)    # findall(), return a list\n",
    "    print(type(phoneNum))     # <class 'list'>\n",
    "    print('電話號碼是：{}'.format(phoneNum))\n",
    "\n",
    "parsing(msg1)    # ['0930-919-919', '0952-001-001']\n",
    "parsing(msg2)    # []\n",
    "parsing(msg3)    # ['0933-080-080']\n"
   ]
  },
  {
   "cell_type": "code",
   "execution_count": 16,
   "metadata": {},
   "outputs": [
    {
     "name": "stdout",
     "output_type": "stream",
     "text": [
      "電話號碼是：['0930-919-919', '0952-001-001']\n",
      "電話號碼是：[]\n",
      "電話號碼是：['0933-080-080']\n",
      "\n",
      "電話號碼是：0930-919-919\n",
      "訊息中不含電話號碼。\n",
      "電話號碼是：0933-080-080\n"
     ]
    }
   ],
   "source": [
    "# 省略re.compile(msg)\n",
    "# re.search(pattern, string, flags)\n",
    "# re.findall(pattern, string, flags)\n",
    "\n",
    "msg1='Please call my secretary using 0930-919-919 or 0952-001-001'\n",
    "msg2='日本 BANDAI SPIRITS 公司 HOBBY 事業部今（01）日正式公開組裝模型『RG』系列最新作，出自《福音戰士新劇場版》的「RG 用人型決戰兵器 人造人 EVA 初號機」預計於 2020 年 03 月發售的消息。'\n",
    "msg3='https://www.toy-people.com/?p=50172-0313&fbclid=IwAR16EtxvoCgb4gFnvqR-yNcG_6s3WlEZMwJPMqDM_DhiGnb1-3XQjDcigIg, 0933-080-080'\n",
    "\n",
    "\n",
    "\n",
    "def parsing(msg):\n",
    "    pattern=r'\\d\\d\\d\\d-\\d\\d\\d-\\d\\d\\d'\n",
    "    phoneNum=re.findall(pattern,msg) \n",
    "    print('電話號碼是：{}'.format(phoneNum))\n",
    "\n",
    "def parsing1(msg):\n",
    "    pattern=r'\\d\\d\\d\\d-\\d\\d\\d-\\d\\d\\d'\n",
    "    phoneNum=re.search(pattern,msg)\n",
    "    if phoneNum!=None:\n",
    "        print('電話號碼是：{}'.format(phoneNum.group()))    # search()的object要配合group()\n",
    "    else:\n",
    "        print('訊息中不含電話號碼。')\n",
    "\n",
    "parsing(msg1)\n",
    "parsing(msg2)\n",
    "parsing(msg3)\n",
    "print()\n",
    "parsing1(msg1)\n",
    "parsing1(msg2)\n",
    "parsing1(msg3)"
   ]
  },
  {
   "cell_type": "code",
   "execution_count": null,
   "metadata": {},
   "outputs": [],
   "source": [
    "# 重複出現的pattern:\n",
    "\n",
    "# pattern=r'\\d\\d\\d\\d-\\d\\d\\d-\\d\\d\\d'-> r'\\d{4}-\\d{3}-\\d{3}'"
   ]
  }
 ],
 "metadata": {
  "kernelspec": {
   "display_name": "Python 3",
   "language": "python",
   "name": "python3"
  },
  "language_info": {
   "codemirror_mode": {
    "name": "ipython",
    "version": 3
   },
   "file_extension": ".py",
   "mimetype": "text/x-python",
   "name": "python",
   "nbconvert_exporter": "python",
   "pygments_lexer": "ipython3",
   "version": "3.6.5"
  }
 },
 "nbformat": 4,
 "nbformat_minor": 2
}
