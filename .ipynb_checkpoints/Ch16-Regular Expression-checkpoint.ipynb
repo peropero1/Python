{
 "cells": [
  {
   "cell_type": "markdown",
   "metadata": {},
   "source": [
    "# re module\n",
    "### re.compile(msg)\n",
    "### re.search(msg):　 return 第一個 match的msg or None, 配合.group()\n",
    "### re.findall(msg) :     return a list of match elements or None"
   ]
  },
  {
   "cell_type": "code",
   "execution_count": 10,
   "metadata": {},
   "outputs": [
    {
     "name": "stdout",
     "output_type": "stream",
     "text": [
      "<class '_sre.SRE_Pattern'>\n",
      "<class '_sre.SRE_Match'>\n",
      "電話號碼是：0930-919-919\n",
      "<class '_sre.SRE_Pattern'>\n",
      "<class 'NoneType'>\n",
      "訊息中不含電話號碼。\n",
      "<class '_sre.SRE_Pattern'>\n",
      "<class '_sre.SRE_Match'>\n",
      "電話號碼是：0933-080-080\n"
     ]
    },
    {
     "data": {
      "text/plain": [
       "\"\\n<class '_sre.SRE_Pattern'>物件的屬性：\\n['__class__', '__copy__', '__deepcopy__', '__delattr__', '__dir__', '__doc__', '__eq__', '__format__', '__ge__', \\n'__getattribute__', '__gt__', '__hash__', '__init__', '__init_subclass__', '__le__', '__lt__', '__ne__', '__new__', \\n'__reduce__', '__reduce_ex__', '__repr__', '__setattr__', '__sizeof__', '__str__', '__subclasshook__', 'findall', \\n'finditer', 'flags', 'fullmatch', 'groupindex', 'groups', 'match', 'pattern', 'scanner', 'search', 'split', 'sub', 'subn']\\n\""
      ]
     },
     "execution_count": 10,
     "metadata": {},
     "output_type": "execute_result"
    }
   ],
   "source": [
    "# re.compile('msg'): 把msg作為pattern 參數輸入，會回傳一個Regex物件，可由search, findall等方法來搜尋和比對\n",
    "\n",
    "# 下面是用reg來找手機號碼：'\\d\\d\\d\\d-\\d\\d\\d-\\d\\d\\d'\n",
    "import re\n",
    "\n",
    "msg1='Please call my secretary using 0930-919-919 or 0952-001-001'\n",
    "msg2='日本 BANDAI SPIRITS 公司 HOBBY 事業部今（01）日正式公開組裝模型『RG』系列最新作，出自《福音戰士新劇場版》的「RG 用人型決戰兵器 人造人 EVA 初號機」預計於 2020 年 03 月發售的消息。'\n",
    "msg3='https://www.toy-people.com/?p=50172-0313&fbclid=IwAR16EtxvoCgb4gFnvqR-yNcG_6s3WlEZMwJPMqDM_DhiGnb1-3XQjDcigIg, 0933-080-080'\n",
    "\n",
    "\n",
    "def parsing(msg):\n",
    "    phoneRule=re.compile(r'\\d\\d\\d\\d-\\d\\d\\d-\\d\\d\\d')    # <class '_sre.SRE_Pattern'> object\n",
    "    print(type(phoneRule))\n",
    "    phoneNum=phoneRule.search(msg)    # re.search(str): 會搜尋msg並回傳是否找到對應的pattern, 沒有找到會回傳None，成功時會回傳MatchObject物件\n",
    "    print(type(phoneNum))    # <class '_sre.SRE_Match'>\n",
    "    if phoneNum:\n",
    "        print('電話號碼是：{}'.format(phoneNum.group()))\n",
    "    else:\n",
    "        print('訊息中不含電話號碼。')\n",
    "parsing(msg1)    # 只會回傳第一筆0930-919-919\n",
    "parsing(msg2)\n",
    "parsing(msg3)\n",
    "\n",
    "\n",
    "'''\n",
    "<class '_sre.SRE_Pattern'>物件的屬性：\n",
    "['__class__', '__copy__', '__deepcopy__', '__delattr__', '__dir__', '__doc__', '__eq__', '__format__', '__ge__', \n",
    "'__getattribute__', '__gt__', '__hash__', '__init__', '__init_subclass__', '__le__', '__lt__', '__ne__', '__new__', \n",
    "'__reduce__', '__reduce_ex__', '__repr__', '__setattr__', '__sizeof__', '__str__', '__subclasshook__', 'findall', \n",
    "'finditer', 'flags', 'fullmatch', 'groupindex', 'groups', 'match', 'pattern', 'scanner', 'search', 'split', 'sub', 'subn']\n",
    "'''"
   ]
  },
  {
   "cell_type": "code",
   "execution_count": 13,
   "metadata": {},
   "outputs": [
    {
     "name": "stdout",
     "output_type": "stream",
     "text": [
      "<class 'list'>\n",
      "電話號碼是：['0930-919-919', '0952-001-001']\n",
      "<class 'list'>\n",
      "電話號碼是：[]\n",
      "<class 'list'>\n",
      "電話號碼是：['0933-080-080']\n"
     ]
    }
   ],
   "source": [
    "# re.findall(msg): 搜尋msg並將比對到的所有pattern以list方式回傳\n",
    "\n",
    "# 把上面的search()改為findall()\n",
    "\n",
    "import re\n",
    "\n",
    "msg1='Please call my secretary using 0930-919-919 or 0952-001-001'\n",
    "msg2='日本 BANDAI SPIRITS 公司 HOBBY 事業部今（01）日正式公開組裝模型『RG』系列最新作，出自《福音戰士新劇場版》的「RG 用人型決戰兵器 人造人 EVA 初號機」預計於 2020 年 03 月發售的消息。'\n",
    "msg3='https://www.toy-people.com/?p=50172-0313&fbclid=IwAR16EtxvoCgb4gFnvqR-yNcG_6s3WlEZMwJPMqDM_DhiGnb1-3XQjDcigIg, 0933-080-080'\n",
    "\n",
    "\n",
    "def parsing(msg):\n",
    "    phoneRule=re.compile(r'\\d\\d\\d\\d-\\d\\d\\d-\\d\\d\\d')\n",
    "    phoneNum=phoneRule.findall(msg)    # findall(), return a list\n",
    "    print(type(phoneNum))     # <class 'list'>\n",
    "    print('電話號碼是：{}'.format(phoneNum))\n",
    "\n",
    "parsing(msg1)    # ['0930-919-919', '0952-001-001']\n",
    "parsing(msg2)    # []\n",
    "parsing(msg3)    # ['0933-080-080']\n"
   ]
  },
  {
   "cell_type": "code",
   "execution_count": 16,
   "metadata": {},
   "outputs": [
    {
     "name": "stdout",
     "output_type": "stream",
     "text": [
      "電話號碼是：['0930-919-919', '0952-001-001']\n",
      "電話號碼是：[]\n",
      "電話號碼是：['0933-080-080']\n",
      "\n",
      "電話號碼是：0930-919-919\n",
      "訊息中不含電話號碼。\n",
      "電話號碼是：0933-080-080\n"
     ]
    }
   ],
   "source": [
    "# 省略re.compile(msg)\n",
    "# re.search(pattern, string, flags)\n",
    "# re.findall(pattern, string, flags)\n",
    "\n",
    "msg1='Please call my secretary using 0930-919-919 or 0952-001-001'\n",
    "msg2='日本 BANDAI SPIRITS 公司 HOBBY 事業部今（01）日正式公開組裝模型『RG』系列最新作，出自《福音戰士新劇場版》的「RG 用人型決戰兵器 人造人 EVA 初號機」預計於 2020 年 03 月發售的消息。'\n",
    "msg3='https://www.toy-people.com/?p=50172-0313&fbclid=IwAR16EtxvoCgb4gFnvqR-yNcG_6s3WlEZMwJPMqDM_DhiGnb1-3XQjDcigIg, 0933-080-080'\n",
    "\n",
    "\n",
    "def parsing(msg):\n",
    "    pattern=r'\\d\\d\\d\\d-\\d\\d\\d-\\d\\d\\d'\n",
    "    phoneNum=re.findall(pattern,msg) \n",
    "    print('電話號碼是：{}'.format(phoneNum))\n",
    "\n",
    "def parsing1(msg):\n",
    "    pattern=r'\\d\\d\\d\\d-\\d\\d\\d-\\d\\d\\d'\n",
    "    phoneNum=re.search(pattern,msg)\n",
    "    if phoneNum!=None:\n",
    "        print('電話號碼是：{}'.format(phoneNum.group()))    # search()的object要配合group()\n",
    "    else:\n",
    "        print('訊息中不含電話號碼。')\n",
    "\n",
    "parsing(msg1)\n",
    "parsing(msg2)\n",
    "parsing(msg3)\n",
    "print()\n",
    "parsing1(msg1)\n",
    "parsing1(msg2)\n",
    "parsing1(msg3)"
   ]
  },
  {
   "cell_type": "code",
   "execution_count": 2,
   "metadata": {},
   "outputs": [
    {
     "name": "stdout",
     "output_type": "stream",
     "text": [
      "電話號碼有：['0930-919-919', '0952-001-001']\n",
      "電話號碼有：[]\n",
      "電話號碼有：['0933-080-080']\n"
     ]
    }
   ],
   "source": [
    "# 重複出現的pattern:\n",
    "# pattern = r'\\d\\d\\d\\d-\\d\\d\\d-\\d\\d\\d'-> r'\\d{4}-\\d{3}-\\d{3}'\n",
    "\n",
    "import re\n",
    "\n",
    "msg1='Please call my secretary using 0930-919-919 or 0952-001-001'\n",
    "msg2='日本 BANDAI SPIRITS 公司 HOBBY 事業部今（01）日正式公開組裝模型『RG』系列最新作，出自《福音戰士新劇場版》的「RG 用人型決戰兵器 人造人 EVA 初號機」預計於 2020 年 03 月發售的消息。'\n",
    "msg3='https://www.toy-people.com/?p=50172-0313&fbclid=IwAR16EtxvoCgb4gFnvqR-yNcG_6s3WlEZMwJPMqDM_DhiGnb1-3XQjDcigIg, 0933-080-080'\n",
    "\n",
    "def parsing(msg):\n",
    "    pattern=r'\\d{4}-\\d{3}-\\d{3}'\n",
    "    phoneNum=re.findall(pattern,msg)\n",
    "    print('電話號碼有：{}'.format(phoneNum))\n",
    "    \n",
    "parsing(msg1)\n",
    "parsing(msg2)\n",
    "parsing(msg3)"
   ]
  },
  {
   "cell_type": "markdown",
   "metadata": {},
   "source": [
    "# 更多的比對模式\n",
    "### 。小括號分組：()-()\n",
    "### 。groups()\n",
    "### 。pipe, | , 可同時搜尋多個字串\n",
    "### 。多個分組的pipe X(a|b|c)\n",
    "### 。問號?，表可有可無\n",
    "### 。*, 0~多次\n",
    "### 。+, 1~多次\n",
    "### 。re.I, 省略大小寫\n"
   ]
  },
  {
   "cell_type": "code",
   "execution_count": 6,
   "metadata": {},
   "outputs": [
    {
     "name": "stdout",
     "output_type": "stream",
     "text": [
      "[('02', '25362399')]\n",
      "02-25362399\n",
      "02-25362399\n",
      "02\n",
      "25362399\n"
     ]
    }
   ],
   "source": [
    "# 小括號分組：()-()\n",
    "# 以電話號碼為例：02-25363499 -> r'(\\d{2})-(\\d{8})'\n",
    "\n",
    "import re\n",
    "\n",
    "msg='Please call me back using 02-25362399'\n",
    "pattern=r'(\\d{2})-(\\d{8})'\n",
    "li=re.findall(pattern,msg)\n",
    "print(li)\n",
    "\n",
    "tel=re.search(pattern,msg)\n",
    "print(tel.group())    # 回傳第一個比對相符的文字\n",
    "print(tel.group(0))    # 回傳第一個比對相符的文字\n",
    "print(tel.group(1))    # 回傳第一個符合第一個括號內的文字\n",
    "print(tel.group(2))    # 回傳第一個符合第二個括號內的文字"
   ]
  },
  {
   "cell_type": "code",
   "execution_count": 11,
   "metadata": {},
   "outputs": [
    {
     "name": "stdout",
     "output_type": "stream",
     "text": [
      "No telphone number found.\n",
      "02-010-1787\n",
      "02\n",
      "010\n",
      "1787\n",
      "02-666-2999\n",
      "02\n",
      "666\n",
      "2999\n"
     ]
    }
   ],
   "source": [
    "# group()\n",
    "# 02-536-2399-> r'(\\d{2})-(\\d{3})-(\\d{4})'\n",
    "# group() 和group(0)為搜尋到的完整字串\n",
    "# group(i), i>1則為各括中中第一次比對到的字\n",
    "import re\n",
    "\n",
    "msg1='正式來函請寄到10099 臺北南陽郵局第 33-131 號信箱，批踢踢實業坊收。本站無法收取雙掛號信件，\\\n",
    "雙掛號信件會遭退信。信函寄出後請麻煩填寫下表通知我們去開信箱。'\n",
    "msg2='如果您對全聯公司有任何的建議或批評，我們非常歡迎您能來信指教，或致電客服專線：02-010-1787，\\\n",
    "手機另撥：02-2533-7700。我們將用心聆聽，並以最快的速度回應給您，謝謝。'\n",
    "msg3='歡迎撥打24小時免付費客服專線：02-666-2999或02-111-2222填寫以下表格聯絡我們'\n",
    "\n",
    "def parsing(msg):\n",
    "    pattern= r'(\\d{2})-(\\d{3})-(\\d{4})'\n",
    "    telNum=re.search(pattern,msg)\n",
    "    if telNum!=None:\n",
    "        for i in range(3+1):\n",
    "            print(telNum.group(i))\n",
    "    else:\n",
    "        print('No telphone number found.')\n",
    "\n",
    "parsing(msg1)\n",
    "parsing(msg2) \n",
    "parsing(msg3)   # 只找到1個"
   ]
  },
  {
   "cell_type": "code",
   "execution_count": 13,
   "metadata": {},
   "outputs": [
    {
     "name": "stdout",
     "output_type": "stream",
     "text": [
      "[]\n",
      "[('02', '010', '1787')]\n",
      "[('02', '666', '2999'), ('02', '111', '2222')]\n"
     ]
    }
   ],
   "source": [
    "# findall() + group()\n",
    "# 會以tupled list的方式回傳，各tuple元素就是group內的元素\n",
    "\n",
    "import re\n",
    "\n",
    "msg1='正式來函請寄到10099 臺北南陽郵局第 33-131 號信箱，批踢踢實業坊收。本站無法收取雙掛號信件，\\\n",
    "雙掛號信件會遭退信。信函寄出後請麻煩填寫下表通知我們去開信箱。'\n",
    "msg2='如果您對全聯公司有任何的建議或批評，我們非常歡迎您能來信指教，或致電客服專線：02-010-1787，\\\n",
    "手機另撥：02-2533-7700。我們將用心聆聽，並以最快的速度回應給您，謝謝。'\n",
    "msg3='歡迎撥打24小時免付費客服專線：02-666-2999或02-111-2222填寫以下表格聯絡我們'\n",
    "\n",
    "\n",
    "def parsing_findall(msg):\n",
    "    pattern=r'(\\d{2})-(\\d{3})-(\\d{4})'\n",
    "    li=re.findall(pattern,msg)\n",
    "    print(li)\n",
    "    \n",
    "parsing_findall(msg1)\n",
    "parsing_findall(msg2) \n",
    "parsing_findall(msg3)"
   ]
  },
  {
   "cell_type": "code",
   "execution_count": 18,
   "metadata": {},
   "outputs": [
    {
     "name": "stdout",
     "output_type": "stream",
     "text": [
      "區域: 02\n",
      "電話號碼: 25362399\n"
     ]
    }
   ],
   "source": [
    "# groups(), not group()\n",
    "# 多重指定的group()->  area, local=groups()\n",
    "\n",
    "import re\n",
    "\n",
    "msg='Please call me back using 02-25362399'\n",
    "pattern=r'(\\d{2})-(\\d{8})'\n",
    "phoneNum=re.search(pattern,msg)\n",
    "area,local=phoneNum.groups()   # 把各group中的值指定給不同變數\n",
    "\n",
    "print('區域: ',area,sep='')\n",
    "print('電話號碼: ',local,sep='')"
   ]
  },
  {
   "cell_type": "code",
   "execution_count": 21,
   "metadata": {},
   "outputs": [
    {
     "name": "stdout",
     "output_type": "stream",
     "text": [
      "區域: (02)\n",
      "電話號碼: 25362399\n"
     ]
    }
   ],
   "source": [
    "# 分組內有小括號的出現: \\( 及\\)來表示比對的小括號\n",
    "# (02)25362399-> r'(\\(\\d{2}\\))-(\\d{8})'\n",
    "\n",
    "import re\n",
    "\n",
    "msg='Please call me back using (02)-25362399'\n",
    "pattern=r'(\\(\\d{2}\\))-(\\d{8})'\n",
    "phoneNum=re.search(pattern,msg)\n",
    "area,local=phoneNum.groups()\n",
    "\n",
    "print('區域: ',area,sep='')\n",
    "print('電話號碼: ',local,sep='')\n"
   ]
  },
  {
   "cell_type": "code",
   "execution_count": 6,
   "metadata": {},
   "outputs": [
    {
     "name": "stdout",
     "output_type": "stream",
     "text": [
      "Johnson\n",
      "['son', 'nason', 'nathan']\n",
      "Johnson\n",
      "Johnnason\n",
      "Johnnathan\n"
     ]
    }
   ],
   "source": [
    "# |, pipe: 同時比對多個字串\n",
    "# pattern=' Mary| John'\n",
    "\n",
    "import re\n",
    "\n",
    "msg=\"Johnson, Johnnason and Johnnathan will attend my party tonight\"\n",
    "pattern='John(son|nason|nathan)'\n",
    "    # John後面有出現son, nason, nathan的都要\n",
    "\n",
    "txt=re.search(pattern,msg)    # 列出第一個搜尋比對到的字串\n",
    "li=re.findall(pattern,msg)    # 只回傳各分組搜尋到的字串，要用for來把John再補回去\n",
    "print(txt.group())\n",
    "print(li)\n",
    "\n",
    "for item in li:\n",
    "    print('John{}'.format(item))"
   ]
  },
  {
   "cell_type": "code",
   "execution_count": 88,
   "metadata": {},
   "outputs": [
    {
     "name": "stdout",
     "output_type": "stream",
     "text": [
      "Johnson\n",
      "Johnnason\n",
      "[('son', ''), ('nason', 'na')]\n"
     ]
    }
   ],
   "source": [
    "# 以? 做搜尋: 表示可有可無\n",
    "# 語法: (na)?\n",
    "\n",
    "import re\n",
    "\n",
    "msg='Johnson will attend my party tonight.'\n",
    "pattern='John((na)?son)'    # 即：Johnson或Johnnason皆符合比對結果\n",
    "txt=re.search(pattern,msg)\n",
    "print(txt.group())\n",
    "\n",
    "msg2='Johnnason will attend my party tonight.'\n",
    "txt2=re.search(pattern,msg2)\n",
    "print(txt2.group())\n",
    "\n",
    "\n",
    "msg3='Johnson and Johnnason will attend my party tonight.'\n",
    "txt3=re.findall(pattern,msg3)\n",
    "print(txt3)\n",
    "    #[('son', ''), ('nason', 'na')]\n",
    "    # ('son', '')為match (na) 0次的結果\n",
    "    #('nason', 'na') 為match (na) 1次的結果"
   ]
  },
  {
   "cell_type": "code",
   "execution_count": 30,
   "metadata": {},
   "outputs": [
    {
     "name": "stdout",
     "output_type": "stream",
     "text": [
      "完整號碼是:02-26669999\n",
      "完整號碼是:26669999\n"
     ]
    }
   ],
   "source": [
    "# 區域號碼可有可無\n",
    "\n",
    "import re\n",
    "msg=\"Please call my secretary using 02-26669999\"\n",
    "pattern=r'(\\d\\d-)?(\\d{8})'\n",
    "    # '02-'可有可無: (\\d\\d-)\n",
    "phoneNum=re.search(pattern,msg)\n",
    "print(\"完整號碼是:{}\".format(phoneNum.group()))\n",
    "\n",
    "\n",
    "msg2=\"Please call my secretary using 26669999\"\n",
    "phoneNum2=re.search(pattern,msg2)\n",
    "print(\"完整號碼是:{}\".format(phoneNum2.group()))"
   ]
  },
  {
   "cell_type": "code",
   "execution_count": 90,
   "metadata": {},
   "outputs": [
    {
     "name": "stdout",
     "output_type": "stream",
     "text": [
      "Johnson\n",
      "Johnnason\n",
      "[('son', ''), ('nason', 'na'), ('nananason', 'na')]\n"
     ]
    }
   ],
   "source": [
    "# 以*來搜尋: 表示出現0~多次\n",
    "# 語法：(na)*\n",
    "\n",
    "msg='Johnson will attend my party tonight.'\n",
    "pattern='John((na)*son)'\n",
    "txt=re.search(pattern,msg)\n",
    "print(txt.group())\n",
    "\n",
    "msg2='Johnnason will attend my party tonight.'\n",
    "txt2=re.search(pattern,msg2)\n",
    "print(txt2.group())\n",
    "\n",
    "\n",
    "msg3='Johnson and Johnnason and Johnnananason will attend my party tonight.'\n",
    "txt3=re.findall(pattern,msg3)\n",
    "print(txt3)\n",
    "    #[('son', ''), ('nason', 'na')]\n",
    "    # ('son', '')為match (na) 0次的結果\n",
    "    #('nason', 'na') 為match (na) 次的結果"
   ]
  },
  {
   "cell_type": "code",
   "execution_count": 91,
   "metadata": {},
   "outputs": [
    {
     "name": "stdout",
     "output_type": "stream",
     "text": [
      "None\n",
      "Johnnason\n",
      "[('nason', 'na'), ('nananason', 'na')]\n"
     ]
    }
   ],
   "source": [
    "# 以+來搜尋: 表出現1~多次\n",
    "\n",
    "import re\n",
    "msg='Johnson will attend my party tonight.'\n",
    "pattern='John((na)+son)'\n",
    "txt=re.search(pattern,msg)    # return None object\n",
    "print(txt)\n",
    "    # None, 若用print(txt.group())會出現AttributeError\n",
    "\n",
    "msg2='Johnnason will attend my party tonight.'\n",
    "txt2=re.search(pattern,msg2)\n",
    "print(txt2.group())\n",
    "\n",
    "\n",
    "msg3='Johnson and Johnnason and Johnnananason will attend my party tonight.'\n",
    "txt3=re.findall(pattern,msg3)\n",
    "print(txt3)"
   ]
  },
  {
   "cell_type": "code",
   "execution_count": 94,
   "metadata": {},
   "outputs": [
    {
     "name": "stdout",
     "output_type": "stream",
     "text": [
      "['john', 'TOM', 'John']\n",
      "['John']\n"
     ]
    }
   ],
   "source": [
    "# 搜尋時忽略大小寫\n",
    "# re.search(pattern, str, re.I或re.IGNORECASE) : ignorecase\n",
    "# re.findall(pattern, str, re.I)\n",
    "\n",
    "msg='john and TOM will attend my party tonight. John is my best friend.'\n",
    "pattern='John|Tom'\n",
    "txt=re.findall(pattern,msg,re.I)\n",
    "print(txt)\n",
    "    #['john', 'TOM', 'John'], 會以原字串的格式輸出。\n",
    "\n",
    "pattern2='Mary|tom'\n",
    "txt2=re.findall(pattern,msg2,re.I)\n",
    "print(txt2)\n",
    "\n"
   ]
  },
  {
   "cell_type": "code",
   "execution_count": 103,
   "metadata": {},
   "outputs": [
    {
     "name": "stdout",
     "output_type": "stream",
     "text": [
      "搜尋字串： son\n",
      "搜尋失數: None\n",
      "搜尋字串： sonson\n",
      "搜尋失數: None\n",
      "搜尋字串： sonsonson\n",
      "搜尋成功: sonsonson\n",
      "搜尋字串： sonsonsonson\n",
      "搜尋成功: sonsonsonson\n",
      "搜尋字串： sonsonsonsonson\n",
      "搜尋成功: sonsonsonsonson\n",
      "搜尋字串： sonsonsonsonsonson\n",
      "搜尋成功: sonsonsonsonson\n"
     ]
    }
   ],
   "source": [
    "# 以{m,n}設定比對的次數\n",
    "# greedy mode\n",
    "\n",
    "import re\n",
    "\n",
    "def searchStr(pattern,msg):\n",
    "    txt=re.search(pattern,msg)\n",
    "    print('搜尋字串：',msg)\n",
    "    if txt ==None:\n",
    "        print('搜尋失數:',txt)\n",
    "    else:\n",
    "        print('搜尋成功:',txt.group())\n",
    "        \n",
    "pattern='(son){3,5}'\n",
    "    # son需出現3~5次，即比對：(sonsonson|sonsonsonson|sonsonsonsonson)\n",
    "\n",
    "string=''\n",
    "for i in range(1,7):\n",
    "    string+='son'\n",
    "    searchStr(pattern,string)\n",
    "        # 從結果可見，sonsonsonsonsonson以5次的son比對仍會成功。\n",
    "        # 此為greedy mode,會以重複最多次的結果輸出 "
   ]
  },
  {
   "cell_type": "code",
   "execution_count": 104,
   "metadata": {},
   "outputs": [
    {
     "name": "stdout",
     "output_type": "stream",
     "text": [
      "搜尋字串： son\n",
      "搜尋失數: None\n",
      "搜尋字串： sonson\n",
      "搜尋失數: None\n",
      "搜尋字串： sonsonson\n",
      "搜尋成功: sonsonson\n",
      "搜尋字串： sonsonsonson\n",
      "搜尋成功: sonsonson\n",
      "搜尋字串： sonsonsonsonson\n",
      "搜尋成功: sonsonson\n",
      "搜尋字串： sonsonsonsonsonson\n",
      "搜尋成功: sonsonson\n"
     ]
    }
   ],
   "source": [
    "# non-greedy mode\n",
    "# pattern='e?'\n",
    "\n",
    "import re\n",
    "\n",
    "def searchStr(pattern,msg):\n",
    "    txt=re.search(pattern,msg)\n",
    "    print('搜尋字串：',msg)\n",
    "    if txt ==None:\n",
    "        print('搜尋失數:',txt)\n",
    "    else:\n",
    "        print('搜尋成功:',txt.group())\n",
    "        \n",
    "pattern='(son){3,5}?'\n",
    "    # check here的?，以下的for只要比對到sonsonson就會輸出結果\n",
    "\n",
    "string=''\n",
    "for i in range(1,7):\n",
    "    string+='son'\n",
    "    searchStr(pattern,string)"
   ]
  },
  {
   "cell_type": "markdown",
   "metadata": {},
   "source": [
    "# 正規表示式的特殊字元"
   ]
  },
  {
   "cell_type": "code",
   "execution_count": 3,
   "metadata": {},
   "outputs": [
    {
     "name": "stdout",
     "output_type": "stream",
     "text": [
      "['John', 'Johnson', 'Johnnason', 'and', 'Johnnathan', 'will', 'attend', 'my', 'party', 'tonight']\n",
      "['John', 'Johnson', 'Johnnason', 'Johnnathan']\n"
     ]
    }
   ],
   "source": [
    "# 把單字分離，且把前4個字母是John的分離\n",
    "\n",
    "import re\n",
    "\n",
    "msg='John, Johnson, Johnnason and Johnnathan will attend my party tonight.'\n",
    "pattern='\\w+'\n",
    "    # 比對包含[A-Za-z0-9_]，出現過一次以上的字串, 即把所有字串分離\n",
    "txt=re.findall(pattern,msg)\n",
    "print(txt)\n",
    "\n",
    "pattern2='John\\w*'\n",
    "    # 前4個字母是John，後面任意的數字、字母和_均可\n",
    "txt2=re.findall(pattern2,msg)\n",
    "print(txt2)"
   ]
  },
  {
   "cell_type": "code",
   "execution_count": 4,
   "metadata": {},
   "outputs": [
    {
     "name": "stdout",
     "output_type": "stream",
     "text": [
      "['1 cat', '2 dogs', '3 pigs', '4 swans']\n"
     ]
    }
   ],
   "source": [
    "# '\\d+\\s\\w+': 數字出現1次以上, 空白字元，字母1次以上\n",
    "import re\n",
    "\n",
    "msg='1 cat, 2 dogs, 3 pigs, 4 swans'\n",
    "pattern='\\d+\\s\\w+'\n",
    "txt=re.findall(pattern,msg)\n",
    "print(txt)\n"
   ]
  },
  {
   "cell_type": "markdown",
   "metadata": {},
   "source": [
    "## 字元分類：以中括號[]來設定字元\n",
    "### [a-z]: a-z的小寫字元\n",
    "### [A-Z]: A-Z的大寫字元\n",
    "### [aeiouAEIOU]: 母音\n",
    "### [2-5]:2-5的數字\n",
    "    []內不需加\\來識別特殊字元，ex: 比對[2-5.]會比對2-5的數字和句點\n"
   ]
  },
  {
   "cell_type": "code",
   "execution_count": 4,
   "metadata": {},
   "outputs": [
    {
     "name": "stdout",
     "output_type": "stream",
     "text": [
      "['o', 'o', 'o', 'o', 'a', 'o', 'a', 'o', 'a', 'a', 'i', 'a', 'e', 'a', 'o', 'i']\n",
      "['2', '3', '4']\n"
     ]
    }
   ],
   "source": [
    "# 比對[aeiouAEIOU]\n",
    "import re \n",
    "\n",
    "msg='John, Johnson, Johnnason and Johnnathan will attend my party tonight.'\n",
    "pattern='[aeiouAEIOU]'\n",
    "txt=re.findall(pattern,msg)\n",
    "print(txt)\n",
    "\n",
    "# 比對[2-5.]\n",
    "msg1='1 cat, 2 dogs, 3 pigs, 4 swans'\n",
    "pattern1='[2-5.]'\n",
    "txt1=re.findall(pattern1,msg1)\n",
    "print(txt1)"
   ]
  },
  {
   "cell_type": "markdown",
   "metadata": {},
   "source": [
    "## ^字元，注意在字元分類[^]中和正規表示式'^'代表不同意義"
   ]
  },
  {
   "cell_type": "code",
   "execution_count": 6,
   "metadata": {},
   "outputs": [
    {
     "name": "stdout",
     "output_type": "stream",
     "text": [
      "['J', 'h', 'n', ',', ' ', 'J', 'h', 'n', 's', 'n', ',', ' ', 'J', 'h', 'n', 'n', 's', 'n', ' ', 'n', 'd', ' ', 'J', 'h', 'n', 'n', 't', 'h', 'n', ' ', 'w', 'l', 'l', ' ', 't', 't', 'n', 'd', ' ', 'm', 'y', ' ', 'p', 'r', 't', 'y', ' ', 't', 'n', 'g', 'h', 't', '.']\n",
      "['1', ' ', 'c', 'a', 't', ',', ' ', ' ', 'd', 'o', 'g', 's', ',', ' ', ' ', 'p', 'i', 'g', 's', ',', ' ', ' ', 's', 'w', 'a', 'n', 's']\n"
     ]
    }
   ],
   "source": [
    "# 中括號內的^字元：相當於not, 即搜尋不包括指定字元的部份, ex: [^aeuioAEIOU]\n",
    "\n",
    "import re\n",
    "msg='John, Johnson, Johnnason and Johnnathan will attend my party tonight.'\n",
    "pattern='[^aeiouAEIOU]'\n",
    "    # 找子音\n",
    "txt=re.findall(pattern,msg)\n",
    "print(txt)\n",
    "\n",
    "msg1='1 cat, 2 dogs, 3 pigs, 4 swans'\n",
    "pattern1='[^2-5.]'\n",
    "    # 2-5.以外的\n",
    "txt1=re.findall(pattern1,msg1)\n",
    "print(txt1)\n"
   ]
  },
  {
   "cell_type": "code",
   "execution_count": 7,
   "metadata": {},
   "outputs": [
    {
     "name": "stdout",
     "output_type": "stream",
     "text": [
      "['John']\n",
      "[]\n"
     ]
    }
   ],
   "source": [
    "# reg中的^：匹配輸入字串的開始位置。\n",
    "\n",
    "import re\n",
    "msg1='John will attend my party tonight.'\n",
    "msg2='My best friend is John'\n",
    "pattern='^John'\n",
    "    # 此處表示要比對以John開頭的字串\n",
    "    \n",
    "txt=re.findall(pattern,msg1)\n",
    "txt1=re.findall(pattern,msg2)\n",
    "print(txt)\n",
    "    # 成功，整個字串的開頭是John\n",
    "print(txt1)\n",
    "    # 失敗"
   ]
  },
  {
   "cell_type": "code",
   "execution_count": 10,
   "metadata": {},
   "outputs": [
    {
     "name": "stdout",
     "output_type": "stream",
     "text": [
      "['.']\n",
      "[]\n",
      "['.']\n",
      "[]\n",
      "['8']\n",
      "[]\n"
     ]
    }
   ],
   "source": [
    "# reg的 $ 字元：匹配輸入字串的結束位置。\n",
    "\n",
    "import re\n",
    "\n",
    "msg1='John will attend my party tonight.'\n",
    "msg2='I am 28'\n",
    "msg3='I am 28 years old.'\n",
    "pattern='\\W$'\n",
    "    # 比對結尾為[^a-zA-Z0-9_]字元，即不以數字、字母和底線結尾的字元\n",
    "    # msg1的結尾是'.', 會match 成功[.]\n",
    "    # msg2的結尾是8, 因此會出現空list[]\n",
    "    # msg3的結尾是'.', 會match 成功[.]    \n",
    "\n",
    "pattern2='\\d$'\n",
    "    # 以數字結尾\n",
    "    # msg1的結尾是'.', 比對結果為[]\n",
    "    # msg2的結尾是8, 因此會出現[8]   \n",
    "    # msg3的結尾是'.'  ,比對結果為[]  \n",
    "    \n",
    "    \n",
    "txt=re.findall(pattern,msg1)\n",
    "txt1=re.findall(pattern,msg2)\n",
    "txt2=re.findall(pattern,msg3)\n",
    "\n",
    "print(txt)\n",
    "print(txt1)\n",
    "print(txt2)\n",
    "\n",
    "txt=re.findall(pattern2,msg1)\n",
    "txt1=re.findall(pattern2,msg2)\n",
    "txt2=re.findall(pattern2,msg3)\n",
    "\n",
    "print(txt)\n",
    "print(txt1)\n",
    "print(txt2)"
   ]
  },
  {
   "cell_type": "code",
   "execution_count": 14,
   "metadata": {},
   "outputs": [
    {
     "name": "stdout",
     "output_type": "stream",
     "text": [
      "['0928202822']\n",
      "[]\n",
      "['0928tuyr990']\n"
     ]
    }
   ],
   "source": [
    "# ^ 和 $ 混合：搜尋全為數字的字串\n",
    "\n",
    "import re\n",
    "msg='0928202822'\n",
    "msg1='0928tuyr990'\n",
    "\n",
    "pattern='^\\d+$'\n",
    "    # 以數字開頭1~多次且數字結尾，且只含數字\n",
    "pattern1='^\\d+\\w+\\d+$'\n",
    "\n",
    "txt=re.findall(pattern,msg)\n",
    "print(txt)\n",
    "\n",
    "txt1=re.findall(pattern,msg1)\n",
    "txt2=re.findall(pattern1,msg1)\n",
    "print(txt1)\n",
    "    # 比對結果失數是因為其pattern應為：'^\\d+\\w+\\d+$'\n",
    "print(txt2)"
   ]
  },
  {
   "cell_type": "code",
   "execution_count": 15,
   "metadata": {},
   "outputs": [
    {
     "name": "stdout",
     "output_type": "stream",
     "text": [
      "['cat', 'hat', 'sat', ' at', 'mat', 'lat']\n"
     ]
    }
   ],
   "source": [
    "# 萬用字元 . :搜尋除\\n外的所有字元，但只限定1個字元\n",
    "\n",
    "import re\n",
    "\n",
    "msg='cat hat sat at matter flat'\n",
    "pattern='.at'\n",
    "    # 找所有.at的字串\n",
    "\n",
    "txt=re.findall(pattern,msg)\n",
    "print(txt)\n",
    "    # ['cat', 'hat', 'sat', ' at', 'mat', 'lat']\n",
    "    # at也符合，會加上1個空白"
   ]
  },
  {
   "cell_type": "code",
   "execution_count": 16,
   "metadata": {},
   "outputs": [
    {
     "name": "stdout",
     "output_type": "stream",
     "text": [
      "Name: Jiin-Kwei Hung\n",
      "Address: 8F, Nan-Jing E. Rd, Taipei.\n"
     ]
    }
   ],
   "source": [
    "# .配合*: .* 表示比對0~多個萬用字元.\n",
    "\n",
    "import re \n",
    "msg='Name: Jiin-Kwei Hung Address: 8F, Nan-Jing E. Rd, Taipei.'\n",
    "pattern='Name: (.*) Address: (.*)'\n",
    "    # 此處會把姓名及住址比對出來, 有2個()表示有2個groups\n",
    "    \n",
    "Name,Address=re.search(pattern,msg).groups()\n",
    "print('Name: {}'.format(Name))\n",
    "print('Address: {}'.format(Address))\n"
   ]
  },
  {
   "cell_type": "code",
   "execution_count": 19,
   "metadata": {},
   "outputs": [
    {
     "name": "stdout",
     "output_type": "stream",
     "text": [
      "Name: Jiin-Kwei Hung \n",
      "Name: Jiin-Kwei Hung \n",
      "Address: 8F, Nan-Jing E. Rd, Taipei.\n"
     ]
    }
   ],
   "source": [
    "# re.DOTALL: \\n的處理, 使用.不會搜尋\\n，re.DOTALL則是包含搜尋換行字元\n",
    "\n",
    "import re\n",
    "msg='Name: Jiin-Kwei Hung \\nAddress: 8F, Nan-Jing E. Rd, Taipei.'\n",
    "    # 此處在Address前加\\n\n",
    "pattern='.*'\n",
    "\n",
    "txt1=re.search(pattern,msg)\n",
    "    # 只會比對到\\n前面的 Name: Jiin-Kwei Hung \n",
    "txt2=re.search(pattern,msg,re.DOTALL)    # 加入re.DOTALL\n",
    "    # 會比對出完整字串\n",
    "\n",
    "print(txt1.group())\n",
    "print(txt2.group())\n"
   ]
  },
  {
   "cell_type": "markdown",
   "metadata": {},
   "source": [
    "# MatchObject物件\n",
    "## 幾個重要的方法：\n",
    "    MatchObject.group()\n",
    "    MatchObject.end()\n",
    "    MatchObject.start()\n",
    "    MatchObject.span()    "
   ]
  },
  {
   "cell_type": "code",
   "execution_count": 22,
   "metadata": {},
   "outputs": [
    {
     "name": "stdout",
     "output_type": "stream",
     "text": [
      "比對成功: John\n",
      "比對失敗。\n"
     ]
    }
   ],
   "source": [
    "# re.match(): 從字串起始處開始比對，若開頭沒比對到pattern就return None，而re.search()是比對整個字串是否有符合pattern的object.\n",
    "\n",
    "import re\n",
    "\n",
    "msg1='John will attend my party tonight.'    # 以John開頭\n",
    "msg2='My best friend is John.'    # 不以John開頭\n",
    "pattern='John'\n",
    "\n",
    "txt=re.match(pattern,msg1)\n",
    "txt2=re.match(pattern,msg2)\n",
    "if txt!=None:\n",
    "    print('比對成功: {}'.format(txt.group()))\n",
    "else:\n",
    "    print('比對失敗。')\n",
    "    \n",
    "if txt2!=None:\n",
    "    print('比對成功: {}'.format(txt2.group()))\n",
    "else:\n",
    "    print('比對失敗。')"
   ]
  },
  {
   "cell_type": "code",
   "execution_count": 24,
   "metadata": {},
   "outputs": [
    {
     "name": "stdout",
     "output_type": "stream",
     "text": [
      "re.match()輸出MatchObject物件:  <_sre.SRE_Match object; span=(0, 4), match='John'>\n",
      "re.search()輸出MatchObject物件:  <_sre.SRE_Match object; span=(0, 4), match='John'>\n"
     ]
    }
   ],
   "source": [
    "# MatchObject物件: 裡面有span和match\n",
    "import re\n",
    "\n",
    "msg1='John will attend my party tonight.'\n",
    "msg2='My best friend is John.' \n",
    "pattern='John'\n",
    "\n",
    "txt=re.match(pattern,msg1)\n",
    "txt2=re.search(pattern,msg1)\n",
    "    # <_sre.SRE_Match object; span=(0, 4), match='John'>\n",
    "    # 搜尋成功時2者結果相同，而span是註明成功搜尋字串的起始和結束位置，match則是比對成功的內容\n",
    "\n",
    "if txt!=None:\n",
    "    print('re.match()輸出MatchObject物件: ',txt)\n",
    "else:\n",
    "    print('比對失敗。')\n",
    "    \n",
    "if txt2!=None:\n",
    "    print('re.search()輸出MatchObject物件: ',txt2)\n",
    "else:\n",
    "    print('比對失敗。')"
   ]
  },
  {
   "cell_type": "code",
   "execution_count": 26,
   "metadata": {},
   "outputs": [
    {
     "name": "stdout",
     "output_type": "stream",
     "text": [
      "成功比對的起始位置: 0\n",
      "成功比對的結束位置: 4\n",
      "成功比對的位置: (0, 4)\n",
      "成功比對的起始位置: 18\n",
      "成功比對的結束位置: 22\n",
      "成功比對的位置: (18, 22)\n"
     ]
    }
   ],
   "source": [
    "# 分別用search和match比對John, 並分別用start(), end()和span()列出字串出現的位置\n",
    "\n",
    "import re\n",
    "msg='John will attend my party tonight.'\n",
    "msg1='My best friend is John.'\n",
    "pattern='John'\n",
    "\n",
    "txt=re.match(pattern,msg)\n",
    "txt1=re.search(pattern,msg1)\n",
    "\n",
    "if txt!=None:\n",
    "    print('成功比對的起始位置: {}'.format(txt.start()))\n",
    "    print('成功比對的結束位置: {}'.format(txt.end()))\n",
    "    print('成功比對的位置: {}'.format(txt.span()))\n",
    "else:\n",
    "    print('比對失敗。')\n",
    "    \n",
    "if txt1!=None:\n",
    "    print('成功比對的起始位置: {}'.format(txt1.start()))\n",
    "    print('成功比對的結束位置: {}'.format(txt1.end()))\n",
    "    print('成功比對的位置: {}'.format(txt1.span()))\n",
    "else:\n",
    "    print('比對失敗。')"
   ]
  },
  {
   "cell_type": "code",
   "execution_count": null,
   "metadata": {},
   "outputs": [],
   "source": []
  }
 ],
 "metadata": {
  "kernelspec": {
   "display_name": "Python 3",
   "language": "python",
   "name": "python3"
  },
  "language_info": {
   "codemirror_mode": {
    "name": "ipython",
    "version": 3
   },
   "file_extension": ".py",
   "mimetype": "text/x-python",
   "name": "python",
   "nbconvert_exporter": "python",
   "pygments_lexer": "ipython3",
   "version": "3.6.5"
  }
 },
 "nbformat": 4,
 "nbformat_minor": 2
}
