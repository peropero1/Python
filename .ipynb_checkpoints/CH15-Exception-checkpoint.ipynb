{
 "cells": [
  {
   "cell_type": "code",
   "execution_count": 2,
   "metadata": {},
   "outputs": [
    {
     "ename": "ZeroDivisionError",
     "evalue": "division by zero",
     "output_type": "error",
     "traceback": [
      "\u001b[1;31m---------------------------------------------------------------------------\u001b[0m",
      "\u001b[1;31mZeroDivisionError\u001b[0m                         Traceback (most recent call last)",
      "\u001b[1;32m<ipython-input-2-5ed74ac55d94>\u001b[0m in \u001b[0;36m<module>\u001b[1;34m()\u001b[0m\n\u001b[0;32m      2\u001b[0m \u001b[1;32mdef\u001b[0m \u001b[0mdivision\u001b[0m\u001b[1;33m(\u001b[0m\u001b[0mx\u001b[0m\u001b[1;33m,\u001b[0m\u001b[0my\u001b[0m\u001b[1;33m)\u001b[0m\u001b[1;33m:\u001b[0m\u001b[1;33m\u001b[0m\u001b[0m\n\u001b[0;32m      3\u001b[0m     \u001b[1;32mreturn\u001b[0m \u001b[0mx\u001b[0m\u001b[1;33m/\u001b[0m\u001b[0my\u001b[0m\u001b[1;33m\u001b[0m\u001b[0m\n\u001b[1;32m----> 4\u001b[1;33m \u001b[0mdivision\u001b[0m\u001b[1;33m(\u001b[0m\u001b[1;36m2\u001b[0m\u001b[1;33m,\u001b[0m\u001b[1;36m0\u001b[0m\u001b[1;33m)\u001b[0m\u001b[1;33m\u001b[0m\u001b[0m\n\u001b[0m\u001b[0;32m      5\u001b[0m \u001b[0mdivision\u001b[0m\u001b[1;33m(\u001b[0m\u001b[1;36m4\u001b[0m\u001b[1;33m/\u001b[0m\u001b[1;36m2\u001b[0m\u001b[1;33m)\u001b[0m\u001b[1;33m\u001b[0m\u001b[0m\n",
      "\u001b[1;32m<ipython-input-2-5ed74ac55d94>\u001b[0m in \u001b[0;36mdivision\u001b[1;34m(x, y)\u001b[0m\n\u001b[0;32m      1\u001b[0m \u001b[1;31m#===================15.1 exception===================\u001b[0m\u001b[1;33m\u001b[0m\u001b[1;33m\u001b[0m\u001b[0m\n\u001b[0;32m      2\u001b[0m \u001b[1;32mdef\u001b[0m \u001b[0mdivision\u001b[0m\u001b[1;33m(\u001b[0m\u001b[0mx\u001b[0m\u001b[1;33m,\u001b[0m\u001b[0my\u001b[0m\u001b[1;33m)\u001b[0m\u001b[1;33m:\u001b[0m\u001b[1;33m\u001b[0m\u001b[0m\n\u001b[1;32m----> 3\u001b[1;33m     \u001b[1;32mreturn\u001b[0m \u001b[0mx\u001b[0m\u001b[1;33m/\u001b[0m\u001b[0my\u001b[0m\u001b[1;33m\u001b[0m\u001b[0m\n\u001b[0m\u001b[0;32m      4\u001b[0m \u001b[0mdivision\u001b[0m\u001b[1;33m(\u001b[0m\u001b[1;36m2\u001b[0m\u001b[1;33m,\u001b[0m\u001b[1;36m0\u001b[0m\u001b[1;33m)\u001b[0m\u001b[1;33m\u001b[0m\u001b[0m\n\u001b[0;32m      5\u001b[0m \u001b[0mdivision\u001b[0m\u001b[1;33m(\u001b[0m\u001b[1;36m4\u001b[0m\u001b[1;33m/\u001b[0m\u001b[1;36m2\u001b[0m\u001b[1;33m)\u001b[0m\u001b[1;33m\u001b[0m\u001b[0m\n",
      "\u001b[1;31mZeroDivisionError\u001b[0m: division by zero"
     ]
    }
   ],
   "source": [
    "#===================exception===================\n",
    "def division(x,y):\n",
    "    return x/y\n",
    "division(2,0)\n",
    "division(4/2)\n",
    "    #只能執行到第四行就產生ZeroDivisionError且程式中止"
   ]
  },
  {
   "cell_type": "code",
   "execution_count": 10,
   "metadata": {},
   "outputs": [
    {
     "name": "stdout",
     "output_type": "stream",
     "text": [
      "2/0: 除數不得為零\n"
     ]
    },
    {
     "ename": "TypeError",
     "evalue": "unsupported operand type(s) for /: 'str' and 'str'",
     "output_type": "error",
     "traceback": [
      "\u001b[1;31m---------------------------------------------------------------------------\u001b[0m",
      "\u001b[1;31mTypeError\u001b[0m                                 Traceback (most recent call last)",
      "\u001b[1;32m<ipython-input-10-27c953157682>\u001b[0m in \u001b[0;36m<module>\u001b[1;34m()\u001b[0m\n\u001b[0;32m      8\u001b[0m \u001b[0mdivision\u001b[0m\u001b[1;33m(\u001b[0m\u001b[1;36m2\u001b[0m\u001b[1;33m,\u001b[0m\u001b[1;36m0\u001b[0m\u001b[1;33m)\u001b[0m\u001b[1;33m\u001b[0m\u001b[0m\n\u001b[0;32m      9\u001b[0m \u001b[0mdivision\u001b[0m\u001b[1;33m(\u001b[0m\u001b[1;36m4\u001b[0m\u001b[1;33m,\u001b[0m\u001b[1;36m2\u001b[0m\u001b[1;33m)\u001b[0m\u001b[1;33m\u001b[0m\u001b[0m\n\u001b[1;32m---> 10\u001b[1;33m \u001b[0mdivision\u001b[0m\u001b[1;33m(\u001b[0m\u001b[1;34m'a'\u001b[0m\u001b[1;33m,\u001b[0m\u001b[1;34m'b'\u001b[0m\u001b[1;33m)\u001b[0m\u001b[1;33m\u001b[0m\u001b[0m\n\u001b[0m",
      "\u001b[1;32m<ipython-input-10-27c953157682>\u001b[0m in \u001b[0;36mdivision\u001b[1;34m(x, y)\u001b[0m\n\u001b[0;32m      2\u001b[0m \u001b[1;32mdef\u001b[0m \u001b[0mdivision\u001b[0m\u001b[1;33m(\u001b[0m\u001b[0mx\u001b[0m\u001b[1;33m,\u001b[0m\u001b[0my\u001b[0m\u001b[1;33m)\u001b[0m\u001b[1;33m:\u001b[0m\u001b[1;33m\u001b[0m\u001b[0m\n\u001b[0;32m      3\u001b[0m     \u001b[1;32mtry\u001b[0m\u001b[1;33m:\u001b[0m\u001b[1;33m\u001b[0m\u001b[0m\n\u001b[1;32m----> 4\u001b[1;33m         \u001b[1;32mreturn\u001b[0m \u001b[0mx\u001b[0m\u001b[1;33m/\u001b[0m\u001b[0my\u001b[0m\u001b[1;33m\u001b[0m\u001b[0m\n\u001b[0m\u001b[0;32m      5\u001b[0m     \u001b[1;32mexcept\u001b[0m \u001b[0mZeroDivisionError\u001b[0m\u001b[1;33m:\u001b[0m\u001b[1;33m\u001b[0m\u001b[0m\n\u001b[0;32m      6\u001b[0m         \u001b[0mprint\u001b[0m\u001b[1;33m(\u001b[0m\u001b[1;34m\"%d/%d: 除數不得為零\"\u001b[0m\u001b[1;33m%\u001b[0m\u001b[1;33m(\u001b[0m\u001b[0mx\u001b[0m\u001b[1;33m,\u001b[0m\u001b[0my\u001b[0m\u001b[1;33m)\u001b[0m\u001b[1;33m)\u001b[0m\u001b[1;33m\u001b[0m\u001b[0m\n",
      "\u001b[1;31mTypeError\u001b[0m: unsupported operand type(s) for /: 'str' and 'str'"
     ]
    }
   ],
   "source": [
    "#上述使用try except改寫\n",
    "def division(x,y):\n",
    "    try:\n",
    "        return x/y\n",
    "    except ZeroDivisionError:\n",
    "        print(\"%d/%d: 除數不得為零\"%(x,y))\n",
    "         \n",
    "division(2,0)\n",
    "division(4,2)\n",
    "division('a','b')\n",
    "    #未定義的except會抓不到仍會造成程式中止"
   ]
  },
  {
   "cell_type": "code",
   "execution_count": 13,
   "metadata": {},
   "outputs": [
    {
     "name": "stdout",
     "output_type": "stream",
     "text": [
      "2/0: 除數不得為零\n"
     ]
    },
    {
     "data": {
      "text/plain": [
       "2.0"
      ]
     },
     "execution_count": 13,
     "metadata": {},
     "output_type": "execute_result"
    }
   ],
   "source": [
    "#===================try-except-else===================\n",
    "\"\"\"\n",
    "#語法:\n",
    "try:\n",
    "    instructions\n",
    "except exception object:\n",
    "    exception processing\n",
    "else:\n",
    "    normal processing\n",
    "\"\"\"\n",
    "def division(x,y):\n",
    "    try:\n",
    "        ans= x/y\n",
    "    except ZeroDivisionError:\n",
    "        print(\"%d/%d: 除數不得為零\"%(x,y))\n",
    "    else:\n",
    "        return ans\n",
    "\n",
    "division(2,0)\n",
    "division(4,2)"
   ]
  },
  {
   "cell_type": "code",
   "execution_count": 19,
   "metadata": {},
   "outputs": [
    {
     "name": "stdout",
     "output_type": "stream",
     "text": [
      "There is no abc.txt\n",
      "what the fuck is so many books to read!!!!\n"
     ]
    }
   ],
   "source": [
    "#===================FileNotFoundError===================\n",
    "#開檔案時找不到\n",
    "fn='abc.txt'\n",
    "try:\n",
    "    with open(fn) as file_obj1:\n",
    "        data=file_obj1.read(fn)\n",
    "except FileNotFoundError:\n",
    "    print(\"There is no %s\"%fn)\n",
    "else:\n",
    "    print(data)\n",
    "    \n",
    "fl='temp.txt'\n",
    "try:\n",
    "    with open(fl) as file_obj2:\n",
    "        data=file_obj2.read()\n",
    "except FileNotFoundError:\n",
    "    print(\"There is no %s\"%fl)\n",
    "else:\n",
    "    print(data)"
   ]
  },
  {
   "cell_type": "code",
   "execution_count": 21,
   "metadata": {},
   "outputs": [
    {
     "name": "stdout",
     "output_type": "stream",
     "text": [
      "temp.txt 文章的字數是:  9\n"
     ]
    }
   ],
   "source": [
    "#計算單一檔案的單字數\n",
    "def wordsNum(fn):\n",
    "#適用於英文文件\n",
    "    try:\n",
    "        with open(fn) as file_obj:\n",
    "            data=file_obj.read()\n",
    "    except FileNotFoundError:\n",
    "        print(\"There is no %s\"%fl)\n",
    "    else:\n",
    "        word_list=data.split()\n",
    "        print(fn,\"文章的字數是: \",len(word_list))\n",
    "file='temp.txt'\n",
    "wordsNum(file)"
   ]
  },
  {
   "cell_type": "code",
   "execution_count": 23,
   "metadata": {},
   "outputs": [
    {
     "name": "stdout",
     "output_type": "stream",
     "text": [
      "temp.txt 文章的字數是:  9\n",
      "There is no 'temp.txt'\n",
      "3.txt 文章的字數是:  45\n"
     ]
    }
   ],
   "source": [
    "#計算多個檔案的字數\n",
    "def wordsNum(fn):\n",
    "#適用於英文文件\n",
    "    try:\n",
    "        with open(fn) as file_obj:\n",
    "            data=file_obj.read()\n",
    "    except FileNotFoundError:\n",
    "        print(\"There is no \\'%s\\'\"%fl)\n",
    "    else:\n",
    "        word_list=data.split()\n",
    "        print(fn,\"文章的字數是: \",len(word_list))\n",
    "file_list=['temp.txt','not_exist.txt','3.txt']\n",
    "for item in file_list:\n",
    "    wordsNum(item)"
   ]
  },
  {
   "cell_type": "code",
   "execution_count": 3,
   "metadata": {},
   "outputs": [
    {
     "name": "stdout",
     "output_type": "stream",
     "text": [
      "General exception occurs\n",
      "None\n",
      "General exception occurs\n",
      "None\n",
      "2.0\n"
     ]
    }
   ],
   "source": [
    "#===================Exception, 通用型異常物件===================\n",
    "def division(x,y):\n",
    "    try:\n",
    "        return x/y\n",
    "    except Exception:\n",
    "        print(\"General exception occurs\")\n",
    "print(division(2,0))\n",
    "    #divide by zero\n",
    "print(division('a','b'))\n",
    "    #error type\n",
    "print(division(6,3))"
   ]
  },
  {
   "cell_type": "code",
   "execution_count": 7,
   "metadata": {},
   "outputs": [
    {
     "name": "stdout",
     "output_type": "stream",
     "text": [
      "ZeroDivisionError\n",
      "None\n",
      "TypeError\n",
      "None\n",
      "2.0\n",
      "===============================\n",
      "ZeroDivisionError or TypeError\n",
      "None\n",
      "ZeroDivisionError or TypeError\n",
      "None\n",
      "2.0\n"
     ]
    }
   ],
   "source": [
    "#===================捕捉多個異常===================\n",
    "def division(x,y):\n",
    "    try:\n",
    "        return x/y\n",
    "    except ZeroDivisionError:\n",
    "        print(\"ZeroDivisionError\")\n",
    "    except TypeError:\n",
    "        print(\"TypeError\")\n",
    "        \n",
    "def division1(x,y):\n",
    "    try:\n",
    "        return x/y\n",
    "    except (ZeroDivisionError,TypeError):\n",
    "        print(\"ZeroDivisionError or TypeError\")\n",
    "\n",
    "print(division(2,0))\n",
    "    #divide by zero\n",
    "print(division('a','b'))\n",
    "    #error type\n",
    "print(division(6,3))\n",
    "print(\"===============================\")\n",
    "print(division1(2,0))\n",
    "    #divide by zero\n",
    "print(division1('a','b'))\n",
    "    #error type\n",
    "print(division1(6,3))"
   ]
  },
  {
   "cell_type": "code",
   "execution_count": 8,
   "metadata": {},
   "outputs": [
    {
     "name": "stdout",
     "output_type": "stream",
     "text": [
      "division by zero\n",
      "None\n",
      "unsupported operand type(s) for /: 'str' and 'str'\n",
      "None\n",
      "2.0\n"
     ]
    }
   ],
   "source": [
    "#===================使用內建錯誤訊息===================\n",
    "def division(x,y):\n",
    "    try:\n",
    "        return x/y\n",
    "    except (ZeroDivisionError,TypeError) as e:\n",
    "        print(e)\n",
    "print(division(2,0))\n",
    "    #divide by zero\n",
    "print(division('a','b'))\n",
    "    #error type\n",
    "print(division(6,3))\n"
   ]
  },
  {
   "cell_type": "code",
   "execution_count": 10,
   "metadata": {},
   "outputs": [
    {
     "name": "stdout",
     "output_type": "stream",
     "text": [
      "Except occurs.\n",
      "None\n",
      "Except occurs.\n",
      "None\n",
      "2.0\n"
     ]
    }
   ],
   "source": [
    "#===================捕捉所有異常===================\n",
    "def division(x,y):\n",
    "    try:\n",
    "        return x/y\n",
    "    except:\n",
    "        print(\"Except occurs.\")\n",
    "print(division(2,0))\n",
    "    #divide by zero\n",
    "print(division('a','b'))\n",
    "    #error type\n",
    "print(division(6,3))"
   ]
  },
  {
   "cell_type": "code",
   "execution_count": 13,
   "metadata": {},
   "outputs": [
    {
     "name": "stdout",
     "output_type": "stream",
     "text": [
      "正確長度\n",
      "密碼長度異常: 密碼長度不足\n",
      "密碼長度異常: 密碼長度過長\n"
     ]
    }
   ],
   "source": [
    "#===================丟出自行定義的異常 raise Exception('msg')===================\n",
    "#密碼和對應格式不符\n",
    "\n",
    "def passWord(pwd):\n",
    "    pwdlen=len(pwd)\n",
    "    if pwdlen<5:\n",
    "        raise Exception('密碼長度不足')\n",
    "    if pwdlen>8:        \n",
    "        raise Exception('密碼長度過長')\n",
    "    print(\"正確長度\")\n",
    "for pwd in ('aaaacwd','ac','zcaqeagadga'):\n",
    "    try:\n",
    "        passWord(pwd)\n",
    "    except Exception as err:\n",
    "        print(\"密碼長度異常:\",str(err))"
   ]
  },
  {
   "cell_type": "code",
   "execution_count": 14,
   "metadata": {},
   "outputs": [
    {
     "name": "stdout",
     "output_type": "stream",
     "text": [
      "Except occurs.\n",
      "Phase done.\n",
      "None\n",
      "Except occurs.\n",
      "Phase done.\n",
      "None\n",
      "Phase done.\n",
      "2.0\n"
     ]
    }
   ],
   "source": [
    "#===================finally===================\n",
    "#不論是否有異常發生都會執行finally裡的區塊\n",
    "def division(x,y):\n",
    "    try:\n",
    "        return x/y\n",
    "    except:\n",
    "        print(\"Except occurs.\")\n",
    "    finally:\n",
    "        print(\"Phase done.\")\n",
    "print(division(2,0))\n",
    "print(division('a','b'))\n",
    "print(division(6,3))\n"
   ]
  },
  {
   "cell_type": "code",
   "execution_count": 16,
   "metadata": {},
   "outputs": [
    {
     "name": "stdout",
     "output_type": "stream",
     "text": [
      "Hung 目前餘額:  1000\n",
      "存入  300  完成\n",
      "Hung 目前餘額:  1300\n"
     ]
    },
    {
     "ename": "AssertionError",
     "evalue": "存款金額需大於零",
     "output_type": "error",
     "traceback": [
      "\u001b[1;31m---------------------------------------------------------------------------\u001b[0m",
      "\u001b[1;31mAssertionError\u001b[0m                            Traceback (most recent call last)",
      "\u001b[1;32m<ipython-input-16-b4b6a8507341>\u001b[0m in \u001b[0;36m<module>\u001b[1;34m()\u001b[0m\n\u001b[0;32m     27\u001b[0m \u001b[0mhungbank\u001b[0m\u001b[1;33m.\u001b[0m\u001b[0msave_money\u001b[0m\u001b[1;33m(\u001b[0m\u001b[1;36m300\u001b[0m\u001b[1;33m)\u001b[0m\u001b[1;33m\u001b[0m\u001b[0m\n\u001b[0;32m     28\u001b[0m \u001b[0mhungbank\u001b[0m\u001b[1;33m.\u001b[0m\u001b[0mget_balance\u001b[0m\u001b[1;33m(\u001b[0m\u001b[1;33m)\u001b[0m\u001b[1;33m\u001b[0m\u001b[0m\n\u001b[1;32m---> 29\u001b[1;33m \u001b[0mhungbank\u001b[0m\u001b[1;33m.\u001b[0m\u001b[0msave_money\u001b[0m\u001b[1;33m(\u001b[0m\u001b[1;33m-\u001b[0m\u001b[1;36m300\u001b[0m\u001b[1;33m)\u001b[0m\u001b[1;33m\u001b[0m\u001b[0m\n\u001b[0m\u001b[0;32m     30\u001b[0m     \u001b[1;31m#故意存-300\u001b[0m\u001b[1;33m\u001b[0m\u001b[1;33m\u001b[0m\u001b[0m\n\u001b[0;32m     31\u001b[0m \u001b[0mhungbank\u001b[0m\u001b[1;33m.\u001b[0m\u001b[0mget_balance\u001b[0m\u001b[1;33m(\u001b[0m\u001b[1;33m)\u001b[0m\u001b[1;33m\u001b[0m\u001b[0m\n",
      "\u001b[1;32m<ipython-input-16-b4b6a8507341>\u001b[0m in \u001b[0;36msave_money\u001b[1;34m(self, money)\u001b[0m\n\u001b[0;32m     10\u001b[0m         \u001b[0mself\u001b[0m\u001b[1;33m.\u001b[0m\u001b[0mbalance\u001b[0m\u001b[1;33m=\u001b[0m\u001b[0mmoney\u001b[0m\u001b[1;33m\u001b[0m\u001b[0m\n\u001b[0;32m     11\u001b[0m     \u001b[1;32mdef\u001b[0m \u001b[0msave_money\u001b[0m\u001b[1;33m(\u001b[0m\u001b[0mself\u001b[0m\u001b[1;33m,\u001b[0m\u001b[0mmoney\u001b[0m\u001b[1;33m)\u001b[0m\u001b[1;33m:\u001b[0m\u001b[1;33m\u001b[0m\u001b[0m\n\u001b[1;32m---> 12\u001b[1;33m         \u001b[1;32massert\u001b[0m \u001b[0mmoney\u001b[0m\u001b[1;33m>\u001b[0m\u001b[1;36m0\u001b[0m\u001b[1;33m,\u001b[0m\u001b[1;34m'存款金額需大於零'\u001b[0m\u001b[1;33m\u001b[0m\u001b[0m\n\u001b[0m\u001b[0;32m     13\u001b[0m             \u001b[1;31m#test money ?>0\u001b[0m\u001b[1;33m\u001b[0m\u001b[1;33m\u001b[0m\u001b[0m\n\u001b[0;32m     14\u001b[0m         \u001b[0mself\u001b[0m\u001b[1;33m.\u001b[0m\u001b[0mbalance\u001b[0m\u001b[1;33m+=\u001b[0m\u001b[0mmoney\u001b[0m\u001b[1;33m\u001b[0m\u001b[0m\n",
      "\u001b[1;31mAssertionError\u001b[0m: 存款金額需大於零"
     ]
    }
   ],
   "source": [
    "#===================assert===================\n",
    "#確保程式執行的某個階段必須符合一定的條件，否則會拋出異常。\n",
    "#即執行到assert時就會測試條件。\n",
    "#語法：assert condition, 'msg'\n",
    "#在windows下，用cmd執行 python.exe -O file.py即可停用assert\n",
    "class Bank():\n",
    "    title=\"Taipei Bank\"\n",
    "    def __init__(self,uname,money):\n",
    "        self.name=uname\n",
    "        self.balance=money\n",
    "    def save_money(self,money):\n",
    "        assert money>0,'存款金額需大於零'\n",
    "            #test money ?>0\n",
    "        self.balance+=money\n",
    "        print(\"存入 \",money,\" 完成\")\n",
    "    def withdraw_money(self,money):\n",
    "        assert money>0,'提款金額需大於零'\n",
    "            #test money ?>0\n",
    "        assert money <self.balance,\"餘額不足\"\n",
    "        self.balance-=money\n",
    "        print(\"提出 \",money)\n",
    "    def get_balance(self):\n",
    "        print(self.name.title(),\"目前餘額: \",self.balance)\n",
    "        \n",
    "hungbank=Bank(\"Hung\",1000)\n",
    "hungbank.get_balance()\n",
    "hungbank.save_money(300)\n",
    "hungbank.get_balance()\n",
    "hungbank.save_money(-300)\n",
    "    #故意存-300會發生AssertionError\n",
    "hungbank.get_balance()"
   ]
  },
  {
   "cell_type": "code",
   "execution_count": 17,
   "metadata": {
    "collapsed": true
   },
   "outputs": [],
   "source": [
    "#===================logging===================\n",
    "#用來設定有興趣的變數在各執行階段的變化\n",
    "import logging\n",
    "logging.basicConfig(level=logging.DEBUG)\n",
    "    #用來設定顯示logging的等級,共有5種：DEBUG, INFO, WARNING, ERROR, CRITICAL\n",
    "    #設定後，只會顯示和自己及比自已優先 level的message\n"
   ]
  },
  {
   "cell_type": "code",
   "execution_count": null,
   "metadata": {
    "collapsed": true
   },
   "outputs": [],
   "source": []
  }
 ],
 "metadata": {
  "kernelspec": {
   "display_name": "Python 3",
   "language": "python",
   "name": "python3"
  },
  "language_info": {
   "codemirror_mode": {
    "name": "ipython",
    "version": 3
   },
   "file_extension": ".py",
   "mimetype": "text/x-python",
   "name": "python",
   "nbconvert_exporter": "python",
   "pygments_lexer": "ipython3",
   "version": "3.6.5"
  }
 },
 "nbformat": 4,
 "nbformat_minor": 2
}
