{
 "cells": [
  {
   "cell_type": "code",
   "execution_count": null,
   "metadata": {},
   "outputs": [],
   "source": [
    "#if \n",
    "#簡化成一行\n",
    "num=input(\"Enter your number:\")\n",
    "if(int(num)<0):print(abs(int(num)))"
   ]
  },
  {
   "cell_type": "code",
   "execution_count": null,
   "metadata": {},
   "outputs": [],
   "source": [
    "#if..else\n",
    "print(\"奇偶數判斷\")\n",
    "num=input(\"Enter your number\")\n",
    "x=int(num)\n",
    "if(x%2==0):\n",
    "    print(\"%d is even.\"%(x))\n",
    "else:\n",
    "    print(\"%d is odd.\"%(x))"
   ]
  },
  {
   "cell_type": "code",
   "execution_count": null,
   "metadata": {},
   "outputs": [],
   "source": [
    "#if..elif..else\n",
    "print(\"分數級距\")\n",
    "score=input(\"Enter your score\")\n",
    "x=int(score)\n",
    "if(x>=90):\n",
    "    print(\"rank A\")\n",
    "elif(x>=80):\n",
    "    print(\"rank B\")\n",
    "elif(x>=70):\n",
    "    print(\"rank C\")    \n",
    "elif(x>=60):\n",
    "    print(\"rank D\")\n",
    "else:\n",
    "    print(\"rank F\")"
   ]
  },
  {
   "cell_type": "code",
   "execution_count": null,
   "metadata": {},
   "outputs": [],
   "source": [
    "print(\"計算票價\")\n",
    "age=input(\"Enter your age: \")\n",
    "ticket=100\n",
    "x=int(age)\n",
    "if(x>=80 or x<=6):\n",
    "    print(ticket*0.2)\n",
    "elif(x<=12 or x>=60):\n",
    "    print(ticket*.5)\n",
    "else:\n",
    "    print(ticket)"
   ]
  },
  {
   "cell_type": "code",
   "execution_count": null,
   "metadata": {},
   "outputs": [],
   "source": [
    "help(ord)"
   ]
  },
  {
   "cell_type": "code",
   "execution_count": null,
   "metadata": {},
   "outputs": [],
   "source": [
    "#ord(c, /) 回傳字元的unicode值\n",
    "ord('A')\n",
    "ord('c')"
   ]
  },
  {
   "cell_type": "code",
   "execution_count": null,
   "metadata": {},
   "outputs": [],
   "source": [
    "#巢狀if\n",
    "#潤年測試：可被4整除，且除以100時餘數!=0或除以400時餘數=0\n",
    "year=input(\"enter year: \")\n",
    "year=int(year)\n",
    "if (year%4==0):\n",
    "    if (year%100!=0 or year%400==0):\n",
    "        print(\"%d 是潤年\"%year)\n",
    "    else:\n",
    "        print(\"%d 不是潤年\"%year)\n",
    "else:\n",
    "    print(\"%d 不是潤年\"%year)"
   ]
  },
  {
   "cell_type": "code",
   "execution_count": null,
   "metadata": {},
   "outputs": [],
   "source": [
    "#None\n",
    "'''\n",
    "None是Python的特殊型別，NoneType物件，它只有一個值None. \n",
    "它不支援任何運算也沒有任何內建方法。 \n",
    "None和任何其他的資料型別比較永遠返回False。 \n",
    "None有自己的資料型別NoneType。 \n",
    "你可以將None複製給任何變數，但是你不能建立其他NoneType物件。\n",
    "'''\n",
    "print(type(None))\n",
    "if(None):\n",
    "    print(\"Hi\")\n",
    "        #永遠不會執行\n",
    "else:\n",
    "    print(\"no\")\n"
   ]
  },
  {
   "cell_type": "code",
   "execution_count": null,
   "metadata": {},
   "outputs": [],
   "source": [
    "#exercise 1\n",
    "import re\n",
    "def is_number(num):\n",
    "    pattern = re.compile(r'^[-+]?[-0-9]\\d*\\.\\d*|[-+]?\\.?[0-9]\\d*$')\n",
    "    #使用正規表示式(ch16)\n",
    "    result = pattern.match(num)\n",
    "    if result:\n",
    "        return True\n",
    "    else:\n",
    "        return False\n",
    "\n",
    "while(True):\n",
    "    num=input(\"enter your number , q to quit:\")\n",
    "    if num=='q':\n",
    "        break\n",
    "    elif not (is_number(num)):\n",
    "        print('error input')\n",
    "    else:\n",
    "        print(-int(num))"
   ]
  },
  {
   "cell_type": "code",
   "execution_count": 2,
   "metadata": {},
   "outputs": [
    {
     "name": "stdout",
     "output_type": "stream",
     "text": [
      "exit to quit.a\n",
      "A\n",
      "exit to quit.X\n",
      "x\n",
      "exit to quit.20\n",
      "20\n",
      "exit to quit.-5\n",
      "-5\n",
      "exit to quit.q\n",
      "Q\n",
      "exit to quit.!\n",
      "error input\n",
      "exit to quit.exit\n"
     ]
    }
   ],
   "source": [
    "#exercise 2\n",
    "#大寫->小寫\n",
    "#小寫->大寫\n",
    "#數字->輸出\n",
    "#其它->錯誤\n",
    "import re\n",
    "def is_number(num):\n",
    "    pattern = re.compile(r'^[-+]?[-0-9]\\d*\\.\\d*|[-+]?\\.?[0-9]\\d*$')\n",
    "    #使用正規表示式(ch16)\n",
    "    result = pattern.match(num)\n",
    "    if result:\n",
    "        return True\n",
    "    else:\n",
    "        return False\n",
    "    \n",
    "while(True):\n",
    "    input_str=input(\"exit to quit.\")\n",
    "    if input_str=='exit':\n",
    "        break\n",
    "    else:\n",
    "        if input_str.isupper():\n",
    "            print(input_str.lower())\n",
    "        elif input_str.islower():\n",
    "            print(input_str.upper())\n",
    "        elif is_number(input_str):\n",
    "            print(input_str)\n",
    "        else:\n",
    "            print(\"error input\")"
   ]
  },
  {
   "cell_type": "code",
   "execution_count": 5,
   "metadata": {},
   "outputs": [
    {
     "name": "stdout",
     "output_type": "stream",
     "text": [
      "how old are you? 52\n",
      "enter amount of consumption: 97510\n",
      "92634\n"
     ]
    }
   ],
   "source": [
    "#exercise 3\n",
    "'''\n",
    "10萬9折\n",
    "8萬95折\n",
    "5萬98折\n",
    "50歲一律95折\n",
    "'''\n",
    "age=input(\"how old are you? \")\n",
    "consumption=input(\"enter amount of consumption: \")\n",
    "final=int(consumption)\n",
    "if int(age)>=50:\n",
    "    final*=0.95\n",
    "elif final>=100000:\n",
    "    final*=0.9\n",
    "elif final>=80000: \n",
    "    final*=0.95\n",
    "elif final>=50000:\n",
    "    final*=0.98\n",
    "else:\n",
    "    ;\n",
    "print(\"%d\"%int(final))"
   ]
  },
  {
   "cell_type": "code",
   "execution_count": null,
   "metadata": {},
   "outputs": [],
   "source": []
  }
 ],
 "metadata": {
  "kernelspec": {
   "display_name": "Python 3",
   "language": "python",
   "name": "python3"
  },
  "language_info": {
   "codemirror_mode": {
    "name": "ipython",
    "version": 3
   },
   "file_extension": ".py",
   "mimetype": "text/x-python",
   "name": "python",
   "nbconvert_exporter": "python",
   "pygments_lexer": "ipython3",
   "version": "3.6.2"
  }
 },
 "nbformat": 4,
 "nbformat_minor": 2
}
