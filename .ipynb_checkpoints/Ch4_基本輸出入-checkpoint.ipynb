{
 "cells": [
  {
   "cell_type": "code",
   "execution_count": 1,
   "metadata": {},
   "outputs": [
    {
     "name": "stdout",
     "output_type": "stream",
     "text": [
      "555 <class 'int'>\t222333 $$$ <class 'str'>\n"
     ]
    }
   ],
   "source": [
    "#基本的print()\n",
    "#print(value, ..., sep=' ', end='\\n', file=sys.stdout, flush=False)\n",
    "num1=222\n",
    "num2=333\n",
    "num3=num1+num2\n",
    "print(num3,type(num3),end='\\t')\n",
    "str1='222'\n",
    "str2='333'\n",
    "str3=str1+str2\n",
    "print(str3,type(str3),sep=' $$$ ')"
   ]
  },
  {
   "cell_type": "code",
   "execution_count": 6,
   "metadata": {},
   "outputs": [
    {
     "name": "stdout",
     "output_type": "stream",
     "text": [
      "小明 第 1次考試成績為：90 \n"
     ]
    }
   ],
   "source": [
    "#格式化輸出\n",
    "#print(\"...輸出格式\"% (變數,...))\n",
    "score=90\n",
    "str1=\"小明\"\n",
    "count=1\n",
    "print(\"%s 第 %d次考試成績為：%d \" % (str1,count,score))"
   ]
  },
  {
   "cell_type": "code",
   "execution_count": 7,
   "metadata": {},
   "outputs": [
    {
     "name": "stdout",
     "output_type": "stream",
     "text": [
      "小明 第 1次考試成績為：90 \n"
     ]
    }
   ],
   "source": [
    "#上例的\"%s 本次的第 %d次考試成績為：%d \"以字串代替\n",
    "score=90\n",
    "str1=\"小明\"\n",
    "count=1\n",
    "formatstr=\"%s 第 %d次考試成績為：%d \"\n",
    "print(formatstr % (str1,count,score))"
   ]
  },
  {
   "cell_type": "code",
   "execution_count": 8,
   "metadata": {},
   "outputs": [
    {
     "name": "stdout",
     "output_type": "stream",
     "text": [
      "100的16進制=64, 8進制=144\n"
     ]
    }
   ],
   "source": [
    "#格式化8和16進制的輸出\n",
    "x=100\n",
    "print(\"100的16進制=%x, 8進制=%o\" %(x,x))"
   ]
  },
  {
   "cell_type": "code",
   "execution_count": 17,
   "metadata": {},
   "outputs": [
    {
     "name": "stdout",
     "output_type": "stream",
     "text": [
      "x=/   100/\n",
      "x=/  +100/\n",
      "x=/100   /\n",
      "y=/  -100/\n",
      "y=/-100  /\n"
     ]
    }
   ],
   "source": [
    "#對齊的整數格式化輸出: \n",
    "# %+/-nd：+/-表示靠右/左輸出，當資料為正時，靠右輸出時會再多+號，n為保留位數\n",
    "x=100\n",
    "y=-100\n",
    "print(\"x=/%6d/\"%x)\n",
    "print(\"x=/%+6d/\"%x)\n",
    "print(\"x=/%-6d/\"%x)\n",
    "print(\"y=/%+6d/\"%y)\n",
    "print(\"y=/%-6d/\"%y)"
   ]
  },
  {
   "cell_type": "code",
   "execution_count": 22,
   "metadata": {},
   "outputs": [
    {
     "name": "stdout",
     "output_type": "stream",
     "text": [
      "a=/10.500  /\n",
      "a=/ +10.500/\n"
     ]
    }
   ],
   "source": [
    "#對齊的浮點數格式化輸出: %+/-m.nf, m表示總共的位數，n表示小數的位數\n",
    "a=10.5\n",
    "print(\"a=/%-8.3f/\"%a)\n",
    "print(\"a=/%+8.3f/\"%a)"
   ]
  },
  {
   "cell_type": "code",
   "execution_count": 26,
   "metadata": {},
   "outputs": [
    {
     "name": "stdout",
     "output_type": "stream",
     "text": [
      "姓名\t國\t英\t總分\n",
      "林小明\t 98\t 90\t 188\n"
     ]
    }
   ],
   "source": [
    "#對齊的字串格式化輸出:\n",
    "print(\"姓名\\t國\\t英\\t總分\")\n",
    "print(\"%3s\\t%3d\\t%3d\\t%4d\"%(\"林小明\",98,90,98+90))"
   ]
  },
  {
   "cell_type": "code",
   "execution_count": 2,
   "metadata": {},
   "outputs": [
    {
     "name": "stdout",
     "output_type": "stream",
     "text": [
      "小明第1次考試成績為：90\n",
      "小明第1次考試成績為：90\n"
     ]
    }
   ],
   "source": [
    "#format()\n",
    "#print(\"output format\".format(variables))\n",
    "score=90\n",
    "str1=\"小明\"\n",
    "count=1\n",
    "format_str=\"{}第{}次考試成績為：{}\"\n",
    "print(\"{}第{}次考試成績為：{}\".format(str1,count,score))\n",
    "print(format_str.format(str1,count,score))\n",
    "    #相同的輸出"
   ]
  },
  {
   "cell_type": "code",
   "execution_count": 4,
   "metadata": {},
   "outputs": [
    {
     "name": "stdout",
     "output_type": "stream",
     "text": [
      "                                          1231 Delta Rd\n",
      "                                          Oxford, Mississippi\n",
      "                                          USA\n",
      "Boring TimeBoring TimeBoring TimeBoring TimeBoring TimeBoring TimeBoring TimeBoring TimeBoring TimeBoring Time\n"
     ]
    }
   ],
   "source": [
    "#利用字串乘法排版\n",
    "sp=\" \"*40\n",
    "print(\"%s  1231 Delta Rd\"%sp )\n",
    "print(\"%s  Oxford, Mississippi\"%sp)\n",
    "print(\"%s  USA\"%sp)\n",
    "print(\"Boring Time\"*10)"
   ]
  },
  {
   "cell_type": "code",
   "execution_count": 7,
   "metadata": {},
   "outputs": [],
   "source": [
    "#改變print()的輸出到檔案\n",
    "#open的語法：file_obj=open(file,mode='r')\n",
    "fstr1=open(r\"C:\\Users\\Pero\\python\\Python\\out1.txt\",mode='w')\n",
    "    #write mode\n",
    "print(\"Testing for output\",file=fstr1)\n",
    "fstr1.close()\n",
    "fstr2=open(r\"C:\\Users\\Pero\\python\\Python\\out1.txt\",mode='a')\n",
    "    #append mode\n",
    "print(\"Testing for append\",file=fstr2)\n",
    "fstr2.close()"
   ]
  },
  {
   "cell_type": "code",
   "execution_count": 13,
   "metadata": {},
   "outputs": [
    {
     "name": "stdout",
     "output_type": "stream",
     "text": [
      "Enter your name:pero\n",
      "Enter your score:90\n",
      "type(name) is <class 'str'>\n",
      "type(engh) is <class 'str'>\n"
     ]
    }
   ],
   "source": [
    "#input()：從螢幕讀取鍵盤的輸入\n",
    "#語法：value=input(\"prompt:...\")\n",
    "name=input(\"Enter your name:\")\n",
    "engh=input(\"Enter your score:\")\n",
    "    #input傳入的一律是字串，要做其它運算要另外變更型態\n",
    "print(\"type(name) is %s\\ntype(engh) is %s\"%(type(name),type(engh)))"
   ]
  },
  {
   "cell_type": "code",
   "execution_count": 16,
   "metadata": {},
   "outputs": [
    {
     "data": {
      "text/plain": [
       "['ArithmeticError',\n",
       " 'AssertionError',\n",
       " 'AttributeError',\n",
       " 'BaseException',\n",
       " 'BlockingIOError',\n",
       " 'BrokenPipeError',\n",
       " 'BufferError',\n",
       " 'BytesWarning',\n",
       " 'ChildProcessError',\n",
       " 'ConnectionAbortedError',\n",
       " 'ConnectionError',\n",
       " 'ConnectionRefusedError',\n",
       " 'ConnectionResetError',\n",
       " 'DeprecationWarning',\n",
       " 'EOFError',\n",
       " 'Ellipsis',\n",
       " 'EnvironmentError',\n",
       " 'Exception',\n",
       " 'False',\n",
       " 'FileExistsError',\n",
       " 'FileNotFoundError',\n",
       " 'FloatingPointError',\n",
       " 'FutureWarning',\n",
       " 'GeneratorExit',\n",
       " 'IOError',\n",
       " 'ImportError',\n",
       " 'ImportWarning',\n",
       " 'IndentationError',\n",
       " 'IndexError',\n",
       " 'InterruptedError',\n",
       " 'IsADirectoryError',\n",
       " 'KeyError',\n",
       " 'KeyboardInterrupt',\n",
       " 'LookupError',\n",
       " 'MemoryError',\n",
       " 'ModuleNotFoundError',\n",
       " 'NameError',\n",
       " 'None',\n",
       " 'NotADirectoryError',\n",
       " 'NotImplemented',\n",
       " 'NotImplementedError',\n",
       " 'OSError',\n",
       " 'OverflowError',\n",
       " 'PendingDeprecationWarning',\n",
       " 'PermissionError',\n",
       " 'ProcessLookupError',\n",
       " 'RecursionError',\n",
       " 'ReferenceError',\n",
       " 'ResourceWarning',\n",
       " 'RuntimeError',\n",
       " 'RuntimeWarning',\n",
       " 'StopAsyncIteration',\n",
       " 'StopIteration',\n",
       " 'SyntaxError',\n",
       " 'SyntaxWarning',\n",
       " 'SystemError',\n",
       " 'SystemExit',\n",
       " 'TabError',\n",
       " 'TimeoutError',\n",
       " 'True',\n",
       " 'TypeError',\n",
       " 'UnboundLocalError',\n",
       " 'UnicodeDecodeError',\n",
       " 'UnicodeEncodeError',\n",
       " 'UnicodeError',\n",
       " 'UnicodeTranslateError',\n",
       " 'UnicodeWarning',\n",
       " 'UserWarning',\n",
       " 'ValueError',\n",
       " 'Warning',\n",
       " 'WindowsError',\n",
       " 'ZeroDivisionError',\n",
       " '__IPYTHON__',\n",
       " '__build_class__',\n",
       " '__debug__',\n",
       " '__doc__',\n",
       " '__import__',\n",
       " '__loader__',\n",
       " '__name__',\n",
       " '__package__',\n",
       " '__spec__',\n",
       " 'abs',\n",
       " 'all',\n",
       " 'any',\n",
       " 'ascii',\n",
       " 'bin',\n",
       " 'bool',\n",
       " 'bytearray',\n",
       " 'bytes',\n",
       " 'callable',\n",
       " 'chr',\n",
       " 'classmethod',\n",
       " 'compile',\n",
       " 'complex',\n",
       " 'copyright',\n",
       " 'credits',\n",
       " 'delattr',\n",
       " 'dict',\n",
       " 'dir',\n",
       " 'display',\n",
       " 'divmod',\n",
       " 'enumerate',\n",
       " 'eval',\n",
       " 'exec',\n",
       " 'filter',\n",
       " 'float',\n",
       " 'format',\n",
       " 'frozenset',\n",
       " 'get_ipython',\n",
       " 'getattr',\n",
       " 'globals',\n",
       " 'hasattr',\n",
       " 'hash',\n",
       " 'help',\n",
       " 'hex',\n",
       " 'id',\n",
       " 'input',\n",
       " 'int',\n",
       " 'isinstance',\n",
       " 'issubclass',\n",
       " 'iter',\n",
       " 'len',\n",
       " 'license',\n",
       " 'list',\n",
       " 'locals',\n",
       " 'map',\n",
       " 'max',\n",
       " 'memoryview',\n",
       " 'min',\n",
       " 'next',\n",
       " 'object',\n",
       " 'oct',\n",
       " 'open',\n",
       " 'ord',\n",
       " 'pow',\n",
       " 'print',\n",
       " 'property',\n",
       " 'range',\n",
       " 'repr',\n",
       " 'reversed',\n",
       " 'round',\n",
       " 'set',\n",
       " 'setattr',\n",
       " 'slice',\n",
       " 'sorted',\n",
       " 'staticmethod',\n",
       " 'str',\n",
       " 'sum',\n",
       " 'super',\n",
       " 'tuple',\n",
       " 'type',\n",
       " 'vars',\n",
       " 'zip']"
      ]
     },
     "execution_count": 16,
     "metadata": {},
     "output_type": "execute_result"
    }
   ],
   "source": [
    "#列出所有內建函數\n",
    "dir(__builtins__)"
   ]
  },
  {
   "cell_type": "code",
   "execution_count": 18,
   "metadata": {},
   "outputs": [
    {
     "name": "stdout",
     "output_type": "stream",
     "text": [
      "Help on built-in function print in module builtins:\n",
      "\n",
      "print(...)\n",
      "    print(value, ..., sep=' ', end='\\n', file=sys.stdout, flush=False)\n",
      "    \n",
      "    Prints the values to a stream, or to sys.stdout by default.\n",
      "    Optional keyword arguments:\n",
      "    file:  a file-like object (stream); defaults to the current sys.stdout.\n",
      "    sep:   string inserted between values, default a space.\n",
      "    end:   string appended after the last value, default a newline.\n",
      "    flush: whether to forcibly flush the stream.\n",
      "\n"
     ]
    }
   ],
   "source": [
    "#列出函數的指令或說明\n",
    "help(print)"
   ]
  },
  {
   "cell_type": "code",
   "execution_count": 24,
   "metadata": {},
   "outputs": [
    {
     "name": "stdout",
     "output_type": "stream",
     "text": [
      "Enter the number:776\n",
      "770\n"
     ]
    }
   ],
   "source": [
    "#excercise: 最後捨去個位數字輸出，ex: input 103 output 100\n",
    "value=input(\"Enter the number:\")\n",
    "print(int(value)-int(value)%10)"
   ]
  },
  {
   "cell_type": "code",
   "execution_count": null,
   "metadata": {},
   "outputs": [],
   "source": []
  }
 ],
 "metadata": {
  "kernelspec": {
   "display_name": "Python 3",
   "language": "python",
   "name": "python3"
  },
  "language_info": {
   "codemirror_mode": {
    "name": "ipython",
    "version": 3
   },
   "file_extension": ".py",
   "mimetype": "text/x-python",
   "name": "python",
   "nbconvert_exporter": "python",
   "pygments_lexer": "ipython3",
   "version": "3.6.2"
  }
 },
 "nbformat": 4,
 "nbformat_minor": 2
}
