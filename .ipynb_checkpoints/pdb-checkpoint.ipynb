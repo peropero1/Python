{
 "cells": [
  {
   "cell_type": "code",
   "execution_count": null,
   "metadata": {},
   "outputs": [],
   "source": [
    "import pdb\n",
    "# l(list): 列出所有的code\n",
    "# n(next): 下一行\n",
    "# c(continue): 繼續/離開debug\n",
    "# p(print): 印出相關變數\n",
    "\n",
    "first='First'\n",
    "second=\"Second\"\n",
    "pdb.set_trace()\n",
    "result=first+second\n",
    "third=\"Third\"\n",
    "result+=third\n",
    "print(result)"
   ]
  },
  {
   "cell_type": "code",
   "execution_count": null,
   "metadata": {},
   "outputs": [],
   "source": []
  }
 ],
 "metadata": {
  "kernelspec": {
   "display_name": "Python 3",
   "language": "python",
   "name": "python3"
  },
  "language_info": {
   "codemirror_mode": {
    "name": "ipython",
    "version": 3
   },
   "file_extension": ".py",
   "mimetype": "text/x-python",
   "name": "python",
   "nbconvert_exporter": "python",
   "pygments_lexer": "ipython3",
   "version": "3.6.5"
  }
 },
 "nbformat": 4,
 "nbformat_minor": 4
}
