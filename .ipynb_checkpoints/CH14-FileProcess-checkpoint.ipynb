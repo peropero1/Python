{
 "cells": [
  {
   "cell_type": "markdown",
   "metadata": {},
   "source": [
    "# 檔案路徑"
   ]
  },
  {
   "cell_type": "code",
   "execution_count": 5,
   "metadata": {},
   "outputs": [
    {
     "name": "stdout",
     "output_type": "stream",
     "text": [
      "C:\\Users\\PERO\\Python\n",
      "C:\\Users\\PERO\\Python\n",
      "C:\\Users\\PERO\n",
      "C:\\Users\\PERO\\Python\\Let_It_Be.csv\n",
      "C:\\Users\\PERO\\Python\\aaa.txt\n",
      "..\\..\\..\\..\n"
     ]
    }
   ],
   "source": [
    "# 絕對路徑與相對路徑\n",
    "\n",
    "import os\n",
    "    #os is file-path related module\n",
    "print(os.getcwd())\n",
    "    #取得目前的工作目錄\n",
    "print(os.path.abspath('.'))\n",
    "    #目前工作目錄的絕對路徑\n",
    "print(os.path.abspath('..'))\n",
    "    #目前工作目錄上一層的絕對路徑\n",
    "print(os.path.abspath('Let_It_Be.csv'))\n",
    "    #該檔案的絕對路徑\n",
    "print(os.path.abspath('aaa.txt'))\n",
    "    #此檔案不存在於目前工作目錄，會output: C:\\Users\\PERO\\aaa.txt\n",
    "    \n",
    "print(os.path.relpath('C:\\\\','banks.py'))\n",
    "    # relpath(path,start)，會傳回從start到path的相對路徑，若省略start，則會回傳目前的工作目錄到path的相對路徑。\n",
    "    \n"
   ]
  },
  {
   "cell_type": "code",
   "execution_count": 21,
   "metadata": {},
   "outputs": [
    {
     "name": "stdout",
     "output_type": "stream",
     "text": [
      "True\n",
      "False\n",
      "False\n",
      "True\n",
      "False\n",
      "False\n",
      "True\n",
      "False\n",
      "False\n",
      "False\n",
      "True\n"
     ]
    }
   ],
   "source": [
    "# 檢查路徑常用的method\n",
    "# exists/isabs/isdir/isfile\n",
    "\n",
    "import os\n",
    "\n",
    "print(os.path.exists('CH14-FileProcess.ipynb'))\n",
    "print(os.path.exists('D:\\\\'))\n",
    "print(os.path.exists('Python'))\n",
    "    # exists(path)\n",
    "    # 若path的檔案或資料夾存在：回傳True,否則False\n",
    "    \n",
    "print(os.path.isabs(r'C:\\Users\\PERO\\Python'))\n",
    "print(os.path.isabs(r\"banks.py\"))\n",
    "    # isabs(path)\n",
    "    # 檔案/資料夾是否為絕對路徑\n",
    "\n",
    "print (os.path.isdir(\"Python\"))\n",
    "print (os.path.isdir(r\"C:\\Users\\PERO\\Python\"))\n",
    "print(os.path.isdir('CH14-FileProcess.ipynb'))\n",
    "    # isdir(path)\n",
    "    # path是否為資料夾\n",
    "\n",
    "print (os.path.isfile(\"Python\"))\n",
    "print (os.path.isfile(r\"C:\\Users\\PERO\\Python\"))\n",
    "print(os.path.isfile('CH14-FileProcess.ipynb'))\n",
    "    # isfile(path)\n",
    "    # path是否為檔案"
   ]
  },
  {
   "cell_type": "markdown",
   "metadata": {},
   "source": [
    "## 檔案與目錄的操作"
   ]
  },
  {
   "cell_type": "code",
   "execution_count": 30,
   "metadata": {},
   "outputs": [
    {
     "name": "stdout",
     "output_type": "stream",
     "text": [
      "the directory testch14 exists.\n",
      "['.git', '.ipynb_checkpoints', 'banks.py', 'banks1.py', 'Ch1 and 2_基本操作.ipynb', 'Ch10-Set.ipynb', 'Ch11_combine.ipynb', 'Ch11_函數.ipynb', 'CH12-ObjectiveOriented.ipynb', 'Ch13-Module.ipynb', 'CH14-FileProcess.ipynb', 'CH15-Exception.ipynb', 'CH23-Matplotlib.ipynb', 'Ch3_基本資料型態.ipynb', 'Ch4_基本輸出入.ipynb', 'Ch5_流程控制.ipynb', 'Ch6_List.ipynb', 'cool.py', 'makefood.py', 'nametest.py', 'other.py', 'out1.txt', 'shilin_banks.py', 'testch14', 'Untitled.ipynb', 'url.txt', '__pycache__', '使用技巧.ipynb', '王者歸來.txt']\n"
     ]
    }
   ],
   "source": [
    "# mkdir(path)\n",
    "# 上述均在os module下，可先用os.path.exists()檢查是否存在\n",
    "\n",
    "import os\n",
    "mydir='testch14'\n",
    "\n",
    "if os.path.exists(mydir):\n",
    "    print('the directory %s exists.' % mydir)\n",
    "else:\n",
    "    os.mkdir(mydir)\n",
    "        # 建立testch14的目錄\n",
    "print(os.listdir('.'))\n",
    "    # 列出目前工作目錄的內容，可找到testch14"
   ]
  },
  {
   "cell_type": "code",
   "execution_count": 33,
   "metadata": {},
   "outputs": [
    {
     "name": "stdout",
     "output_type": "stream",
     "text": [
      "['.git', '.ipynb_checkpoints', 'banks.py', 'banks1.py', 'Ch1 and 2_基本操作.ipynb', 'Ch10-Set.ipynb', 'Ch11_combine.ipynb', 'Ch11_函數.ipynb', 'CH12-ObjectiveOriented.ipynb', 'Ch13-Module.ipynb', 'CH14-FileProcess.ipynb', 'CH15-Exception.ipynb', 'CH23-Matplotlib.ipynb', 'Ch3_基本資料型態.ipynb', 'Ch4_基本輸出入.ipynb', 'Ch5_流程控制.ipynb', 'Ch6_List.ipynb', 'cool.py', 'makefood.py', 'nametest.py', 'other.py', 'out1.txt', 'shilin_banks.py', 'Untitled.ipynb', 'url.txt', '__pycache__', '使用技巧.ipynb', '王者歸來.txt']\n"
     ]
    }
   ],
   "source": [
    "# rmdir(path)\n",
    "# 刪除path, 但path需為空目錄，即裡面沒有檔案，刪除有檔案的目錄要用rmtree()\n",
    "\n",
    "import os\n",
    "mydir='testch14'\n",
    "if os.path.exists(mydir):\n",
    "    os.rmdir(mydir)\n",
    "else:\n",
    "    print(\"The directory is no exists.\")\n",
    "\n",
    "print(os.listdir('.'))\n",
    "    # 可看到已無testch14存在。"
   ]
  },
  {
   "cell_type": "code",
   "execution_count": 40,
   "metadata": {},
   "outputs": [
    {
     "name": "stdout",
     "output_type": "stream",
     "text": [
      "['.git', '.ipynb_checkpoints', 'banks.py', 'banks1.py', 'Ch1 and 2_基本操作.ipynb', 'Ch10-Set.ipynb', 'Ch11_combine.ipynb', 'Ch11_函數.ipynb', 'CH12-ObjectiveOriented.ipynb', 'Ch13-Module.ipynb', 'CH14-FileProcess.ipynb', 'CH15-Exception.ipynb', 'CH23-Matplotlib.ipynb', 'Ch3_基本資料型態.ipynb', 'Ch4_基本輸出入.ipynb', 'Ch5_流程控制.ipynb', 'Ch6_List.ipynb', 'cool.py', 'makefood.py', 'nametest.py', 'other.py', 'out1.txt', 'shilin_banks.py', 'Untitled.ipynb', 'url.txt', '__pycache__', '使用技巧.ipynb', '王者歸來.txt'] \n",
      "\n",
      "testremove.txt is not exists.\n",
      "\n",
      " ['.git', '.ipynb_checkpoints', 'banks.py', 'banks1.py', 'Ch1 and 2_基本操作.ipynb', 'Ch10-Set.ipynb', 'Ch11_combine.ipynb', 'Ch11_函數.ipynb', 'CH12-ObjectiveOriented.ipynb', 'Ch13-Module.ipynb', 'CH14-FileProcess.ipynb', 'CH15-Exception.ipynb', 'CH23-Matplotlib.ipynb', 'Ch3_基本資料型態.ipynb', 'Ch4_基本輸出入.ipynb', 'Ch5_流程控制.ipynb', 'Ch6_List.ipynb', 'cool.py', 'makefood.py', 'nametest.py', 'other.py', 'out1.txt', 'shilin_banks.py', 'Untitled.ipynb', 'url.txt', '__pycache__', '使用技巧.ipynb', '王者歸來.txt']\n"
     ]
    }
   ],
   "source": [
    "# remove(path)\n",
    "# 刪除path的file\n",
    "\n",
    "myfile=\"testremove.txt\"\n",
    "print(os.listdir('.'),'\\n')\n",
    "\n",
    "if os.path.exists(myfile):\n",
    "    os.remove(myfile)\n",
    "    print(\"{} deleted.\".format(myfile))\n",
    "else:\n",
    "    print(\"{} is not exists.\".format(myfile))\n",
    "\n",
    "\n",
    "print('\\n',os.listdir('.'))"
   ]
  },
  {
   "cell_type": "code",
   "execution_count": 48,
   "metadata": {},
   "outputs": [
    {
     "name": "stdout",
     "output_type": "stream",
     "text": [
      "目前的工作資料夾： C:\\Users\\PERO\\Python\n",
      "C:\\Users\\PERO\\chdir_test 建立成功\n",
      "目前的工作資料夾： C:\\Users\\PERO\\chdir_test\n",
      "目前的工作資料夾： C:\\Users\\PERO\\Python\n"
     ]
    }
   ],
   "source": [
    "# chdir\n",
    "# 更改目前的工作資料夾\n",
    "import os\n",
    "\n",
    "current_dir=os.getcwd()\n",
    "new_dir=r\"C:\\Users\\PERO\\chdir_test\"\n",
    "print(\"目前的工作資料夾：\",current_dir)\n",
    "\n",
    "if os.path.exists(new_dir):\n",
    "    print(new_dir,\"exists.\")\n",
    "else:\n",
    "    os.mkdir(new_dir)\n",
    "    print(new_dir,\"建立成功\")\n",
    "\n",
    "os.chdir(new_dir)\n",
    "print(\"目前的工作資料夾：\",os.getcwd())\n",
    "\n",
    "os.chdir(current_dir)\n",
    "print(\"目前的工作資料夾：\",os.getcwd())\n"
   ]
  },
  {
   "cell_type": "code",
   "execution_count": 54,
   "metadata": {},
   "outputs": [
    {
     "name": "stdout",
     "output_type": "stream",
     "text": [
      "D:\\Python\\ch14\\ch14_9.py\n",
      "<class 'str'> \n",
      "\n",
      "D:\\Python\\ch14\\ch14_1.py\n",
      "D:\\Python\\ch14\\ch14_2.py\n",
      "D:\\Python\\ch14\\ch14_3.py\n"
     ]
    }
   ],
   "source": [
    "# os.path.join(path,*paths)\n",
    "# 把參數內的字串合併為檔案路徑，path可有2~多個\n",
    "\n",
    "import os\n",
    "print(os.path.join('D:\\\\','Python','ch14','ch14_9.py'))\n",
    "print(type(os.path.join('D:\\\\','Python','ch14','ch14_9.py')),'\\n')\n",
    "    # return 為字串\n",
    "\n",
    "    \n",
    "# 用迴圈把串列內的檔案與路徑結合\n",
    "files=['ch14_1.py','ch14_2.py','ch14_3.py']\n",
    "for item in files:\n",
    "    print(os.path.join('D:\\\\Python\\\\ch14',item))"
   ]
  },
  {
   "cell_type": "code",
   "execution_count": 71,
   "metadata": {},
   "outputs": [
    {
     "name": "stdout",
     "output_type": "stream",
     "text": [
      ".git size= 4096 bytes\n",
      ".ipynb_checkpoints size= 4096 bytes\n",
      "banks.py size= 666 bytes\n",
      "banks1.py size= 499 bytes\n",
      "Ch1 and 2_基本操作.ipynb size= 3936 bytes\n",
      "Ch10-Set.ipynb size= 17679 bytes\n",
      "Ch11_combine.ipynb size= 8434 bytes\n",
      "Ch11_函數.ipynb size= 22378 bytes\n",
      "CH12-ObjectiveOriented.ipynb size= 54897 bytes\n",
      "Ch13-Module.ipynb size= 21421 bytes\n",
      "CH14-FileProcess.ipynb size= 27328 bytes\n",
      "CH15-Exception.ipynb size= 19533 bytes\n",
      "CH23-Matplotlib.ipynb size= 64709 bytes\n",
      "Ch3_基本資料型態.ipynb size= 5734 bytes\n",
      "Ch4_基本輸出入.ipynb size= 12788 bytes\n",
      "Ch5_流程控制.ipynb size= 6810 bytes\n",
      "Ch6_List.ipynb size= 13133 bytes\n",
      "cool.py size= 109 bytes\n",
      "makefood.py size= 278 bytes\n",
      "nametest.py size= 43 bytes\n",
      "other.py size= 82 bytes\n",
      "out1.txt size= 60 bytes\n",
      "shilin_banks.py size= 218 bytes\n",
      "Untitled.ipynb size= 3968 bytes\n",
      "url.txt size= 77 bytes\n",
      "__pycache__ size= 4096 bytes\n",
      "使用技巧.ipynb size= 3202 bytes\n",
      "王者歸來.txt size= 0 bytes\n"
     ]
    }
   ],
   "source": [
    "# os.path.getsize()\n",
    "# 獲得特定檔案的大小\n",
    "\n",
    "import os\n",
    "\n",
    "mydir=r'C:\\Users\\PERO\\Python'\n",
    "for item in os.listdir(mydir):\n",
    "    print(item,'size=',os.path.getsize(os.path.join(mydir,item)),'bytes')"
   ]
  },
  {
   "cell_type": "code",
   "execution_count": 77,
   "metadata": {},
   "outputs": [
    {
     "name": "stdout",
     "output_type": "stream",
     "text": [
      "方法1: 列出C:\\Users\\PERO\\Python的所有檔案:\n",
      "C:\\Users\\PERO\\Python\\banks.py\n",
      "C:\\Users\\PERO\\Python\\banks1.py\n",
      "C:\\Users\\PERO\\Python\\Ch1 and 2_基本操作.ipynb\n",
      "C:\\Users\\PERO\\Python\\Ch10-Set.ipynb\n",
      "C:\\Users\\PERO\\Python\\Ch11_combine.ipynb\n",
      "C:\\Users\\PERO\\Python\\Ch11_函數.ipynb\n",
      "C:\\Users\\PERO\\Python\\CH12-ObjectiveOriented.ipynb\n",
      "C:\\Users\\PERO\\Python\\Ch13-Module.ipynb\n",
      "C:\\Users\\PERO\\Python\\CH14-FileProcess.ipynb\n",
      "C:\\Users\\PERO\\Python\\CH15-Exception.ipynb\n",
      "C:\\Users\\PERO\\Python\\CH23-Matplotlib.ipynb\n",
      "C:\\Users\\PERO\\Python\\Ch3_基本資料型態.ipynb\n",
      "C:\\Users\\PERO\\Python\\Ch4_基本輸出入.ipynb\n",
      "C:\\Users\\PERO\\Python\\Ch5_流程控制.ipynb\n",
      "C:\\Users\\PERO\\Python\\Ch6_List.ipynb\n",
      "C:\\Users\\PERO\\Python\\cool.py\n",
      "C:\\Users\\PERO\\Python\\makefood.py\n",
      "C:\\Users\\PERO\\Python\\nametest.py\n",
      "C:\\Users\\PERO\\Python\\other.py\n",
      "C:\\Users\\PERO\\Python\\out1.txt\n",
      "C:\\Users\\PERO\\Python\\shilin_banks.py\n",
      "C:\\Users\\PERO\\Python\\Untitled.ipynb\n",
      "C:\\Users\\PERO\\Python\\url.txt\n",
      "C:\\Users\\PERO\\Python\\使用技巧.ipynb\n",
      "C:\\Users\\PERO\\Python\\王者歸來.txt\n",
      "\n",
      "方法2: 列出C:\\Users\\PERO\\Python下的所有ipynb檔:\n",
      "C:\\Users\\PERO\\Python\\Ch1 and 2_基本操作.ipynb\n",
      "C:\\Users\\PERO\\Python\\Ch10-Set.ipynb\n",
      "C:\\Users\\PERO\\Python\\Ch11_combine.ipynb\n",
      "C:\\Users\\PERO\\Python\\Ch11_函數.ipynb\n",
      "C:\\Users\\PERO\\Python\\CH12-ObjectiveOriented.ipynb\n",
      "C:\\Users\\PERO\\Python\\Ch13-Module.ipynb\n",
      "C:\\Users\\PERO\\Python\\CH14-FileProcess.ipynb\n",
      "C:\\Users\\PERO\\Python\\CH15-Exception.ipynb\n",
      "C:\\Users\\PERO\\Python\\CH23-Matplotlib.ipynb\n",
      "C:\\Users\\PERO\\Python\\Ch3_基本資料型態.ipynb\n",
      "C:\\Users\\PERO\\Python\\Ch4_基本輸出入.ipynb\n",
      "C:\\Users\\PERO\\Python\\Ch5_流程控制.ipynb\n",
      "C:\\Users\\PERO\\Python\\Ch6_List.ipynb\n",
      "C:\\Users\\PERO\\Python\\Untitled.ipynb\n",
      "C:\\Users\\PERO\\Python\\使用技巧.ipynb\n",
      "\n",
      "方法3: 列出C:\\Users\\PERO\\Python下Ch開頭的檔案:\n",
      "C:\\Users\\PERO\\Python\\Ch1 and 2_基本操作.ipynb\n",
      "C:\\Users\\PERO\\Python\\Ch10-Set.ipynb\n",
      "C:\\Users\\PERO\\Python\\Ch11_combine.ipynb\n",
      "C:\\Users\\PERO\\Python\\Ch11_函數.ipynb\n",
      "C:\\Users\\PERO\\Python\\CH12-ObjectiveOriented.ipynb\n",
      "C:\\Users\\PERO\\Python\\Ch13-Module.ipynb\n",
      "C:\\Users\\PERO\\Python\\CH14-FileProcess.ipynb\n",
      "C:\\Users\\PERO\\Python\\CH15-Exception.ipynb\n",
      "C:\\Users\\PERO\\Python\\CH23-Matplotlib.ipynb\n",
      "C:\\Users\\PERO\\Python\\Ch3_基本資料型態.ipynb\n",
      "C:\\Users\\PERO\\Python\\Ch4_基本輸出入.ipynb\n",
      "C:\\Users\\PERO\\Python\\Ch5_流程控制.ipynb\n",
      "C:\\Users\\PERO\\Python\\Ch6_List.ipynb\n"
     ]
    }
   ],
   "source": [
    "# glob module\n",
    "# 列出特定工作目錄的內容，可使用萬用字元*\n",
    "\n",
    "import glob\n",
    "\n",
    "print(r'方法1: 列出C:\\Users\\PERO\\Python的所有檔案:')\n",
    "for file in glob.glob(r'C:\\Users\\PERO\\Python\\*.*'):    #  *.*\n",
    "    print(file)\n",
    "\n",
    "print()\n",
    "print(r'方法2: 列出C:\\Users\\PERO\\Python下的所有ipynb檔:')\n",
    "for file in glob.glob(r'C:\\Users\\PERO\\Python\\*.ipynb'):    # *.ipynb\n",
    "    print(file)\n",
    "\n",
    "print()    \n",
    "print(r'方法3: 列出C:\\Users\\PERO\\Python下Ch開頭的檔案:')\n",
    "for file in glob.glob(r'C:\\Users\\PERO\\Python\\ch*.*'):    # ch*.*\n",
    "    print(file)"
   ]
  },
  {
   "cell_type": "code",
   "execution_count": 78,
   "metadata": {},
   "outputs": [
    {
     "name": "stdout",
     "output_type": "stream",
     "text": [
      "目前的工作目錄: C:\\Users\\PERO\\BS_try\n",
      "子目錄的串列: ['Elos', 'Los', 'test', 'train']\n",
      "工作目錄下的檔案串列: ['click_me.bat', 'LoadImage2Csv.jar'] \n",
      "\n",
      "目前的工作目錄: C:\\Users\\PERO\\BS_try\\Elos\n",
      "子目錄的串列: []\n",
      "工作目錄下的檔案串列: ['ec3e890c59416fd523795ccf50bdbfcc.jpg', 'f77851738b72d143c286fb826cc49f71.jpg', 'x.csv', 'y.csv'] \n",
      "\n",
      "目前的工作目錄: C:\\Users\\PERO\\BS_try\\Los\n",
      "子目錄的串列: []\n",
      "工作目錄下的檔案串列: ['2019e0ba175b286041f1062690d6a81c.jpg', '616d5895f9219991122516bd603defc9.jpg', '678e515733a7ae3d777a70b519cd5a2b.jpg', '83ddf2a6e2043ebd9585673f4af12346.jpg', '95301db6cb1974641bfc83c45c55294f.jpg', 'ba08a6398814a5964315f4478de43f65.jpg', 'c4d039f06e5815c2ec9da6a0120483f2.jpg', 'd80fa731ea64b6323268f9fc1978a92e.jpg', 'e549a61d2e73fac5b140f10745784c3c.jpg', 'e80ae55cce5decc8a8cd12bd7a151eb3.jpg', 'e8e4397661766a6d968016f34ab76911.jpg', 'ebcc6c6c12e500588a2ab69080a69996.jpg', 'f9d9fe59965d6f74dea372a0223423f1.jpg', 'x.csv', 'y.csv'] \n",
      "\n",
      "目前的工作目錄: C:\\Users\\PERO\\BS_try\\test\n",
      "子目錄的串列: []\n",
      "工作目錄下的檔案串列: ['0_Los1.jpg', '1_ELos1.jpg', 'xlos.csv', 'y.csv'] \n",
      "\n",
      "目前的工作目錄: C:\\Users\\PERO\\BS_try\\train\n",
      "子目錄的串列: []\n",
      "工作目錄下的檔案串列: ['1_Los1.jpg', '1_Los2.jpg', '1_Los3.jpg', '1_Los4.jpg', '1_Los5.jpg', '1_Los6.jpg', '1_Los7.jpg', '1_Los8.jpg', '2_Elos1.jpg', '2_Elos2.jpg', '2_Elos3.jpg', '2_Elos4.jpg', '2_Elos5.jpg', '2_Elos6.jpg', '2_Elos7.jpg', '2_Elos8.jpg', 'tx.csv', 'ty.csv'] \n",
      "\n"
     ]
    }
   ],
   "source": [
    "# os.walk()\n",
    "# 遍歷目錄樹\n",
    "'''\n",
    "該method每次執行迴圈時會回傳3個值： \n",
    "    目前的工作目錄(dirName), \n",
    "    工作目錄下的子目錄串列(sub_dirNames)\n",
    "    工作目錄下的檔案串列(fileNames)\n",
    "\n",
    "語法：\n",
    "for dirName, sub_dirNames, fileNames in os.walk(目錄路徑):\n",
    "    suit\n",
    "'''\n",
    "\n",
    "import os\n",
    "\n",
    "for dirName, sub_dirNames, fileNames in os.walk(r'C:\\Users\\PERO\\BS_try'):\n",
    "    print('目前的工作目錄:',dirName)\n",
    "    print('子目錄的串列:',sub_dirNames)\n",
    "    print('工作目錄下的檔案串列:',fileNames,'\\n')\n"
   ]
  },
  {
   "cell_type": "markdown",
   "metadata": {},
   "source": [
    "# 讀取檔案\n",
    "## 使用open()開啟檔案，會回傳一個file object。\n",
    "## 通常open需與close()配對"
   ]
  },
  {
   "cell_type": "code",
   "execution_count": 83,
   "metadata": {},
   "outputs": [
    {
     "name": "stdout",
     "output_type": "stream",
     "text": [
      "新冠肺炎疫情肆虐全球，義大利政府今(8日)也針對米蘭、威尼斯等大城宣布緊急命令，將封鎖整個倫巴底大區與其他區域的11個省。而國外疫情狂燒，衛福部長陳時中提醒避免陸續從高峰期地區回流的人群，造成第二波感染疫情。但曾準確預測SARS結束時間的中國醫藥大學附設醫院感染科主治醫師王任賢，則抱持不同看法，他預估台灣疫情不會有第二波流行，且應該在5月會告一個段落。\n",
      "\n",
      "中央流行疫情指揮中心指揮官陳時中，近日指第一波疫情攻擊，亞洲這波「台灣是守住了」，不過陳時中大膽預測，歐洲疫情傳播恐比亞洲快速，第二波疫情，高感染風險者將來自大陸和世界各國。但未來可大膽預測歐洲個案數會很快超越亞洲，如何不鎖國防疫是下一步考驗。\n",
      "<class 'str'>\n"
     ]
    }
   ],
   "source": [
    "# read()\n",
    "# 整個檔案內容會以字串方式讀取。\n",
    "\n",
    "fn='ch14_15.txt'\n",
    "file_obj=open(fn)\n",
    "data=file_obj.read()\n",
    "file_obj.close()\n",
    "    # for file security\n",
    "print(data)\n",
    "print(type(data))\n",
    "    # str"
   ]
  },
  {
   "cell_type": "code",
   "execution_count": 87,
   "metadata": {},
   "outputs": [
    {
     "name": "stdout",
     "output_type": "stream",
     "text": [
      "<class '_io.TextIOWrapper'>\n",
      "<class 'str'>\n",
      "新冠肺炎疫情肆虐全球，義大利政府今(8日)也針對米蘭、威尼斯等大城宣布緊急命令，將封鎖整個倫巴底大區與其他區域的11個省。而國外疫情狂燒，衛福部長陳時中提醒避免陸續從高峰期地區回流的人群，造成第二波感染疫情。但曾準確預測SARS結束時間的中國醫藥大學附設醫院感染科主治醫師王任賢，則抱持不同看法，他預估台灣疫情不會有第二波流行，且應該在5月會告一個段落。\n",
      "\n",
      "中央流行疫情指揮中心指揮官陳時中，近日指第一波疫情攻擊，亞洲這波「台灣是守住了」，不過陳時中大膽預測，歐洲疫情傳播恐比亞洲快速，第二波疫情，高感染風險者將來自大陸和世界各國。但未來可大膽預測歐洲個案數會很快超越亞洲，如何不鎖國防疫是下一步考驗。 lenth of data1: 301\n"
     ]
    }
   ],
   "source": [
    "# with open(file) as fn\n",
    "# open()不太安全，用with open(file,mode) as fn的形式讓檔案的關閉語with決定較安全\n",
    "\n",
    "with open(\"ch14_15.txt\") as fn:    # mode預設為'r'\n",
    "    print(type(fn))\n",
    "        #<class '_io.TextIOWrapper'>, fn是IO的object\n",
    "    data1=fn.read()  \n",
    "\n",
    "    print(type(data1))\n",
    "        #<class 'str'>, read()會以string回傳，使用時要小心\n",
    "    print(data1,\"lenth of data1:\", len(data1))\n"
   ]
  },
  {
   "cell_type": "code",
   "execution_count": 91,
   "metadata": {},
   "outputs": [
    {
     "name": "stdout",
     "output_type": "stream",
     "text": [
      "新冠肺炎疫情肆虐全球，義大利政府今(8日)也針對米蘭、威尼斯等大城宣布緊急命令，將封鎖整個倫巴底大區與其他區域的11個省。而國外疫情狂燒，衛福部長陳時中提醒避免陸續從高峰期地區回流的人群，造成第二波感染疫情。但曾準確預測SARS結束時間的中國醫藥大學附設醫院感染科主治醫師王任賢，則抱持不同看法，他預估台灣疫情不會有第二波流行，且應該在5月會告一個段落。*\n",
      "*\n",
      "中央流行疫情指揮中心指揮官陳時中，近日指第一波疫情攻擊，亞洲這波「台灣是守住了」，不過陳時中大膽預測，歐洲疫情傳播恐比亞洲快速，第二波疫情，高感染風險者將來自大陸和世界各國。但未來可大膽預測歐洲個案數會很快超越亞洲，如何不鎖國防疫是下一步考驗。*\n"
     ]
    }
   ],
   "source": [
    "#遍歷檔案by逐行讀取, 但此種作法的file object(即 fn)只能在with內取用\n",
    "#語法：for line in file_obj\n",
    "\n",
    "filename=\"ch14_15.txt\"\n",
    "with open(filename) as fn:\n",
    "    for line in fn:\n",
    "        print(line.rstrip(),'*',sep='')"
   ]
  },
  {
   "cell_type": "code",
   "execution_count": 100,
   "metadata": {},
   "outputs": [
    {
     "name": "stdout",
     "output_type": "stream",
     "text": [
      "['新冠肺炎疫情肆虐全球，義大利政府今(8日)也針對米蘭、威尼斯等大城宣布緊急命令，將封鎖整個倫巴底大區與其他區域的11個省。而國外疫情狂燒，衛福部長陳時中提醒避免陸續從高峰期地區回流的人群，造成第二波感染疫情。但曾準確預測SARS結束時間的中國醫藥大學附設醫院感染科主治醫師王任賢，則抱持不同看法，他預估台灣疫情不會有第二波流行，且應該在5月會告一個段落。\\n', '\\n', '中央流行疫情指揮中心指揮官陳時中，近日指第一波疫情攻擊，亞洲這波「台灣是守住了」，不過陳時中大膽預測，歐洲疫情傳播恐比亞洲快速，第二波疫情，高感染風險者將來自大陸和世界各國。但未來可大膽預測歐洲個案數會很快超越亞洲，如何不鎖國防疫是下一步考驗。']\n",
      "\n",
      "item 0 :\n",
      " 新冠肺炎疫情肆虐全球，義大利政府今(8日)也針對米蘭、威尼斯等大城宣布緊急命令，將封鎖整個倫巴底大區與其他區域的11個省。而國外疫情狂燒，衛福部長陳時中提醒避免陸續從高峰期地區回流的人群，造成第二波感染疫情。但曾準確預測SARS結束時間的中國醫藥大學附設醫院感染科主治醫師王任賢，則抱持不同看法，他預估台灣疫情不會有第二波流行，且應該在5月會告一個段落。 \n",
      "\n",
      "item 1 :\n",
      "  \n",
      "\n",
      "item 2 :\n",
      " 中央流行疫情指揮中心指揮官陳時中，近日指第一波疫情攻擊，亞洲這波「台灣是守住了」，不過陳時中大膽預測，歐洲疫情傳播恐比亞洲快速，第二波疫情，高感染風險者將來自大陸和世界各國。但未來可大膽預測歐洲個案數會很快超越亞洲，如何不鎖國防疫是下一步考驗。 \n",
      "\n"
     ]
    }
   ],
   "source": [
    "# readlines():逐行讀取並以'\\n'為區隔將每行存在list的elements。\n",
    "filename=\"ch14_15.txt\"\n",
    "with open(filename) as fn:\n",
    "    obj_list=fn.readlines()\n",
    "        # return a list\n",
    "print(obj_list)\n",
    "\n",
    "print('')\n",
    "\n",
    "for item in obj_list:\n",
    "    print('item',obj_list.index(item),':\\n',item.rstrip(),'\\n')"
   ]
  },
  {
   "cell_type": "code",
   "execution_count": 103,
   "metadata": {},
   "outputs": [
    {
     "name": "stdout",
     "output_type": "stream",
     "text": [
      "輸入欲搜尋的字串:xyz\n",
      "xyz 不存在於 ch14_15.txt 中\n"
     ]
    }
   ],
   "source": [
    "# 搜尋字串是否存在檔案中\n",
    "\n",
    "filename=\"ch14_15.txt\"\n",
    "with open(filename) as fn:\n",
    "    obj_list=fn.readlines()\n",
    "\n",
    "strx=''\n",
    "for line in obj_list:\n",
    "    strx+=line.rstrip()\n",
    "    # 把各行合併\n",
    "\n",
    "findstr=input('輸入欲搜尋的字串:')\n",
    "index=strx.find(findstr)\n",
    "if index>=0:\n",
    "    print(findstr,'出現在',index,'位置上')\n",
    "else:\n",
    "    print(findstr,'不存在於',filename,'中')\n"
   ]
  },
  {
   "cell_type": "markdown",
   "metadata": {},
   "source": [
    "# 寫入檔案"
   ]
  },
  {
   "cell_type": "code",
   "execution_count": null,
   "metadata": {},
   "outputs": [],
   "source": []
  },
  {
   "cell_type": "markdown",
   "metadata": {},
   "source": [
    "# shutil module\n",
    "## 檔案/目錄的複製,刪除/更動位置,名稱等"
   ]
  },
  {
   "cell_type": "code",
   "execution_count": 3,
   "metadata": {},
   "outputs": [
    {
     "data": {
      "text/plain": [
       "'C:\\\\Users\\\\PERO\\\\Python_pra\\\\dest.txt'"
      ]
     },
     "execution_count": 3,
     "metadata": {},
     "output_type": "execute_result"
    }
   ],
   "source": [
    "import shutil\n",
    "    #檔案/目錄的複製/刪除/更動位置/名稱等\n",
    "#===================1. 檔案的複製：shutil.copy(src, dest)===================\n",
    "shutil.copy(r'output.txt','dest.txt')\n",
    "    #把output.txt複製到同目錄下，用新檔名dest.txt\n",
    "shutil.copy(r'output.txt','C:\\\\Users\\\\PERO\\\\Python_pra')\n",
    "    #把output.txt複製到其它目錄下，用原檔名\n",
    "shutil.copy(r'output.txt','C:\\\\Users\\\\PERO\\\\Python_pra\\\\dest.txt')\n",
    "    #把output.txt複製到其它目錄下，用新檔名\n",
    "#路徑要用\\\\不能用\\    "
   ]
  },
  {
   "cell_type": "code",
   "execution_count": 4,
   "metadata": {},
   "outputs": [
    {
     "data": {
      "text/plain": [
       "'C:\\\\Users\\\\PERO\\\\Python_pra\\\\New'"
      ]
     },
     "execution_count": 4,
     "metadata": {},
     "output_type": "execute_result"
    }
   ],
   "source": [
    "#===================2. 目錄(內容)的複製：shutil.copytree(src, dest)===================\n",
    "shutil.copytree('Python_pra','New_Python_pra')\n",
    "    #複製Python_pra到新目錄New_Python_pra\n",
    "shutil.copytree('Python_pra','C:\\\\Users\\\\PERO\\\\Python_pra\\\\New')\n",
    "    #複製到新目錄下"
   ]
  },
  {
   "cell_type": "code",
   "execution_count": null,
   "metadata": {
    "collapsed": true
   },
   "outputs": [],
   "source": []
  }
 ],
 "metadata": {
  "kernelspec": {
   "display_name": "Python 3",
   "language": "python",
   "name": "python3"
  },
  "language_info": {
   "codemirror_mode": {
    "name": "ipython",
    "version": 3
   },
   "file_extension": ".py",
   "mimetype": "text/x-python",
   "name": "python",
   "nbconvert_exporter": "python",
   "pygments_lexer": "ipython3",
   "version": "3.6.5"
  }
 },
 "nbformat": 4,
 "nbformat_minor": 2
}
